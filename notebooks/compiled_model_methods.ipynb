{
 "cells": [
  {
   "cell_type": "code",
   "execution_count": 1,
   "metadata": {},
   "outputs": [
    {
     "name": "stderr",
     "output_type": "stream",
     "text": [
      "2024-05-06 14:55:19.669892: W external/xla/xla/service/gpu/nvptx_compiler.cc:718] The NVIDIA driver's CUDA version is 12.2 which is older than the ptxas CUDA version (12.3.107). Because the driver is older than the ptxas version, XLA is disabling parallel compilation, which may slow down compilation. You should update your NVIDIA driver or use the NVIDIA-provided CUDA forward compatibility packages.\n"
     ]
    }
   ],
   "source": [
    "import os\n",
    "os.environ[\"XLA_PYTHON_CLIENT_PREALLOCATE\"] = \"false\"\n",
    "from pathlib import Path\n",
    "import time\n",
    "import sys\n",
    "from collections import defaultdict \n",
    "from typing import Union, TypeVar\n",
    "import h5py\n",
    "import traceback\n",
    "\n",
    "import pandas as pd\n",
    "import tqdm\n",
    "import jax\n",
    "import flax\n",
    "import chex\n",
    "from jaxtyping import ArrayLike\n",
    "import numpy as np\n",
    "import matplotlib.pyplot as plt\n",
    "import jax.numpy as jnp\n",
    "import haiku as hk\n",
    "import flax.linen as nn\n",
    "import optax\n",
    "\n",
    "from tracr.compiler.validating import validate\n",
    "from tracr.rasp.rasp import Map, SequenceMap, LinearSequenceMap, Select, Aggregate, Comparison, SelectorWidth, indices, tokens \n",
    "from tracr.rasp import rasp\n",
    "from tracr.compiler import compiling\n",
    "from tracr.compiler.assemble import AssembledTransformerModel\n",
    "from tracr.compiler.craft_model_to_transformer import NoTokensError\n",
    "from tracr.compiler.basis_inference import InvalidValueSetError\n",
    "from tracr.compiler import craft_graph_to_model\n",
    "from tracr.compiler import rasp_to_graph\n",
    "from tracr.compiler import lib as tracr_lib\n",
    "from tracr.compiler import assemble\n",
    "from tracr.transformer import model\n",
    "\n",
    "from decompile_tracr.dataset import lib\n",
    "from decompile_tracr.dataset import data_utils\n",
    "from decompile_tracr.dataset import dataloading\n",
    "from decompile_tracr.dataset import config\n",
    "from decompile_tracr.dataset import compile as comp\n",
    "from decompile_tracr.tokenizing import tokenizer\n",
    "from decompile_tracr.tokenizing import vocab\n",
    "from decompile_tracr.sampling import sampling\n",
    "from decompile_tracr.sampling import rasp_utils\n",
    "from decompile_tracr.sampling.map_primitives import FunctionWithRepr\n",
    "from decompile_tracr.tokenizing.str_to_rasp import split_list\n",
    "from decompile_tracr.dataset.compile import get_weights\n",
    "from decompile_tracr.training.autoencoder import Autoencoder, get_loss_fn\n",
    "\n",
    "from metamodels_for_rasp.model import TransformerConfig, AddPositionEmbs, Encoder1DBlock, MLPBlock\n",
    "from metamodels_for_rasp.train import Updater\n",
    "\n",
    "\n",
    "def _compile(program):\n",
    "    return compiling.compile_rasp_to_model(\n",
    "        program,\n",
    "        vocab=set(range(5)),\n",
    "        max_seq_len=5,\n",
    "    )\n",
    "\n",
    "\n",
    "rng = np.random.default_rng(0)\n",
    "key = jax.random.key(0)"
   ]
  },
  {
   "cell_type": "markdown",
   "metadata": {},
   "source": [
    "Assume m is shorthand for an AssembledModel, eg\n",
    "```\n",
    "m = _compile(program)\n",
    "```\n",
    "Then the following all commute:\n",
    "* m.apply: inputs --> out\n",
    "* m.forward: emb --> out\n",
    "* m.input_encoder.encode: inputs --> tokens\n",
    "* compiled_model.embed: tokens --> emb\n",
    "* transformer: emb --> out\n",
    "\n",
    "So overall we have\n",
    "* inputs --> tokens --> emb --> out\n",
    "* inputs --> out (via m.apply)\n",
    "* tokens --> out (via m.foward)\n",
    "* emb --> out (via transformer)\n",
    "\n",
    "ETA: that's only approximately true. The methods apply, forward, and transformer have different output types:\n",
    "* m.apply returns AssembledTransformerOutput\n",
    "* m.forward returns CompiledTransformerOutput\n",
    "* transformer returns TransformerOutput (included as attribute in the other two)"
   ]
  },
  {
   "cell_type": "code",
   "execution_count": 2,
   "metadata": {},
   "outputs": [
    {
     "name": "stdout",
     "output_type": "stream",
     "text": [
      "d_model: 28\n"
     ]
    }
   ],
   "source": [
    "p = tokenizer.detokenize(tokenizer.tokenize(sampling.sample(rng, 5)))\n",
    "m = _compile(p)\n",
    "d_model = m.params['token_embed']['embeddings'].shape[-1]\n",
    "print(\"d_model:\", d_model)"
   ]
  },
  {
   "cell_type": "code",
   "execution_count": 3,
   "metadata": {},
   "outputs": [
    {
     "data": {
      "text/plain": [
       "[5, 4]"
      ]
     },
     "execution_count": 3,
     "metadata": {},
     "output_type": "execute_result"
    }
   ],
   "source": [
    "m.input_encoder.encode(['compiler_bos', 4])"
   ]
  },
  {
   "cell_type": "code",
   "execution_count": 4,
   "metadata": {},
   "outputs": [
    {
     "data": {
      "text/plain": [
       "(4, 28)"
      ]
     },
     "execution_count": 4,
     "metadata": {},
     "output_type": "execute_result"
    }
   ],
   "source": [
    "@hk.without_apply_rng\n",
    "@hk.transform\n",
    "def embed(tokens):\n",
    "    compiled_model = m.get_compiled_model()\n",
    "    return compiled_model.embed(tokens)\n",
    "\n",
    "\n",
    "e = embed.apply(m.params, np.array([1, 2, 3, 0]))\n",
    "e.shape"
   ]
  },
  {
   "cell_type": "code",
   "execution_count": 9,
   "metadata": {},
   "outputs": [
    {
     "data": {
      "text/plain": [
       "tracr.compiler.assemble.AssembledTransformerModelOutput"
      ]
     },
     "execution_count": 9,
     "metadata": {},
     "output_type": "execute_result"
    }
   ],
   "source": [
    "out = m.apply([\"compiler_bos\", 1, 2, 3])\n",
    "type(out)"
   ]
  },
  {
   "cell_type": "code",
   "execution_count": 18,
   "metadata": {},
   "outputs": [
    {
     "data": {
      "text/plain": [
       "[tracr.transformer.model.TransformerOutput, jaxlib.xla_extension.ArrayImpl]"
      ]
     },
     "execution_count": 18,
     "metadata": {},
     "output_type": "execute_result"
    }
   ],
   "source": [
    "[type(o) for o in out.values()]"
   ]
  },
  {
   "cell_type": "code",
   "execution_count": 40,
   "metadata": {},
   "outputs": [
    {
     "name": "stdout",
     "output_type": "stream",
     "text": [
      "dict_keys(['transformer_output', 'unembedded_output'])\n",
      "dict_keys(['layer_outputs', 'residuals', 'attn_logits', 'output', 'input_embeddings'])\n",
      "\n",
      "<class 'tracr.transformer.model.CompiledTransformerModelOutput'>\n",
      "[<class 'tracr.transformer.model.TransformerOutput'>, <class 'jaxlib.xla_extension.ArrayImpl'>]\n"
     ]
    }
   ],
   "source": [
    "@hk.without_apply_rng\n",
    "@hk.transform\n",
    "def forward(tokens: ArrayLike):\n",
    "    \"\"\"tokens must be integer arrays\"\"\"\n",
    "    compiled_model = m.get_compiled_model()\n",
    "    return compiled_model(tokens, use_dropout=False)\n",
    "\n",
    "\n",
    "out = forward.apply(m.params, np.ones((5, 5), dtype=int))\n",
    "print(out.keys())\n",
    "print(out.transformer_output.keys())\n",
    "print()\n",
    "print(type(out))\n",
    "print([type(o) for o in out.values()])"
   ]
  },
  {
   "cell_type": "code",
   "execution_count": 21,
   "metadata": {},
   "outputs": [
    {
     "data": {
      "text/plain": [
       "tracr.transformer.model.TransformerOutput"
      ]
     },
     "execution_count": 21,
     "metadata": {},
     "output_type": "execute_result"
    }
   ],
   "source": [
    "@hk.without_apply_rng\n",
    "@hk.transform\n",
    "def transformer(embeddings: ArrayLike):\n",
    "    \"\"\"embeddings must be float arrays of shape (batch_size, seq_len, d_model)\n",
    "    \"\"\"\n",
    "    compiled_model = m.get_compiled_model()\n",
    "    return compiled_model.transformer(\n",
    "        embeddings, jnp.ones(embeddings.shape[:-1]), use_dropout=False)\n",
    "\n",
    "\n",
    "seq = 4\n",
    "out = transformer.apply(m.params, np.ones((1, seq, d_model), dtype=float))\n",
    "out.output.shape\n",
    "type(out)"
   ]
  },
  {
   "cell_type": "code",
   "execution_count": 31,
   "metadata": {},
   "outputs": [
    {
     "data": {
      "text/plain": [
       "(1, 4, 28)"
      ]
     },
     "execution_count": 31,
     "metadata": {},
     "output_type": "execute_result"
    }
   ],
   "source": [
    "out.output.shape"
   ]
  },
  {
   "cell_type": "code",
   "execution_count": 34,
   "metadata": {},
   "outputs": [
    {
     "data": {
      "text/plain": [
       "(2, 1, 4, 28)"
      ]
     },
     "execution_count": 34,
     "metadata": {},
     "output_type": "execute_result"
    }
   ],
   "source": [
    "np.array(out.residuals).shape"
   ]
  }
 ],
 "metadata": {
  "kernelspec": {
   "display_name": "meta-models",
   "language": "python",
   "name": "python3"
  },
  "language_info": {
   "codemirror_mode": {
    "name": "ipython",
    "version": 3
   },
   "file_extension": ".py",
   "mimetype": "text/x-python",
   "name": "python",
   "nbconvert_exporter": "python",
   "pygments_lexer": "ipython3",
   "version": "3.10.12"
  }
 },
 "nbformat": 4,
 "nbformat_minor": 2
}
