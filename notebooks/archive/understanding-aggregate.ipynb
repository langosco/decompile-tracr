{
 "cells": [
  {
   "cell_type": "markdown",
   "metadata": {},
   "source": [
    "# Understanding `Aggregate`"
   ]
  },
  {
   "cell_type": "code",
   "execution_count": 1,
   "metadata": {},
   "outputs": [],
   "source": [
    "import os\n",
    "os.environ[\"XLA_PYTHON_CLIENT_PREALLOCATE\"] = \"false\"\n",
    "from tracr.rasp import rasp\n",
    "from tracr.compiler import compiling\n",
    "import numpy as np"
   ]
  },
  {
   "cell_type": "code",
   "execution_count": 2,
   "metadata": {},
   "outputs": [
    {
     "name": "stdout",
     "output_type": "stream",
     "text": [
      "1.5\n",
      "3.0\n",
      "2.0\n"
     ]
    }
   ],
   "source": [
    "mat = [[1,0,1],\n",
    "       [0,1,0],\n",
    "       [1,1,1]]\n",
    "\n",
    "seq = [1, 3, 2]\n",
    "\n",
    "selector = rasp.ConstantSelector(mat)\n",
    "sop = rasp.ConstantSOp(seq)\n",
    "out = rasp.Aggregate(selector, sop)\n",
    "\n",
    "print(*out([0,0,0]), sep=\"\\n\")"
   ]
  },
  {
   "cell_type": "code",
   "execution_count": 3,
   "metadata": {},
   "outputs": [
    {
     "name": "stdout",
     "output_type": "stream",
     "text": [
      "Setup: we want to aggregate\n",
      "[[ True False  True]\n",
      " [False  True False]\n",
      " [ True  True  True]] with [1 3 2]\n",
      "\n",
      "Row-wise multiplying gives\n",
      "[[1 0 2]\n",
      " [0 3 0]\n",
      " [1 3 2]]\n",
      "\n",
      "...and then averaging across rows gives\n",
      "[[1.5]\n",
      " [3. ]\n",
      " [2. ]]\n",
      "\n",
      "Note we average only over those elements in each row marked by True in the original select matrix.\n"
     ]
    }
   ],
   "source": [
    "mat = np.array(mat, dtype=bool)\n",
    "seq = np.array(seq)\n",
    "\n",
    "print('Setup: we want to aggregate')\n",
    "print(mat, 'with', seq)\n",
    "print()\n",
    "interm = mat * seq\n",
    "print(\"Row-wise multiplying gives\")\n",
    "print(interm)\n",
    "print()\n",
    "print(\"...and then averaging across rows gives\")\n",
    "out = interm.sum(axis=1) / mat.sum(axis=1)\n",
    "print(out[:, np.newaxis])\n",
    "print()\n",
    "print(\"Note we average only over those elements in each row\"\n",
    "      \" marked by True in the original select matrix.\")\n",
    "\n",
    "#print(np.einsum(\"ij,j->ji\", mat, seq))\n",
    "#\n",
    "#np.mean((mat * seq).T, axis=0)\n"
   ]
  }
 ],
 "metadata": {
  "kernelspec": {
   "display_name": "meta-models",
   "language": "python",
   "name": "python3"
  },
  "language_info": {
   "codemirror_mode": {
    "name": "ipython",
    "version": 3
   },
   "file_extension": ".py",
   "mimetype": "text/x-python",
   "name": "python",
   "nbconvert_exporter": "python",
   "pygments_lexer": "ipython3",
   "version": "3.10.12"
  }
 },
 "nbformat": 4,
 "nbformat_minor": 2
}
