{
 "cells": [
  {
   "cell_type": "code",
   "execution_count": 2,
   "metadata": {},
   "outputs": [],
   "source": [
    "import os\n",
    "os.environ[\"XLA_PYTHON_CLIENT_PREALLOCATE\"] = \"false\"\n",
    "from tracr.rasp import rasp\n",
    "from tracr.compiler import compiling\n",
    "import numpy as np\n",
    "from tracr.compiler.validating import validate\n",
    "from typing import Union, TypeVar\n",
    "from tracr.rasp.rasp import Map, SequenceMap, LinearSequenceMap, Select, Aggregate, Comparison, SelectorWidth, indices, tokens \n",
    "from rasp_generator import sampling, utils\n",
    "\n",
    "\n",
    "def make_length():\n",
    "    all_true_selector = rasp.Select(rasp.tokens, rasp.tokens, rasp.Comparison.TRUE)\n",
    "    return rasp.SelectorWidth(all_true_selector)\n",
    "\n",
    "\n",
    "def compile_rasp_to_model(x: rasp.SOp,\n",
    "                 vocab={1, 2, 3}, \n",
    "                 max_seq_len=5, \n",
    "                 compiler_bos=\"BOS\"):\n",
    "    return compiling.compile_rasp_to_model(\n",
    "        x,\n",
    "        vocab=vocab,\n",
    "        max_seq_len=max_seq_len,\n",
    "        compiler_bos=compiler_bos,\n",
    "    )\n",
    " \n",
    "# Apply via:\n",
    "# out = model.apply([compiler_bos] + [v for v in vocab])\n",
    "# return out.decoded\n",
    "\n",
    "\n",
    "TEST_INPUT = [1,2,3,4]"
   ]
  },
  {
   "cell_type": "markdown",
   "metadata": {},
   "source": [
    "# Writing RASP programs"
   ]
  },
  {
   "cell_type": "code",
   "execution_count": null,
   "metadata": {},
   "outputs": [
    {
     "name": "stderr",
     "output_type": "stream",
     "text": [
      "An NVIDIA GPU may be present on this machine, but a CUDA-enabled jaxlib is not installed. Falling back to cpu.\n"
     ]
    },
    {
     "name": "stdout",
     "output_type": "stream",
     "text": [
      "['c', 'b', 'a']\n",
      "['BOS', 'c', 'b', 'a']\n"
     ]
    }
   ],
   "source": [
    "def make_reverse(sop: rasp.SOp) -> rasp.SOp:  # categorical -> categorical\n",
    "    length = make_length()\n",
    "    reversed_indices = (length - rasp.indices - 1).named(\"reversed_indices\")\n",
    "    sel = rasp.Select(rasp.indices, reversed_indices, rasp.Comparison.EQ)\n",
    "    return rasp.Aggregate(sel, sop)\n",
    "\n",
    "rev = make_reverse(rasp.tokens)\n",
    "compiled = compile_rasp(rev, vocab={\"a\", \"b\", \"c\"})\n",
    "\n",
    "print(rev(\"abc\"))\n",
    "print(compiled.apply([\"BOS\", \"a\", \"b\", \"c\"]).decoded)"
   ]
  },
  {
   "cell_type": "code",
   "execution_count": null,
   "metadata": {},
   "outputs": [],
   "source": [
    "# count fraction of all tokens that are equal to x\n",
    "\n",
    "#is_x = rasp.tokens == \"x\"  # bool\n",
    "def count_x():\n",
    "    all_x = rasp.Map(lambda x: \"x\", rasp.indices)\n",
    "    is_x = rasp.Select(rasp.tokens, all_x, rasp.Comparison.EQ)\n",
    "    return rasp.SelectorWidth(is_x)\n",
    "\n",
    "\n",
    "# alternative\n",
    "def count_x_2():\n",
    "    is_x = rasp.Select(rasp.tokens, rasp.tokens, lambda tok, _: tok == \"x\")\n",
    "    return rasp.SelectorWidth(is_x)\n"
   ]
  },
  {
   "cell_type": "code",
   "execution_count": null,
   "metadata": {},
   "outputs": [
    {
     "data": {
      "text/plain": [
       "[3, 3, 3, 2, 2]"
      ]
     },
     "execution_count": 8,
     "metadata": {},
     "output_type": "execute_result"
    }
   ],
   "source": [
    "# Histogram\n",
    "# for every input element, return number of times it appears in the sequence\n",
    "def histogram(x):\n",
    "    eq = rasp.Select(x, x, rasp.Comparison.EQ)\n",
    "    return rasp.SelectorWidth(eq)\n",
    "\n",
    "\n",
    "\n",
    "# double histogram (from rasp paper)\n",
    "# for every token, return number of elements in the sequence \n",
    "# that occur the same number of times\n",
    "def double_histogram(x):\n",
    "    hist = histogram(x)\n",
    "    return histogram(hist)\n",
    "\n",
    "\n",
    "double_histogram(rasp.tokens)(\"abcdd\")"
   ]
  },
  {
   "cell_type": "code",
   "execution_count": null,
   "metadata": {},
   "outputs": [],
   "source": [
    "# Count the fraction of *previous* tokens that are equal to x\n",
    "def count_prev_x():\n",
    "    previous = rasp.Select(rasp.indices, rasp.indices, rasp.Comparison.LEQ)\n",
    "    return rasp.numerical(\n",
    "        rasp.Aggregate(previous, rasp.numerical(rasp.tokens == \"x\"), default=0))"
   ]
  },
  {
   "cell_type": "markdown",
   "metadata": {},
   "source": [
    "## Running List of Tracr Constraints"
   ]
  },
  {
   "cell_type": "code",
   "execution_count": null,
   "metadata": {},
   "outputs": [
    {
     "name": "stdout",
     "output_type": "stream",
     "text": [
      "[2.0, 2.5, 3.0]\n",
      "[0.0, 0.0, 0.3333333333333333, 0.25, 0.4]\n"
     ]
    }
   ],
   "source": [
    "# attn patterns (ie aggregate) can only average binary variables\n",
    "# eg the following does NOT work:\n",
    "\n",
    "# compute the sum of previous tokens\n",
    "def sum():\n",
    "    tok = rasp.numerical(rasp.tokens+1)\n",
    "    previous = rasp.Select(rasp.indices, rasp.indices, rasp.Comparison.LEQ)\n",
    "    return rasp.numerical(rasp.Aggregate(previous, tok, default=0))\n",
    "\n",
    "print(sum()([1,2,3]))  # runs but wouldn't compile\n",
    "\n",
    "\n",
    "# Compare this which does work bc it only averages 0s and 1s:\n",
    "def frac_prev_x():\n",
    "    previous = rasp.Select(rasp.indices, rasp.indices, rasp.Comparison.LEQ)\n",
    "    return rasp.numerical(rasp.Aggregate(previous, rasp.numerical(rasp.tokens == \"x\"), default=0))\n",
    "\n",
    "print(frac_prev_x()(\"abxcx\"))  # compiles fine"
   ]
  },
  {
   "cell_type": "markdown",
   "metadata": {},
   "source": [
    "# Other Stuff"
   ]
  },
  {
   "cell_type": "code",
   "execution_count": null,
   "metadata": {},
   "outputs": [
    {
     "data": {
      "text/plain": [
       "[1.1, 2.1, 3.1]"
      ]
     },
     "execution_count": 11,
     "metadata": {},
     "output_type": "execute_result"
    }
   ],
   "source": [
    "tok = rasp.tokens\n",
    "floats = rasp.numerical(tok + 0.1)\n",
    "floats([1,2,3])"
   ]
  },
  {
   "cell_type": "code",
   "execution_count": null,
   "metadata": {},
   "outputs": [],
   "source": [
    "notfloats = ~floats"
   ]
  },
  {
   "cell_type": "code",
   "execution_count": null,
   "metadata": {},
   "outputs": [
    {
     "data": {
      "text/plain": [
       "False"
      ]
     },
     "execution_count": 13,
     "metadata": {},
     "output_type": "execute_result"
    }
   ],
   "source": [
    "rasp.is_numerical(notfloats)"
   ]
  },
  {
   "cell_type": "code",
   "execution_count": null,
   "metadata": {},
   "outputs": [
    {
     "data": {
      "text/plain": [
       "[False, False, False]"
      ]
     },
     "execution_count": 14,
     "metadata": {},
     "output_type": "execute_result"
    }
   ],
   "source": [
    "bools = floats == 1.1000000000001\n",
    "bools([1,2,3])"
   ]
  },
  {
   "cell_type": "code",
   "execution_count": null,
   "metadata": {},
   "outputs": [
    {
     "data": {
      "text/plain": [
       "False"
      ]
     },
     "execution_count": 15,
     "metadata": {},
     "output_type": "execute_result"
    }
   ],
   "source": [
    "1.1 == 1.100000000000001"
   ]
  },
  {
   "cell_type": "code",
   "execution_count": null,
   "metadata": {},
   "outputs": [
    {
     "data": {
      "text/plain": [
       "['BOS', False, False, False]"
      ]
     },
     "execution_count": 16,
     "metadata": {},
     "output_type": "execute_result"
    }
   ],
   "source": [
    "compiled = compile_rasp(bools, vocab={0, 1, 2, 3})\n",
    "compiled.apply([\"BOS\", 1,2,3]).decoded"
   ]
  }
 ],
 "metadata": {
  "kernelspec": {
   "display_name": "meta-models",
   "language": "python",
   "name": "python3"
  },
  "language_info": {
   "codemirror_mode": {
    "name": "ipython",
    "version": 3
   },
   "file_extension": ".py",
   "mimetype": "text/x-python",
   "name": "python",
   "nbconvert_exporter": "python",
   "pygments_lexer": "ipython3",
   "version": "3.10.12"
  }
 },
 "nbformat": 4,
 "nbformat_minor": 2
}
