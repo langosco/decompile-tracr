{
 "cells": [
  {
   "cell_type": "code",
   "execution_count": 8,
   "metadata": {},
   "outputs": [],
   "source": [
    "import os\n",
    "os.environ[\"XLA_PYTHON_CLIENT_PREALLOCATE\"] = \"false\"\n",
    "from tracr.rasp import rasp\n",
    "from tracr.compiler import compiling\n",
    "import numpy as np\n",
    "from tracr.compiler.validating import validate\n",
    "from typing import Union, TypeVar\n",
    "from tracr.rasp.rasp import Map, SequenceMap, LinearSequenceMap, Select, Aggregate, Comparison, SelectorWidth, indices, tokens \n",
    "from rasp_generator import sampling, utils, map_primitives\n",
    "\n",
    "\n",
    "def make_length():\n",
    "    all_true_selector = rasp.Select(rasp.tokens, rasp.tokens, rasp.Comparison.TRUE)\n",
    "    return rasp.SelectorWidth(all_true_selector)\n",
    "\n",
    "\n",
    "def compile_rasp_to_model(x: rasp.SOp,\n",
    "                 vocab={1, 2, 3, 4}, \n",
    "                 max_seq_len=5, \n",
    "                 compiler_bos=\"BOS\"):\n",
    "    return compiling.compile_rasp_to_model(\n",
    "        x,\n",
    "        vocab=vocab,\n",
    "        max_seq_len=max_seq_len,\n",
    "        compiler_bos=compiler_bos,\n",
    "    )\n",
    " \n",
    "# Apply via:\n",
    "# out = model.apply([compiler_bos] + [v for v in vocab])\n",
    "# return out.decoded\n",
    "\n",
    "\n",
    "TEST_INPUT = [1,2,3,4]"
   ]
  },
  {
   "cell_type": "code",
   "execution_count": 9,
   "metadata": {},
   "outputs": [],
   "source": [
    "from tracr.rasp import rasp\n",
    "from tracr.compiler import compiling, validating\n",
    "\n",
    "sel = rasp.Select(rasp.indices, rasp.tokens, rasp.Comparison.EQ)\n",
    "sop = rasp.Aggregate(sel, rasp.indices)\n",
    "program = rasp.Aggregate(sel, sop)"
   ]
  },
  {
   "cell_type": "code",
   "execution_count": 10,
   "metadata": {},
   "outputs": [
    {
     "name": "stdout",
     "output_type": "stream",
     "text": [
      "[2, 3, None, None]\n",
      "['BOS', 2, 3, 0, 1]\n",
      "[TracrUnsupportedExpr(expr=<tracr.rasp.rasp.Aggregate object at 0x7f17dc0072b0>, reason='Categorical aggregate does not support Selectors with width > 1 that require aggregation (eg. averaging).')]\n"
     ]
    }
   ],
   "source": [
    "model = compiling.compile_rasp_to_model(program, vocab={1,2,3,4}, max_seq_len=5, compiler_bos=\"BOS\")\n",
    "compiled_output = model.apply([\"BOS\", 1, 2, 3, 4]).decoded\n",
    "rasp_output = program([1, 2, 3, 4])\n",
    "\n",
    "\n",
    "# The output of the compiled model does not match the output of the RASP program:\n",
    "print(rasp_output)  # [2.0, 3.0, None, None]\n",
    "print(compiled_output) # ['BOS', 2, 3, 0, 1]\n",
    "\n",
    "# The validator doesn't catch the error:\n",
    "print(validating.validate(program, [1, 2, 3, 4])) # []"
   ]
  },
  {
   "cell_type": "code",
   "execution_count": 11,
   "metadata": {},
   "outputs": [],
   "source": [
    "from typing import Set\n",
    "\n",
    "from tracr.compiler import assemble\n",
    "from tracr.compiler import basis_inference\n",
    "from tracr.compiler import craft_graph_to_model\n",
    "from tracr.compiler import craft_model_to_transformer\n",
    "from tracr.compiler import expr_to_craft_graph\n",
    "from tracr.compiler import rasp_to_graph\n",
    "from tracr.compiler import validating\n",
    "from tracr.craft import bases\n",
    "from tracr.rasp import rasp\n",
    "\n",
    "\n",
    "#program = rasp.Aggregate(\n",
    "#    rasp.Select(\n",
    "#        rasp.Map(lambda x: x**2, rasp.tokens),\n",
    "#        rasp.indices,\n",
    "#        rasp.Comparison.GEQ,\n",
    "#    ),\n",
    "#    rasp.tokens,\n",
    "#)\n",
    "\n",
    "vocab = {1, 2, 3, 4}\n",
    "max_seq_len = 5\n",
    "compiler_bos = \"BOS\"\n",
    "mlp_exactness = 100\n",
    "\n",
    "\n",
    "extracted = rasp_to_graph.extract_rasp_graph(program)\n",
    "graph, sources, sink = extracted.graph, extracted.sources, extracted.sink\n",
    "\n",
    "basis_inference.infer_bases(\n",
    "    graph,\n",
    "    sink,\n",
    "    vocab,\n",
    "    max_seq_len,\n",
    ")\n",
    "\n",
    "expr_to_craft_graph.add_craft_components_to_rasp_graph(\n",
    "    graph,\n",
    "    bos_dir=bases.BasisDirection(rasp.tokens.label, compiler_bos),\n",
    "    mlp_exactness=mlp_exactness,\n",
    ")\n",
    "\n",
    "craft_model = craft_graph_to_model.craft_graph_to_model(graph, sources)\n"
   ]
  },
  {
   "cell_type": "code",
   "execution_count": 24,
   "metadata": {},
   "outputs": [
    {
     "data": {
      "text/plain": [
       "VectorInBasis(basis_directions=[BasisDirection(name='indices', value=0), BasisDirection(name='indices', value=1), BasisDirection(name='indices', value=2), BasisDirection(name='indices', value=3), BasisDirection(name='indices', value=4), BasisDirection(name='rasp_to_craft_integration_test_ONE', value=None), BasisDirection(name='rasp_to_transformer_integration_test_BOS', value=None), BasisDirection(name='tokens', value=1), BasisDirection(name='tokens', value=2), BasisDirection(name='tokens', value=3), BasisDirection(name='tokens', value=4)], magnitudes=array([[0., 0., 0., 0., 0., 1., 1., 0., 0., 0., 0.],\n",
       "       [1., 0., 0., 0., 0., 1., 0., 1., 0., 0., 0.],\n",
       "       [0., 1., 0., 0., 0., 1., 0., 0., 1., 0., 0.],\n",
       "       [0., 0., 1., 0., 0., 1., 0., 0., 0., 1., 0.],\n",
       "       [0., 0., 0., 1., 0., 1., 0., 0., 0., 0., 1.]]))"
      ]
     },
     "execution_count": 24,
     "metadata": {},
     "output_type": "execute_result"
    }
   ],
   "source": [
    "test_input_vector"
   ]
  },
  {
   "cell_type": "code",
   "execution_count": 25,
   "metadata": {},
   "outputs": [],
   "source": [
    "from tracr.compiler.rasp_to_craft_integration_test import _make_input_space, nodes, _embed_input, _embed_output\n",
    "\n",
    "categorical_output = rasp.is_categorical(program)\n",
    "assert categorical_output\n",
    "test_input = [1, 2, 3, 4]\n",
    "\n",
    "\n",
    "\n",
    "input_space = _make_input_space(vocab, max_seq_len)\n",
    "output_space = bases.VectorSpaceWithBasis(\n",
    "    extracted.sink[nodes.OUTPUT_BASIS])\n",
    "\n",
    "test_input_vector = _embed_input(test_input, input_space)\n",
    "test_output = craft_model.apply(test_input_vector).project(output_space)"
   ]
  },
  {
   "cell_type": "code",
   "execution_count": 28,
   "metadata": {},
   "outputs": [],
   "source": [
    "expected_output = _embed_output(\n",
    "    output_seq=rasp_output,\n",
    "    output_space=output_space,\n",
    "    categorical_output=True)"
   ]
  },
  {
   "cell_type": "code",
   "execution_count": 29,
   "metadata": {},
   "outputs": [
    {
     "data": {
      "text/plain": [
       "array([[8.00000000e-02, 2.80000000e-01, 2.80000000e-01, 2.80000000e-01,\n",
       "        0.00000000e+00],\n",
       "       [5.20810637e-44, 8.92818234e-44, 1.00000000e+00, 8.92818234e-44,\n",
       "        0.00000000e+00],\n",
       "       [5.20810637e-44, 8.92818234e-44, 8.92818234e-44, 1.00000000e+00,\n",
       "        0.00000000e+00],\n",
       "       [2.00000000e-01, 2.00000000e-01, 2.00000000e-01, 2.00000000e-01,\n",
       "        0.00000000e+00],\n",
       "       [8.00000000e-02, 2.80000000e-01, 2.80000000e-01, 2.80000000e-01,\n",
       "        0.00000000e+00]])"
      ]
     },
     "execution_count": 29,
     "metadata": {},
     "output_type": "execute_result"
    }
   ],
   "source": [
    "test_output.magnitudes"
   ]
  }
 ],
 "metadata": {
  "kernelspec": {
   "display_name": "meta-models",
   "language": "python",
   "name": "python3"
  },
  "language_info": {
   "codemirror_mode": {
    "name": "ipython",
    "version": 3
   },
   "file_extension": ".py",
   "mimetype": "text/x-python",
   "name": "python",
   "nbconvert_exporter": "python",
   "pygments_lexer": "ipython3",
   "version": "3.10.12"
  }
 },
 "nbformat": 4,
 "nbformat_minor": 2
}
