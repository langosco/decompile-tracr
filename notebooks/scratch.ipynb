{
 "cells": [
  {
   "cell_type": "code",
   "execution_count": 2,
   "metadata": {},
   "outputs": [],
   "source": [
    "import os\n",
    "os.environ[\"XLA_PYTHON_CLIENT_PREALLOCATE\"] = \"false\"\n",
    "from collections import defaultdict \n",
    "import jax\n",
    "import flax\n",
    "import chex\n",
    "from jaxtyping import ArrayLike\n",
    "from typing import Union, TypeVar\n",
    "import numpy as np\n",
    "import matplotlib.pyplot as plt\n",
    "\n",
    "from tracr.compiler.validating import validate\n",
    "from tracr.rasp.rasp import Map, SequenceMap, LinearSequenceMap, Select, Aggregate, Comparison, SelectorWidth, indices, tokens \n",
    "from tracr.rasp import rasp\n",
    "from tracr.compiler import compiling\n",
    "from tracr.compiler.assemble import AssembledTransformerModel\n",
    "from tracr.compiler.craft_model_to_transformer import NoTokensError\n",
    "from tracr.compiler.basis_inference import InvalidValueSetError\n",
    "from tracr.compiler import rasp_to_graph\n",
    "\n",
    "from rasp_tokenizer import tokenizer\n",
    "from rasp_tokenizer import vocab\n",
    "from rasp_tokenizer.compiling import COMPILER_BOS\n",
    "from rasp_generator.utils import sample_test_input, FunctionWithRepr, annotate_type\n",
    "from rasp_generator import sampling, utils, map_primitives\n",
    "from rasp_tokenizer import paths\n",
    "from rasp_tokenizer import vocab, data_utils, lib\n",
    "\n",
    "\n",
    "rng = np.random.default_rng(0)"
   ]
  },
  {
   "cell_type": "code",
   "execution_count": 17,
   "metadata": {},
   "outputs": [],
   "source": [
    "p = lib.examples[2]"
   ]
  },
  {
   "cell_type": "code",
   "execution_count": 19,
   "metadata": {},
   "outputs": [
    {
     "name": "stdout",
     "output_type": "stream",
     "text": [
      "select_10 = Select(indices, indices, predicate=Comparison.LEQ)\n",
      "select_12 = Select(indices, indices, predicate=Comparison.LEQ)\n",
      "map_11 = Map(lambda x: x == 0, tokens)    # type: Encoding.NUMERICAL\n",
      "map_13 = Map(lambda x: x == 1, tokens)    # type: Encoding.NUMERICAL\n",
      "aggregate_8 = Aggregate(select_10, map_11)    # type: Encoding.NUMERICAL\n",
      "aggregate_9 = Aggregate(select_12, map_13)    # type: Encoding.NUMERICAL\n",
      "linear_sequence_map_7 = LinearSequenceMap(aggregate_8, aggregate_9, 1, -1)    # type: Encoding.NUMERICAL\n"
     ]
    }
   ],
   "source": [
    "utils.print_program(p)"
   ]
  },
  {
   "cell_type": "code",
   "execution_count": 5,
   "metadata": {},
   "outputs": [
    {
     "name": "stderr",
     "output_type": "stream",
     "text": [
      "2024-01-31 20:40:48.864423: W external/xla/xla/service/gpu/nvptx_compiler.cc:698] The NVIDIA driver's CUDA version is 12.2 which is older than the ptxas CUDA version (12.3.107). Because the driver is older than the ptxas version, XLA is disabling parallel compilation, which may slow down compilation. You should update your NVIDIA driver or use the NVIDIA-provided CUDA forward compatibility packages.\n"
     ]
    }
   ],
   "source": [
    "model = compiling.compile_rasp_to_model(p, vocab={0,1,2,3,4}, max_seq_len=5)"
   ]
  },
  {
   "cell_type": "code",
   "execution_count": 7,
   "metadata": {},
   "outputs": [
    {
     "data": {
      "text/plain": [
       "dict"
      ]
     },
     "execution_count": 7,
     "metadata": {},
     "output_type": "execute_result"
    }
   ],
   "source": [
    "type(model.params)"
   ]
  },
  {
   "cell_type": "code",
   "execution_count": 8,
   "metadata": {},
   "outputs": [
    {
     "data": {
      "text/plain": [
       "dict_keys(['pos_embed', 'token_embed', 'transformer/layer_0/attn/key', 'transformer/layer_0/attn/linear', 'transformer/layer_0/attn/query', 'transformer/layer_0/attn/value', 'transformer/layer_0/mlp/linear_1', 'transformer/layer_0/mlp/linear_2', 'transformer/layer_1/attn/key', 'transformer/layer_1/attn/linear', 'transformer/layer_1/attn/query', 'transformer/layer_1/attn/value', 'transformer/layer_1/mlp/linear_1', 'transformer/layer_1/mlp/linear_2'])"
      ]
     },
     "execution_count": 8,
     "metadata": {},
     "output_type": "execute_result"
    }
   ],
   "source": [
    "model.params.keys()"
   ]
  },
  {
   "cell_type": "code",
   "execution_count": 15,
   "metadata": {},
   "outputs": [
    {
     "data": {
      "text/plain": [
       "{'pos_embed': {'embeddings': (6, 18)},\n",
       " 'token_embed': {'embeddings': (7, 18)},\n",
       " 'transformer/layer_0/attn/key': {'b': (14,), 'w': (18, 14)},\n",
       " 'transformer/layer_0/attn/linear': {'b': (18,), 'w': (14, 18)},\n",
       " 'transformer/layer_0/attn/query': {'b': (14,), 'w': (18, 14)},\n",
       " 'transformer/layer_0/attn/value': {'b': (14,), 'w': (18, 14)},\n",
       " 'transformer/layer_0/mlp/linear_1': {'b': (4,), 'w': (18, 4)},\n",
       " 'transformer/layer_0/mlp/linear_2': {'b': (18,), 'w': (4, 18)},\n",
       " 'transformer/layer_1/attn/key': {'b': (14,), 'w': (18, 14)},\n",
       " 'transformer/layer_1/attn/linear': {'b': (18,), 'w': (14, 18)},\n",
       " 'transformer/layer_1/attn/query': {'b': (14,), 'w': (18, 14)},\n",
       " 'transformer/layer_1/attn/value': {'b': (14,), 'w': (18, 14)},\n",
       " 'transformer/layer_1/mlp/linear_1': {'b': (4,), 'w': (18, 4)},\n",
       " 'transformer/layer_1/mlp/linear_2': {'b': (18,), 'w': (4, 18)}}"
      ]
     },
     "execution_count": 15,
     "metadata": {},
     "output_type": "execute_result"
    }
   ],
   "source": [
    "jax.tree_map(lambda x: x.shape, model.params)"
   ]
  },
  {
   "cell_type": "code",
   "execution_count": 12,
   "metadata": {},
   "outputs": [
    {
     "data": {
      "text/plain": [
       "(18, 4)"
      ]
     },
     "execution_count": 12,
     "metadata": {},
     "output_type": "execute_result"
    }
   ],
   "source": [
    "model.params['transformer/layer_0/mlp/linear_1']['w'].shape"
   ]
  },
  {
   "cell_type": "code",
   "execution_count": 14,
   "metadata": {},
   "outputs": [],
   "source": [
    "import pickle"
   ]
  },
  {
   "cell_type": "code",
   "execution_count": 16,
   "metadata": {},
   "outputs": [],
   "source": [
    "with open(\"params.pkl\", \"wb\") as f:\n",
    "    pickle.dump(model.params, f)"
   ]
  },
  {
   "cell_type": "code",
   "execution_count": 13,
   "metadata": {},
   "outputs": [
    {
     "data": {
      "text/plain": [
       "<matplotlib.image.AxesImage at 0x7f7ba819b580>"
      ]
     },
     "execution_count": 13,
     "metadata": {},
     "output_type": "execute_result"
    },
    {
     "data": {
      "image/png": "[encoded data removed]",
      "text/plain": [
       "<Figure size 640x480 with 1 Axes>"
      ]
     },
     "metadata": {},
     "output_type": "display_data"
    }
   ],
   "source": [
    "plt.imshow(model.params['transformer/layer_0/mlp/linear_1']['w'])"
   ]
  },
  {
   "cell_type": "code",
   "execution_count": null,
   "metadata": {},
   "outputs": [],
   "source": []
  },
  {
   "cell_type": "code",
   "execution_count": null,
   "metadata": {},
   "outputs": [],
   "source": []
  },
  {
   "cell_type": "code",
   "execution_count": 2,
   "metadata": {},
   "outputs": [
    {
     "name": "stdout",
     "output_type": "stream",
     "text": [
      "3\n",
      "dict_keys(['weights_and_tokens', 'name', 'n_sops'])\n",
      "[2, 6, 7]\n"
     ]
    }
   ],
   "source": [
    "lib = data_utils.load_batches(loadpath=paths.data_dir / \"deduped\" / \"lib\")\n",
    "print(len(lib))\n",
    "print(lib[0].keys())\n",
    "print([p['n_sops'] for p in lib])"
   ]
  },
  {
   "cell_type": "code",
   "execution_count": 4,
   "metadata": {},
   "outputs": [
    {
     "name": "stdout",
     "output_type": "stream",
     "text": [
      "2024-01-31 17:34:38 [INFO]: Loading data from /home/lauro/projects/meta-models/rasp-generator/data/deduped/lib.\n",
      "2024-01-31 17:34:38 [WARNING]: Requested 10000 datapoints for lib, but only 14 available.\n"
     ]
    },
    {
     "name": "stdout",
     "output_type": "stream",
     "text": [
      "dict_keys(['rasp_tok', 'weights', 'program_id'])\n",
      "(14, 128, 64)\n",
      "(14, 32)\n"
     ]
    }
   ],
   "source": [
    "lib = data_utils.load_and_process_data(name=\"lib\")\n",
    "\n",
    "print(lib.keys())\n",
    "print(lib['weights'].shape)\n",
    "print(lib['rasp_tok'].shape)"
   ]
  }
 ],
 "metadata": {
  "kernelspec": {
   "display_name": "meta-models",
   "language": "python",
   "name": "python3"
  },
  "language_info": {
   "codemirror_mode": {
    "name": "ipython",
    "version": 3
   },
   "file_extension": ".py",
   "mimetype": "text/x-python",
   "name": "python",
   "nbconvert_exporter": "python",
   "pygments_lexer": "ipython3",
   "version": "3.10.12"
  }
 },
 "nbformat": 4,
 "nbformat_minor": 2
}
