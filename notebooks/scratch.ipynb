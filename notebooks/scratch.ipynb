{
 "cells": [
  {
   "cell_type": "code",
   "execution_count": 1,
   "metadata": {},
   "outputs": [],
   "source": [
    "import os\n",
    "os.environ[\"XLA_PYTHON_CLIENT_PREALLOCATE\"] = \"false\"\n",
    "from collections import defaultdict \n",
    "import jax\n",
    "import flax\n",
    "import chex\n",
    "from jaxtyping import ArrayLike\n",
    "from typing import Union, TypeVar\n",
    "import numpy as np\n",
    "import matplotlib.pyplot as plt\n",
    "\n",
    "from tracr.compiler.validating import validate\n",
    "from tracr.rasp.rasp import Map, SequenceMap, LinearSequenceMap, Select, Aggregate, Comparison, SelectorWidth, indices, tokens \n",
    "from tracr.rasp import rasp\n",
    "from tracr.compiler import compiling\n",
    "from tracr.compiler.assemble import AssembledTransformerModel\n",
    "from tracr.compiler.craft_model_to_transformer import NoTokensError\n",
    "from tracr.compiler.basis_inference import InvalidValueSetError\n",
    "\n",
    "from rasp_tokenizer import tokenizer\n",
    "from rasp_tokenizer import vocab\n",
    "from rasp_tokenizer.compiling import COMPILER_BOS\n",
    "from rasp_generator.utils import sample_test_input, FunctionWithRepr\n",
    "from rasp_generator import sampling, utils, map_primitives\n",
    "\n",
    "\n",
    "rng = np.random.default_rng(0)"
   ]
  },
  {
   "cell_type": "code",
   "execution_count": 2,
   "metadata": {},
   "outputs": [],
   "source": [
    "from tracr.compiler.lib import make_shuffle_dyck"
   ]
  },
  {
   "cell_type": "code",
   "execution_count": 3,
   "metadata": {},
   "outputs": [],
   "source": [
    "prog = make_shuffle_dyck([(1,2)])"
   ]
  },
  {
   "cell_type": "code",
   "execution_count": 4,
   "metadata": {},
   "outputs": [
    {
     "name": "stderr",
     "output_type": "stream",
     "text": [
      "2024-01-28 12:35:26.940919: W external/xla/xla/service/gpu/nvptx_compiler.cc:698] The NVIDIA driver's CUDA version is 12.2 which is older than the ptxas CUDA version (12.3.107). Because the driver is older than the ptxas version, XLA is disabling parallel compilation, which may slow down compilation. You should update your NVIDIA driver or use the NVIDIA-provided CUDA forward compatibility packages.\n"
     ]
    }
   ],
   "source": [
    "model = compiling.compile_rasp_to_model(\n",
    "    prog,\n",
    "    vocab={0,1,2,3,4},\n",
    "    max_seq_len=5,\n",
    ")"
   ]
  },
  {
   "cell_type": "code",
   "execution_count": 5,
   "metadata": {},
   "outputs": [],
   "source": [
    "from rasp_tokenizer import lib"
   ]
  },
  {
   "cell_type": "code",
   "execution_count": 7,
   "metadata": {},
   "outputs": [],
   "source": [
    "my_prog = lib.make_shuffle_dyck([(1,2)])"
   ]
  },
  {
   "cell_type": "code",
   "execution_count": 8,
   "metadata": {},
   "outputs": [
    {
     "ename": "NotImplementedError",
     "evalue": "('Attention patterns can currently only average binary variables. Not:', {1, 2})",
     "output_type": "error",
     "traceback": [
      "\u001b[0;31m---------------------------------------------------------------------------\u001b[0m",
      "\u001b[0;31mNotImplementedError\u001b[0m                       Traceback (most recent call last)",
      "Cell \u001b[0;32mIn[8], line 1\u001b[0m\n\u001b[0;32m----> 1\u001b[0m model \u001b[38;5;241m=\u001b[39m \u001b[43mcompiling\u001b[49m\u001b[38;5;241;43m.\u001b[39;49m\u001b[43mcompile_rasp_to_model\u001b[49m\u001b[43m(\u001b[49m\n\u001b[1;32m      2\u001b[0m \u001b[43m    \u001b[49m\u001b[43mmy_prog\u001b[49m\u001b[43m,\u001b[49m\n\u001b[1;32m      3\u001b[0m \u001b[43m    \u001b[49m\u001b[43mvocab\u001b[49m\u001b[38;5;241;43m=\u001b[39;49m\u001b[43m{\u001b[49m\u001b[38;5;241;43m0\u001b[39;49m\u001b[43m,\u001b[49m\u001b[38;5;241;43m1\u001b[39;49m\u001b[43m,\u001b[49m\u001b[38;5;241;43m2\u001b[39;49m\u001b[43m,\u001b[49m\u001b[38;5;241;43m3\u001b[39;49m\u001b[43m,\u001b[49m\u001b[38;5;241;43m4\u001b[39;49m\u001b[43m}\u001b[49m\u001b[43m,\u001b[49m\n\u001b[1;32m      4\u001b[0m \u001b[43m    \u001b[49m\u001b[43mmax_seq_len\u001b[49m\u001b[38;5;241;43m=\u001b[39;49m\u001b[38;5;241;43m5\u001b[39;49m\u001b[43m,\u001b[49m\n\u001b[1;32m      5\u001b[0m \u001b[43m)\u001b[49m\n",
      "File \u001b[0;32m~/projects/meta-models/tracr/tracr/compiler/compiling.py:100\u001b[0m, in \u001b[0;36mcompile_rasp_to_model\u001b[0;34m(program, vocab, max_seq_len, causal, compiler_bos, compiler_pad, mlp_exactness)\u001b[0m\n\u001b[1;32m     97\u001b[0m extracted \u001b[38;5;241m=\u001b[39m rasp_to_graph\u001b[38;5;241m.\u001b[39mextract_rasp_graph(program)\n\u001b[1;32m     98\u001b[0m graph, sources, sink \u001b[38;5;241m=\u001b[39m extracted\u001b[38;5;241m.\u001b[39mgraph, extracted\u001b[38;5;241m.\u001b[39msources, extracted\u001b[38;5;241m.\u001b[39msink\n\u001b[0;32m--> 100\u001b[0m \u001b[43mbasis_inference\u001b[49m\u001b[38;5;241;43m.\u001b[39;49m\u001b[43minfer_bases\u001b[49m\u001b[43m(\u001b[49m\n\u001b[1;32m    101\u001b[0m \u001b[43m    \u001b[49m\u001b[43mgraph\u001b[49m\u001b[43m,\u001b[49m\n\u001b[1;32m    102\u001b[0m \u001b[43m    \u001b[49m\u001b[43msink\u001b[49m\u001b[43m,\u001b[49m\n\u001b[1;32m    103\u001b[0m \u001b[43m    \u001b[49m\u001b[43mvocab\u001b[49m\u001b[43m,\u001b[49m\n\u001b[1;32m    104\u001b[0m \u001b[43m    \u001b[49m\u001b[43mmax_seq_len\u001b[49m\u001b[43m,\u001b[49m\n\u001b[1;32m    105\u001b[0m \u001b[43m\u001b[49m\u001b[43m)\u001b[49m\n\u001b[1;32m    107\u001b[0m expr_to_craft_graph\u001b[38;5;241m.\u001b[39madd_craft_components_to_rasp_graph(\n\u001b[1;32m    108\u001b[0m     graph,\n\u001b[1;32m    109\u001b[0m     bos_dir\u001b[38;5;241m=\u001b[39mbases\u001b[38;5;241m.\u001b[39mBasisDirection(rasp\u001b[38;5;241m.\u001b[39mtokens\u001b[38;5;241m.\u001b[39mlabel, compiler_bos),\n\u001b[1;32m    110\u001b[0m     mlp_exactness\u001b[38;5;241m=\u001b[39mmlp_exactness,\n\u001b[1;32m    111\u001b[0m )\n\u001b[1;32m    113\u001b[0m craft_model \u001b[38;5;241m=\u001b[39m craft_graph_to_model\u001b[38;5;241m.\u001b[39mcraft_graph_to_model(graph, sources)\n",
      "File \u001b[0;32m~/projects/meta-models/tracr/tracr/compiler/basis_inference.py:124\u001b[0m, in \u001b[0;36minfer_bases\u001b[0;34m(graph, sink, vocab, max_seq_len)\u001b[0m\n\u001b[1;32m    120\u001b[0m \u001b[38;5;28;01mif\u001b[39;00m \u001b[38;5;129;01mnot\u001b[39;00m \u001b[38;5;28misinstance\u001b[39m(expr, rasp\u001b[38;5;241m.\u001b[39mSOp):\n\u001b[1;32m    121\u001b[0m   \u001b[38;5;66;03m# Only S-Ops have output vector spaces.\u001b[39;00m\n\u001b[1;32m    122\u001b[0m   \u001b[38;5;28;01mcontinue\u001b[39;00m\n\u001b[0;32m--> 124\u001b[0m value_set \u001b[38;5;241m=\u001b[39m \u001b[43mcompute_value_set\u001b[49m\u001b[43m(\u001b[49m\u001b[43mexpr\u001b[49m\u001b[43m)\u001b[49m\n\u001b[1;32m    125\u001b[0m graph\u001b[38;5;241m.\u001b[39mnodes[node_id][nodes\u001b[38;5;241m.\u001b[39mVALUE_SET] \u001b[38;5;241m=\u001b[39m value_set\n\u001b[1;32m    127\u001b[0m \u001b[38;5;28;01mif\u001b[39;00m rasp\u001b[38;5;241m.\u001b[39mis_categorical(expr):\n",
      "File \u001b[0;32m~/projects/meta-models/tracr/tracr/compiler/basis_inference.py:94\u001b[0m, in \u001b[0;36minfer_bases.<locals>.compute_value_set\u001b[0;34m(sop)\u001b[0m\n\u001b[1;32m     92\u001b[0m sop_value_set \u001b[38;5;241m=\u001b[39m graph\u001b[38;5;241m.\u001b[39mnodes[sop\u001b[38;5;241m.\u001b[39msop\u001b[38;5;241m.\u001b[39mlabel][nodes\u001b[38;5;241m.\u001b[39mVALUE_SET]\n\u001b[1;32m     93\u001b[0m \u001b[38;5;28;01mif\u001b[39;00m \u001b[38;5;129;01mnot\u001b[39;00m {\u001b[38;5;28mint\u001b[39m(x) \u001b[38;5;28;01mfor\u001b[39;00m x \u001b[38;5;129;01min\u001b[39;00m sop_value_set}\u001b[38;5;241m.\u001b[39missubset({\u001b[38;5;241m0\u001b[39m, \u001b[38;5;241m1\u001b[39m}):\n\u001b[0;32m---> 94\u001b[0m   \u001b[38;5;28;01mraise\u001b[39;00m \u001b[38;5;167;01mNotImplementedError\u001b[39;00m(\n\u001b[1;32m     95\u001b[0m       \u001b[38;5;124m\"\u001b[39m\u001b[38;5;124mAttention patterns can currently only \u001b[39m\u001b[38;5;124m\"\u001b[39m\n\u001b[1;32m     96\u001b[0m       \u001b[38;5;124m\"\u001b[39m\u001b[38;5;124maverage binary variables. Not:\u001b[39m\u001b[38;5;124m\"\u001b[39m, sop_value_set)\n\u001b[1;32m     98\u001b[0m value_set \u001b[38;5;241m=\u001b[39m \u001b[38;5;28mset\u001b[39m()\n\u001b[1;32m     99\u001b[0m \u001b[38;5;28;01mfor\u001b[39;00m value \u001b[38;5;129;01min\u001b[39;00m sop_value_set:\n",
      "\u001b[0;31mNotImplementedError\u001b[0m: ('Attention patterns can currently only average binary variables. Not:', {1, 2})"
     ]
    }
   ],
   "source": [
    "model = compiling.compile_rasp_to_model(\n",
    "    my_prog,\n",
    "    vocab={0,1,2,3,4},\n",
    "    max_seq_len=5,\n",
    ")"
   ]
  }
 ],
 "metadata": {
  "kernelspec": {
   "display_name": "meta-models",
   "language": "python",
   "name": "python3"
  },
  "language_info": {
   "codemirror_mode": {
    "name": "ipython",
    "version": 3
   },
   "file_extension": ".py",
   "mimetype": "text/x-python",
   "name": "python",
   "nbconvert_exporter": "python",
   "pygments_lexer": "ipython3",
   "version": "3.10.12"
  }
 },
 "nbformat": 4,
 "nbformat_minor": 2
}
