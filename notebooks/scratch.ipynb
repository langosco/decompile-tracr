{
 "cells": [
  {
   "cell_type": "code",
   "execution_count": 1,
   "metadata": {},
   "outputs": [],
   "source": [
    "import os\n",
    "os.environ[\"XLA_PYTHON_CLIENT_PREALLOCATE\"] = \"false\"\n",
    "import pandas as pd\n",
    "import sys\n",
    "from collections import defaultdict \n",
    "import jax\n",
    "import flax\n",
    "import chex\n",
    "from jaxtyping import ArrayLike\n",
    "from typing import Union, TypeVar\n",
    "import numpy as np\n",
    "import matplotlib.pyplot as plt\n",
    "import traceback\n",
    "import jax.numpy as jnp\n",
    "\n",
    "from tracr.compiler.validating import validate\n",
    "from tracr.rasp.rasp import Map, SequenceMap, LinearSequenceMap, Select, Aggregate, Comparison, SelectorWidth, indices, tokens \n",
    "from tracr.rasp import rasp\n",
    "from tracr.compiler import compiling\n",
    "from tracr.compiler.assemble import AssembledTransformerModel\n",
    "from tracr.compiler.craft_model_to_transformer import NoTokensError\n",
    "from tracr.compiler.basis_inference import InvalidValueSetError\n",
    "from tracr.compiler import rasp_to_graph\n",
    "\n",
    "\n",
    "from decompile_tracr.dataset import lib\n",
    "from decompile_tracr.dataset import data_utils\n",
    "from decompile_tracr.dataset import config\n",
    "from decompile_tracr.dataset import compile as comp\n",
    "from decompile_tracr.tokenizing import tokenizer\n",
    "from decompile_tracr.tokenizing import vocab\n",
    "from decompile_tracr.sampling import sampling\n",
    "from decompile_tracr.sampling import rasp_utils\n",
    "from decompile_tracr.sampling.map_primitives import FunctionWithRepr\n",
    "from decompile_tracr.tokenizing.str_to_rasp import split_list\n",
    "\n",
    "\n",
    "rng = np.random.default_rng(0)"
   ]
  },
  {
   "cell_type": "code",
   "execution_count": 13,
   "metadata": {},
   "outputs": [],
   "source": [
    "program = sampling.sample(rng, 15)\n",
    "#program = rasp.Map(lambda x: x, rasp.tokens)"
   ]
  },
  {
   "cell_type": "code",
   "execution_count": 14,
   "metadata": {},
   "outputs": [],
   "source": [
    "from tracr.compiler import assemble\n",
    "from tracr.compiler import basis_inference\n",
    "from tracr.compiler import craft_graph_to_model\n",
    "from tracr.compiler import craft_model_to_transformer\n",
    "from tracr.compiler import expr_to_craft_graph\n",
    "from tracr.compiler import rasp_to_graph\n",
    "from tracr.compiler import validating\n",
    "from tracr.craft import bases\n",
    "from tracr.rasp import rasp\n",
    "\n",
    "extracted = rasp_to_graph.extract_rasp_graph(program)\n",
    "graph, sources, sink = extracted.graph, extracted.sources, extracted.sink\n",
    "\n",
    "basis_inference.infer_bases(\n",
    "    graph,\n",
    "    sink,\n",
    "    vocab={0,1,2,3,4},\n",
    "    max_seq_len=5,\n",
    ")\n",
    "\n",
    "expr_to_craft_graph.add_craft_components_to_rasp_graph(\n",
    "    graph,\n",
    "    bos_dir=bases.BasisDirection(rasp.tokens.label, \"bos\"),\n",
    "    mlp_exactness=100,\n",
    ")\n",
    "\n",
    "craft_model = craft_graph_to_model.craft_graph_to_model(graph, sources)"
   ]
  },
  {
   "cell_type": "code",
   "execution_count": 15,
   "metadata": {},
   "outputs": [],
   "source": [
    "layer_allocation = craft_graph_to_model._allocate_modules_to_layers(\n",
    "    graph,\n",
    "    sources,\n",
    ")"
   ]
  },
  {
   "cell_type": "code",
   "execution_count": 16,
   "metadata": {},
   "outputs": [
    {
     "data": {
      "text/plain": [
       "defaultdict(<function tracr.compiler.craft_graph_to_model._allocate_modules_to_layers.<locals>.<lambda>()>,\n",
       "            {'map_45': 1,\n",
       "             'map_42': 1,\n",
       "             'sequence_map_48': 1,\n",
       "             'selector_width_57': 2,\n",
       "             'sequence_map_50': 3,\n",
       "             'map_59': 5,\n",
       "             'aggregate_51': 4,\n",
       "             'linear_sequence_map_64': 7,\n",
       "             'aggregate_60': 6,\n",
       "             'linear_sequence_map_71': 9,\n",
       "             'linear_sequence_map_72': 11,\n",
       "             'linear_sequence_map_82': 11,\n",
       "             'linear_sequence_map_108': 13})"
      ]
     },
     "execution_count": 16,
     "metadata": {},
     "output_type": "execute_result"
    }
   ],
   "source": [
    "layer_allocation"
   ]
  },
  {
   "cell_type": "code",
   "execution_count": 17,
   "metadata": {},
   "outputs": [
    {
     "data": {
      "text/plain": [
       "{'layer_0/attn': [],\n",
       " 'layer_0/mlp': ['map_42', 'map_45', 'sequence_map_48'],\n",
       " 'layer_1/attn': ['selector_width_57'],\n",
       " 'layer_1/mlp': ['sequence_map_50'],\n",
       " 'layer_2/attn': ['aggregate_51'],\n",
       " 'layer_2/mlp': ['map_59'],\n",
       " 'layer_3/attn': ['aggregate_60'],\n",
       " 'layer_3/mlp': ['linear_sequence_map_64'],\n",
       " 'layer_4/attn': [],\n",
       " 'layer_4/mlp': ['linear_sequence_map_71'],\n",
       " 'layer_5/attn': [],\n",
       " 'layer_5/mlp': ['linear_sequence_map_72', 'linear_sequence_map_82'],\n",
       " 'layer_6/attn': [],\n",
       " 'layer_6/mlp': ['linear_sequence_map_108']}"
      ]
     },
     "execution_count": 17,
     "metadata": {},
     "output_type": "execute_result"
    }
   ],
   "source": [
    "tokenizer.rasp_to_str.get_nodes_by_layer(layer_allocation)"
   ]
  },
  {
   "cell_type": "code",
   "execution_count": 17,
   "metadata": {},
   "outputs": [
    {
     "data": {
      "text/plain": [
       "NodeView(('map_34', 'tokens'))"
      ]
     },
     "execution_count": 17,
     "metadata": {},
     "output_type": "execute_result"
    }
   ],
   "source": [
    "graph.nodes"
   ]
  }
 ],
 "metadata": {
  "kernelspec": {
   "display_name": "meta-models",
   "language": "python",
   "name": "python3"
  },
  "language_info": {
   "codemirror_mode": {
    "name": "ipython",
    "version": 3
   },
   "file_extension": ".py",
   "mimetype": "text/x-python",
   "name": "python",
   "nbconvert_exporter": "python",
   "pygments_lexer": "ipython3",
   "version": "3.10.12"
  }
 },
 "nbformat": 4,
 "nbformat_minor": 2
}
