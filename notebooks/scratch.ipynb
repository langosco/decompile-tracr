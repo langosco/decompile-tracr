{
 "cells": [
  {
   "cell_type": "code",
   "execution_count": 1,
   "metadata": {},
   "outputs": [],
   "source": [
    "import jax\n",
    "import os\n",
    "os.environ[\"XLA_PYTHON_CLIENT_PREALLOCATE\"] = \"false\"\n",
    "from tracr.rasp import rasp\n",
    "from tracr.compiler import compiling\n",
    "import numpy as np\n",
    "from tracr.compiler.validating import validate\n",
    "from typing import Union, TypeVar\n",
    "from tracr.rasp.rasp import Map, SequenceMap, LinearSequenceMap, Select, Aggregate, Comparison, SelectorWidth, indices, tokens \n",
    "from rasp_generator import sampling, utils, map_primitives\n",
    "import flax\n",
    "\n",
    "from tracr.compiler.craft_model_to_transformer import NoTokensError\n",
    "from tracr.compiler.basis_inference import InvalidValueSetError\n",
    "\n",
    "rng = np.random.default_rng(0)"
   ]
  },
  {
   "cell_type": "code",
   "execution_count": 2,
   "metadata": {},
   "outputs": [],
   "source": [
    "# generate dataset\n",
    "from tracr.compiler.assemble import AssembledTransformerModel\n",
    "from jaxtyping import ArrayLike\n",
    "\n",
    "\n",
    "@flax.struct.dataclass\n",
    "class RaspFlatDatapoint:\n",
    "    \"\"\"Ready for training\"\"\"\n",
    "    program: ArrayLike\n",
    "    weights: ArrayLike\n",
    "\n",
    "\n",
    "@flax.struct.dataclass\n",
    "class RaspTreeDatapoint:\n",
    "    \"\"\"Rasp program + tokenized rasp program + model weights + model instance\"\"\"\n",
    "    program: rasp.SOp\n",
    "    program_tokenized: list\n",
    "    model: AssembledTransformerModel"
   ]
  },
  {
   "cell_type": "code",
   "execution_count": 3,
   "metadata": {},
   "outputs": [],
   "source": [
    "from rasp_generator import sampling\n",
    "from rasp_tokenizer import tokenizer\n",
    "\n",
    "\n",
    "def sample():\n",
    "    sampler = sampling.ProgramSampler(rng=rng, validate_compilation=True)\n",
    "    sampler.sample()\n",
    "    model, tokens, params = tokenizer.compile_and_tokenize(sampler.program)\n",
    "    return model, tokens, params"
   ]
  },
  {
   "cell_type": "code",
   "execution_count": 4,
   "metadata": {},
   "outputs": [
    {
     "name": "stdout",
     "output_type": "stream",
     "text": [
      "Invalid program: {err}.\n"
     ]
    },
    {
     "ename": "ValueError",
     "evalue": "Compiled program sequence_map_162 does not match RASP output.\nCompiled output: [0, 4, 4, 9, 0]\nRASP output: [0.0, 6.0, 6.0, 9, 0.0]\nTest input: [3, 2, 1, 1, 0]\nSOp: <tracr.rasp.rasp.SequenceMap object at 0x7f86f03c3e20>",
     "output_type": "error",
     "traceback": [
      "\u001b[0;31m---------------------------------------------------------------------------\u001b[0m",
      "\u001b[0;31mValueError\u001b[0m                                Traceback (most recent call last)",
      "Cell \u001b[0;32mIn[4], line 3\u001b[0m\n\u001b[1;32m      1\u001b[0m \u001b[38;5;28;01mfor\u001b[39;00m _ \u001b[38;5;129;01min\u001b[39;00m \u001b[38;5;28mrange\u001b[39m(\u001b[38;5;241m1000\u001b[39m):\n\u001b[1;32m      2\u001b[0m     \u001b[38;5;28;01mtry\u001b[39;00m:\n\u001b[0;32m----> 3\u001b[0m         model, tokens, params \u001b[38;5;241m=\u001b[39m \u001b[43msample\u001b[49m\u001b[43m(\u001b[49m\u001b[43m)\u001b[49m\n\u001b[1;32m      4\u001b[0m     \u001b[38;5;28;01mexcept\u001b[39;00m (InvalidValueSetError, NoTokensError) \u001b[38;5;28;01mas\u001b[39;00m err:\n\u001b[1;32m      5\u001b[0m         \u001b[38;5;28mprint\u001b[39m(\u001b[38;5;124m\"\u001b[39m\u001b[38;5;124mInvalid program: \u001b[39m\u001b[38;5;132;01m{err}\u001b[39;00m\u001b[38;5;124m.\u001b[39m\u001b[38;5;124m\"\u001b[39m)\n",
      "Cell \u001b[0;32mIn[3], line 7\u001b[0m, in \u001b[0;36msample\u001b[0;34m()\u001b[0m\n\u001b[1;32m      5\u001b[0m \u001b[38;5;28;01mdef\u001b[39;00m \u001b[38;5;21msample\u001b[39m():\n\u001b[1;32m      6\u001b[0m     sampler \u001b[38;5;241m=\u001b[39m sampling\u001b[38;5;241m.\u001b[39mProgramSampler(rng\u001b[38;5;241m=\u001b[39mrng, validate_compilation\u001b[38;5;241m=\u001b[39m\u001b[38;5;28;01mTrue\u001b[39;00m)\n\u001b[0;32m----> 7\u001b[0m     \u001b[43msampler\u001b[49m\u001b[38;5;241;43m.\u001b[39;49m\u001b[43msample\u001b[49m\u001b[43m(\u001b[49m\u001b[43m)\u001b[49m\n\u001b[1;32m      8\u001b[0m     model, tokens, params \u001b[38;5;241m=\u001b[39m tokenizer\u001b[38;5;241m.\u001b[39mcompile_and_tokenize(sampler\u001b[38;5;241m.\u001b[39mprogram)\n\u001b[1;32m      9\u001b[0m     \u001b[38;5;28;01mreturn\u001b[39;00m model, tokens, params\n",
      "File \u001b[0;32m~/projects/meta-models/rasp-generator/rasp_generator/sampling.py:284\u001b[0m, in \u001b[0;36mProgramSampler.sample\u001b[0;34m(self, n_sops)\u001b[0m\n\u001b[1;32m    280\u001b[0m     \u001b[38;5;28;01mraise\u001b[39;00m SamplingError(\u001b[38;5;124mf\u001b[39m\u001b[38;5;124m\"\u001b[39m\u001b[38;5;124mFailed to sample program. Received errors:\u001b[39m\u001b[38;5;130;01m\\n\u001b[39;00m\u001b[38;5;124m\"\u001b[39m\n\u001b[1;32m    281\u001b[0m                         \u001b[38;5;124mf\u001b[39m\u001b[38;5;124m\"\u001b[39m\u001b[38;5;132;01m{\u001b[39;00merrs\u001b[38;5;132;01m}\u001b[39;00m\u001b[38;5;124m\"\u001b[39m)\n\u001b[1;32m    283\u001b[0m \u001b[38;5;28mself\u001b[39m\u001b[38;5;241m.\u001b[39mprogram \u001b[38;5;241m=\u001b[39m \u001b[38;5;28mself\u001b[39m\u001b[38;5;241m.\u001b[39msops[\u001b[38;5;241m-\u001b[39m\u001b[38;5;241m1\u001b[39m]\n\u001b[0;32m--> 284\u001b[0m \u001b[38;5;28;43mself\u001b[39;49m\u001b[38;5;241;43m.\u001b[39;49m\u001b[43mvalidate\u001b[49m\u001b[43m(\u001b[49m\u001b[43m)\u001b[49m\n\u001b[1;32m    285\u001b[0m \u001b[38;5;28;01mreturn\u001b[39;00m errs\n",
      "File \u001b[0;32m~/projects/meta-models/rasp-generator/rasp_generator/sampling.py:297\u001b[0m, in \u001b[0;36mProgramSampler.validate\u001b[0;34m(self)\u001b[0m\n\u001b[1;32m    295\u001b[0m         \u001b[38;5;28;01mraise\u001b[39;00m \u001b[38;5;167;01mValueError\u001b[39;00m(\u001b[38;5;124mf\u001b[39m\u001b[38;5;124m\"\u001b[39m\u001b[38;5;124mInvalid program: \u001b[39m\u001b[38;5;132;01m{\u001b[39;00merrs\u001b[38;5;132;01m}\u001b[39;00m\u001b[38;5;124m\"\u001b[39m)\n\u001b[1;32m    296\u001b[0m     \u001b[38;5;28;01melif\u001b[39;00m \u001b[38;5;28mself\u001b[39m\u001b[38;5;241m.\u001b[39mvalidate_compilation:\n\u001b[0;32m--> 297\u001b[0m         \u001b[43mvalidate_compilation\u001b[49m\u001b[43m(\u001b[49m\u001b[43msop\u001b[49m\u001b[43m,\u001b[49m\u001b[43m \u001b[49m\u001b[43mx\u001b[49m\u001b[43m)\u001b[49m\n\u001b[1;32m    298\u001b[0m \u001b[38;5;28;01mreturn\u001b[39;00m\n",
      "File \u001b[0;32m~/projects/meta-models/rasp-generator/rasp_generator/sampling.py:240\u001b[0m, in \u001b[0;36mvalidate_compilation\u001b[0;34m(expr, test_input)\u001b[0m\n\u001b[1;32m    237\u001b[0m model_out \u001b[38;5;241m=\u001b[39m model\u001b[38;5;241m.\u001b[39mapply([\u001b[38;5;124m\"\u001b[39m\u001b[38;5;124mBOS\u001b[39m\u001b[38;5;124m\"\u001b[39m] \u001b[38;5;241m+\u001b[39m test_input)\u001b[38;5;241m.\u001b[39mdecoded[\u001b[38;5;241m1\u001b[39m:]\n\u001b[1;32m    239\u001b[0m \u001b[38;5;28;01mif\u001b[39;00m \u001b[38;5;129;01mnot\u001b[39;00m np\u001b[38;5;241m.\u001b[39mallclose(model_out, rasp_out_sanitized, rtol\u001b[38;5;241m=\u001b[39m\u001b[38;5;241m1e-3\u001b[39m, atol\u001b[38;5;241m=\u001b[39m\u001b[38;5;241m1e-3\u001b[39m):\n\u001b[0;32m--> 240\u001b[0m     \u001b[38;5;28;01mraise\u001b[39;00m \u001b[38;5;167;01mValueError\u001b[39;00m(\u001b[38;5;124mf\u001b[39m\u001b[38;5;124m\"\u001b[39m\u001b[38;5;124mCompiled program \u001b[39m\u001b[38;5;132;01m{\u001b[39;00mexpr\u001b[38;5;241m.\u001b[39mlabel\u001b[38;5;132;01m}\u001b[39;00m\u001b[38;5;124m does not match RASP output.\u001b[39m\u001b[38;5;130;01m\\n\u001b[39;00m\u001b[38;5;124m\"\u001b[39m\n\u001b[1;32m    241\u001b[0m                         \u001b[38;5;124mf\u001b[39m\u001b[38;5;124m\"\u001b[39m\u001b[38;5;124mCompiled output: \u001b[39m\u001b[38;5;132;01m{\u001b[39;00mmodel_out\u001b[38;5;132;01m}\u001b[39;00m\u001b[38;5;130;01m\\n\u001b[39;00m\u001b[38;5;124m\"\u001b[39m\n\u001b[1;32m    242\u001b[0m                         \u001b[38;5;124mf\u001b[39m\u001b[38;5;124m\"\u001b[39m\u001b[38;5;124mRASP output: \u001b[39m\u001b[38;5;132;01m{\u001b[39;00mrasp_out\u001b[38;5;132;01m}\u001b[39;00m\u001b[38;5;130;01m\\n\u001b[39;00m\u001b[38;5;124m\"\u001b[39m\n\u001b[1;32m    243\u001b[0m                         \u001b[38;5;124mf\u001b[39m\u001b[38;5;124m\"\u001b[39m\u001b[38;5;124mTest input: \u001b[39m\u001b[38;5;132;01m{\u001b[39;00mtest_input\u001b[38;5;132;01m}\u001b[39;00m\u001b[38;5;130;01m\\n\u001b[39;00m\u001b[38;5;124m\"\u001b[39m\n\u001b[1;32m    244\u001b[0m                         \u001b[38;5;124mf\u001b[39m\u001b[38;5;124m\"\u001b[39m\u001b[38;5;124mSOp: \u001b[39m\u001b[38;5;132;01m{\u001b[39;00mexpr\u001b[38;5;132;01m}\u001b[39;00m\u001b[38;5;124m\"\u001b[39m)\n",
      "\u001b[0;31mValueError\u001b[0m: Compiled program sequence_map_162 does not match RASP output.\nCompiled output: [0, 4, 4, 9, 0]\nRASP output: [0.0, 6.0, 6.0, 9, 0.0]\nTest input: [3, 2, 1, 1, 0]\nSOp: <tracr.rasp.rasp.SequenceMap object at 0x7f86f03c3e20>"
     ]
    }
   ],
   "source": [
    "for _ in range(1000):\n",
    "    try:\n",
    "        model, tokens, params = sample()\n",
    "    except (InvalidValueSetError, NoTokensError) as err:\n",
    "        print(\"Invalid program: {err}.\")"
   ]
  },
  {
   "cell_type": "code",
   "execution_count": null,
   "metadata": {},
   "outputs": [
    {
     "name": "stdout",
     "output_type": "stream",
     "text": [
      "Invalid program\n",
      "Invalid program\n"
     ]
    }
   ],
   "source": [
    "for _ in range(100):\n",
    "    try:\n",
    "        sampler = sampling.ProgramSampler(rng=rng)\n",
    "        sampler.sample()\n",
    "        model, tokens, params = tokenizer.compile_and_tokenize(sampler.program)\n",
    "    except (InvalidValueSetError, NoTokensError) as err:\n",
    "        print(f\"Invalid program: {err}\")"
   ]
  }
 ],
 "metadata": {
  "kernelspec": {
   "display_name": "meta-models",
   "language": "python",
   "name": "python3"
  },
  "language_info": {
   "codemirror_mode": {
    "name": "ipython",
    "version": 3
   },
   "file_extension": ".py",
   "mimetype": "text/x-python",
   "name": "python",
   "nbconvert_exporter": "python",
   "pygments_lexer": "ipython3",
   "version": "3.10.12"
  }
 },
 "nbformat": 4,
 "nbformat_minor": 2
}
