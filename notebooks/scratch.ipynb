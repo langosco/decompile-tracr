{
 "cells": [
  {
   "cell_type": "code",
   "execution_count": 1,
   "metadata": {},
   "outputs": [],
   "source": [
    "import os\n",
    "os.environ[\"XLA_PYTHON_CLIENT_PREALLOCATE\"] = \"false\"\n",
    "import jax\n",
    "import flax\n",
    "from jaxtyping import ArrayLike\n",
    "from typing import Union, TypeVar\n",
    "import numpy as np\n",
    "import matplotlib.pyplot as plt\n",
    "\n",
    "from tracr.compiler.validating import validate\n",
    "from tracr.rasp.rasp import Map, SequenceMap, LinearSequenceMap, Select, Aggregate, Comparison, SelectorWidth, indices, tokens \n",
    "from tracr.rasp import rasp\n",
    "from tracr.compiler import compiling\n",
    "from tracr.compiler.assemble import AssembledTransformerModel\n",
    "from tracr.compiler.craft_model_to_transformer import NoTokensError\n",
    "from tracr.compiler.basis_inference import InvalidValueSetError\n",
    "\n",
    "from rasp_tokenizer import tokenizer\n",
    "from rasp_tokenizer import vocab\n",
    "from rasp_tokenizer.compiling import COMPILER_BOS\n",
    "from rasp_generator.utils import sample_test_input\n",
    "from rasp_generator import sampling, utils, map_primitives\n",
    "\n",
    "\n",
    "\n",
    "rng = np.random.default_rng(0)"
   ]
  },
  {
   "cell_type": "code",
   "execution_count": 28,
   "metadata": {},
   "outputs": [
    {
     "name": "stdout",
     "output_type": "stream",
     "text": [
      "[False]\n",
      "[True]\n"
     ]
    }
   ],
   "source": [
    "select_6246 = Select(tokens, tokens, predicate=Comparison.TRUE)\n",
    "map_6247 = rasp.numerical(Map(lambda x: x > 1, tokens))    # type: bool\n",
    "map_6249 = rasp.numerical(Map(lambda x: x > 0, tokens))    # type: bool\n",
    "select_6251 = Select(tokens, tokens, predicate=Comparison.EQ)\n",
    "aggregate_6244 = rasp.numerical(Aggregate(select_6246, map_6247, default=0))    # type: float\n",
    "aggregate_6250 = Aggregate(select_6251, tokens, default=None)    # type: categorical\n",
    "select_6248 = Select(aggregate_6250, indices, predicate=Comparison.GT)\n",
    "aggregate_6245 = rasp.numerical(Aggregate(select_6248, map_6249, default=0))    # type: float\n",
    "\n",
    "\n",
    "print(aggregate_6244([1]))\n",
    "print(aggregate_6245([1]))\n",
    "\n",
    "linear_sequence_map_6243 = rasp.numerical(\n",
    "    LinearSequenceMap(aggregate_6244, aggregate_6245, 3, -3))    # type: float\n",
    "map_6242 = rasp.numerical(Map(lambda x: x ** 0.5, linear_sequence_map_6243))    # type: float\n",
    "\n",
    "program = map_6242"
   ]
  },
  {
   "cell_type": "code",
   "execution_count": 43,
   "metadata": {},
   "outputs": [
    {
     "name": "stdout",
     "output_type": "stream",
     "text": [
      "[-3]\n"
     ]
    },
    {
     "data": {
      "text/plain": [
       "[(1.0605752387249068e-16+1.7320508075688772j)]"
      ]
     },
     "execution_count": 43,
     "metadata": {},
     "output_type": "execute_result"
    }
   ],
   "source": [
    "print(linear_sequence_map_6243([1]))\n",
    "map_6242([1])"
   ]
  },
  {
   "cell_type": "code",
   "execution_count": 44,
   "metadata": {},
   "outputs": [
    {
     "name": "stdout",
     "output_type": "stream",
     "text": [
      "[False]\n",
      "[True]\n",
      "[(1.0605752387249068e-16+1.7320508075688772j)]\n"
     ]
    }
   ],
   "source": [
    "all_true = Select(tokens, tokens, predicate=Comparison.TRUE)\n",
    "map_false = rasp.numerical(Map(lambda x: x > 1, tokens))\n",
    "map_true = rasp.numerical(Map(lambda x: x > 0, tokens))\n",
    "false_agg = rasp.numerical(Aggregate(all_true, map_false, default=0))\n",
    "true_agg = rasp.numerical(Aggregate(all_true, map_true, default=0))\n",
    "\n",
    "print(false_agg([1]))\n",
    "print(true_agg([1]))\n",
    "\n",
    "\n",
    "lsm = rasp.numerical(LinearSequenceMap(false_agg, true_agg, 3, -3))\n",
    "out = rasp.numerical(Map(lambda x: x ** 0.5, lsm))\n",
    "\n",
    "print(out([1]))"
   ]
  },
  {
   "cell_type": "code",
   "execution_count": 14,
   "metadata": {},
   "outputs": [
    {
     "name": "stdout",
     "output_type": "stream",
     "text": [
      "select_27 = Select(tokens, tokens, predicate=Comparison.TRUE)\n",
      "map_28 = Map(<function <lambda> at 0x7fb627615120>, tokens)    # output: [False]\n",
      "map_30 = Map(<function <lambda> at 0x7fb6271595a0>, tokens)    # output: [True]\n",
      "select_32 = Select(tokens, tokens, predicate=Comparison.EQ)\n",
      "aggregate_25 = Aggregate(select_27, map_28)    # output: [False]\n",
      "aggregate_31 = Aggregate(select_32, tokens)    # output: [1]\n",
      "select_29 = Select(aggregate_31, indices, predicate=Comparison.GT)\n",
      "aggregate_26 = Aggregate(select_29, map_30)    # output: [True]\n",
      "linear_sequence_map_24 = LinearSequenceMap(aggregate_25, aggregate_26, 3, -3)    # output: [-3]\n",
      "map_23 = Map(<function <lambda> at 0x7fb62715a710>, linear_sequence_map_24)    # output: [(1.0605752387249068e-16+1.7320508075688772j)]\n"
     ]
    }
   ],
   "source": [
    "utils.print_program(program, [1])"
   ]
  },
  {
   "cell_type": "code",
   "execution_count": 6,
   "metadata": {},
   "outputs": [
    {
     "ename": "TypeError",
     "evalue": "'<' not supported between instances of 'complex' and 'int'",
     "output_type": "error",
     "traceback": [
      "\u001b[0;31m---------------------------------------------------------------------------\u001b[0m",
      "\u001b[0;31mTypeError\u001b[0m                                 Traceback (most recent call last)",
      "Cell \u001b[0;32mIn[6], line 1\u001b[0m\n\u001b[0;32m----> 1\u001b[0m model \u001b[38;5;241m=\u001b[39m \u001b[43mcompiling\u001b[49m\u001b[38;5;241;43m.\u001b[39;49m\u001b[43mcompile_rasp_to_model\u001b[49m\u001b[43m(\u001b[49m\u001b[43mprogram\u001b[49m\u001b[43m,\u001b[49m\u001b[43m \u001b[49m\u001b[43mvocab\u001b[49m\u001b[38;5;241;43m=\u001b[39;49m\u001b[43m{\u001b[49m\u001b[38;5;241;43m0\u001b[39;49m\u001b[43m,\u001b[49m\u001b[38;5;241;43m1\u001b[39;49m\u001b[43m,\u001b[49m\u001b[38;5;241;43m2\u001b[39;49m\u001b[43m,\u001b[49m\u001b[38;5;241;43m3\u001b[39;49m\u001b[43m,\u001b[49m\u001b[38;5;241;43m4\u001b[39;49m\u001b[43m}\u001b[49m\u001b[43m,\u001b[49m\u001b[43m \u001b[49m\u001b[43mmax_seq_len\u001b[49m\u001b[38;5;241;43m=\u001b[39;49m\u001b[38;5;241;43m5\u001b[39;49m\u001b[43m)\u001b[49m\n",
      "File \u001b[0;32m~/projects/meta-models/tracr/tracr/compiler/compiling.py:100\u001b[0m, in \u001b[0;36mcompile_rasp_to_model\u001b[0;34m(program, vocab, max_seq_len, causal, compiler_bos, compiler_pad, mlp_exactness)\u001b[0m\n\u001b[1;32m     97\u001b[0m extracted \u001b[38;5;241m=\u001b[39m rasp_to_graph\u001b[38;5;241m.\u001b[39mextract_rasp_graph(program)\n\u001b[1;32m     98\u001b[0m graph, sources, sink \u001b[38;5;241m=\u001b[39m extracted\u001b[38;5;241m.\u001b[39mgraph, extracted\u001b[38;5;241m.\u001b[39msources, extracted\u001b[38;5;241m.\u001b[39msink\n\u001b[0;32m--> 100\u001b[0m \u001b[43mbasis_inference\u001b[49m\u001b[38;5;241;43m.\u001b[39;49m\u001b[43minfer_bases\u001b[49m\u001b[43m(\u001b[49m\n\u001b[1;32m    101\u001b[0m \u001b[43m    \u001b[49m\u001b[43mgraph\u001b[49m\u001b[43m,\u001b[49m\n\u001b[1;32m    102\u001b[0m \u001b[43m    \u001b[49m\u001b[43msink\u001b[49m\u001b[43m,\u001b[49m\n\u001b[1;32m    103\u001b[0m \u001b[43m    \u001b[49m\u001b[43mvocab\u001b[49m\u001b[43m,\u001b[49m\n\u001b[1;32m    104\u001b[0m \u001b[43m    \u001b[49m\u001b[43mmax_seq_len\u001b[49m\u001b[43m,\u001b[49m\n\u001b[1;32m    105\u001b[0m \u001b[43m\u001b[49m\u001b[43m)\u001b[49m\n\u001b[1;32m    107\u001b[0m expr_to_craft_graph\u001b[38;5;241m.\u001b[39madd_craft_components_to_rasp_graph(\n\u001b[1;32m    108\u001b[0m     graph,\n\u001b[1;32m    109\u001b[0m     bos_dir\u001b[38;5;241m=\u001b[39mbases\u001b[38;5;241m.\u001b[39mBasisDirection(rasp\u001b[38;5;241m.\u001b[39mtokens\u001b[38;5;241m.\u001b[39mlabel, compiler_bos),\n\u001b[1;32m    110\u001b[0m     mlp_exactness\u001b[38;5;241m=\u001b[39mmlp_exactness,\n\u001b[1;32m    111\u001b[0m )\n\u001b[1;32m    113\u001b[0m craft_model \u001b[38;5;241m=\u001b[39m craft_graph_to_model\u001b[38;5;241m.\u001b[39mcraft_graph_to_model(graph, sources)\n",
      "File \u001b[0;32m~/projects/meta-models/tracr/tracr/compiler/basis_inference.py:124\u001b[0m, in \u001b[0;36minfer_bases\u001b[0;34m(graph, sink, vocab, max_seq_len)\u001b[0m\n\u001b[1;32m    120\u001b[0m \u001b[38;5;28;01mif\u001b[39;00m \u001b[38;5;129;01mnot\u001b[39;00m \u001b[38;5;28misinstance\u001b[39m(expr, rasp\u001b[38;5;241m.\u001b[39mSOp):\n\u001b[1;32m    121\u001b[0m   \u001b[38;5;66;03m# Only S-Ops have output vector spaces.\u001b[39;00m\n\u001b[1;32m    122\u001b[0m   \u001b[38;5;28;01mcontinue\u001b[39;00m\n\u001b[0;32m--> 124\u001b[0m value_set \u001b[38;5;241m=\u001b[39m \u001b[43mcompute_value_set\u001b[49m\u001b[43m(\u001b[49m\u001b[43mexpr\u001b[49m\u001b[43m)\u001b[49m\n\u001b[1;32m    125\u001b[0m graph\u001b[38;5;241m.\u001b[39mnodes[node_id][nodes\u001b[38;5;241m.\u001b[39mVALUE_SET] \u001b[38;5;241m=\u001b[39m value_set\n\u001b[1;32m    127\u001b[0m \u001b[38;5;28;01mif\u001b[39;00m rasp\u001b[38;5;241m.\u001b[39mis_categorical(expr):\n",
      "File \u001b[0;32m~/projects/meta-models/tracr/tracr/compiler/basis_inference.py:66\u001b[0m, in \u001b[0;36minfer_bases.<locals>.compute_value_set\u001b[0;34m(sop)\u001b[0m\n\u001b[1;32m     64\u001b[0m   \u001b[38;5;28;01mif\u001b[39;00m res \u001b[38;5;129;01mis\u001b[39;00m \u001b[38;5;129;01mnot\u001b[39;00m \u001b[38;5;28;01mNone\u001b[39;00m:\n\u001b[1;32m     65\u001b[0m     out\u001b[38;5;241m.\u001b[39madd(res)\n\u001b[0;32m---> 66\u001b[0m \u001b[38;5;28;01mif\u001b[39;00m rasp\u001b[38;5;241m.\u001b[39mis_numerical(sop) \u001b[38;5;129;01mand\u001b[39;00m \u001b[38;5;28;43many\u001b[39;49m\u001b[43m(\u001b[49m\u001b[43mx\u001b[49m\u001b[43m \u001b[49m\u001b[38;5;241;43m<\u001b[39;49m\u001b[43m \u001b[49m\u001b[38;5;241;43m0\u001b[39;49m\u001b[43m \u001b[49m\u001b[38;5;28;43;01mfor\u001b[39;49;00m\u001b[43m \u001b[49m\u001b[43mx\u001b[49m\u001b[43m \u001b[49m\u001b[38;5;129;43;01min\u001b[39;49;00m\u001b[43m \u001b[49m\u001b[43mout\u001b[49m\u001b[43m)\u001b[49m:\n\u001b[1;32m     67\u001b[0m   \u001b[38;5;28;01mraise\u001b[39;00m InvalidValueSetError(\n\u001b[1;32m     68\u001b[0m       \u001b[38;5;124mf\u001b[39m\u001b[38;5;124m\"\u001b[39m\u001b[38;5;124mNumerical map \u001b[39m\u001b[38;5;132;01m{\u001b[39;00msop\u001b[38;5;241m.\u001b[39mlabel\u001b[38;5;132;01m}\u001b[39;00m\u001b[38;5;124m produced negative values: \u001b[39m\u001b[38;5;132;01m{\u001b[39;00m\u001b[38;5;28mset\u001b[39m([x\u001b[38;5;250m \u001b[39m\u001b[38;5;28;01mfor\u001b[39;00m\u001b[38;5;250m \u001b[39mx\u001b[38;5;250m \u001b[39m\u001b[38;5;129;01min\u001b[39;00m\u001b[38;5;250m \u001b[39mout\u001b[38;5;250m \u001b[39m\u001b[38;5;28;01mif\u001b[39;00m\u001b[38;5;250m \u001b[39mx\u001b[38;5;250m \u001b[39m\u001b[38;5;241m<\u001b[39m\u001b[38;5;250m \u001b[39m\u001b[38;5;241m0\u001b[39m])\u001b[38;5;132;01m}\u001b[39;00m\u001b[38;5;124m\"\u001b[39m)\n\u001b[1;32m     69\u001b[0m \u001b[38;5;28;01mreturn\u001b[39;00m out\n",
      "File \u001b[0;32m~/projects/meta-models/tracr/tracr/compiler/basis_inference.py:66\u001b[0m, in \u001b[0;36m<genexpr>\u001b[0;34m(.0)\u001b[0m\n\u001b[1;32m     64\u001b[0m   \u001b[38;5;28;01mif\u001b[39;00m res \u001b[38;5;129;01mis\u001b[39;00m \u001b[38;5;129;01mnot\u001b[39;00m \u001b[38;5;28;01mNone\u001b[39;00m:\n\u001b[1;32m     65\u001b[0m     out\u001b[38;5;241m.\u001b[39madd(res)\n\u001b[0;32m---> 66\u001b[0m \u001b[38;5;28;01mif\u001b[39;00m rasp\u001b[38;5;241m.\u001b[39mis_numerical(sop) \u001b[38;5;129;01mand\u001b[39;00m \u001b[38;5;28many\u001b[39m(\u001b[43mx\u001b[49m\u001b[43m \u001b[49m\u001b[38;5;241;43m<\u001b[39;49m\u001b[43m \u001b[49m\u001b[38;5;241;43m0\u001b[39;49m \u001b[38;5;28;01mfor\u001b[39;00m x \u001b[38;5;129;01min\u001b[39;00m out):\n\u001b[1;32m     67\u001b[0m   \u001b[38;5;28;01mraise\u001b[39;00m InvalidValueSetError(\n\u001b[1;32m     68\u001b[0m       \u001b[38;5;124mf\u001b[39m\u001b[38;5;124m\"\u001b[39m\u001b[38;5;124mNumerical map \u001b[39m\u001b[38;5;132;01m{\u001b[39;00msop\u001b[38;5;241m.\u001b[39mlabel\u001b[38;5;132;01m}\u001b[39;00m\u001b[38;5;124m produced negative values: \u001b[39m\u001b[38;5;132;01m{\u001b[39;00m\u001b[38;5;28mset\u001b[39m([x\u001b[38;5;250m \u001b[39m\u001b[38;5;28;01mfor\u001b[39;00m\u001b[38;5;250m \u001b[39mx\u001b[38;5;250m \u001b[39m\u001b[38;5;129;01min\u001b[39;00m\u001b[38;5;250m \u001b[39mout\u001b[38;5;250m \u001b[39m\u001b[38;5;28;01mif\u001b[39;00m\u001b[38;5;250m \u001b[39mx\u001b[38;5;250m \u001b[39m\u001b[38;5;241m<\u001b[39m\u001b[38;5;250m \u001b[39m\u001b[38;5;241m0\u001b[39m])\u001b[38;5;132;01m}\u001b[39;00m\u001b[38;5;124m\"\u001b[39m)\n\u001b[1;32m     69\u001b[0m \u001b[38;5;28;01mreturn\u001b[39;00m out\n",
      "\u001b[0;31mTypeError\u001b[0m: '<' not supported between instances of 'complex' and 'int'"
     ]
    }
   ],
   "source": [
    "model = compiling.compile_rasp_to_model(program, vocab={0,1,2,3,4}, max_seq_len=5)"
   ]
  },
  {
   "cell_type": "code",
   "execution_count": 2,
   "metadata": {},
   "outputs": [],
   "source": [
    "from time import time\n",
    "import os\n",
    "import pprint\n",
    "import json\n",
    "import pickle\n",
    "\n",
    "import jax\n",
    "import jax.numpy as jnp\n",
    "import flax.linen as nn\n",
    "import optax\n",
    "from jax.typing import ArrayLike\n",
    "from typing import Optional\n",
    "from dataclasses import asdict\n",
    "import numpy as np\n",
    "import wandb\n",
    "import argparse\n",
    "from etils import epath\n",
    "from tqdm import tqdm\n",
    "import orbax.checkpoint\n",
    "from etils import epath\n",
    "\n",
    "from nn_utils import schedules\n",
    "from meta_transformer import preprocessing, module_path, on_cluster, output_dir, interactive\n",
    "from meta_transformer.meta_model import DecompilerModel, mup_adamw\n",
    "from meta_transformer.train import Updater, Logger\n",
    "from meta_transformer.logger_config import setup_logger\n",
    "from meta_transformer.data import data_iterator\n",
    "\n",
    "from rasp_tokenizer import paths\n",
    "from rasp_tokenizer import vocab\n",
    "from rasp_tokenizer.utils import RaspFlatDatapoint\n",
    "\n",
    "\n",
    "\n",
    "logger = setup_logger(__name__)\n",
    "START_TIME = time()\n",
    "VAL_DATA_RATIO = 0.1\n",
    "\n",
    "\n",
    "def process_data(x: RaspFlatDatapoint, d_model: int):\n",
    "    \"\"\"Process a single datapoint for model input.\"\"\"\n",
    "    program_toks = jax.nn.one_hot(x.program, num_classes=vocab.size)\n",
    "    weights = preprocessing.pad_and_chunk(x.weights, d_model)\n",
    "    return program_toks, weights\n",
    "\n",
    "\n",
    "def create_loss_fn(model_forward: callable, d_model: int):\n",
    "    def loss_fn(\n",
    "            params: dict,\n",
    "            rng: ArrayLike,\n",
    "            data: RaspFlatDatapoint,\n",
    "            is_training: bool = True\n",
    "        ):\n",
    "        program_toks, weights = process_data(data, d_model)\n",
    "        logits, activation_stats = model_forward(\n",
    "            {\"params\": params},\n",
    "            weights,\n",
    "            program_toks,\n",
    "            is_training=is_training,\n",
    "            rngs={\"dropout\": rng},\n",
    "        )\n",
    "        logits = logits[:, -len(program_toks):, :]\n",
    "        loss = optax.softmax_cross_entropy(logits, program_toks)\n",
    "        metrics = {}\n",
    "        aux = dict(outputs=logits, metrics=metrics)\n",
    "        return loss, aux\n",
    "    return loss_fn\n",
    "\n",
    "\n",
    "def load_data():\n",
    "    with open(paths.data_dir / \"100programs.pkl\", \"rb\") as f:\n",
    "        train_data = pickle.load(f)\n",
    "    return train_data"
   ]
  },
  {
   "cell_type": "code",
   "execution_count": 3,
   "metadata": {},
   "outputs": [],
   "source": [
    "@flax.struct.dataclass\n",
    "class Args:\n",
    "    seed: int = 0\n",
    "    batch_size: int = 64\n",
    "    learning_rate: float = 1e-4\n",
    "    weight_decay: float = 0.0\n",
    "    d_model: int = 512\n",
    "    num_layers: int = 6\n",
    "    dropout_rate: float = 0.1\n",
    "    in_factor: float = 1\n",
    "    out_factor: float = 1\n",
    "    attn_factor: float = 1\n",
    "    init_scale: float = 1.\n",
    "\n",
    "args = Args()"
   ]
  },
  {
   "cell_type": "code",
   "execution_count": 42,
   "metadata": {},
   "outputs": [],
   "source": [
    "rng = jax.random.PRNGKey(0)\n",
    "\n",
    "train_data = load_data()\n",
    "train_data = [x for x in train_data if len(x.program) > 0]\n",
    "train_data = [x for x in train_data if len(x.weights) < 5_000]\n",
    "\n",
    "# Meta-model initialization\n",
    "model = DecompilerModel(\n",
    "    vocab_size=vocab.size,\n",
    "    d_model=args.d_model,\n",
    "    num_heads=max(1, int(args.d_model / 64)),\n",
    "    num_layers=args.num_layers if args.num_layers is not None else int(args.d_model / 42),\n",
    "    dropout_rate=args.dropout_rate,\n",
    "    use_embedding=False,\n",
    "    in_factor=args.in_factor,\n",
    "    out_factor=args.out_factor,\n",
    "    init_scale=args.init_scale,\n",
    "    attn_factor=args.attn_factor,\n",
    ")"
   ]
  },
  {
   "cell_type": "code",
   "execution_count": 44,
   "metadata": {},
   "outputs": [
    {
     "data": {
      "text/plain": [
       "RaspFlatDatapoint(program=[50, 3, 125, 132, 134, 8, 6, 4, 50, 132, 134], weights=array([0., 0., 0., ..., 0., 0., 0.], dtype=float32))"
      ]
     },
     "execution_count": 44,
     "metadata": {},
     "output_type": "execute_result"
    }
   ],
   "source": [
    "x = train_data[0]\n",
    "x"
   ]
  },
  {
   "cell_type": "code",
   "execution_count": 45,
   "metadata": {},
   "outputs": [],
   "source": [
    "prog_lens = []\n",
    "weight_lens = []\n",
    "for x in train_data:\n",
    "    prog_lens.append(len(x.program))\n",
    "    weight_lens.append(len(x.weights))\n",
    "    "
   ]
  },
  {
   "cell_type": "code",
   "execution_count": 46,
   "metadata": {},
   "outputs": [
    {
     "data": {
      "image/png": "[encoded data removed]",
      "text/plain": [
       "<Figure size 640x480 with 1 Axes>"
      ]
     },
     "metadata": {},
     "output_type": "display_data"
    }
   ],
   "source": [
    "plt.hist(prog_lens, bins=30);"
   ]
  },
  {
   "cell_type": "code",
   "execution_count": 48,
   "metadata": {},
   "outputs": [
    {
     "data": {
      "image/png": "[encoded data removed]",
      "text/plain": [
       "<Figure size 640x480 with 1 Axes>"
      ]
     },
     "metadata": {},
     "output_type": "display_data"
    }
   ],
   "source": [
    "plt.hist(weight_lens, bins=50);"
   ]
  },
  {
   "cell_type": "code",
   "execution_count": 6,
   "metadata": {},
   "outputs": [],
   "source": [
    "program_toks, weights = process_data(x, args.d_model)"
   ]
  },
  {
   "cell_type": "code",
   "execution_count": 7,
   "metadata": {},
   "outputs": [
    {
     "ename": "ValueError",
     "evalue": "not enough values to unpack (expected 3, got 2)",
     "output_type": "error",
     "traceback": [
      "\u001b[0;31m---------------------------------------------------------------------------\u001b[0m",
      "\u001b[0;31mValueError\u001b[0m                                Traceback (most recent call last)",
      "Cell \u001b[0;32mIn[7], line 2\u001b[0m\n\u001b[1;32m      1\u001b[0m rng, subrng \u001b[38;5;241m=\u001b[39m jax\u001b[38;5;241m.\u001b[39mrandom\u001b[38;5;241m.\u001b[39msplit(rng)\n\u001b[0;32m----> 2\u001b[0m params \u001b[38;5;241m=\u001b[39m \u001b[43mmodel\u001b[49m\u001b[38;5;241;43m.\u001b[39;49m\u001b[43minit\u001b[49m\u001b[43m(\u001b[49m\u001b[43msubrng\u001b[49m\u001b[43m,\u001b[49m\u001b[43m \u001b[49m\u001b[43mweights\u001b[49m\u001b[43m,\u001b[49m\u001b[43m \u001b[49m\u001b[43mprogram_toks\u001b[49m\u001b[43m)\u001b[49m\n",
      "    \u001b[0;31m[... skipping hidden 9 frame]\u001b[0m\n",
      "File \u001b[0;32m~/projects/meta-models/meta-transformer/meta_transformer/meta_model.py:114\u001b[0m, in \u001b[0;36mDecompilerModel.__call__\u001b[0;34m(self, weights, program, is_training)\u001b[0m\n\u001b[1;32m    107\u001b[0m prog_emb \u001b[38;5;241m=\u001b[39m nn\u001b[38;5;241m.\u001b[39mDense(\n\u001b[1;32m    108\u001b[0m     \u001b[38;5;28mself\u001b[39m\u001b[38;5;241m.\u001b[39md_model,\n\u001b[1;32m    109\u001b[0m     kernel_init\u001b[38;5;241m=\u001b[39minput_scaling(\u001b[38;5;28mself\u001b[39m\u001b[38;5;241m.\u001b[39minit_scale),\n\u001b[1;32m    110\u001b[0m     name\u001b[38;5;241m=\u001b[39m\u001b[38;5;124m\"\u001b[39m\u001b[38;5;124minput/prog_embed\u001b[39m\u001b[38;5;124m\"\u001b[39m\n\u001b[1;32m    111\u001b[0m )(program)\n\u001b[1;32m    112\u001b[0m x \u001b[38;5;241m=\u001b[39m jnp\u001b[38;5;241m.\u001b[39mconcatenate([weights, prog_emb], axis\u001b[38;5;241m=\u001b[39m\u001b[38;5;241m0\u001b[39m)\n\u001b[0;32m--> 114\u001b[0m out, activation_stats \u001b[38;5;241m=\u001b[39m \u001b[38;5;28;43msuper\u001b[39;49m\u001b[43m(\u001b[49m\u001b[43m)\u001b[49m\u001b[38;5;241;43m.\u001b[39;49m\u001b[38;5;21;43m__call__\u001b[39;49m\u001b[43m(\u001b[49m\n\u001b[1;32m    115\u001b[0m \u001b[43m        \u001b[49m\u001b[43mx\u001b[49m\u001b[43m,\u001b[49m\u001b[43m \u001b[49m\u001b[43mis_training\u001b[49m\u001b[38;5;241;43m=\u001b[39;49m\u001b[43mis_training\u001b[49m\u001b[43m)\u001b[49m\n\u001b[1;32m    117\u001b[0m out \u001b[38;5;241m=\u001b[39m nn\u001b[38;5;241m.\u001b[39mDense(\n\u001b[1;32m    118\u001b[0m     \u001b[38;5;28mself\u001b[39m\u001b[38;5;241m.\u001b[39mvocab_size,\n\u001b[1;32m    119\u001b[0m     kernel_init\u001b[38;5;241m=\u001b[39mmup_output_scaling,\n\u001b[1;32m    120\u001b[0m     name\u001b[38;5;241m=\u001b[39m\u001b[38;5;124m\"\u001b[39m\u001b[38;5;124moutput/prog_unembed\u001b[39m\u001b[38;5;124m\"\u001b[39m\n\u001b[1;32m    121\u001b[0m )(out)\n\u001b[1;32m    122\u001b[0m \u001b[38;5;28;01mreturn\u001b[39;00m out, activation_stats\n",
      "    \u001b[0;31m[... skipping hidden 2 frame]\u001b[0m\n",
      "File \u001b[0;32m~/projects/meta-models/meta-transformer/meta_transformer/meta_model.py:48\u001b[0m, in \u001b[0;36mMetaModel.__call__\u001b[0;34m(self, inputs, is_training)\u001b[0m\n\u001b[1;32m     40\u001b[0m \u001b[38;5;129m@nn\u001b[39m\u001b[38;5;241m.\u001b[39mcompact\n\u001b[1;32m     41\u001b[0m \u001b[38;5;28;01mdef\u001b[39;00m \u001b[38;5;21m__call__\u001b[39m(\n\u001b[1;32m     42\u001b[0m         \u001b[38;5;28mself\u001b[39m,\n\u001b[0;32m   (...)\u001b[0m\n\u001b[1;32m     45\u001b[0m         is_training: \u001b[38;5;28mbool\u001b[39m \u001b[38;5;241m=\u001b[39m \u001b[38;5;28;01mTrue\u001b[39;00m,\n\u001b[1;32m     46\u001b[0m     ) \u001b[38;5;241m-\u001b[39m\u001b[38;5;241m>\u001b[39m jax\u001b[38;5;241m.\u001b[39mArray:\n\u001b[1;32m     47\u001b[0m \u001b[38;5;250m    \u001b[39m\u001b[38;5;124;03m\"\"\"Forward pass. Returns a sequence of output embeddings.\"\"\"\u001b[39;00m\n\u001b[0;32m---> 48\u001b[0m     _, seq_len, input_size \u001b[38;5;241m=\u001b[39m inputs\u001b[38;5;241m.\u001b[39mshape\n\u001b[1;32m     50\u001b[0m     \u001b[38;5;28;01mif\u001b[39;00m \u001b[38;5;28mself\u001b[39m\u001b[38;5;241m.\u001b[39muse_embedding:\n\u001b[1;32m     51\u001b[0m         embedding \u001b[38;5;241m=\u001b[39m nn\u001b[38;5;241m.\u001b[39mDense(\u001b[38;5;28mself\u001b[39m\u001b[38;5;241m.\u001b[39md_model,\n\u001b[1;32m     52\u001b[0m                              kernel_init\u001b[38;5;241m=\u001b[39minput_scaling(\u001b[38;5;28mself\u001b[39m\u001b[38;5;241m.\u001b[39minit_scale),\n\u001b[1;32m     53\u001b[0m                              name\u001b[38;5;241m=\u001b[39m\u001b[38;5;124m\"\u001b[39m\u001b[38;5;124minput/embedding\u001b[39m\u001b[38;5;124m\"\u001b[39m)\n",
      "\u001b[0;31mValueError\u001b[0m: not enough values to unpack (expected 3, got 2)"
     ]
    }
   ],
   "source": [
    "rng, subrng = jax.random.split(rng)\n",
    "params = model.init(subrng, weights, program_toks)"
   ]
  },
  {
   "cell_type": "code",
   "execution_count": null,
   "metadata": {},
   "outputs": [],
   "source": [
    "\n",
    "logits, activation_stats = model_forward(\n",
    "    {\"params\": params},\n",
    "    weights,\n",
    "    program_toks,\n",
    "    is_training=is_training,\n",
    "    rngs={\"dropout\": rng},\n",
    ")\n",
    "logits = logits[:, -len(program_toks):, :]\n",
    "loss = optax.softmax_cross_entropy(logits, program_toks)\n",
    "metrics = {}\n",
    "aux = dict(outputs=logits, metrics=metrics)\n",
    "return loss, aux"
   ]
  },
  {
   "cell_type": "code",
   "execution_count": null,
   "metadata": {},
   "outputs": [],
   "source": [
    "model.apply(\n",
    "\n",
    ")"
   ]
  },
  {
   "cell_type": "code",
   "execution_count": null,
   "metadata": {},
   "outputs": [],
   "source": [
    "loss_fn = create_loss_fn(model.apply, args.d_model)"
   ]
  },
  {
   "cell_type": "code",
   "execution_count": null,
   "metadata": {},
   "outputs": [
    {
     "data": {
      "text/plain": [
       "<function __main__.create_loss_fn.<locals>.loss_fn(params: dict, rng: Union[jax.Array, numpy.ndarray, numpy.bool_, numpy.number, bool, int, float, complex], data: rasp_tokenizer.utils.RaspFlatDatapoint, is_training: bool = True)>"
      ]
     },
     "execution_count": 12,
     "metadata": {},
     "output_type": "execute_result"
    }
   ],
   "source": [
    "loss_fn"
   ]
  }
 ],
 "metadata": {
  "kernelspec": {
   "display_name": "meta-models",
   "language": "python",
   "name": "python3"
  },
  "language_info": {
   "codemirror_mode": {
    "name": "ipython",
    "version": 3
   },
   "file_extension": ".py",
   "mimetype": "text/x-python",
   "name": "python",
   "nbconvert_exporter": "python",
   "pygments_lexer": "ipython3",
   "version": "3.10.12"
  }
 },
 "nbformat": 4,
 "nbformat_minor": 2
}
