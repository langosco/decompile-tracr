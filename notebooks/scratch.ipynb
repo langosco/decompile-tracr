{
 "cells": [
  {
   "cell_type": "code",
   "execution_count": 1,
   "metadata": {},
   "outputs": [],
   "source": [
    "import os\n",
    "os.environ[\"XLA_PYTHON_CLIENT_PREALLOCATE\"] = \"false\"\n",
    "import sys\n",
    "from collections import defaultdict \n",
    "import jax\n",
    "import flax\n",
    "import chex\n",
    "from jaxtyping import ArrayLike\n",
    "from typing import Union, TypeVar\n",
    "import numpy as np\n",
    "import matplotlib.pyplot as plt\n",
    "import traceback\n",
    "import jax.numpy as jnp\n",
    "\n",
    "from tracr.compiler.validating import validate\n",
    "from tracr.rasp.rasp import Map, SequenceMap, LinearSequenceMap, Select, Aggregate, Comparison, SelectorWidth, indices, tokens \n",
    "from tracr.rasp import rasp\n",
    "from tracr.compiler import compiling\n",
    "from tracr.compiler.assemble import AssembledTransformerModel\n",
    "from tracr.compiler.craft_model_to_transformer import NoTokensError\n",
    "from tracr.compiler.basis_inference import InvalidValueSetError\n",
    "from tracr.compiler import rasp_to_graph\n",
    "\n",
    "\n",
    "from decompile_tracr.dataset import lib\n",
    "from decompile_tracr.dataset import data_utils\n",
    "from decompile_tracr.dataset import config\n",
    "from decompile_tracr.tokenizing import tokenizer\n",
    "from decompile_tracr.tokenizing import vocab\n",
    "from decompile_tracr.sampling import sampling\n",
    "from decompile_tracr.sampling import rasp_utils\n",
    "\n",
    "\n",
    "rng = np.random.default_rng(0)"
   ]
  },
  {
   "cell_type": "code",
   "execution_count": 10,
   "metadata": {},
   "outputs": [
    {
     "data": {
      "text/plain": [
       "('lambda x: x * 2',\n",
       " 'lambda x: x - 1',\n",
       " 'lambda x, y: x * y',\n",
       " '-3',\n",
       " 'sop_16',\n",
       " 'lambda x: int(x)',\n",
       " 'SequenceMap',\n",
       " 'sop_21',\n",
       " 'categorical',\n",
       " 'lambda x: x != 3',\n",
       " 'lambda x: x == 0',\n",
       " 'PAD',\n",
       " 'sop_24',\n",
       " 'sop_13',\n",
       " 'indices',\n",
       " 'sop_3',\n",
       " 'sop_11',\n",
       " 'sop_18',\n",
       " 'lambda x: not x',\n",
       " 'sop_17',\n",
       " '-1',\n",
       " 'sop_6',\n",
       " 'lambda x: x + 1',\n",
       " 'lambda x, y: x + y % 10',\n",
       " 'sop_0',\n",
       " '3',\n",
       " 'sop_9',\n",
       " 'lambda x: x < 2',\n",
       " 'GEQ',\n",
       " 'NEQ',\n",
       " '-2',\n",
       " 'sop_7',\n",
       " 'LinearSequenceMap',\n",
       " 'tokens',\n",
       " 'sop_22',\n",
       " 'EQ',\n",
       " 'LT',\n",
       " 'sop_20',\n",
       " 'lambda x: x + 0.5',\n",
       " 'Map',\n",
       " 'sop_5',\n",
       " 'sop_2',\n",
       " 'lambda x: x',\n",
       " 'lambda x: x > 3.5',\n",
       " '2',\n",
       " 'lambda x: x > 2',\n",
       " '1',\n",
       " 'sop_19',\n",
       " 'SelectorWidth',\n",
       " 'EOS',\n",
       " 'sop_12',\n",
       " 'lambda x: x == 3',\n",
       " 'lambda x: x > 3',\n",
       " 'lambda x: x < 3',\n",
       " 'lambda x: bool(x)',\n",
       " 'lambda x, y: x and y',\n",
       " 'lambda x: x == 2',\n",
       " 'numerical',\n",
       " 'sop_15',\n",
       " 'LEQ',\n",
       " 'sop_4',\n",
       " 'sop_8',\n",
       " 'sop_23',\n",
       " 'lambda x: x < 3.5',\n",
       " 'SEP',\n",
       " 'BOS',\n",
       " 'lambda x: x != 2',\n",
       " 'SelectAggregate',\n",
       " 'lambda x, y: x or y',\n",
       " 'TRUE',\n",
       " 'GT',\n",
       " 'sop_1',\n",
       " 'sop_10',\n",
       " 'sop_14',\n",
       " 'lambda x: x > 0.5')"
      ]
     },
     "execution_count": 10,
     "metadata": {},
     "output_type": "execute_result"
    }
   ],
   "source": [
    "vocab.vocab"
   ]
  },
  {
   "cell_type": "code",
   "execution_count": 3,
   "metadata": {},
   "outputs": [
    {
     "data": {
      "text/plain": [
       "49"
      ]
     },
     "execution_count": 3,
     "metadata": {},
     "output_type": "execute_result"
    }
   ],
   "source": [
    "vocab.eos_id"
   ]
  },
  {
   "cell_type": "code",
   "execution_count": 5,
   "metadata": {},
   "outputs": [
    {
     "data": {
      "text/plain": [
       "65"
      ]
     },
     "execution_count": 5,
     "metadata": {},
     "output_type": "execute_result"
    }
   ],
   "source": [
    "vocab.bos_id"
   ]
  },
  {
   "cell_type": "code",
   "execution_count": 6,
   "metadata": {},
   "outputs": [
    {
     "data": {
      "text/plain": [
       "75"
      ]
     },
     "execution_count": 6,
     "metadata": {},
     "output_type": "execute_result"
    }
   ],
   "source": [
    "vocab.size"
   ]
  },
  {
   "cell_type": "code",
   "execution_count": 7,
   "metadata": {},
   "outputs": [
    {
     "data": {
      "text/plain": [
       "75"
      ]
     },
     "execution_count": 7,
     "metadata": {},
     "output_type": "execute_result"
    }
   ],
   "source": [
    "len(vocab.vocab)"
   ]
  },
  {
   "cell_type": "code",
   "execution_count": 3,
   "metadata": {},
   "outputs": [],
   "source": [
    "#m1 = compiling.compile_rasp_to_model(\n",
    "#    program=rasp.Map(lambda x: x - 1, rasp.Map(lambda x: x + 1, rasp.tokens)),\n",
    "#    vocab=set(range(5)),\n",
    "#    max_seq_len=5,\n",
    "#)\n",
    "#\n",
    "#m2 = compiling.compile_rasp_to_model(\n",
    "#    program=rasp.Map(lambda x: x - 1, rasp.Map(lambda x: x + 1 % 5, rasp.tokens)),\n",
    "#    vocab=set(range(5)),\n",
    "#    max_seq_len=5,\n",
    "#)"
   ]
  },
  {
   "cell_type": "code",
   "execution_count": 19,
   "metadata": {},
   "outputs": [],
   "source": [
    "m1 = compiling.compile_rasp_to_model(\n",
    "    program=rasp.numerical(rasp.Map(\n",
    "        lambda x: x, \n",
    "        rasp.SequenceMap(lambda x, y: x + y, rasp.tokens, rasp.tokens),\n",
    "    )),\n",
    "    vocab=set(range(5)),\n",
    "    max_seq_len=5,\n",
    ")\n",
    "\n",
    "\n",
    "m2 = compiling.compile_rasp_to_model(\n",
    "    program=rasp.numerical(rasp.Map(\n",
    "        lambda x: x, \n",
    "        rasp.SequenceMap(lambda x, y: x + y, rasp.indices, rasp.tokens),\n",
    "    )),\n",
    "    vocab=set(range(5)),\n",
    "    max_seq_len=5,\n",
    ")\n",
    "\n",
    "p1, p2 = m1.params, m2.params"
   ]
  },
  {
   "cell_type": "code",
   "execution_count": 20,
   "metadata": {},
   "outputs": [],
   "source": [
    "chex.assert_trees_all_close(p1, p2)  # True"
   ]
  },
  {
   "cell_type": "code",
   "execution_count": null,
   "metadata": {},
   "outputs": [],
   "source": [
    "m1 = compiling.compile_rasp_to_model(\n",
    "    program=rasp.numerical(rasp.LinearSequenceMap(\n",
    "        rasp.numerical(rasp.tokens + 0),\n",
    "        rasp.numerical(rasp.indices + 0),\n",
    "        -2, -1,\n",
    "    )),\n",
    "    vocab=set(range(5)),\n",
    "    max_seq_len=5,\n",
    ")\n",
    "\n",
    "\n",
    "m2 = compiling.compile_rasp_to_model(\n",
    "    program=rasp.numerical(rasp.LinearSequenceMap(\n",
    "        rasp.numerical(rasp.indices + 0),\n",
    "        rasp.numerical(rasp.tokens + 0),\n",
    "        -2, -1,\n",
    "    )),\n",
    "    vocab=set(range(5)),\n",
    "    max_seq_len=5,\n",
    ")\n",
    "\n",
    "\n",
    "p1, p2 = m1.params, m2.params"
   ]
  },
  {
   "cell_type": "code",
   "execution_count": 7,
   "metadata": {},
   "outputs": [],
   "source": [
    "chex.assert_trees_all_close(p1, p2)  # True"
   ]
  },
  {
   "cell_type": "code",
   "execution_count": null,
   "metadata": {},
   "outputs": [],
   "source": [
    "def plot_params(p):\n",
    "    fig, axs = plt.subplots(4, 1, figsize=(7, 15))\n",
    "\n",
    "    axs[0].imshow(p['pos_embed']['embeddings'])\n",
    "    axs[1].imshow(p['token_embed']['embeddings'])\n",
    "    axs[2].imshow(p['transformer/layer_0/mlp/linear_1']['w'])\n",
    "    axs[3].imshow(p['transformer/layer_0/mlp/linear_2']['w'])\n",
    "    print(p['transformer/layer_0/mlp/linear_1']['b'])\n",
    "    print(p['transformer/layer_0/mlp/linear_2']['b'])"
   ]
  },
  {
   "cell_type": "code",
   "execution_count": null,
   "metadata": {},
   "outputs": [],
   "source": [
    "p1"
   ]
  },
  {
   "cell_type": "code",
   "execution_count": null,
   "metadata": {},
   "outputs": [],
   "source": [
    "m1.apply([\"compiler_bos\", 1,2,3]).decoded"
   ]
  },
  {
   "cell_type": "code",
   "execution_count": null,
   "metadata": {},
   "outputs": [],
   "source": [
    "m2.apply([\"compiler_bos\", 1,2,3]).decoded"
   ]
  },
  {
   "cell_type": "code",
   "execution_count": null,
   "metadata": {},
   "outputs": [],
   "source": [
    "m1.output_encoder.encoding_map"
   ]
  },
  {
   "cell_type": "code",
   "execution_count": null,
   "metadata": {},
   "outputs": [],
   "source": [
    "m2.output_encoder.encoding_map"
   ]
  },
  {
   "cell_type": "code",
   "execution_count": null,
   "metadata": {},
   "outputs": [],
   "source": [
    "m1.__dir__()"
   ]
  }
 ],
 "metadata": {
  "kernelspec": {
   "display_name": "meta-models",
   "language": "python",
   "name": "python3"
  },
  "language_info": {
   "codemirror_mode": {
    "name": "ipython",
    "version": 3
   },
   "file_extension": ".py",
   "mimetype": "text/x-python",
   "name": "python",
   "nbconvert_exporter": "python",
   "pygments_lexer": "ipython3",
   "version": "3.10.12"
  }
 },
 "nbformat": 4,
 "nbformat_minor": 2
}
