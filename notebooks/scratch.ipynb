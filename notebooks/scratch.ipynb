{
 "cells": [
  {
   "cell_type": "code",
   "execution_count": 1,
   "metadata": {},
   "outputs": [],
   "source": [
    "import os\n",
    "os.environ[\"XLA_PYTHON_CLIENT_PREALLOCATE\"] = \"false\"\n",
    "from tracr.rasp import rasp\n",
    "from tracr.compiler import compiling\n",
    "import numpy as np\n",
    "from tracr.compiler.validating import validate\n",
    "from typing import Union, TypeVar\n",
    "from tracr.rasp.rasp import Map, SequenceMap, LinearSequenceMap, Select, Aggregate, Comparison, SelectorWidth, indices, tokens \n",
    "from lauro_inverse_tracr import sampling\n",
    "\n",
    "\n",
    "def make_length():\n",
    "    all_true_selector = rasp.Select(rasp.tokens, rasp.tokens, rasp.Comparison.TRUE)\n",
    "    return rasp.SelectorWidth(all_true_selector)\n",
    "\n",
    "\n",
    "def compile_rasp_to_model(x: rasp.SOp,\n",
    "                 vocab={1, 2, 3}, \n",
    "                 max_seq_len=5, \n",
    "                 compiler_bos=\"BOS\"):\n",
    "    return compiling.compile_rasp_to_model(\n",
    "        x,\n",
    "        vocab=vocab,\n",
    "        max_seq_len=max_seq_len,\n",
    "        compiler_bos=compiler_bos,\n",
    "    )\n",
    " \n",
    "# Apply via:\n",
    "# out = model.apply([compiler_bos] + [v for v in vocab])\n",
    "# return out.decoded\n",
    "\n",
    "\n",
    "TEST_INPUT = [1,2,3,4]"
   ]
  },
  {
   "cell_type": "code",
   "execution_count": 2,
   "metadata": {},
   "outputs": [
    {
     "ename": "KeyError",
     "evalue": "'tokens'",
     "output_type": "error",
     "traceback": [
      "\u001b[0;31m---------------------------------------------------------------------------\u001b[0m",
      "\u001b[0;31mKeyError\u001b[0m                                  Traceback (most recent call last)",
      "Cell \u001b[0;32mIn[2], line 5\u001b[0m\n\u001b[1;32m      2\u001b[0m \u001b[38;5;28;01mfrom\u001b[39;00m \u001b[38;5;21;01mtracr\u001b[39;00m\u001b[38;5;21;01m.\u001b[39;00m\u001b[38;5;21;01mcompiler\u001b[39;00m \u001b[38;5;28;01mimport\u001b[39;00m compiling\n\u001b[1;32m      4\u001b[0m program \u001b[38;5;241m=\u001b[39m rasp\u001b[38;5;241m.\u001b[39mMap(\u001b[38;5;28;01mlambda\u001b[39;00m x: x, rasp\u001b[38;5;241m.\u001b[39mindices)\n\u001b[0;32m----> 5\u001b[0m \u001b[43mcompiling\u001b[49m\u001b[38;5;241;43m.\u001b[39;49m\u001b[43mcompile_rasp_to_model\u001b[49m\u001b[43m(\u001b[49m\u001b[43mprogram\u001b[49m\u001b[43m,\u001b[49m\u001b[43m \u001b[49m\u001b[43mvocab\u001b[49m\u001b[38;5;241;43m=\u001b[39;49m\u001b[43m{\u001b[49m\u001b[38;5;241;43m1\u001b[39;49m\u001b[43m,\u001b[49m\u001b[38;5;241;43m2\u001b[39;49m\u001b[43m,\u001b[49m\u001b[38;5;241;43m3\u001b[39;49m\u001b[43m,\u001b[49m\u001b[38;5;241;43m4\u001b[39;49m\u001b[43m}\u001b[49m\u001b[43m,\u001b[49m\u001b[43m \u001b[49m\u001b[43mmax_seq_len\u001b[49m\u001b[38;5;241;43m=\u001b[39;49m\u001b[38;5;241;43m5\u001b[39;49m\u001b[43m,\u001b[49m\u001b[43m \u001b[49m\u001b[43mcompiler_bos\u001b[49m\u001b[38;5;241;43m=\u001b[39;49m\u001b[38;5;124;43m\"\u001b[39;49m\u001b[38;5;124;43mBOS\u001b[39;49m\u001b[38;5;124;43m\"\u001b[39;49m\u001b[43m)\u001b[49m\n",
      "File \u001b[0;32m~/projects/metamodels/tracr/tracr/compiler/compiling.py:115\u001b[0m, in \u001b[0;36mcompile_rasp_to_model\u001b[0;34m(program, vocab, max_seq_len, causal, compiler_bos, compiler_pad, mlp_exactness)\u001b[0m\n\u001b[1;32m    107\u001b[0m expr_to_craft_graph\u001b[38;5;241m.\u001b[39madd_craft_components_to_rasp_graph(\n\u001b[1;32m    108\u001b[0m     graph,\n\u001b[1;32m    109\u001b[0m     bos_dir\u001b[38;5;241m=\u001b[39mbases\u001b[38;5;241m.\u001b[39mBasisDirection(rasp\u001b[38;5;241m.\u001b[39mtokens\u001b[38;5;241m.\u001b[39mlabel, compiler_bos),\n\u001b[1;32m    110\u001b[0m     mlp_exactness\u001b[38;5;241m=\u001b[39mmlp_exactness,\n\u001b[1;32m    111\u001b[0m )\n\u001b[1;32m    113\u001b[0m craft_model \u001b[38;5;241m=\u001b[39m craft_graph_to_model\u001b[38;5;241m.\u001b[39mcraft_graph_to_model(graph, sources)\n\u001b[0;32m--> 115\u001b[0m \u001b[38;5;28;01mreturn\u001b[39;00m \u001b[43mcraft_model_to_transformer\u001b[49m\u001b[38;5;241;43m.\u001b[39;49m\u001b[43mcraft_model_to_transformer\u001b[49m\u001b[43m(\u001b[49m\n\u001b[1;32m    116\u001b[0m \u001b[43m    \u001b[49m\u001b[43mcraft_model\u001b[49m\u001b[38;5;241;43m=\u001b[39;49m\u001b[43mcraft_model\u001b[49m\u001b[43m,\u001b[49m\n\u001b[1;32m    117\u001b[0m \u001b[43m    \u001b[49m\u001b[43mgraph\u001b[49m\u001b[38;5;241;43m=\u001b[39;49m\u001b[43mgraph\u001b[49m\u001b[43m,\u001b[49m\n\u001b[1;32m    118\u001b[0m \u001b[43m    \u001b[49m\u001b[43msink\u001b[49m\u001b[38;5;241;43m=\u001b[39;49m\u001b[43msink\u001b[49m\u001b[43m,\u001b[49m\n\u001b[1;32m    119\u001b[0m \u001b[43m    \u001b[49m\u001b[43mmax_seq_len\u001b[49m\u001b[38;5;241;43m=\u001b[39;49m\u001b[43mmax_seq_len\u001b[49m\u001b[43m,\u001b[49m\n\u001b[1;32m    120\u001b[0m \u001b[43m    \u001b[49m\u001b[43mcausal\u001b[49m\u001b[38;5;241;43m=\u001b[39;49m\u001b[43mcausal\u001b[49m\u001b[43m,\u001b[49m\n\u001b[1;32m    121\u001b[0m \u001b[43m    \u001b[49m\u001b[43mcompiler_bos\u001b[49m\u001b[38;5;241;43m=\u001b[39;49m\u001b[43mcompiler_bos\u001b[49m\u001b[43m,\u001b[49m\n\u001b[1;32m    122\u001b[0m \u001b[43m    \u001b[49m\u001b[43mcompiler_pad\u001b[49m\u001b[38;5;241;43m=\u001b[39;49m\u001b[43mcompiler_pad\u001b[49m\u001b[43m,\u001b[49m\n\u001b[1;32m    123\u001b[0m \u001b[43m\u001b[49m\u001b[43m)\u001b[49m\n",
      "File \u001b[0;32m~/projects/metamodels/tracr/tracr/compiler/craft_model_to_transformer.py:39\u001b[0m, in \u001b[0;36mcraft_model_to_transformer\u001b[0;34m(craft_model, graph, sink, max_seq_len, compiler_bos, compiler_pad, causal)\u001b[0m\n\u001b[1;32m     35\u001b[0m \u001b[38;5;250m\u001b[39m\u001b[38;5;124;03m\"\"\"Turn a craft model into a transformer model.\"\"\"\u001b[39;00m\n\u001b[1;32m     37\u001b[0m \u001b[38;5;66;03m# Add the compiler BOS token.\u001b[39;00m\n\u001b[1;32m     38\u001b[0m tokens_value_set \u001b[38;5;241m=\u001b[39m (\n\u001b[0;32m---> 39\u001b[0m     \u001b[43mgraph\u001b[49m\u001b[38;5;241;43m.\u001b[39;49m\u001b[43mnodes\u001b[49m\u001b[43m[\u001b[49m\u001b[43mrasp\u001b[49m\u001b[38;5;241;43m.\u001b[39;49m\u001b[43mtokens\u001b[49m\u001b[38;5;241;43m.\u001b[39;49m\u001b[43mlabel\u001b[49m\u001b[43m]\u001b[49m[nodes\u001b[38;5;241m.\u001b[39mVALUE_SET]\u001b[38;5;241m.\u001b[39munion(\n\u001b[1;32m     40\u001b[0m         {compiler_bos, compiler_pad}))\n\u001b[1;32m     41\u001b[0m tokens_space \u001b[38;5;241m=\u001b[39m bases\u001b[38;5;241m.\u001b[39mVectorSpaceWithBasis\u001b[38;5;241m.\u001b[39mfrom_values(rasp\u001b[38;5;241m.\u001b[39mtokens\u001b[38;5;241m.\u001b[39mlabel,\n\u001b[1;32m     42\u001b[0m                                                       tokens_value_set)\n\u001b[1;32m     44\u001b[0m indices_space \u001b[38;5;241m=\u001b[39m bases\u001b[38;5;241m.\u001b[39mVectorSpaceWithBasis\u001b[38;5;241m.\u001b[39mfrom_values(\n\u001b[1;32m     45\u001b[0m     rasp\u001b[38;5;241m.\u001b[39mindices\u001b[38;5;241m.\u001b[39mlabel, \u001b[38;5;28mrange\u001b[39m(max_seq_len))\n",
      "File \u001b[0;32m~/.virtualenvs/metamodels/lib/python3.10/site-packages/networkx/classes/reportviews.py:194\u001b[0m, in \u001b[0;36mNodeView.__getitem__\u001b[0;34m(self, n)\u001b[0m\n\u001b[1;32m    189\u001b[0m \u001b[38;5;28;01mif\u001b[39;00m \u001b[38;5;28misinstance\u001b[39m(n, \u001b[38;5;28mslice\u001b[39m):\n\u001b[1;32m    190\u001b[0m     \u001b[38;5;28;01mraise\u001b[39;00m nx\u001b[38;5;241m.\u001b[39mNetworkXError(\n\u001b[1;32m    191\u001b[0m         \u001b[38;5;124mf\u001b[39m\u001b[38;5;124m\"\u001b[39m\u001b[38;5;132;01m{\u001b[39;00m\u001b[38;5;28mtype\u001b[39m(\u001b[38;5;28mself\u001b[39m)\u001b[38;5;241m.\u001b[39m\u001b[38;5;18m__name__\u001b[39m\u001b[38;5;132;01m}\u001b[39;00m\u001b[38;5;124m does not support slicing, \u001b[39m\u001b[38;5;124m\"\u001b[39m\n\u001b[1;32m    192\u001b[0m         \u001b[38;5;124mf\u001b[39m\u001b[38;5;124m\"\u001b[39m\u001b[38;5;124mtry list(G.nodes)[\u001b[39m\u001b[38;5;132;01m{\u001b[39;00mn\u001b[38;5;241m.\u001b[39mstart\u001b[38;5;132;01m}\u001b[39;00m\u001b[38;5;124m:\u001b[39m\u001b[38;5;132;01m{\u001b[39;00mn\u001b[38;5;241m.\u001b[39mstop\u001b[38;5;132;01m}\u001b[39;00m\u001b[38;5;124m:\u001b[39m\u001b[38;5;132;01m{\u001b[39;00mn\u001b[38;5;241m.\u001b[39mstep\u001b[38;5;132;01m}\u001b[39;00m\u001b[38;5;124m]\u001b[39m\u001b[38;5;124m\"\u001b[39m\n\u001b[1;32m    193\u001b[0m     )\n\u001b[0;32m--> 194\u001b[0m \u001b[38;5;28;01mreturn\u001b[39;00m \u001b[38;5;28;43mself\u001b[39;49m\u001b[38;5;241;43m.\u001b[39;49m\u001b[43m_nodes\u001b[49m\u001b[43m[\u001b[49m\u001b[43mn\u001b[49m\u001b[43m]\u001b[49m\n",
      "\u001b[0;31mKeyError\u001b[0m: 'tokens'"
     ]
    }
   ],
   "source": [
    "from tracr.rasp import rasp\n",
    "from tracr.compiler import compiling\n",
    "\n",
    "program = rasp.Map(lambda x: x, rasp.indices)\n",
    "compiling.compile_rasp_to_model(program, vocab={1,2,3,4}, max_seq_len=5, compiler_bos=\"BOS\")"
   ]
  },
  {
   "cell_type": "code",
   "execution_count": null,
   "metadata": {},
   "outputs": [],
   "source": [
    "select_2 = Select(indices, indices, predicate=Comparison.LT)\n",
    "selector_width_1 = SelectorWidth(select_2)    # type: categorical"
   ]
  },
  {
   "cell_type": "code",
   "execution_count": null,
   "metadata": {},
   "outputs": [
    {
     "ename": "KeyError",
     "evalue": "'tokens'",
     "output_type": "error",
     "traceback": [
      "\u001b[0;31m---------------------------------------------------------------------------\u001b[0m",
      "\u001b[0;31mKeyError\u001b[0m                                  Traceback (most recent call last)",
      "Cell \u001b[0;32mIn[3], line 1\u001b[0m\n\u001b[0;32m----> 1\u001b[0m \u001b[43mcompile_rasp_to_model\u001b[49m\u001b[43m(\u001b[49m\u001b[43mselector_width_1\u001b[49m\u001b[43m)\u001b[49m\n",
      "Cell \u001b[0;32mIn[1], line 21\u001b[0m, in \u001b[0;36mcompile_rasp_to_model\u001b[0;34m(x, vocab, max_seq_len, compiler_bos)\u001b[0m\n\u001b[1;32m     17\u001b[0m \u001b[38;5;28;01mdef\u001b[39;00m \u001b[38;5;21mcompile_rasp_to_model\u001b[39m(x: rasp\u001b[38;5;241m.\u001b[39mSOp,\n\u001b[1;32m     18\u001b[0m                  vocab\u001b[38;5;241m=\u001b[39m{\u001b[38;5;241m1\u001b[39m, \u001b[38;5;241m2\u001b[39m, \u001b[38;5;241m3\u001b[39m}, \n\u001b[1;32m     19\u001b[0m                  max_seq_len\u001b[38;5;241m=\u001b[39m\u001b[38;5;241m5\u001b[39m, \n\u001b[1;32m     20\u001b[0m                  compiler_bos\u001b[38;5;241m=\u001b[39m\u001b[38;5;124m\"\u001b[39m\u001b[38;5;124mBOS\u001b[39m\u001b[38;5;124m\"\u001b[39m):\n\u001b[0;32m---> 21\u001b[0m     \u001b[38;5;28;01mreturn\u001b[39;00m \u001b[43mcompiling\u001b[49m\u001b[38;5;241;43m.\u001b[39;49m\u001b[43mcompile_rasp_to_model\u001b[49m\u001b[43m(\u001b[49m\n\u001b[1;32m     22\u001b[0m \u001b[43m        \u001b[49m\u001b[43mx\u001b[49m\u001b[43m,\u001b[49m\n\u001b[1;32m     23\u001b[0m \u001b[43m        \u001b[49m\u001b[43mvocab\u001b[49m\u001b[38;5;241;43m=\u001b[39;49m\u001b[43mvocab\u001b[49m\u001b[43m,\u001b[49m\n\u001b[1;32m     24\u001b[0m \u001b[43m        \u001b[49m\u001b[43mmax_seq_len\u001b[49m\u001b[38;5;241;43m=\u001b[39;49m\u001b[43mmax_seq_len\u001b[49m\u001b[43m,\u001b[49m\n\u001b[1;32m     25\u001b[0m \u001b[43m        \u001b[49m\u001b[43mcompiler_bos\u001b[49m\u001b[38;5;241;43m=\u001b[39;49m\u001b[43mcompiler_bos\u001b[49m\u001b[43m,\u001b[49m\n\u001b[1;32m     26\u001b[0m \u001b[43m    \u001b[49m\u001b[43m)\u001b[49m\n",
      "File \u001b[0;32m~/projects/metamodels/tracr/tracr/compiler/compiling.py:115\u001b[0m, in \u001b[0;36mcompile_rasp_to_model\u001b[0;34m(program, vocab, max_seq_len, causal, compiler_bos, compiler_pad, mlp_exactness)\u001b[0m\n\u001b[1;32m    107\u001b[0m expr_to_craft_graph\u001b[38;5;241m.\u001b[39madd_craft_components_to_rasp_graph(\n\u001b[1;32m    108\u001b[0m     graph,\n\u001b[1;32m    109\u001b[0m     bos_dir\u001b[38;5;241m=\u001b[39mbases\u001b[38;5;241m.\u001b[39mBasisDirection(rasp\u001b[38;5;241m.\u001b[39mtokens\u001b[38;5;241m.\u001b[39mlabel, compiler_bos),\n\u001b[1;32m    110\u001b[0m     mlp_exactness\u001b[38;5;241m=\u001b[39mmlp_exactness,\n\u001b[1;32m    111\u001b[0m )\n\u001b[1;32m    113\u001b[0m craft_model \u001b[38;5;241m=\u001b[39m craft_graph_to_model\u001b[38;5;241m.\u001b[39mcraft_graph_to_model(graph, sources)\n\u001b[0;32m--> 115\u001b[0m \u001b[38;5;28;01mreturn\u001b[39;00m \u001b[43mcraft_model_to_transformer\u001b[49m\u001b[38;5;241;43m.\u001b[39;49m\u001b[43mcraft_model_to_transformer\u001b[49m\u001b[43m(\u001b[49m\n\u001b[1;32m    116\u001b[0m \u001b[43m    \u001b[49m\u001b[43mcraft_model\u001b[49m\u001b[38;5;241;43m=\u001b[39;49m\u001b[43mcraft_model\u001b[49m\u001b[43m,\u001b[49m\n\u001b[1;32m    117\u001b[0m \u001b[43m    \u001b[49m\u001b[43mgraph\u001b[49m\u001b[38;5;241;43m=\u001b[39;49m\u001b[43mgraph\u001b[49m\u001b[43m,\u001b[49m\n\u001b[1;32m    118\u001b[0m \u001b[43m    \u001b[49m\u001b[43msink\u001b[49m\u001b[38;5;241;43m=\u001b[39;49m\u001b[43msink\u001b[49m\u001b[43m,\u001b[49m\n\u001b[1;32m    119\u001b[0m \u001b[43m    \u001b[49m\u001b[43mmax_seq_len\u001b[49m\u001b[38;5;241;43m=\u001b[39;49m\u001b[43mmax_seq_len\u001b[49m\u001b[43m,\u001b[49m\n\u001b[1;32m    120\u001b[0m \u001b[43m    \u001b[49m\u001b[43mcausal\u001b[49m\u001b[38;5;241;43m=\u001b[39;49m\u001b[43mcausal\u001b[49m\u001b[43m,\u001b[49m\n\u001b[1;32m    121\u001b[0m \u001b[43m    \u001b[49m\u001b[43mcompiler_bos\u001b[49m\u001b[38;5;241;43m=\u001b[39;49m\u001b[43mcompiler_bos\u001b[49m\u001b[43m,\u001b[49m\n\u001b[1;32m    122\u001b[0m \u001b[43m    \u001b[49m\u001b[43mcompiler_pad\u001b[49m\u001b[38;5;241;43m=\u001b[39;49m\u001b[43mcompiler_pad\u001b[49m\u001b[43m,\u001b[49m\n\u001b[1;32m    123\u001b[0m \u001b[43m\u001b[49m\u001b[43m)\u001b[49m\n",
      "File \u001b[0;32m~/projects/metamodels/tracr/tracr/compiler/craft_model_to_transformer.py:39\u001b[0m, in \u001b[0;36mcraft_model_to_transformer\u001b[0;34m(craft_model, graph, sink, max_seq_len, compiler_bos, compiler_pad, causal)\u001b[0m\n\u001b[1;32m     35\u001b[0m \u001b[38;5;250m\u001b[39m\u001b[38;5;124;03m\"\"\"Turn a craft model into a transformer model.\"\"\"\u001b[39;00m\n\u001b[1;32m     37\u001b[0m \u001b[38;5;66;03m# Add the compiler BOS token.\u001b[39;00m\n\u001b[1;32m     38\u001b[0m tokens_value_set \u001b[38;5;241m=\u001b[39m (\n\u001b[0;32m---> 39\u001b[0m     \u001b[43mgraph\u001b[49m\u001b[38;5;241;43m.\u001b[39;49m\u001b[43mnodes\u001b[49m\u001b[43m[\u001b[49m\u001b[43mrasp\u001b[49m\u001b[38;5;241;43m.\u001b[39;49m\u001b[43mtokens\u001b[49m\u001b[38;5;241;43m.\u001b[39;49m\u001b[43mlabel\u001b[49m\u001b[43m]\u001b[49m[nodes\u001b[38;5;241m.\u001b[39mVALUE_SET]\u001b[38;5;241m.\u001b[39munion(\n\u001b[1;32m     40\u001b[0m         {compiler_bos, compiler_pad}))\n\u001b[1;32m     41\u001b[0m tokens_space \u001b[38;5;241m=\u001b[39m bases\u001b[38;5;241m.\u001b[39mVectorSpaceWithBasis\u001b[38;5;241m.\u001b[39mfrom_values(rasp\u001b[38;5;241m.\u001b[39mtokens\u001b[38;5;241m.\u001b[39mlabel,\n\u001b[1;32m     42\u001b[0m                                                       tokens_value_set)\n\u001b[1;32m     44\u001b[0m indices_space \u001b[38;5;241m=\u001b[39m bases\u001b[38;5;241m.\u001b[39mVectorSpaceWithBasis\u001b[38;5;241m.\u001b[39mfrom_values(\n\u001b[1;32m     45\u001b[0m     rasp\u001b[38;5;241m.\u001b[39mindices\u001b[38;5;241m.\u001b[39mlabel, \u001b[38;5;28mrange\u001b[39m(max_seq_len))\n",
      "File \u001b[0;32m~/.virtualenvs/metamodels/lib/python3.10/site-packages/networkx/classes/reportviews.py:194\u001b[0m, in \u001b[0;36mNodeView.__getitem__\u001b[0;34m(self, n)\u001b[0m\n\u001b[1;32m    189\u001b[0m \u001b[38;5;28;01mif\u001b[39;00m \u001b[38;5;28misinstance\u001b[39m(n, \u001b[38;5;28mslice\u001b[39m):\n\u001b[1;32m    190\u001b[0m     \u001b[38;5;28;01mraise\u001b[39;00m nx\u001b[38;5;241m.\u001b[39mNetworkXError(\n\u001b[1;32m    191\u001b[0m         \u001b[38;5;124mf\u001b[39m\u001b[38;5;124m\"\u001b[39m\u001b[38;5;132;01m{\u001b[39;00m\u001b[38;5;28mtype\u001b[39m(\u001b[38;5;28mself\u001b[39m)\u001b[38;5;241m.\u001b[39m\u001b[38;5;18m__name__\u001b[39m\u001b[38;5;132;01m}\u001b[39;00m\u001b[38;5;124m does not support slicing, \u001b[39m\u001b[38;5;124m\"\u001b[39m\n\u001b[1;32m    192\u001b[0m         \u001b[38;5;124mf\u001b[39m\u001b[38;5;124m\"\u001b[39m\u001b[38;5;124mtry list(G.nodes)[\u001b[39m\u001b[38;5;132;01m{\u001b[39;00mn\u001b[38;5;241m.\u001b[39mstart\u001b[38;5;132;01m}\u001b[39;00m\u001b[38;5;124m:\u001b[39m\u001b[38;5;132;01m{\u001b[39;00mn\u001b[38;5;241m.\u001b[39mstop\u001b[38;5;132;01m}\u001b[39;00m\u001b[38;5;124m:\u001b[39m\u001b[38;5;132;01m{\u001b[39;00mn\u001b[38;5;241m.\u001b[39mstep\u001b[38;5;132;01m}\u001b[39;00m\u001b[38;5;124m]\u001b[39m\u001b[38;5;124m\"\u001b[39m\n\u001b[1;32m    193\u001b[0m     )\n\u001b[0;32m--> 194\u001b[0m \u001b[38;5;28;01mreturn\u001b[39;00m \u001b[38;5;28;43mself\u001b[39;49m\u001b[38;5;241;43m.\u001b[39;49m\u001b[43m_nodes\u001b[49m\u001b[43m[\u001b[49m\u001b[43mn\u001b[49m\u001b[43m]\u001b[49m\n",
      "\u001b[0;31mKeyError\u001b[0m: 'tokens'"
     ]
    }
   ],
   "source": [
    "compile_rasp_to_model(selector_width_1)"
   ]
  },
  {
   "cell_type": "code",
   "execution_count": null,
   "metadata": {},
   "outputs": [],
   "source": []
  },
  {
   "cell_type": "markdown",
   "metadata": {},
   "source": [
    "# Writing RASP programs"
   ]
  },
  {
   "cell_type": "code",
   "execution_count": null,
   "metadata": {},
   "outputs": [
    {
     "name": "stderr",
     "output_type": "stream",
     "text": [
      "An NVIDIA GPU may be present on this machine, but a CUDA-enabled jaxlib is not installed. Falling back to cpu.\n"
     ]
    },
    {
     "name": "stdout",
     "output_type": "stream",
     "text": [
      "['c', 'b', 'a']\n",
      "['BOS', 'c', 'b', 'a']\n"
     ]
    }
   ],
   "source": [
    "def make_reverse(sop: rasp.SOp) -> rasp.SOp:  # categorical -> categorical\n",
    "    length = make_length()\n",
    "    reversed_indices = (length - rasp.indices - 1).named(\"reversed_indices\")\n",
    "    sel = rasp.Select(rasp.indices, reversed_indices, rasp.Comparison.EQ)\n",
    "    return rasp.Aggregate(sel, sop)\n",
    "\n",
    "rev = make_reverse(rasp.tokens)\n",
    "compiled = compile_rasp(rev, vocab={\"a\", \"b\", \"c\"})\n",
    "\n",
    "print(rev(\"abc\"))\n",
    "print(compiled.apply([\"BOS\", \"a\", \"b\", \"c\"]).decoded)"
   ]
  },
  {
   "cell_type": "code",
   "execution_count": null,
   "metadata": {},
   "outputs": [],
   "source": [
    "# count fraction of all tokens that are equal to x\n",
    "\n",
    "#is_x = rasp.tokens == \"x\"  # bool\n",
    "def count_x():\n",
    "    all_x = rasp.Map(lambda x: \"x\", rasp.indices)\n",
    "    is_x = rasp.Select(rasp.tokens, all_x, rasp.Comparison.EQ)\n",
    "    return rasp.SelectorWidth(is_x)\n",
    "\n",
    "\n",
    "# alternative\n",
    "def count_x_2():\n",
    "    is_x = rasp.Select(rasp.tokens, rasp.tokens, lambda tok, _: tok == \"x\")\n",
    "    return rasp.SelectorWidth(is_x)\n"
   ]
  },
  {
   "cell_type": "code",
   "execution_count": null,
   "metadata": {},
   "outputs": [
    {
     "data": {
      "text/plain": [
       "[3, 3, 3, 2, 2]"
      ]
     },
     "execution_count": 8,
     "metadata": {},
     "output_type": "execute_result"
    }
   ],
   "source": [
    "# Histogram\n",
    "# for every input element, return number of times it appears in the sequence\n",
    "def histogram(x):\n",
    "    eq = rasp.Select(x, x, rasp.Comparison.EQ)\n",
    "    return rasp.SelectorWidth(eq)\n",
    "\n",
    "\n",
    "\n",
    "# double histogram (from rasp paper)\n",
    "# for every token, return number of elements in the sequence \n",
    "# that occur the same number of times\n",
    "def double_histogram(x):\n",
    "    hist = histogram(x)\n",
    "    return histogram(hist)\n",
    "\n",
    "\n",
    "double_histogram(rasp.tokens)(\"abcdd\")"
   ]
  },
  {
   "cell_type": "code",
   "execution_count": null,
   "metadata": {},
   "outputs": [],
   "source": [
    "# Count the fraction of *previous* tokens that are equal to x\n",
    "def count_prev_x():\n",
    "    previous = rasp.Select(rasp.indices, rasp.indices, rasp.Comparison.LEQ)\n",
    "    return rasp.numerical(\n",
    "        rasp.Aggregate(previous, rasp.numerical(rasp.tokens == \"x\"), default=0))"
   ]
  },
  {
   "cell_type": "markdown",
   "metadata": {},
   "source": [
    "## Running List of Tracr Constraints"
   ]
  },
  {
   "cell_type": "code",
   "execution_count": null,
   "metadata": {},
   "outputs": [
    {
     "name": "stdout",
     "output_type": "stream",
     "text": [
      "[2.0, 2.5, 3.0]\n",
      "[0.0, 0.0, 0.3333333333333333, 0.25, 0.4]\n"
     ]
    }
   ],
   "source": [
    "# attn patterns (ie aggregate) can only average binary variables\n",
    "# eg the following does NOT work:\n",
    "\n",
    "# compute the sum of previous tokens\n",
    "def sum():\n",
    "    tok = rasp.numerical(rasp.tokens+1)\n",
    "    previous = rasp.Select(rasp.indices, rasp.indices, rasp.Comparison.LEQ)\n",
    "    return rasp.numerical(rasp.Aggregate(previous, tok, default=0))\n",
    "\n",
    "print(sum()([1,2,3]))  # runs but wouldn't compile\n",
    "\n",
    "\n",
    "# Compare this which does work bc it only averages 0s and 1s:\n",
    "def frac_prev_x():\n",
    "    previous = rasp.Select(rasp.indices, rasp.indices, rasp.Comparison.LEQ)\n",
    "    return rasp.numerical(rasp.Aggregate(previous, rasp.numerical(rasp.tokens == \"x\"), default=0))\n",
    "\n",
    "print(frac_prev_x()(\"abxcx\"))  # compiles fine"
   ]
  },
  {
   "cell_type": "markdown",
   "metadata": {},
   "source": [
    "# Other Stuff"
   ]
  },
  {
   "cell_type": "code",
   "execution_count": null,
   "metadata": {},
   "outputs": [
    {
     "data": {
      "text/plain": [
       "[1.1, 2.1, 3.1]"
      ]
     },
     "execution_count": 11,
     "metadata": {},
     "output_type": "execute_result"
    }
   ],
   "source": [
    "tok = rasp.tokens\n",
    "floats = rasp.numerical(tok + 0.1)\n",
    "floats([1,2,3])"
   ]
  },
  {
   "cell_type": "code",
   "execution_count": null,
   "metadata": {},
   "outputs": [],
   "source": [
    "notfloats = ~floats"
   ]
  },
  {
   "cell_type": "code",
   "execution_count": null,
   "metadata": {},
   "outputs": [
    {
     "data": {
      "text/plain": [
       "False"
      ]
     },
     "execution_count": 13,
     "metadata": {},
     "output_type": "execute_result"
    }
   ],
   "source": [
    "rasp.is_numerical(notfloats)"
   ]
  },
  {
   "cell_type": "code",
   "execution_count": null,
   "metadata": {},
   "outputs": [
    {
     "data": {
      "text/plain": [
       "[False, False, False]"
      ]
     },
     "execution_count": 14,
     "metadata": {},
     "output_type": "execute_result"
    }
   ],
   "source": [
    "bools = floats == 1.1000000000001\n",
    "bools([1,2,3])"
   ]
  },
  {
   "cell_type": "code",
   "execution_count": null,
   "metadata": {},
   "outputs": [
    {
     "data": {
      "text/plain": [
       "False"
      ]
     },
     "execution_count": 15,
     "metadata": {},
     "output_type": "execute_result"
    }
   ],
   "source": [
    "1.1 == 1.100000000000001"
   ]
  },
  {
   "cell_type": "code",
   "execution_count": null,
   "metadata": {},
   "outputs": [
    {
     "data": {
      "text/plain": [
       "['BOS', False, False, False]"
      ]
     },
     "execution_count": 16,
     "metadata": {},
     "output_type": "execute_result"
    }
   ],
   "source": [
    "compiled = compile_rasp(bools, vocab={0, 1, 2, 3})\n",
    "compiled.apply([\"BOS\", 1,2,3]).decoded"
   ]
  }
 ],
 "metadata": {
  "kernelspec": {
   "display_name": "meta-models",
   "language": "python",
   "name": "python3"
  },
  "language_info": {
   "codemirror_mode": {
    "name": "ipython",
    "version": 3
   },
   "file_extension": ".py",
   "mimetype": "text/x-python",
   "name": "python",
   "nbconvert_exporter": "python",
   "pygments_lexer": "ipython3",
   "version": "3.10.12"
  }
 },
 "nbformat": 4,
 "nbformat_minor": 2
}
