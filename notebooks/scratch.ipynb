{
 "cells": [
  {
   "cell_type": "code",
   "execution_count": 1,
   "metadata": {},
   "outputs": [],
   "source": [
    "import os\n",
    "os.environ[\"XLA_PYTHON_CLIENT_PREALLOCATE\"] = \"false\"\n",
    "from collections import defaultdict \n",
    "import jax\n",
    "import flax\n",
    "import chex\n",
    "from jaxtyping import ArrayLike\n",
    "from typing import Union, TypeVar\n",
    "import numpy as np\n",
    "import matplotlib.pyplot as plt\n",
    "\n",
    "from tracr.compiler.validating import validate\n",
    "from tracr.rasp.rasp import Map, SequenceMap, LinearSequenceMap, Select, Aggregate, Comparison, SelectorWidth, indices, tokens \n",
    "from tracr.rasp import rasp\n",
    "from tracr.compiler import compiling\n",
    "from tracr.compiler.assemble import AssembledTransformerModel\n",
    "from tracr.compiler.craft_model_to_transformer import NoTokensError\n",
    "from tracr.compiler.basis_inference import InvalidValueSetError\n",
    "from tracr.compiler import rasp_to_graph\n",
    "\n",
    "from rasp_tokenizer import tokenizer\n",
    "from rasp_tokenizer import vocab\n",
    "from rasp_tokenizer.compiling import COMPILER_BOS\n",
    "from rasp_generator.utils import sample_test_input, FunctionWithRepr, annotate_type\n",
    "from rasp_generator import sampling, utils, map_primitives\n",
    "from rasp_tokenizer import paths\n",
    "from rasp_tokenizer import vocab, data_utils, lib\n",
    "\n",
    "\n",
    "rng = np.random.default_rng(0)"
   ]
  },
  {
   "cell_type": "code",
   "execution_count": 2,
   "metadata": {},
   "outputs": [],
   "source": [
    "def sort():\n",
    "    smaller = Select(tokens, tokens, rasp.Comparison.LT)\n",
    "    target = SelectorWidth(smaller)\n",
    "    sel_new = Select(target, indices, rasp.Comparison.EQ)\n",
    "    return Aggregate(sel_new, tokens)"
   ]
  },
  {
   "cell_type": "code",
   "execution_count": 7,
   "metadata": {},
   "outputs": [
    {
     "name": "stderr",
     "output_type": "stream",
     "text": [
      "2024-02-02 10:06:44.537691: W external/xla/xla/service/gpu/nvptx_compiler.cc:698] The NVIDIA driver's CUDA version is 12.2 which is older than the ptxas CUDA version (12.3.107). Because the driver is older than the ptxas version, XLA is disabling parallel compilation, which may slow down compilation. You should update your NVIDIA driver or use the NVIDIA-provided CUDA forward compatibility packages.\n"
     ]
    }
   ],
   "source": [
    "m, toks, _ = tokenizer.compile_and_tokenize(sort())"
   ]
  },
  {
   "cell_type": "code",
   "execution_count": 9,
   "metadata": {},
   "outputs": [
    {
     "data": {
      "text/plain": [
       "{'layer_0/attn': ['BOS',\n",
       "  'sop_1',\n",
       "  'categorical',\n",
       "  'SelectorWidth',\n",
       "  'tokens',\n",
       "  'tokens',\n",
       "  'LT',\n",
       "  'EOS'],\n",
       " 'layer_0/mlp': ['BOS', 'EOS'],\n",
       " 'layer_1/attn': ['BOS',\n",
       "  'sop_0',\n",
       "  'categorical',\n",
       "  'SelectAggregate',\n",
       "  'sop_1',\n",
       "  'indices',\n",
       "  'EQ',\n",
       "  'tokens',\n",
       "  'EOS'],\n",
       " 'layer_1/mlp': ['BOS', 'EOS']}"
      ]
     },
     "execution_count": 9,
     "metadata": {},
     "output_type": "execute_result"
    }
   ],
   "source": [
    "{\n",
    "    k: tokenizer.decode(v) for k, v in toks.items()\n",
    "}"
   ]
  },
  {
   "cell_type": "code",
   "execution_count": 6,
   "metadata": {},
   "outputs": [
    {
     "data": {
      "text/plain": [
       "[2, 3.0, None, 4]"
      ]
     },
     "execution_count": 6,
     "metadata": {},
     "output_type": "execute_result"
    }
   ],
   "source": [
    "s = sort()\n",
    "s([4,3,2,3])"
   ]
  }
 ],
 "metadata": {
  "kernelspec": {
   "display_name": "meta-models",
   "language": "python",
   "name": "python3"
  },
  "language_info": {
   "codemirror_mode": {
    "name": "ipython",
    "version": 3
   },
   "file_extension": ".py",
   "mimetype": "text/x-python",
   "name": "python",
   "nbconvert_exporter": "python",
   "pygments_lexer": "ipython3",
   "version": "3.10.12"
  }
 },
 "nbformat": 4,
 "nbformat_minor": 2
}
