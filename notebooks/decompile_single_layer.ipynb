{
 "cells": [
  {
   "cell_type": "code",
   "execution_count": 1,
   "metadata": {},
   "outputs": [],
   "source": [
    "import os\n",
    "os.environ[\"XLA_PYTHON_CLIENT_PREALLOCATE\"] = \"false\"\n",
    "from tracr.rasp import rasp\n",
    "from tracr.compiler import basis_inference\n",
    "from tracr.compiler import craft_graph_to_model\n",
    "from tracr.compiler import expr_to_craft_graph\n",
    "from tracr.compiler import rasp_to_graph\n",
    "from tracr.craft import bases\n",
    "from tracr.rasp import rasp\n",
    "\n",
    "from rasp_generator import utils, sampling\n",
    "from tokenizer import tokenizer\n",
    "\n"
   ]
  },
  {
   "cell_type": "code",
   "execution_count": 2,
   "metadata": {},
   "outputs": [],
   "source": [
    "sampler = sampling.ProgramSampler()\n",
    "errs = sampler.sample()"
   ]
  },
  {
   "cell_type": "code",
   "execution_count": 3,
   "metadata": {},
   "outputs": [],
   "source": [
    "graph, layers_to_nodes = tokenizer.rasp_to_layerwise_representation(sampler.program)"
   ]
  },
  {
   "cell_type": "code",
   "execution_count": 4,
   "metadata": {},
   "outputs": [
    {
     "name": "stdout",
     "output_type": "stream",
     "text": [
      "Layer 0\n",
      "\n",
      "Layer 1\n",
      "map_2 = Map(lambda x: x**0.5, tokens)    # type: float\n",
      "sequence_map_5 = SequenceMap(lambda x, y: x*y, tokens, indices)    # type: categorical\n",
      "\n",
      "Layer 2\n",
      "\n",
      "Layer 3\n",
      "sequence_map_4 = SequenceMap(lambda x, y: x*y, tokens, sequence_map_5)    # type: categorical\n",
      "\n",
      "Layer 4\n",
      "\n",
      "Layer 5\n",
      "map_3 = Map(lambda x: x*2, sequence_map_4)    # type: float\n",
      "\n",
      "Layer 6\n",
      "\n",
      "Layer 7\n",
      "linear_sequence_map_1 = LinearSequenceMap(map_2, map_3, 0.0, 0.0)    # type: float\n",
      "\n"
     ]
    }
   ],
   "source": [
    "for layer, node_ids in layers_to_nodes.items():\n",
    "    print(f\"Layer {layer}\")\n",
    "    for node_id in node_ids:\n",
    "        expr = graph.nodes[node_id][\"EXPR\"]\n",
    "        if isinstance(expr, (rasp.Aggregate, rasp.SelectorWidth)):\n",
    "            utils.print_expr(expr.selector)\n",
    "        utils.print_expr(expr)\n",
    "    print()"
   ]
  },
  {
   "cell_type": "code",
   "execution_count": 5,
   "metadata": {},
   "outputs": [
    {
     "name": "stdout",
     "output_type": "stream",
     "text": [
      "map_2 = Map(lambda x: x**0.5, tokens)    # type: float\n",
      "sequence_map_5 = SequenceMap(lambda x, y: x*y, tokens, indices)    # type: categorical\n",
      "sequence_map_4 = SequenceMap(lambda x, y: x*y, tokens, sequence_map_5)    # type: categorical\n",
      "map_3 = Map(lambda x: x*2, sequence_map_4)    # type: float\n",
      "linear_sequence_map_1 = LinearSequenceMap(map_2, map_3, 0.0, 0.0)    # type: float\n"
     ]
    }
   ],
   "source": [
    "utils.print_program(sampler.program)"
   ]
  }
 ],
 "metadata": {
  "kernelspec": {
   "display_name": "metamodels",
   "language": "python",
   "name": "python3"
  },
  "language_info": {
   "codemirror_mode": {
    "name": "ipython",
    "version": 3
   },
   "file_extension": ".py",
   "mimetype": "text/x-python",
   "name": "python",
   "nbconvert_exporter": "python",
   "pygments_lexer": "ipython3",
   "version": "3.10.12"
  }
 },
 "nbformat": 4,
 "nbformat_minor": 2
}
