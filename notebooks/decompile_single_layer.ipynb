{
 "cells": [
  {
   "cell_type": "code",
   "execution_count": 2,
   "metadata": {},
   "outputs": [],
   "source": [
    "import os\n",
    "os.environ[\"XLA_PYTHON_CLIENT_PREALLOCATE\"] = \"false\"\n",
    "from tracr.rasp import rasp\n",
    "from tracr.compiler import compiling\n",
    "import numpy as np\n",
    "from tracr.compiler.validating import validate\n",
    "from typing import Union, TypeVar\n",
    "import jax\n",
    "\n",
    "\n",
    "def make_length():\n",
    "    all_true_selector = rasp.Select(rasp.tokens, rasp.tokens, rasp.Comparison.TRUE)\n",
    "    return rasp.SelectorWidth(all_true_selector)\n",
    "\n",
    "\n",
    "def compile_rasp_to_model(x: rasp.SOp,\n",
    "                 vocab={0, 1, 2, 3}, \n",
    "                 max_seq_len=5, \n",
    "                 compiler_bos=\"BOS\"):\n",
    "    return compiling.compile_rasp_to_model(\n",
    "        x,\n",
    "        vocab=vocab,\n",
    "        max_seq_len=max_seq_len,\n",
    "        compiler_bos=compiler_bos,\n",
    "    )\n",
    " "
   ]
  },
  {
   "cell_type": "code",
   "execution_count": 3,
   "metadata": {},
   "outputs": [],
   "source": [
    "# sample rasp program\n",
    "def count_x(x=1):\n",
    "    all_x = rasp.Map(lambda _: x, rasp.indices)\n",
    "    is_x = rasp.Select(rasp.tokens, all_x, rasp.Comparison.EQ)\n",
    "    return rasp.SelectorWidth(is_x)\n",
    "\n",
    "\n",
    "count = count_x()"
   ]
  },
  {
   "cell_type": "code",
   "execution_count": 4,
   "metadata": {},
   "outputs": [
    {
     "name": "stderr",
     "output_type": "stream",
     "text": [
      "An NVIDIA GPU may be present on this machine, but a CUDA-enabled jaxlib is not installed. Falling back to cpu.\n"
     ]
    }
   ],
   "source": [
    "model = compile_rasp_to_model(count)"
   ]
  },
  {
   "cell_type": "code",
   "execution_count": 5,
   "metadata": {},
   "outputs": [
    {
     "data": {
      "text/plain": [
       "['BOS', 2, 2, 2, 2]"
      ]
     },
     "execution_count": 5,
     "metadata": {},
     "output_type": "execute_result"
    }
   ],
   "source": [
    "model.apply([\"BOS\", 1,2,3,1]).decoded"
   ]
  },
  {
   "cell_type": "code",
   "execution_count": 6,
   "metadata": {},
   "outputs": [
    {
     "data": {
      "text/plain": [
       "{'pos_embed': {'embeddings': (6, 20)},\n",
       " 'token_embed': {'embeddings': (6, 20)},\n",
       " 'transformer/layer_0/attn/key': {'b': (5,), 'w': (20, 5)},\n",
       " 'transformer/layer_0/attn/linear': {'b': (20,), 'w': (5, 20)},\n",
       " 'transformer/layer_0/attn/query': {'b': (5,), 'w': (20, 5)},\n",
       " 'transformer/layer_0/attn/value': {'b': (5,), 'w': (20, 5)},\n",
       " 'transformer/layer_0/mlp/linear_1': {'b': (12,), 'w': (20, 12)},\n",
       " 'transformer/layer_0/mlp/linear_2': {'b': (20,), 'w': (12, 20)},\n",
       " 'transformer/layer_1/attn/key': {'b': (5,), 'w': (20, 5)},\n",
       " 'transformer/layer_1/attn/linear': {'b': (20,), 'w': (5, 20)},\n",
       " 'transformer/layer_1/attn/query': {'b': (5,), 'w': (20, 5)},\n",
       " 'transformer/layer_1/attn/value': {'b': (5,), 'w': (20, 5)},\n",
       " 'transformer/layer_1/mlp/linear_1': {'b': (12,), 'w': (20, 12)},\n",
       " 'transformer/layer_1/mlp/linear_2': {'b': (20,), 'w': (12, 20)}}"
      ]
     },
     "execution_count": 6,
     "metadata": {},
     "output_type": "execute_result"
    }
   ],
   "source": [
    "jax.tree_map(lambda x: x.shape, model.params)"
   ]
  },
  {
   "cell_type": "code",
   "execution_count": 7,
   "metadata": {},
   "outputs": [
    {
     "data": {
      "text/plain": [
       "<tracr.rasp.rasp.SelectorWidth at 0x7f89e8e9d720>"
      ]
     },
     "execution_count": 7,
     "metadata": {},
     "output_type": "execute_result"
    }
   ],
   "source": [
    "count"
   ]
  },
  {
   "cell_type": "code",
   "execution_count": 22,
   "metadata": {},
   "outputs": [],
   "source": [
    "# compiler steps\n",
    "from tracr.compiler import assemble\n",
    "from tracr.compiler import basis_inference\n",
    "from tracr.compiler import craft_graph_to_model\n",
    "from tracr.compiler import craft_model_to_transformer\n",
    "from tracr.compiler import expr_to_craft_graph\n",
    "from tracr.compiler import rasp_to_graph\n",
    "from tracr.compiler import validating\n",
    "from tracr.craft import bases\n",
    "from tracr.rasp import rasp\n",
    "\n",
    "\n",
    "program = count\n",
    "vocab = {1,2,3,4}\n",
    "max_seq_len = 5\n",
    "compiler_bos = \"BOS\"\n",
    "mlp_exactness = 100"
   ]
  },
  {
   "cell_type": "code",
   "execution_count": 23,
   "metadata": {},
   "outputs": [],
   "source": [
    "extracted = rasp_to_graph.extract_rasp_graph(program)\n",
    "graph, sources, sink = extracted.graph, extracted.sources, extracted.sink"
   ]
  },
  {
   "cell_type": "code",
   "execution_count": 24,
   "metadata": {},
   "outputs": [],
   "source": [
    "basis_inference.infer_bases(\n",
    "    graph,\n",
    "    sink,\n",
    "    vocab,\n",
    "    max_seq_len,\n",
    ")"
   ]
  },
  {
   "cell_type": "code",
   "execution_count": 25,
   "metadata": {},
   "outputs": [],
   "source": [
    "expr_to_craft_graph.add_craft_components_to_rasp_graph(\n",
    "    graph,\n",
    "    bos_dir=bases.BasisDirection(rasp.tokens.label, compiler_bos),\n",
    "    mlp_exactness=mlp_exactness,\n",
    ")"
   ]
  },
  {
   "cell_type": "code",
   "execution_count": 27,
   "metadata": {},
   "outputs": [],
   "source": [
    "craft_model = craft_graph_to_model.craft_graph_to_model(graph, sources)"
   ]
  },
  {
   "cell_type": "code",
   "execution_count": 28,
   "metadata": {},
   "outputs": [
    {
     "name": "stdout",
     "output_type": "stream",
     "text": [
      "ID selector_width_1\n",
      "EXPR <tracr.rasp.rasp.SelectorWidth object at 0x7f89e8e9d720>\n",
      "VALUE_SET {0, 1, 2, 3, 4, 5}\n",
      "OUTPUT_BASIS [BasisDirection(name='selector_width_1', value=0), BasisDirection(name='selector_width_1', value=1), BasisDirection(name='selector_width_1', value=2), BasisDirection(name='selector_width_1', value=3), BasisDirection(name='selector_width_1', value=4), BasisDirection(name='selector_width_1', value=5)]\n",
      "MODEL_BLOCK SeriesWithResiduals(blocks=[AttentionHead(w_qk=ScalarBilinear(left_space=VectorSpaceWithBasis(basis=[BasisDirection(name='map_3', value=1), BasisDirection(name='one', value=None), BasisDirection(name='tokens', value='BOS')]), right_space=VectorSpaceWithBasis(basis=[BasisDirection(name='tokens', value=1), BasisDirection(name='tokens', value=2), BasisDirection(name='tokens', value=3), BasisDirection(name='tokens', value=4), BasisDirection(name='tokens', value='BOS')]), matrix=array([[100.,   0.,   0.,   0.,   0.],\n",
      "       [  0.,   0.,   0.,   0., 100.],\n",
      "       [  0.,   0.,   0.,   0.,   0.]])), w_ov=<tracr.craft.vectorspace_fns.Linear object at 0x7f89dc196cb0>, residual_space=VectorSpaceWithBasis(basis=[BasisDirection(name='indices', value=0), BasisDirection(name='indices', value=1), BasisDirection(name='indices', value=2), BasisDirection(name='indices', value=3), BasisDirection(name='indices', value=4), BasisDirection(name='map_3', value=1), BasisDirection(name='one', value=None), BasisDirection(name='selector_width_1', value=0), BasisDirection(name='selector_width_1', value=1), BasisDirection(name='selector_width_1', value=2), BasisDirection(name='selector_width_1', value=3), BasisDirection(name='selector_width_1', value=4), BasisDirection(name='selector_width_1', value=5), BasisDirection(name='selector_width_1_selector_width_attn_output', value=None), BasisDirection(name='tokens', value=1), BasisDirection(name='tokens', value=2), BasisDirection(name='tokens', value=3), BasisDirection(name='tokens', value=4), BasisDirection(name='tokens', value='BOS')]), causal=False), MLP(fst=<tracr.craft.vectorspace_fns.Linear object at 0x7f89dc1968c0>, snd=<tracr.craft.vectorspace_fns.Linear object at 0x7f89dc194700>, residual_space=VectorSpaceWithBasis(basis=[BasisDirection(name='indices', value=0), BasisDirection(name='indices', value=1), BasisDirection(name='indices', value=2), BasisDirection(name='indices', value=3), BasisDirection(name='indices', value=4), BasisDirection(name='map_3', value=1), BasisDirection(name='one', value=None), BasisDirection(name='selector_width_1', value=0), BasisDirection(name='selector_width_1', value=1), BasisDirection(name='selector_width_1', value=2), BasisDirection(name='selector_width_1', value=3), BasisDirection(name='selector_width_1', value=4), BasisDirection(name='selector_width_1', value=5), BasisDirection(name='selector_width_1_selector_width_attn_output', value=None), BasisDirection(name='tokens', value=1), BasisDirection(name='tokens', value=2), BasisDirection(name='tokens', value=3), BasisDirection(name='tokens', value=4), BasisDirection(name='tokens', value='BOS')]))])\n",
      "\n",
      "ID select_2\n",
      "EXPR <tracr.rasp.rasp.Select object at 0x7f8a30b33250>\n",
      "\n",
      "ID tokens\n",
      "EXPR tokens\n",
      "VALUE_SET {1, 2, 3, 4}\n",
      "OUTPUT_BASIS [BasisDirection(name='tokens', value=1), BasisDirection(name='tokens', value=2), BasisDirection(name='tokens', value=3), BasisDirection(name='tokens', value=4)]\n",
      "MODEL_BLOCK None\n",
      "\n",
      "ID map_3\n",
      "EXPR <tracr.rasp.rasp.Map object at 0x7f8a30b33010>\n",
      "VALUE_SET {1}\n",
      "OUTPUT_BASIS [BasisDirection(name='map_3', value=1)]\n",
      "MODEL_BLOCK MLP(fst=<tracr.craft.vectorspace_fns.Linear object at 0x7f89dc196aa0>, snd=<tracr.craft.vectorspace_fns.Linear object at 0x7f89dc194130>, residual_space=VectorSpaceWithBasis(basis=[BasisDirection(name='indices', value=0), BasisDirection(name='indices', value=1), BasisDirection(name='indices', value=2), BasisDirection(name='indices', value=3), BasisDirection(name='indices', value=4), BasisDirection(name='map_3', value=1), BasisDirection(name='one', value=None), BasisDirection(name='selector_width_1', value=0), BasisDirection(name='selector_width_1', value=1), BasisDirection(name='selector_width_1', value=2), BasisDirection(name='selector_width_1', value=3), BasisDirection(name='selector_width_1', value=4), BasisDirection(name='selector_width_1', value=5), BasisDirection(name='selector_width_1_selector_width_attn_output', value=None), BasisDirection(name='tokens', value=1), BasisDirection(name='tokens', value=2), BasisDirection(name='tokens', value=3), BasisDirection(name='tokens', value=4), BasisDirection(name='tokens', value='BOS')]))\n",
      "\n",
      "ID indices\n",
      "EXPR indices\n",
      "VALUE_SET {0, 1, 2, 3, 4}\n",
      "OUTPUT_BASIS [BasisDirection(name='indices', value=0), BasisDirection(name='indices', value=1), BasisDirection(name='indices', value=2), BasisDirection(name='indices', value=3), BasisDirection(name='indices', value=4)]\n",
      "MODEL_BLOCK None\n",
      "\n"
     ]
    }
   ],
   "source": [
    "for label in graph.nodes:\n",
    "    for k, v in graph.nodes[label].items():\n",
    "        print(k, v)\n",
    "    print()\n"
   ]
  },
  {
   "cell_type": "code",
   "execution_count": 45,
   "metadata": {},
   "outputs": [],
   "source": [
    "def rasp_to_layerwise_representation(program: rasp.SOp):\n",
    "    \"\"\"Convert a RASP program to a representation that maps every layer\n",
    "    to corresponding RASP operations performed by that layer.\"\"\"\n",
    "    vocab = {1,2,3,4}\n",
    "    max_seq_len = 5\n",
    "    # first do the same steps as in `compile_rasp_to_model`\n",
    "    extracted = rasp_to_graph.extract_rasp_graph(program)\n",
    "    graph, sources, sink = extracted.graph, extracted.sources, extracted.sink\n",
    "    basis_inference.infer_bases(\n",
    "        graph,\n",
    "        sink,\n",
    "        vocab,\n",
    "        max_seq_len,\n",
    "    )\n",
    "\n",
    "    expr_to_craft_graph.add_craft_components_to_rasp_graph(\n",
    "        graph,\n",
    "        bos_dir=bases.BasisDirection(rasp.tokens.label, \"BOS\"),\n",
    "        mlp_exactness=100,\n",
    "    )\n",
    "\n",
    "\n",
    "    nodes_to_layers = craft_graph_to_model._allocate_modules_to_layers(graph, sources)\n",
    "\n",
    "    # we want a dictionary the other way around, i.e. mapping from layer to RASP operations\n",
    "    n_layers = max(nodes_to_layers.values()) + 1\n",
    "    if n_layers % 2 != 0:\n",
    "        n_layers += 1  # n_layers is always even (tracr will add dummy MLP block at the end)\n",
    "    layers_to_nodes = {layer: [] for layer in range(n_layers)}\n",
    "    for node_id, layer in nodes_to_layers.items():\n",
    "        layers_to_nodes[layer].append(node_id)\n",
    "\n",
    "    return graph, layers_to_nodes\n"
   ]
  },
  {
   "cell_type": "code",
   "execution_count": 46,
   "metadata": {},
   "outputs": [],
   "source": [
    "graph, layers_to_nodes = rasp_to_layerwise_representation(count)"
   ]
  },
  {
   "cell_type": "code",
   "execution_count": 47,
   "metadata": {},
   "outputs": [],
   "source": [
    "def print_expr(expr: rasp.RASPExpr):\n",
    "    args = \", \".join([arg.label for arg in expr.children])\n",
    "\n",
    "    if isinstance(expr, rasp.Select):\n",
    "        args += f\", predicate={expr.predicate}\"\n",
    "    elif isinstance(expr, rasp.Map):\n",
    "        args += f\", f={expr.f}\"\n",
    "\n",
    "    print(f\"{expr.label} = {expr.name}({args})\")\n",
    "    return None"
   ]
  },
  {
   "cell_type": "code",
   "execution_count": 48,
   "metadata": {},
   "outputs": [
    {
     "name": "stdout",
     "output_type": "stream",
     "text": [
      "Layer 0\n",
      "\n",
      "Layer 1\n",
      "map_3 = map(indices, f=<function count_x.<locals>.<lambda> at 0x7f89e8eb1510>)\n",
      "\n",
      "Layer 2\n",
      "selector_width_1 = selector_width(select_2)\n",
      "\n",
      "Layer 3\n",
      "\n"
     ]
    }
   ],
   "source": [
    "for layer, node_ids in layers_to_nodes.items():\n",
    "    print(f\"Layer {layer}\")\n",
    "    for node_id in node_ids:\n",
    "        expr = graph.nodes[node_id][\"EXPR\"]\n",
    "        print_expr(expr)\n",
    "    print()"
   ]
  }
 ],
 "metadata": {
  "kernelspec": {
   "display_name": "metamodels",
   "language": "python",
   "name": "python3"
  },
  "language_info": {
   "codemirror_mode": {
    "name": "ipython",
    "version": 3
   },
   "file_extension": ".py",
   "mimetype": "text/x-python",
   "name": "python",
   "nbconvert_exporter": "python",
   "pygments_lexer": "ipython3",
   "version": "3.10.12"
  }
 },
 "nbformat": 4,
 "nbformat_minor": 2
}
