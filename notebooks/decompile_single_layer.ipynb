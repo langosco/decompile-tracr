{
 "cells": [
  {
   "cell_type": "code",
   "execution_count": 4,
   "metadata": {},
   "outputs": [],
   "source": [
    "import os\n",
    "os.environ[\"XLA_PYTHON_CLIENT_PREALLOCATE\"] = \"false\"\n",
    "from tracr.rasp import rasp\n",
    "from tracr.compiler import compiling\n",
    "import numpy as np\n",
    "from tracr.compiler.validating import validate\n",
    "from typing import Union, TypeVar\n",
    "import jax\n",
    "\n",
    "\n",
    "from tracr.compiler import assemble\n",
    "from tracr.compiler import basis_inference\n",
    "from tracr.compiler import craft_graph_to_model\n",
    "from tracr.compiler import craft_model_to_transformer\n",
    "from tracr.compiler import expr_to_craft_graph\n",
    "from tracr.compiler import rasp_to_graph\n",
    "from tracr.compiler import validating\n",
    "from tracr.craft import bases\n",
    "from tracr.rasp import rasp\n",
    "\n",
    "\n",
    "def make_length():\n",
    "    all_true_selector = rasp.Select(rasp.tokens, rasp.tokens, rasp.Comparison.TRUE)\n",
    "    return rasp.SelectorWidth(all_true_selector)\n",
    "\n",
    "\n",
    "def compile_rasp_to_model(x: rasp.SOp,\n",
    "                 vocab={0, 1, 2, 3}, \n",
    "                 max_seq_len=5, \n",
    "                 compiler_bos=\"BOS\"):\n",
    "    return compiling.compile_rasp_to_model(\n",
    "        x,\n",
    "        vocab=vocab,\n",
    "        max_seq_len=max_seq_len,\n",
    "        compiler_bos=compiler_bos,\n",
    "    )\n",
    " \n",
    "\n",
    "def rasp_to_layerwise_representation(program: rasp.SOp):\n",
    "    \"\"\"Convert a RASP program to a representation that maps every layer\n",
    "    to corresponding RASP operations performed by that layer.\"\"\"\n",
    "    vocab = {1,2,3,4}\n",
    "    max_seq_len = 5\n",
    "    # first do the same steps as in `compile_rasp_to_model`\n",
    "    extracted = rasp_to_graph.extract_rasp_graph(program)\n",
    "    graph, sources, sink = extracted.graph, extracted.sources, extracted.sink\n",
    "    basis_inference.infer_bases(\n",
    "        graph,\n",
    "        sink,\n",
    "        vocab,\n",
    "        max_seq_len,\n",
    "    )\n",
    "\n",
    "    expr_to_craft_graph.add_craft_components_to_rasp_graph(\n",
    "        graph,\n",
    "        bos_dir=bases.BasisDirection(rasp.tokens.label, \"BOS\"),\n",
    "        mlp_exactness=100,\n",
    "    )\n",
    "\n",
    "\n",
    "    nodes_to_layers = craft_graph_to_model._allocate_modules_to_layers(graph, sources)\n",
    "\n",
    "    # we want a dictionary the other way around, i.e. mapping from layer to RASP operations\n",
    "    n_layers = max(nodes_to_layers.values()) + 1\n",
    "    if n_layers % 2 != 0:\n",
    "        n_layers += 1  # n_layers is always even (tracr will add dummy MLP block at the end)\n",
    "    layers_to_nodes = {layer: [] for layer in range(n_layers)}\n",
    "    for node_id, layer in nodes_to_layers.items():\n",
    "        layers_to_nodes[layer].append(node_id)\n",
    "\n",
    "    return graph, layers_to_nodes\n",
    "\n",
    "\n",
    "# sample rasp program\n",
    "def count_x(x=1):\n",
    "    all_x = rasp.Map(lambda _: x, rasp.indices)\n",
    "    is_x = rasp.Select(rasp.tokens, all_x, rasp.Comparison.EQ)\n",
    "    return rasp.SelectorWidth(is_x)\n",
    "\n",
    "\n",
    "count = count_x()"
   ]
  },
  {
   "cell_type": "code",
   "execution_count": 5,
   "metadata": {},
   "outputs": [],
   "source": [
    "def print_expr(expr: rasp.RASPExpr):\n",
    "    args = \", \".join([arg.label for arg in expr.children])\n",
    "\n",
    "    if isinstance(expr, rasp.Select):\n",
    "        args += f\", predicate={expr.predicate}\"\n",
    "    elif isinstance(expr, rasp.Map):\n",
    "        args += f\", f={expr.f}\"\n",
    "\n",
    "    print(f\"{expr.label} = {expr.name}({args})\")\n",
    "    return None"
   ]
  },
  {
   "cell_type": "code",
   "execution_count": 6,
   "metadata": {},
   "outputs": [],
   "source": [
    "graph, layers_to_nodes = rasp_to_layerwise_representation(count)"
   ]
  },
  {
   "cell_type": "code",
   "execution_count": 7,
   "metadata": {},
   "outputs": [
    {
     "name": "stdout",
     "output_type": "stream",
     "text": [
      "Layer 0\n",
      "\n",
      "Layer 1\n",
      "map_3 = map(indices, f=<function count_x.<locals>.<lambda> at 0x7f33597d8af0>)\n",
      "\n",
      "Layer 2\n",
      "selector_width_1 = selector_width(select_2)\n",
      "\n",
      "Layer 3\n",
      "\n"
     ]
    }
   ],
   "source": [
    "for layer, node_ids in layers_to_nodes.items():\n",
    "    print(f\"Layer {layer}\")\n",
    "    for node_id in node_ids:\n",
    "        expr = graph.nodes[node_id][\"EXPR\"]\n",
    "        print_expr(expr)\n",
    "    print()"
   ]
  }
 ],
 "metadata": {
  "kernelspec": {
   "display_name": "metamodels",
   "language": "python",
   "name": "python3"
  },
  "language_info": {
   "codemirror_mode": {
    "name": "ipython",
    "version": 3
   },
   "file_extension": ".py",
   "mimetype": "text/x-python",
   "name": "python",
   "nbconvert_exporter": "python",
   "pygments_lexer": "ipython3",
   "version": "3.10.12"
  }
 },
 "nbformat": 4,
 "nbformat_minor": 2
}
