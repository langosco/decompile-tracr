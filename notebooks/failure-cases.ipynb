{
 "cells": [
  {
   "cell_type": "code",
   "execution_count": 1,
   "metadata": {},
   "outputs": [],
   "source": [
    "import os\n",
    "os.environ[\"XLA_PYTHON_CLIENT_PREALLOCATE\"] = \"false\"\n",
    "from tracr.rasp import rasp\n",
    "from tracr.compiler import compiling\n",
    "import numpy as np\n",
    "\n",
    "\n",
    "def make_length():\n",
    "    all_true_selector = rasp.Select(rasp.tokens, rasp.tokens, rasp.Comparison.TRUE)\n",
    "    return rasp.SelectorWidth(all_true_selector)\n",
    "\n",
    "\n",
    "def compile_rasp(x: rasp.SOp,\n",
    "                 vocab={0, 1, 2, 3}, \n",
    "                 max_seq_len=5, \n",
    "                 compiler_bos=\"BOS\"):\n",
    "    return compiling.compile_rasp_to_model(\n",
    "        x,\n",
    "        vocab=vocab,\n",
    "        max_seq_len=max_seq_len,\n",
    "        compiler_bos=compiler_bos,\n",
    "    )\n",
    "\n",
    "# Apply via:\n",
    "# out = model.apply([compiler_bos] + [v for v in vocab])\n",
    "# return out.decoded"
   ]
  },
  {
   "cell_type": "markdown",
   "metadata": {},
   "source": [
    "# RASP programs that don't compile correctly"
   ]
  },
  {
   "cell_type": "code",
   "execution_count": 2,
   "metadata": {},
   "outputs": [
    {
     "name": "stderr",
     "output_type": "stream",
     "text": [
      "An NVIDIA GPU may be present on this machine, but a CUDA-enabled jaxlib is not installed. Falling back to cpu.\n"
     ]
    },
    {
     "name": "stdout",
     "output_type": "stream",
     "text": [
      "The output of the compiled model does not match the output of the RASP program:\n",
      "[3, 5.0, 6, 7.0]\n",
      "['BOS', 3, 4, 3, 4]\n",
      "\n",
      "This error gets caught by the validator:\n",
      "[TracrUnsupportedExpr(expr=<tracr.rasp.rasp.Aggregate object at 0x7f92041790f0>, reason='Categorical aggregate does not support Selectors with width > 1 that require aggregation (eg. averaging).')]\n"
     ]
    }
   ],
   "source": [
    "from tracr.compiler import validating\n",
    "\n",
    "# sum of all inputs up to current index\n",
    "def sum_of_inputs() -> rasp.SOp:\n",
    "    before = rasp.Select(rasp.indices, rasp.indices, rasp.Comparison.LEQ)\n",
    "    means = rasp.Aggregate(before, rasp.tokens)  # returns sequence s_i = mean_{j<=i} input_j\n",
    "    sums = rasp.SequenceMap(lambda x, y: x*y, means, rasp.indices+1)\n",
    "    return sums\n",
    "\n",
    "sums = sum_of_inputs()\n",
    "\n",
    "compiled_model = compiling.compile_rasp_to_model(sums, vocab={1,2,3}, max_seq_len=5, compiler_bos=\"BOS\")\n",
    "compiled_output = compiled_model.apply([\"BOS\", 3, 2, 1, 1]).decoded\n",
    "rasp_output = sums([3, 2, 1, 1])\n",
    "\n",
    "print(\"The output of the compiled model does not match the output of the RASP program:\")\n",
    "print(rasp_output)  # output: [3.0, 5.0, 6.0, 7.0]\n",
    "print(compiled_output)  # output: ['BOS', 3, 4, 3, 4]\n",
    "\n",
    "print()\n",
    "print(\"This error gets caught by the validator:\")\n",
    "print(validating.validate(sums, [1, 2, 3]))"
   ]
  },
  {
   "cell_type": "code",
   "execution_count": 3,
   "metadata": {},
   "outputs": [
    {
     "name": "stdout",
     "output_type": "stream",
     "text": [
      "Unsupported RASP expressions:\n",
      "sequence_map: (Non-linear) SequenceMap only supports categorical inputs/outputs.\n",
      "aggregate: An aggregate's output encoding must match its input encoding. Input: Encoding.NUMERICAL   Output: Encoding.CATEGORICAL  \n"
     ]
    }
   ],
   "source": [
    "from tracr.compiler import validating\n",
    "\n",
    "# sum of all inputs up to current index\n",
    "def sum_of_inputs() -> rasp.SOp:\n",
    "    before = rasp.numerical(rasp.Select(rasp.indices, rasp.indices, rasp.Comparison.LEQ))\n",
    "    means = rasp.numerical(rasp.Aggregate(before, rasp.tokens, default=0))  # returns sequence s_i = mean_{j<=i} input_j\n",
    "#    sums = rasp.SequenceMap(lambda x, y: x*y, means, rasp.indices+1)\n",
    "    sums = means * rasp.numerical(rasp.indices+1)\n",
    "    return sums\n",
    "\n",
    "sums = sum_of_inputs()\n",
    "\n",
    "try:\n",
    "    compiled_model = compiling.compile_rasp_to_model(sums, vocab={1,2,3}, max_seq_len=5, compiler_bos=\"BOS\")\n",
    "except NotImplementedError as err:\n",
    "    print(err)\n",
    "    # caught by compiler (as of a more recent commit)\n",
    "\n",
    "\n",
    "# compiled_output = compiled_model.apply([\"BOS\", 3, 2, 1, 1]).decoded\n",
    "# rasp_output = sums([3, 2, 1, 1])\n",
    "# \n",
    "# print(\"The output of the compiled model does not match the output of the RASP program:\")\n",
    "# print(rasp_output)  # output: [3.0, 5.0, 6.0, 7.0]\n",
    "# print(compiled_output)  # output: ['BOS', 3, 4, 3, 4]\n",
    "# \n",
    "# print()\n",
    "# print(\"This error gets caught by the validator:\")\n",
    "# print(validating.validate(sums, [1, 2, 3]))"
   ]
  },
  {
   "cell_type": "code",
   "execution_count": 4,
   "metadata": {},
   "outputs": [
    {
     "name": "stdout",
     "output_type": "stream",
     "text": [
      "Unsupported RASP expressions:\n",
      "sequence_map: (Non-linear) SequenceMap only supports categorical inputs/outputs.\n",
      "aggregate: An aggregate's output encoding must match its input encoding. Input: Encoding.NUMERICAL   Output: Encoding.CATEGORICAL  \n"
     ]
    }
   ],
   "source": [
    "# parenthesis matching: count number of unmatched left parens\n",
    "def count_unmatched_left_parens():\n",
    "    is_left = rasp.tokens == \"(\"\n",
    "    is_right = rasp.tokens == \")\"\n",
    "    before = rasp.Select(rasp.indices, rasp.indices, rasp.Comparison.LEQ)\n",
    "    count_left = rasp.Aggregate(before, is_left) * (rasp.indices + 1)\n",
    "    count_right = rasp.Aggregate(before, is_right) * (rasp.indices + 1)\n",
    "    left_unmatched = count_left - count_right\n",
    "    return left_unmatched\n",
    "\n",
    "\n",
    "count = count_unmatched_left_parens()\n",
    "\n",
    "\n",
    "try:\n",
    "    compiled_model = compiling.compile_rasp_to_model(sums, vocab=set(\"abc()\"), max_seq_len=6, compiler_bos=\"BOS\")\n",
    "except NotImplementedError as err:\n",
    "    # caught by compiler now\n",
    "    print(err)\n",
    "\n",
    "\n",
    "#compiled_output = compiled_model.apply([\"BOS\", *list(\"((abc)\")]).decoded\n",
    "#rasp_output = count(\"((abc)\")\n",
    "#\n",
    "#\n",
    "#print(\"The output of the compiled model does not match the output of the RASP program:\")\n",
    "#print(rasp_output)\n",
    "#print(compiled_output)\n",
    "#\n",
    "#print()\n",
    "#print(\"This error gets caught by the validator:\")\n",
    "#print(validating.validate(count, list(\"((abc)\")))"
   ]
  },
  {
   "cell_type": "code",
   "execution_count": 5,
   "metadata": {},
   "outputs": [
    {
     "name": "stdout",
     "output_type": "stream",
     "text": [
      "The output of the compiled model does not match the output of the RASP program:\n",
      "[0, 1.0, 2.0, 2.0, 2.0, 3.0]\n",
      "['BOS', 0, 0, 3, 0, 0, 0]\n",
      "\n",
      "This error gets caught by the validator:\n",
      "[TracrUnsupportedExpr(expr=<tracr.rasp.rasp.Aggregate object at 0x7f91d961f4f0>, reason='Categorical aggregate does not support Selectors with width > 1 that require aggregation (eg. averaging).')]\n"
     ]
    }
   ],
   "source": [
    "# count number of 'x' tokens in input\n",
    "is_x = rasp.tokens == \"x\"\n",
    "before = rasp.Select(rasp.indices, rasp.indices, rasp.Comparison.LEQ)\n",
    "freqs = rasp.Aggregate(before, is_x)\n",
    "counts = freqs * (rasp.indices + 1)\n",
    "rasp_output = counts(\"axxcdx\")\n",
    "\n",
    "counts_model = compile_rasp(counts, vocab={\"a\", \"b\", \"c\", \"d\", \"x\"}, max_seq_len=6, compiler_bos=\"BOS\")\n",
    "compiled_output = counts_model.apply([\"BOS\", \"a\", \"x\", \"x\", \"c\", \"d\", \"x\"]).decoded\n",
    "\n",
    "\n",
    "\n",
    "print(\"The output of the compiled model does not match the output of the RASP program:\")\n",
    "print(rasp_output)\n",
    "print(compiled_output)\n",
    "\n",
    "print()\n",
    "print(\"This error gets caught by the validator:\")\n",
    "print(validating.validate(counts, [\"a\", \"x\"]))"
   ]
  },
  {
   "cell_type": "code",
   "execution_count": 6,
   "metadata": {},
   "outputs": [
    {
     "name": "stdout",
     "output_type": "stream",
     "text": [
      "The output of the compiled model does not match the output of the RASP program:\n",
      "[2, 3, None, None]\n",
      "['BOS', 2, 3, 0, 1]\n",
      "\n",
      "This error is not caught by the validator:\n",
      "[]\n"
     ]
    }
   ],
   "source": [
    "sel = rasp.Select(rasp.indices, rasp.tokens, rasp.Comparison.EQ)\n",
    "float_sop = rasp.Aggregate(sel, rasp.indices)\n",
    "output = rasp.Aggregate(sel, float_sop)\n",
    "\n",
    "\n",
    "model = compile_rasp(output, vocab={1,2,3,4}, max_seq_len=5, compiler_bos=\"BOS\")\n",
    "compiled_output = model.apply([\"BOS\", 1, 2, 3, 4]).decoded\n",
    "rasp_output = output([1, 2, 3, 4])\n",
    "\n",
    "\n",
    "print(\"The output of the compiled model does not match the output of the RASP program:\")\n",
    "print(rasp_output)  # [2.0, 3.0, None, None]\n",
    "print(compiled_output) # ['BOS', 2, 3, 0, 1]\n",
    "\n",
    "print()\n",
    "print(\"This error is not caught by the validator:\")\n",
    "print(validating.validate(counts, [1, 2, 3, 4]))"
   ]
  },
  {
   "cell_type": "code",
   "execution_count": 16,
   "metadata": {},
   "outputs": [
    {
     "name": "stdout",
     "output_type": "stream",
     "text": [
      "[-2, -1, 0, 1]\n",
      "['BOS', 0.0, 0.0, 0.0, 1.0]\n",
      "\n",
      "This error is not caught by the validator:\n",
      "[]\n"
     ]
    }
   ],
   "source": [
    "program = rasp.numerical(rasp.Map(lambda x: x - 3, rasp.tokens))\n",
    "#program = rasp.Map(lambda x: x - 3, rasp.tokens)\n",
    "model = compile_rasp(program, vocab={1,2,3,4}, max_seq_len=5, compiler_bos=\"BOS\")\n",
    "\n",
    "rasp_output = program([1, 2, 3, 4])\n",
    "compiled_output = model.apply([\"BOS\", 1, 2, 3, 4]).decoded\n",
    "\n",
    "print(rasp_output)\n",
    "print(compiled_output)\n",
    "\n",
    "\n",
    "print()\n",
    "print(\"This error is not caught by the validator:\")\n",
    "print(validating.validate(program, [1, 2, 3, 4]))"
   ]
  }
 ],
 "metadata": {
  "kernelspec": {
   "display_name": "meta-models",
   "language": "python",
   "name": "python3"
  },
  "language_info": {
   "codemirror_mode": {
    "name": "ipython",
    "version": 3
   },
   "file_extension": ".py",
   "mimetype": "text/x-python",
   "name": "python",
   "nbconvert_exporter": "python",
   "pygments_lexer": "ipython3",
   "version": "3.10.12"
  }
 },
 "nbformat": 4,
 "nbformat_minor": 2
}
