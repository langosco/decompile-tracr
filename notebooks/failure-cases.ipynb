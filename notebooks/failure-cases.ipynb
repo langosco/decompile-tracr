{
 "cells": [
  {
   "cell_type": "code",
   "execution_count": 1,
   "metadata": {},
   "outputs": [],
   "source": [
    "import os\n",
    "os.environ[\"XLA_PYTHON_CLIENT_PREALLOCATE\"] = \"false\"\n",
    "from tracr.rasp import rasp\n",
    "from tracr.compiler import compiling\n",
    "import numpy as np\n",
    "\n",
    "\n",
    "def make_length():\n",
    "    all_true_selector = rasp.Select(rasp.tokens, rasp.tokens, rasp.Comparison.TRUE)\n",
    "    return rasp.SelectorWidth(all_true_selector)\n",
    "\n",
    "\n",
    "def compile_rasp(x: rasp.SOp,\n",
    "                 vocab={0, 1, 2, 3}, \n",
    "                 max_seq_len=5, \n",
    "                 compiler_bos=\"BOS\"):\n",
    "    return compiling.compile_rasp_to_model(\n",
    "        x,\n",
    "        vocab=vocab,\n",
    "        max_seq_len=max_seq_len,\n",
    "        compiler_bos=compiler_bos,\n",
    "    )\n",
    "\n",
    "# Apply via:\n",
    "# out = model.apply([compiler_bos] + [v for v in vocab])\n",
    "# return out.decoded"
   ]
  },
  {
   "cell_type": "markdown",
   "metadata": {},
   "source": [
    "# RASP programs that don't compile correctly"
   ]
  },
  {
   "cell_type": "code",
   "execution_count": 2,
   "metadata": {},
   "outputs": [
    {
     "name": "stderr",
     "output_type": "stream",
     "text": [
      "WARNING:absl:Creating a SequenceMap with both inputs being the same SOp is discouraged. You should use a Map instead.\n",
      "WARNING:jax._src.xla_bridge:An NVIDIA GPU may be present on this machine, but a CUDA-enabled jaxlib is not installed. Falling back to cpu.\n"
     ]
    },
    {
     "name": "stdout",
     "output_type": "stream",
     "text": [
      "The output of the compiled model does not match the output of the RASP program:\n",
      "[3.0, 5.0, 6.0, 7.0]\n",
      "['BOS', 3, 4, 3, 4]\n",
      "\n",
      "This error gets caught by the validator:\n",
      "[TracrUnsupportedExpr(expr=<tracr.rasp.rasp.Aggregate object at 0x7f5f52962530>, reason='Categorical aggregate does not support Selectors with width > 1 that require aggregation (eg. averaging).')]\n"
     ]
    }
   ],
   "source": [
    "from tracr.compiler import validating\n",
    "\n",
    "# sum of all inputs up to current index\n",
    "def sum_of_inputs() -> rasp.SOp:\n",
    "    before = rasp.Select(rasp.indices, rasp.indices, rasp.Comparison.LEQ)\n",
    "    means = rasp.Aggregate(before, rasp.tokens)  # returns sequence s_i = mean_{j<=i} input_j\n",
    "    sums = rasp.SequenceMap(lambda x, y: x*y, means, rasp.indices+1)\n",
    "    return sums\n",
    "\n",
    "sums = sum_of_inputs()\n",
    "\n",
    "compiled_model = compiling.compile_rasp_to_model(sums, vocab={1,2,3}, max_seq_len=5, compiler_bos=\"BOS\")\n",
    "compiled_output = compiled_model.apply([\"BOS\", 3, 2, 1, 1]).decoded\n",
    "rasp_output = sums([3, 2, 1, 1])\n",
    "\n",
    "print(\"The output of the compiled model does not match the output of the RASP program:\")\n",
    "print(rasp_output)  # output: [3.0, 5.0, 6.0, 7.0]\n",
    "print(compiled_output)  # output: ['BOS', 3, 4, 3, 4]\n",
    "\n",
    "print()\n",
    "print(\"This error gets caught by the validator:\")\n",
    "print(validating.validate(sums, [1, 2, 3]))"
   ]
  },
  {
   "cell_type": "code",
   "execution_count": 8,
   "metadata": {},
   "outputs": [
    {
     "name": "stderr",
     "output_type": "stream",
     "text": [
      "WARNING:absl:Creating a SequenceMap with both inputs being the same SOp is discouraged. You should use a Map instead.\n"
     ]
    },
    {
     "ename": "NotImplementedError",
     "evalue": "Unsupported RASP expressions:\nsequence_map: (Non-linear) SequenceMap only supports categorical inputs/outputs.\naggregate: An aggregate's output encoding must match its input encoding. Input: Encoding.NUMERICAL   Output: Encoding.CATEGORICAL  ",
     "output_type": "error",
     "traceback": [
      "\u001b[0;31m---------------------------------------------------------------------------\u001b[0m",
      "\u001b[0;31mNotImplementedError\u001b[0m                       Traceback (most recent call last)",
      "Cell \u001b[0;32mIn[8], line 13\u001b[0m\n\u001b[1;32m      9\u001b[0m     \u001b[38;5;28;01mreturn\u001b[39;00m sums\n\u001b[1;32m     11\u001b[0m sums \u001b[38;5;241m=\u001b[39m sum_of_inputs()\n\u001b[0;32m---> 13\u001b[0m compiled_model \u001b[38;5;241m=\u001b[39m \u001b[43mcompiling\u001b[49m\u001b[38;5;241;43m.\u001b[39;49m\u001b[43mcompile_rasp_to_model\u001b[49m\u001b[43m(\u001b[49m\u001b[43msums\u001b[49m\u001b[43m,\u001b[49m\u001b[43m \u001b[49m\u001b[43mvocab\u001b[49m\u001b[38;5;241;43m=\u001b[39;49m\u001b[43m{\u001b[49m\u001b[38;5;241;43m1\u001b[39;49m\u001b[43m,\u001b[49m\u001b[38;5;241;43m2\u001b[39;49m\u001b[43m,\u001b[49m\u001b[38;5;241;43m3\u001b[39;49m\u001b[43m}\u001b[49m\u001b[43m,\u001b[49m\u001b[43m \u001b[49m\u001b[43mmax_seq_len\u001b[49m\u001b[38;5;241;43m=\u001b[39;49m\u001b[38;5;241;43m5\u001b[39;49m\u001b[43m,\u001b[49m\u001b[43m \u001b[49m\u001b[43mcompiler_bos\u001b[49m\u001b[38;5;241;43m=\u001b[39;49m\u001b[38;5;124;43m\"\u001b[39;49m\u001b[38;5;124;43mBOS\u001b[39;49m\u001b[38;5;124;43m\"\u001b[39;49m\u001b[43m)\u001b[49m\n\u001b[1;32m     14\u001b[0m compiled_output \u001b[38;5;241m=\u001b[39m compiled_model\u001b[38;5;241m.\u001b[39mapply([\u001b[38;5;124m\"\u001b[39m\u001b[38;5;124mBOS\u001b[39m\u001b[38;5;124m\"\u001b[39m, \u001b[38;5;241m3\u001b[39m, \u001b[38;5;241m2\u001b[39m, \u001b[38;5;241m1\u001b[39m, \u001b[38;5;241m1\u001b[39m])\u001b[38;5;241m.\u001b[39mdecoded\n\u001b[1;32m     15\u001b[0m rasp_output \u001b[38;5;241m=\u001b[39m sums([\u001b[38;5;241m3\u001b[39m, \u001b[38;5;241m2\u001b[39m, \u001b[38;5;241m1\u001b[39m, \u001b[38;5;241m1\u001b[39m])\n",
      "File \u001b[0;32m~/projects/metamodels/tracr/tracr/compiler/compiling.py:95\u001b[0m, in \u001b[0;36mcompile_rasp_to_model\u001b[0;34m(program, vocab, max_seq_len, causal, compiler_bos, compiler_pad, mlp_exactness)\u001b[0m\n\u001b[1;32m     91\u001b[0m   error_message \u001b[38;5;241m=\u001b[39m \u001b[38;5;124m\"\u001b[39m\u001b[38;5;130;01m\\n\u001b[39;00m\u001b[38;5;124m\"\u001b[39m\u001b[38;5;241m.\u001b[39mjoin(\n\u001b[1;32m     92\u001b[0m       (\u001b[38;5;124mf\u001b[39m\u001b[38;5;124m\"\u001b[39m\u001b[38;5;132;01m{\u001b[39;00mexpr\u001b[38;5;241m.\u001b[39mexpr\u001b[38;5;241m.\u001b[39mname\u001b[38;5;132;01m}\u001b[39;00m\u001b[38;5;124m: \u001b[39m\u001b[38;5;132;01m{\u001b[39;00mexpr\u001b[38;5;241m.\u001b[39mreason\u001b[38;5;132;01m}\u001b[39;00m\u001b[38;5;124m\"\u001b[39m \u001b[38;5;28;01mfor\u001b[39;00m expr \u001b[38;5;129;01min\u001b[39;00m unsupported_exprs)\n\u001b[1;32m     93\u001b[0m   )\n\u001b[1;32m     94\u001b[0m   error_message \u001b[38;5;241m=\u001b[39m \u001b[38;5;124mf\u001b[39m\u001b[38;5;124m\"\u001b[39m\u001b[38;5;124mUnsupported RASP expressions:\u001b[39m\u001b[38;5;130;01m\\n\u001b[39;00m\u001b[38;5;132;01m{\u001b[39;00merror_message\u001b[38;5;132;01m}\u001b[39;00m\u001b[38;5;124m\"\u001b[39m\n\u001b[0;32m---> 95\u001b[0m   \u001b[38;5;28;01mraise\u001b[39;00m \u001b[38;5;167;01mNotImplementedError\u001b[39;00m(error_message)\n\u001b[1;32m     97\u001b[0m extracted \u001b[38;5;241m=\u001b[39m rasp_to_graph\u001b[38;5;241m.\u001b[39mextract_rasp_graph(program)\n\u001b[1;32m     98\u001b[0m graph, sources, sink \u001b[38;5;241m=\u001b[39m extracted\u001b[38;5;241m.\u001b[39mgraph, extracted\u001b[38;5;241m.\u001b[39msources, extracted\u001b[38;5;241m.\u001b[39msink\n",
      "\u001b[0;31mNotImplementedError\u001b[0m: Unsupported RASP expressions:\nsequence_map: (Non-linear) SequenceMap only supports categorical inputs/outputs.\naggregate: An aggregate's output encoding must match its input encoding. Input: Encoding.NUMERICAL   Output: Encoding.CATEGORICAL  "
     ]
    }
   ],
   "source": [
    "from tracr.compiler import validating\n",
    "\n",
    "# sum of all inputs up to current index\n",
    "def sum_of_inputs() -> rasp.SOp:\n",
    "    before = rasp.numerical(rasp.Select(rasp.indices, rasp.indices, rasp.Comparison.LEQ))\n",
    "    means = rasp.numerical(rasp.Aggregate(before, rasp.tokens, default=0))  # returns sequence s_i = mean_{j<=i} input_j\n",
    "#    sums = rasp.SequenceMap(lambda x, y: x*y, means, rasp.indices+1)\n",
    "    sums = means * rasp.numerical(rasp.indices+1)\n",
    "    return sums\n",
    "\n",
    "sums = sum_of_inputs()\n",
    "\n",
    "compiled_model = compiling.compile_rasp_to_model(sums, vocab={1,2,3}, max_seq_len=5, compiler_bos=\"BOS\")\n",
    "compiled_output = compiled_model.apply([\"BOS\", 3, 2, 1, 1]).decoded\n",
    "rasp_output = sums([3, 2, 1, 1])\n",
    "\n",
    "print(\"The output of the compiled model does not match the output of the RASP program:\")\n",
    "print(rasp_output)  # output: [3.0, 5.0, 6.0, 7.0]\n",
    "print(compiled_output)  # output: ['BOS', 3, 4, 3, 4]\n",
    "\n",
    "print()\n",
    "print(\"This error gets caught by the validator:\")\n",
    "print(validating.validate(sums, [1, 2, 3]))"
   ]
  },
  {
   "cell_type": "code",
   "execution_count": 4,
   "metadata": {},
   "outputs": [
    {
     "name": "stderr",
     "output_type": "stream",
     "text": [
      "WARNING:absl:Creating a SequenceMap with both inputs being the same SOp is discouraged. You should use a Map instead.\n",
      "WARNING:absl:Creating a SequenceMap with both inputs being the same SOp is discouraged. You should use a Map instead.\n",
      "WARNING:absl:Creating a SequenceMap with both inputs being the same SOp is discouraged. You should use a Map instead.\n"
     ]
    },
    {
     "name": "stdout",
     "output_type": "stream",
     "text": [
      "The output of the compiled model does not match the output of the RASP program:\n",
      "[1.0, 2.0, 2.0, 2.0, 2.0, 1.0]\n",
      "['BOS', '(', '((', '(((', '((((', '(((((', '((((((']\n",
      "\n",
      "This error gets caught by the validator:\n",
      "[TracrUnsupportedExpr(expr=<tracr.rasp.rasp.Aggregate object at 0x7febe1e4c220>, reason='Categorical aggregate does not support Selectors with width > 1 that require aggregation (eg. averaging).'), TracrUnsupportedExpr(expr=<tracr.rasp.rasp.Aggregate object at 0x7fec28288b50>, reason='Categorical aggregate does not support Selectors with width > 1 that require aggregation (eg. averaging).')]\n"
     ]
    }
   ],
   "source": [
    "# parenthesis matching: count number of unmatched left parens\n",
    "def count_unmatched_left_parens():\n",
    "    is_left = rasp.tokens == \"(\"\n",
    "    is_right = rasp.tokens == \")\"\n",
    "    before = rasp.Select(rasp.indices, rasp.indices, rasp.Comparison.LEQ)\n",
    "    count_left = rasp.Aggregate(before, is_left) * (rasp.indices + 1)\n",
    "    count_right = rasp.Aggregate(before, is_right) * (rasp.indices + 1)\n",
    "    left_unmatched = count_left - count_right\n",
    "    return left_unmatched\n",
    "\n",
    "\n",
    "count = count_unmatched_left_parens()\n",
    "\n",
    "\n",
    "compiled_model = compiling.compile_rasp_to_model(sums, vocab=set(\"abc()\"), max_seq_len=6, compiler_bos=\"BOS\")\n",
    "compiled_output = compiled_model.apply([\"BOS\", *list(\"((abc)\")]).decoded\n",
    "rasp_output = count(\"((abc)\")\n",
    "\n",
    "\n",
    "print(\"The output of the compiled model does not match the output of the RASP program:\")\n",
    "print(rasp_output)\n",
    "print(compiled_output)\n",
    "\n",
    "print()\n",
    "print(\"This error gets caught by the validator:\")\n",
    "print(validating.validate(count, list(\"((abc)\")))"
   ]
  },
  {
   "cell_type": "code",
   "execution_count": 5,
   "metadata": {},
   "outputs": [
    {
     "name": "stderr",
     "output_type": "stream",
     "text": [
      "WARNING:absl:Creating a SequenceMap with both inputs being the same SOp is discouraged. You should use a Map instead.\n"
     ]
    },
    {
     "name": "stdout",
     "output_type": "stream",
     "text": [
      "The output of the compiled model does not match the output of the RASP program:\n",
      "[0.0, 1.0, 2.0, 2.0, 2.0, 3.0]\n",
      "['BOS', 0, 0, 3, 0, 0, 0]\n",
      "\n",
      "This error gets caught by the validator:\n",
      "[TracrUnsupportedExpr(expr=<tracr.rasp.rasp.Aggregate object at 0x7febd83eb100>, reason='Categorical aggregate does not support Selectors with width > 1 that require aggregation (eg. averaging).')]\n"
     ]
    }
   ],
   "source": [
    "# count number of 'x' tokens in input\n",
    "is_x = rasp.tokens == \"x\"\n",
    "before = rasp.Select(rasp.indices, rasp.indices, rasp.Comparison.LEQ)\n",
    "freqs = rasp.Aggregate(before, is_x)\n",
    "counts = freqs * (rasp.indices + 1)\n",
    "rasp_output = counts(\"axxcdx\")\n",
    "\n",
    "counts_model = compile_rasp(counts, vocab={\"a\", \"b\", \"c\", \"d\", \"x\"}, max_seq_len=6, compiler_bos=\"BOS\")\n",
    "compiled_output = counts_model.apply([\"BOS\", \"a\", \"x\", \"x\", \"c\", \"d\", \"x\"]).decoded\n",
    "\n",
    "\n",
    "\n",
    "\n",
    "print(\"The output of the compiled model does not match the output of the RASP program:\")\n",
    "print(rasp_output)\n",
    "print(compiled_output)\n",
    "\n",
    "print()\n",
    "print(\"This error gets caught by the validator:\")\n",
    "print(validating.validate(counts, [\"a\", \"x\"]))"
   ]
  }
 ],
 "metadata": {
  "kernelspec": {
   "display_name": "meta-models",
   "language": "python",
   "name": "python3"
  },
  "language_info": {
   "codemirror_mode": {
    "name": "ipython",
    "version": 3
   },
   "file_extension": ".py",
   "mimetype": "text/x-python",
   "name": "python",
   "nbconvert_exporter": "python",
   "pygments_lexer": "ipython3",
   "version": "3.10.12"
  }
 },
 "nbformat": 4,
 "nbformat_minor": 2
}
