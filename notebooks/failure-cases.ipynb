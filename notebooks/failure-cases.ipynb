{
 "cells": [
  {
   "cell_type": "code",
   "execution_count": 1,
   "metadata": {},
   "outputs": [],
   "source": [
    "import os\n",
    "os.environ[\"XLA_PYTHON_CLIENT_PREALLOCATE\"] = \"false\"\n",
    "from tracr.rasp import rasp\n",
    "from tracr.compiler import compiling, validating\n",
    "import numpy as np\n",
    "from tracr.rasp.rasp import Map, SequenceMap, LinearSequenceMap, Select, Aggregate, Comparison, SelectorWidth, indices, tokens \n",
    "\n",
    "\n",
    "def make_length():\n",
    "    all_true_selector = rasp.Select(rasp.tokens, rasp.tokens, rasp.Comparison.TRUE)\n",
    "    return rasp.SelectorWidth(all_true_selector)\n",
    "\n",
    "\n",
    "def compile_rasp(x: rasp.SOp,\n",
    "                 vocab={0, 1, 2, 3}, \n",
    "                 max_seq_len=5, \n",
    "                 compiler_bos=\"BOS\"):\n",
    "    return compiling.compile_rasp_to_model(\n",
    "        x,\n",
    "        vocab=vocab,\n",
    "        max_seq_len=max_seq_len,\n",
    "        compiler_bos=compiler_bos,\n",
    "    )\n",
    "\n",
    "# Apply via:\n",
    "# out = model.apply([compiler_bos] + [v for v in vocab])\n",
    "# return out.decoded"
   ]
  },
  {
   "cell_type": "markdown",
   "metadata": {},
   "source": [
    "# RASP programs that don't compile correctly"
   ]
  },
  {
   "cell_type": "code",
   "execution_count": 2,
   "metadata": {},
   "outputs": [
    {
     "name": "stderr",
     "output_type": "stream",
     "text": [
      "An NVIDIA GPU may be present on this machine, but a CUDA-enabled jaxlib is not installed. Falling back to cpu.\n"
     ]
    },
    {
     "name": "stdout",
     "output_type": "stream",
     "text": [
      "The output of the compiled model does not match the output of the RASP program:\n",
      "[3, 5.0, 6.0, 7.0]\n",
      "['BOS', 3, 4, 3, 4]\n",
      "\n",
      "This error gets caught by the validator:\n",
      "[TracrUnsupportedExpr(expr=<tracr.rasp.rasp.Aggregate object at 0x7f0c60d69780>, reason='Categorical aggregate does not support Selectors with width > 1 that require aggregation (eg. averaging).')]\n"
     ]
    }
   ],
   "source": [
    "\n",
    "# sum of all inputs up to current index\n",
    "def sum_of_inputs() -> rasp.SOp:\n",
    "    before = rasp.Select(rasp.indices, rasp.indices, rasp.Comparison.LEQ)\n",
    "    means = rasp.Aggregate(before, rasp.tokens)  # returns sequence s_i = mean_{j<=i} input_j\n",
    "    sums = rasp.SequenceMap(lambda x, y: x*y, means, rasp.indices+1)\n",
    "    return sums\n",
    "\n",
    "sums = sum_of_inputs()\n",
    "\n",
    "compiled_model = compiling.compile_rasp_to_model(sums, vocab={1,2,3}, max_seq_len=5, compiler_bos=\"BOS\")\n",
    "compiled_output = compiled_model.apply([\"BOS\", 3, 2, 1, 1]).decoded\n",
    "rasp_output = sums([3, 2, 1, 1])\n",
    "\n",
    "print(\"The output of the compiled model does not match the output of the RASP program:\")\n",
    "print(rasp_output)  # output: [3.0, 5.0, 6.0, 7.0]\n",
    "print(compiled_output)  # output: ['BOS', 3, 4, 3, 4]\n",
    "\n",
    "print()\n",
    "print(\"This error gets caught by the validator:\")\n",
    "print(validating.validate(sums, [1, 2, 3]))"
   ]
  },
  {
   "cell_type": "code",
   "execution_count": 3,
   "metadata": {},
   "outputs": [
    {
     "name": "stdout",
     "output_type": "stream",
     "text": [
      "Unsupported RASP expressions:\n",
      "sequence_map: (Non-linear) SequenceMap only supports categorical inputs/outputs.\n",
      "aggregate: An aggregate's output encoding must match its input encoding. Input: Encoding.NUMERICAL   Output: Encoding.CATEGORICAL  \n"
     ]
    }
   ],
   "source": [
    "from tracr.compiler import validating\n",
    "\n",
    "# sum of all inputs up to current index\n",
    "def sum_of_inputs() -> rasp.SOp:\n",
    "    before = rasp.numerical(rasp.Select(rasp.indices, rasp.indices, rasp.Comparison.LEQ))\n",
    "    means = rasp.numerical(rasp.Aggregate(before, rasp.tokens, default=0))  # returns sequence s_i = mean_{j<=i} input_j\n",
    "#    sums = rasp.SequenceMap(lambda x, y: x*y, means, rasp.indices+1)\n",
    "    sums = means * rasp.numerical(rasp.indices+1)\n",
    "    return sums\n",
    "\n",
    "sums = sum_of_inputs()\n",
    "\n",
    "try:\n",
    "    compiled_model = compiling.compile_rasp_to_model(sums, vocab={1,2,3}, max_seq_len=5, compiler_bos=\"BOS\")\n",
    "except NotImplementedError as err:\n",
    "    print(err)\n",
    "    # caught by compiler (as of a more recent commit)\n",
    "\n",
    "\n",
    "# compiled_output = compiled_model.apply([\"BOS\", 3, 2, 1, 1]).decoded\n",
    "# rasp_output = sums([3, 2, 1, 1])\n",
    "# \n",
    "# print(\"The output of the compiled model does not match the output of the RASP program:\")\n",
    "# print(rasp_output)  # output: [3.0, 5.0, 6.0, 7.0]\n",
    "# print(compiled_output)  # output: ['BOS', 3, 4, 3, 4]\n",
    "# \n",
    "# print()\n",
    "# print(\"This error gets caught by the validator:\")\n",
    "# print(validating.validate(sums, [1, 2, 3]))"
   ]
  },
  {
   "cell_type": "code",
   "execution_count": 4,
   "metadata": {},
   "outputs": [
    {
     "name": "stdout",
     "output_type": "stream",
     "text": [
      "Unsupported RASP expressions:\n",
      "sequence_map: (Non-linear) SequenceMap only supports categorical inputs/outputs.\n",
      "aggregate: An aggregate's output encoding must match its input encoding. Input: Encoding.NUMERICAL   Output: Encoding.CATEGORICAL  \n"
     ]
    }
   ],
   "source": [
    "# parenthesis matching: count number of unmatched left parens\n",
    "def count_unmatched_left_parens():\n",
    "    is_left = rasp.tokens == \"(\"\n",
    "    is_right = rasp.tokens == \")\"\n",
    "    before = rasp.Select(rasp.indices, rasp.indices, rasp.Comparison.LEQ)\n",
    "    count_left = rasp.Aggregate(before, is_left) * (rasp.indices + 1)\n",
    "    count_right = rasp.Aggregate(before, is_right) * (rasp.indices + 1)\n",
    "    left_unmatched = count_left - count_right\n",
    "    return left_unmatched\n",
    "\n",
    "\n",
    "count = count_unmatched_left_parens()\n",
    "\n",
    "\n",
    "try:\n",
    "    compiled_model = compiling.compile_rasp_to_model(sums, vocab=set(\"abc()\"), max_seq_len=6, compiler_bos=\"BOS\")\n",
    "except NotImplementedError as err:\n",
    "    # caught by compiler now\n",
    "    print(err)\n",
    "\n",
    "\n",
    "#compiled_output = compiled_model.apply([\"BOS\", *list(\"((abc)\")]).decoded\n",
    "#rasp_output = count(\"((abc)\")\n",
    "#\n",
    "#\n",
    "#print(\"The output of the compiled model does not match the output of the RASP program:\")\n",
    "#print(rasp_output)\n",
    "#print(compiled_output)\n",
    "#\n",
    "#print()\n",
    "#print(\"This error gets caught by the validator:\")\n",
    "#print(validating.validate(count, list(\"((abc)\")))"
   ]
  },
  {
   "cell_type": "code",
   "execution_count": 5,
   "metadata": {},
   "outputs": [
    {
     "name": "stdout",
     "output_type": "stream",
     "text": [
      "The output of the compiled model does not match the output of the RASP program:\n",
      "[0, 1.0, 2.0, 2.0, 2.0, 3.0]\n",
      "['BOS', 0, 0, 3, 0, 0, 0]\n",
      "\n",
      "This error gets caught by the validator:\n",
      "[TracrUnsupportedExpr(expr=<tracr.rasp.rasp.Aggregate object at 0x7f0c5f413bb0>, reason='Categorical aggregate does not support Selectors with width > 1 that require aggregation (eg. averaging).')]\n"
     ]
    }
   ],
   "source": [
    "# count number of 'x' tokens in input\n",
    "is_x = rasp.tokens == \"x\"\n",
    "before = rasp.Select(rasp.indices, rasp.indices, rasp.Comparison.LEQ)\n",
    "freqs = rasp.Aggregate(before, is_x)\n",
    "counts = freqs * (rasp.indices + 1)\n",
    "rasp_output = counts(\"axxcdx\")\n",
    "\n",
    "counts_model = compile_rasp(counts, vocab={\"a\", \"b\", \"c\", \"d\", \"x\"}, max_seq_len=6, compiler_bos=\"BOS\")\n",
    "compiled_output = counts_model.apply([\"BOS\", \"a\", \"x\", \"x\", \"c\", \"d\", \"x\"]).decoded\n",
    "\n",
    "\n",
    "\n",
    "print(\"The output of the compiled model does not match the output of the RASP program:\")\n",
    "print(rasp_output)\n",
    "print(compiled_output)\n",
    "\n",
    "print()\n",
    "print(\"This error gets caught by the validator:\")\n",
    "print(validating.validate(counts, [\"a\", \"x\"]))"
   ]
  },
  {
   "cell_type": "code",
   "execution_count": 6,
   "metadata": {},
   "outputs": [
    {
     "name": "stdout",
     "output_type": "stream",
     "text": [
      "The output of the compiled model does not match the output of the RASP program:\n",
      "[2, 3, None, None]\n",
      "['BOS', 2, 3, 0, 1]\n",
      "\n",
      "This error is not caught by the validator:\n",
      "[]\n"
     ]
    }
   ],
   "source": [
    "sel = rasp.Select(rasp.indices, rasp.tokens, rasp.Comparison.EQ)\n",
    "float_sop = rasp.Aggregate(sel, rasp.indices)\n",
    "output = rasp.Aggregate(sel, float_sop)\n",
    "\n",
    "\n",
    "model = compile_rasp(output, vocab={1,2,3,4}, max_seq_len=5, compiler_bos=\"BOS\")\n",
    "compiled_output = model.apply([\"BOS\", 1, 2, 3, 4]).decoded\n",
    "rasp_output = output([1, 2, 3, 4])\n",
    "\n",
    "\n",
    "print(\"The output of the compiled model does not match the output of the RASP program:\")\n",
    "print(rasp_output)  # [2.0, 3.0, None, None]\n",
    "print(compiled_output) # ['BOS', 2, 3, 0, 1]\n",
    "\n",
    "print()\n",
    "print(\"This error is not caught by the validator:\")\n",
    "print(validating.validate(counts, [1, 2, 3, 4]))"
   ]
  },
  {
   "cell_type": "code",
   "execution_count": 7,
   "metadata": {},
   "outputs": [
    {
     "name": "stdout",
     "output_type": "stream",
     "text": [
      "[-2, -1, 0, 1]\n",
      "['BOS', 0.0, 0.0, 0.0, 1.0]\n",
      "\n",
      "This error is not caught by the validator:\n",
      "[]\n"
     ]
    }
   ],
   "source": [
    "# numerical SOps can't be negative\n",
    "\n",
    "program = rasp.numerical(rasp.Map(lambda x: x - 3, rasp.tokens))\n",
    "#program = rasp.Map(lambda x: x - 3, rasp.tokens)\n",
    "model = compile_rasp(program, vocab={1,2,3,4}, max_seq_len=5, compiler_bos=\"BOS\")\n",
    "\n",
    "rasp_output = program([1, 2, 3, 4])\n",
    "compiled_output = model.apply([\"BOS\", 1, 2, 3, 4]).decoded\n",
    "\n",
    "print(rasp_output)\n",
    "print(compiled_output)\n",
    "\n",
    "\n",
    "print()\n",
    "print(\"This error is not caught by the validator:\")\n",
    "print(validating.validate(program, [1, 2, 3, 4]))"
   ]
  },
  {
   "cell_type": "code",
   "execution_count": 8,
   "metadata": {},
   "outputs": [
    {
     "name": "stdout",
     "output_type": "stream",
     "text": [
      "[None, 1, 2, 3]\n",
      "['BOS', 1, 1, 2, 3]\n",
      "\n",
      "This error is not caught by the validator:\n",
      "[]\n"
     ]
    }
   ],
   "source": [
    "def shift_by(offset: int, /, sop: rasp.SOp) -> rasp.SOp:\n",
    "  \"\"\"Returns the sop, shifted by `offset`, None-padded.\"\"\"\n",
    "  select_off_by_offset = rasp.Select(rasp.indices, rasp.indices,\n",
    "                                     lambda k, q: q == k + offset)\n",
    "  out = rasp.Aggregate(select_off_by_offset, sop, default=None)\n",
    "  return out.named(f\"shift_by({offset})\")\n",
    "\n",
    "\n",
    "shift_by_one = shift_by(1, rasp.tokens)\n",
    "program = shift_by_one\n",
    "model = compiling.compile_rasp_to_model(program, vocab={1,2,3,4}, max_seq_len=5, compiler_bos=\"BOS\")\n",
    "\n",
    "rasp_output = program([1, 2, 3, 4])\n",
    "compiled_output = model.apply([\"BOS\", 1, 2, 3, 4]).decoded\n",
    "\n",
    "print(rasp_output)\n",
    "print(compiled_output)\n",
    "\n",
    "\n",
    "print()\n",
    "print(\"This error is not caught by the validator:\")\n",
    "print(validating.validate(program, [1, 2, 3, 4]))"
   ]
  },
  {
   "cell_type": "code",
   "execution_count": 9,
   "metadata": {},
   "outputs": [
    {
     "name": "stdout",
     "output_type": "stream",
     "text": [
      "[None, None, None, None]\n",
      "['BOS', 1, 1, 1, 1]\n",
      "[]\n"
     ]
    }
   ],
   "source": [
    "all_false = rasp.Select(rasp.tokens, rasp.tokens, rasp.Comparison.FALSE)\n",
    "program = rasp.Aggregate(all_false, rasp.tokens)\n",
    "model = compiling.compile_rasp_to_model(program, vocab={1,2,3,4}, max_seq_len=5, compiler_bos=\"BOS\")\n",
    "\n",
    "\n",
    "print(program([1, 2, 3, 4]))\n",
    "print(model.apply([\"BOS\", 1, 2, 3, 4]).decoded)\n",
    "print(validating.validate(program, [1, 2, 3, 4]))  # []"
   ]
  },
  {
   "cell_type": "code",
   "execution_count": 10,
   "metadata": {},
   "outputs": [
    {
     "name": "stdout",
     "output_type": "stream",
     "text": [
      "[None, None, None]\n",
      "['BOS', 3, 3, 3]\n",
      "[]\n"
     ]
    }
   ],
   "source": [
    "sel = rasp.Select(rasp.tokens, rasp.indices, rasp.Comparison.EQ)\n",
    "program = rasp.Aggregate(sel, rasp.tokens)\n",
    "model = compiling.compile_rasp_to_model(program, vocab={0,1,2,3,4,23}, max_seq_len=5, compiler_bos=\"BOS\")\n",
    "\n",
    "\n",
    "print(program([23, 3, 4]))\n",
    "print(model.apply([\"BOS\", 23, 3, 4]).decoded)\n",
    "print(validating.validate(program, [1, 2, 3, 4]))  # []"
   ]
  },
  {
   "cell_type": "code",
   "execution_count": 11,
   "metadata": {},
   "outputs": [],
   "source": [
    "# list of other failure cases caught by compiler:\n",
    "\n",
    "select_22 = Select(indices, tokens, predicate=Comparison.FALSE)\n",
    "aggregate_21 = Aggregate(select_22, tokens)    # type: categorical\n",
    "\n",
    "\n",
    "select_64 = Select(tokens, tokens, predicate=Comparison.FALSE)\n",
    "aggregate_63 = Aggregate(select_64, tokens)    # type: categorical\n",
    "\n",
    "select_77 = Select(tokens, indices, predicate=Comparison.EQ)\n",
    "aggregate_76 = Aggregate(select_77, tokens)    # type: categorical\n",
    "\n",
    "select_17 = Select(tokens, indices, predicate=Comparison.FALSE)\n",
    "aggregate_16 = Aggregate(select_17, tokens)    # type: categorical\n",
    "\n",
    "select_2 = Select(tokens, indices, predicate=Comparison.EQ)\n",
    "aggregate_1 = Aggregate(select_2, tokens)    # type: categorical\n",
    "\n",
    "select_2 = Select(tokens, indices, predicate=Comparison.EQ)\n",
    "aggregate_1 = Aggregate(select_2, tokens)    # type: categorical"
   ]
  },
  {
   "cell_type": "code",
   "execution_count": 12,
   "metadata": {},
   "outputs": [
    {
     "name": "stdout",
     "output_type": "stream",
     "text": [
      "[1.0, True, 0, 0]\n",
      "['BOS', 0.9999998807907104, 0.9999994039535522, 1.6166625300684245e-06, 1.6166625300684245e-06]\n",
      "[]\n"
     ]
    }
   ],
   "source": [
    "# numerical error?\n",
    "\n",
    "map_14 = Map(lambda x: x + 3, indices)    # type: categorical\n",
    "sequence_map_12 = SequenceMap(lambda x, y: x*y, indices, tokens)    # type: categorical\n",
    "sequence_map_13 = SequenceMap(lambda x, y: x*y, indices, map_14)    # type: categorical\n",
    "select_10 = Select(indices, sequence_map_12, predicate=Comparison.GT)\n",
    "map_11 = rasp.numerical(Map(lambda x: x > 2, sequence_map_13))    # type: bool\n",
    "aggregate_9 = rasp.numerical(Aggregate(select_10, map_11, default=0))    # type: float\n",
    "\n",
    "program = aggregate_9\n",
    "model = compiling.compile_rasp_to_model(program, vocab={1,2,3,4}, max_seq_len=5, compiler_bos=\"BOS\")\n",
    "\n",
    "\n",
    "print(program([1, 2, 3, 4]))\n",
    "print(model.apply([\"BOS\", 1, 2, 3, 4]).decoded)\n",
    "print(validating.validate(program, [1, 2, 3, 4]))  # []"
   ]
  },
  {
   "cell_type": "code",
   "execution_count": 38,
   "metadata": {},
   "outputs": [
    {
     "name": "stderr",
     "output_type": "stream",
     "text": [
      "WARNING:absl:Creating a SequenceMap with both inputs being the same SOp is discouraged. You should use a Map instead.\n"
     ]
    },
    {
     "ename": "ValueError",
     "evalue": "could not broadcast input array from shape (26,7) into shape (26,6)",
     "output_type": "error",
     "traceback": [
      "\u001b[0;31m---------------------------------------------------------------------------\u001b[0m",
      "\u001b[0;31mValueError\u001b[0m                                Traceback (most recent call last)",
      "Cell \u001b[0;32mIn[38], line 9\u001b[0m\n\u001b[1;32m      6\u001b[0m \u001b[38;5;66;03m#sel = Select(indices, indices, predicate=Comparison.EQ)  # if we do this instead, it works\u001b[39;00m\n\u001b[1;32m      7\u001b[0m program \u001b[38;5;241m=\u001b[39m Aggregate(sel, m)    \u001b[38;5;66;03m# type: categorical\u001b[39;00m\n\u001b[0;32m----> 9\u001b[0m model \u001b[38;5;241m=\u001b[39m \u001b[43mcompiling\u001b[49m\u001b[38;5;241;43m.\u001b[39;49m\u001b[43mcompile_rasp_to_model\u001b[49m\u001b[43m(\u001b[49m\u001b[43mprogram\u001b[49m\u001b[43m,\u001b[49m\u001b[43m \u001b[49m\u001b[43mvocab\u001b[49m\u001b[38;5;241;43m=\u001b[39;49m\u001b[43m{\u001b[49m\u001b[38;5;241;43m1\u001b[39;49m\u001b[43m,\u001b[49m\u001b[38;5;241;43m2\u001b[39;49m\u001b[43m,\u001b[49m\u001b[38;5;241;43m3\u001b[39;49m\u001b[43m,\u001b[49m\u001b[38;5;241;43m4\u001b[39;49m\u001b[43m}\u001b[49m\u001b[43m,\u001b[49m\u001b[43m \u001b[49m\u001b[43mmax_seq_len\u001b[49m\u001b[38;5;241;43m=\u001b[39;49m\u001b[38;5;241;43m5\u001b[39;49m\u001b[43m,\u001b[49m\u001b[43m \u001b[49m\u001b[43mcompiler_bos\u001b[49m\u001b[38;5;241;43m=\u001b[39;49m\u001b[38;5;124;43m\"\u001b[39;49m\u001b[38;5;124;43mBOS\u001b[39;49m\u001b[38;5;124;43m\"\u001b[39;49m\u001b[43m)\u001b[49m\n\u001b[1;32m     12\u001b[0m \u001b[38;5;28mprint\u001b[39m(program([\u001b[38;5;241m1\u001b[39m, \u001b[38;5;241m2\u001b[39m, \u001b[38;5;241m3\u001b[39m, \u001b[38;5;241m4\u001b[39m]))\n\u001b[1;32m     13\u001b[0m \u001b[38;5;28mprint\u001b[39m(model\u001b[38;5;241m.\u001b[39mapply([\u001b[38;5;124m\"\u001b[39m\u001b[38;5;124mBOS\u001b[39m\u001b[38;5;124m\"\u001b[39m, \u001b[38;5;241m1\u001b[39m, \u001b[38;5;241m2\u001b[39m, \u001b[38;5;241m3\u001b[39m, \u001b[38;5;241m4\u001b[39m])\u001b[38;5;241m.\u001b[39mdecoded)\n",
      "File \u001b[0;32m~/projects/metamodels/tracr/tracr/compiler/compiling.py:115\u001b[0m, in \u001b[0;36mcompile_rasp_to_model\u001b[0;34m(program, vocab, max_seq_len, causal, compiler_bos, compiler_pad, mlp_exactness)\u001b[0m\n\u001b[1;32m    107\u001b[0m expr_to_craft_graph\u001b[38;5;241m.\u001b[39madd_craft_components_to_rasp_graph(\n\u001b[1;32m    108\u001b[0m     graph,\n\u001b[1;32m    109\u001b[0m     bos_dir\u001b[38;5;241m=\u001b[39mbases\u001b[38;5;241m.\u001b[39mBasisDirection(rasp\u001b[38;5;241m.\u001b[39mtokens\u001b[38;5;241m.\u001b[39mlabel, compiler_bos),\n\u001b[1;32m    110\u001b[0m     mlp_exactness\u001b[38;5;241m=\u001b[39mmlp_exactness,\n\u001b[1;32m    111\u001b[0m )\n\u001b[1;32m    113\u001b[0m craft_model \u001b[38;5;241m=\u001b[39m craft_graph_to_model\u001b[38;5;241m.\u001b[39mcraft_graph_to_model(graph, sources)\n\u001b[0;32m--> 115\u001b[0m \u001b[38;5;28;01mreturn\u001b[39;00m \u001b[43mcraft_model_to_transformer\u001b[49m\u001b[38;5;241;43m.\u001b[39;49m\u001b[43mcraft_model_to_transformer\u001b[49m\u001b[43m(\u001b[49m\n\u001b[1;32m    116\u001b[0m \u001b[43m    \u001b[49m\u001b[43mcraft_model\u001b[49m\u001b[38;5;241;43m=\u001b[39;49m\u001b[43mcraft_model\u001b[49m\u001b[43m,\u001b[49m\n\u001b[1;32m    117\u001b[0m \u001b[43m    \u001b[49m\u001b[43mgraph\u001b[49m\u001b[38;5;241;43m=\u001b[39;49m\u001b[43mgraph\u001b[49m\u001b[43m,\u001b[49m\n\u001b[1;32m    118\u001b[0m \u001b[43m    \u001b[49m\u001b[43msink\u001b[49m\u001b[38;5;241;43m=\u001b[39;49m\u001b[43msink\u001b[49m\u001b[43m,\u001b[49m\n\u001b[1;32m    119\u001b[0m \u001b[43m    \u001b[49m\u001b[43mmax_seq_len\u001b[49m\u001b[38;5;241;43m=\u001b[39;49m\u001b[43mmax_seq_len\u001b[49m\u001b[43m,\u001b[49m\n\u001b[1;32m    120\u001b[0m \u001b[43m    \u001b[49m\u001b[43mcausal\u001b[49m\u001b[38;5;241;43m=\u001b[39;49m\u001b[43mcausal\u001b[49m\u001b[43m,\u001b[49m\n\u001b[1;32m    121\u001b[0m \u001b[43m    \u001b[49m\u001b[43mcompiler_bos\u001b[49m\u001b[38;5;241;43m=\u001b[39;49m\u001b[43mcompiler_bos\u001b[49m\u001b[43m,\u001b[49m\n\u001b[1;32m    122\u001b[0m \u001b[43m    \u001b[49m\u001b[43mcompiler_pad\u001b[49m\u001b[38;5;241;43m=\u001b[39;49m\u001b[43mcompiler_pad\u001b[49m\u001b[43m,\u001b[49m\n\u001b[1;32m    123\u001b[0m \u001b[43m\u001b[49m\u001b[43m)\u001b[49m\n",
      "File \u001b[0;32m~/projects/metamodels/tracr/tracr/compiler/craft_model_to_transformer.py:55\u001b[0m, in \u001b[0;36mcraft_model_to_transformer\u001b[0;34m(craft_model, graph, sink, max_seq_len, compiler_bos, compiler_pad, causal)\u001b[0m\n\u001b[1;32m     52\u001b[0m categorical_output \u001b[38;5;241m=\u001b[39m rasp\u001b[38;5;241m.\u001b[39mis_categorical(sink[nodes\u001b[38;5;241m.\u001b[39mEXPR])\n\u001b[1;32m     53\u001b[0m output_space \u001b[38;5;241m=\u001b[39m bases\u001b[38;5;241m.\u001b[39mVectorSpaceWithBasis(sink[nodes\u001b[38;5;241m.\u001b[39mOUTPUT_BASIS])\n\u001b[0;32m---> 55\u001b[0m assembled_model \u001b[38;5;241m=\u001b[39m \u001b[43massemble\u001b[49m\u001b[38;5;241;43m.\u001b[39;49m\u001b[43massemble_craft_model\u001b[49m\u001b[43m(\u001b[49m\n\u001b[1;32m     56\u001b[0m \u001b[43m    \u001b[49m\u001b[43mcraft_model\u001b[49m\u001b[38;5;241;43m=\u001b[39;49m\u001b[43mcraft_model\u001b[49m\u001b[43m,\u001b[49m\n\u001b[1;32m     57\u001b[0m \u001b[43m    \u001b[49m\u001b[43mtokens_space\u001b[49m\u001b[38;5;241;43m=\u001b[39;49m\u001b[43mtokens_space\u001b[49m\u001b[43m,\u001b[49m\n\u001b[1;32m     58\u001b[0m \u001b[43m    \u001b[49m\u001b[43mindices_space\u001b[49m\u001b[38;5;241;43m=\u001b[39;49m\u001b[43mindices_space\u001b[49m\u001b[43m,\u001b[49m\n\u001b[1;32m     59\u001b[0m \u001b[43m    \u001b[49m\u001b[43moutput_space\u001b[49m\u001b[38;5;241;43m=\u001b[39;49m\u001b[43moutput_space\u001b[49m\u001b[43m,\u001b[49m\n\u001b[1;32m     60\u001b[0m \u001b[43m    \u001b[49m\u001b[43mcategorical_output\u001b[49m\u001b[38;5;241;43m=\u001b[39;49m\u001b[43mcategorical_output\u001b[49m\u001b[43m,\u001b[49m\n\u001b[1;32m     61\u001b[0m \u001b[43m    \u001b[49m\u001b[43mcausal\u001b[49m\u001b[38;5;241;43m=\u001b[39;49m\u001b[43mcausal\u001b[49m\u001b[43m,\u001b[49m\n\u001b[1;32m     62\u001b[0m \u001b[43m\u001b[49m\u001b[43m)\u001b[49m\n\u001b[1;32m     64\u001b[0m assembled_model\u001b[38;5;241m.\u001b[39minput_encoder \u001b[38;5;241m=\u001b[39m encoder\u001b[38;5;241m.\u001b[39mCategoricalEncoder(\n\u001b[1;32m     65\u001b[0m     basis\u001b[38;5;241m=\u001b[39mtokens_space\u001b[38;5;241m.\u001b[39mbasis,\n\u001b[1;32m     66\u001b[0m     enforce_bos\u001b[38;5;241m=\u001b[39mcompiler_bos \u001b[38;5;129;01mis\u001b[39;00m \u001b[38;5;129;01mnot\u001b[39;00m \u001b[38;5;28;01mNone\u001b[39;00m,\n\u001b[0;32m   (...)\u001b[0m\n\u001b[1;32m     69\u001b[0m     max_seq_len\u001b[38;5;241m=\u001b[39mmax_seq_len \u001b[38;5;241m+\u001b[39m \u001b[38;5;241m1\u001b[39m \u001b[38;5;28;01mif\u001b[39;00m compiler_bos \u001b[38;5;129;01mis\u001b[39;00m \u001b[38;5;129;01mnot\u001b[39;00m \u001b[38;5;28;01mNone\u001b[39;00m \u001b[38;5;28;01melse\u001b[39;00m max_seq_len,\n\u001b[1;32m     70\u001b[0m )\n\u001b[1;32m     72\u001b[0m \u001b[38;5;28;01mif\u001b[39;00m categorical_output:\n",
      "File \u001b[0;32m~/projects/metamodels/tracr/tracr/compiler/assemble.py:303\u001b[0m, in \u001b[0;36massemble_craft_model\u001b[0;34m(craft_model, tokens_space, indices_space, output_space, categorical_output, causal)\u001b[0m\n\u001b[1;32m    301\u001b[0m value_mat \u001b[38;5;241m=\u001b[39m np\u001b[38;5;241m.\u001b[39mzeros((residual_space\u001b[38;5;241m.\u001b[39mnum_dims, model_config\u001b[38;5;241m.\u001b[39mkey_size))\n\u001b[1;32m    302\u001b[0m residual_to_ov_input \u001b[38;5;241m=\u001b[39m project(head\u001b[38;5;241m.\u001b[39mw_ov\u001b[38;5;241m.\u001b[39minput_space)\n\u001b[0;32m--> 303\u001b[0m \u001b[43mvalue_mat\u001b[49m\u001b[43m[\u001b[49m\u001b[43m:\u001b[49m\u001b[43m,\u001b[49m\u001b[43m \u001b[49m\u001b[43m:\u001b[49m\u001b[43mvalue_size\u001b[49m\u001b[43m]\u001b[49m \u001b[38;5;241m=\u001b[39m residual_to_ov_input \u001b[38;5;241m@\u001b[39m head\u001b[38;5;241m.\u001b[39mw_ov\u001b[38;5;241m.\u001b[39mmatrix\n\u001b[1;32m    304\u001b[0m value\u001b[38;5;241m.\u001b[39mappend(value_mat)\n\u001b[1;32m    306\u001b[0m linear_mat \u001b[38;5;241m=\u001b[39m np\u001b[38;5;241m.\u001b[39mzeros((model_config\u001b[38;5;241m.\u001b[39mkey_size, residual_space\u001b[38;5;241m.\u001b[39mnum_dims))\n",
      "\u001b[0;31mValueError\u001b[0m: could not broadcast input array from shape (26,7) into shape (26,6)"
     ]
    }
   ],
   "source": [
    "m = SequenceMap(lambda x, y: x+y, tokens, tokens)    # type: categorical\n",
    "sel = Select(tokens, tokens, predicate=Comparison.EQ)\n",
    "program = Aggregate(sel, m)    # type: categorical\n",
    "\n",
    "model = compiling.compile_rasp_to_model(program, vocab={1,2,3,4}, max_seq_len=5, compiler_bos=\"BOS\")\n",
    "\n",
    "\n",
    "print(program([1, 2, 3, 4]))\n",
    "print(model.apply([\"BOS\", 1, 2, 3, 4]).decoded)\n",
    "print(validating.validate(program, [1, 2, 3, 4]))  # []\n"
   ]
  }
 ],
 "metadata": {
  "kernelspec": {
   "display_name": "meta-models",
   "language": "python",
   "name": "python3"
  },
  "language_info": {
   "codemirror_mode": {
    "name": "ipython",
    "version": 3
   },
   "file_extension": ".py",
   "mimetype": "text/x-python",
   "name": "python",
   "nbconvert_exporter": "python",
   "pygments_lexer": "ipython3",
   "version": "3.10.12"
  }
 },
 "nbformat": 4,
 "nbformat_minor": 2
}
