{
 "cells": [
  {
   "cell_type": "code",
   "execution_count": 1,
   "metadata": {},
   "outputs": [],
   "source": [
    "import os\n",
    "import inspect\n",
    "os.environ[\"XLA_PYTHON_CLIENT_PREALLOCATE\"] = \"false\"\n",
    "from tracr.rasp import rasp\n",
    "from tracr.compiler import compiling, rasp_to_graph\n",
    "import numpy as np\n",
    "from tracr.compiler.validating import validate\n",
    "from typing import Union, TypeVar\n",
    "from rasp_generator import map_primitives, sampling, utils\n",
    "import networkx as nx\n",
    "\n",
    "from tracr.rasp.rasp import Map, SequenceMap, LinearSequenceMap, Select, Aggregate, Comparison, SelectorWidth, indices, tokens \n",
    "\n",
    "\n",
    "def compile_rasp_to_model(sop: rasp.SOp, vocab={1,2,3,4}, max_seq_len=5, compiler_bos=\"BOS\"):\n",
    "    return compiling.compile_rasp_to_model(\n",
    "        sop,\n",
    "        vocab=vocab,\n",
    "        max_seq_len=max_seq_len,\n",
    "        compiler_bos=compiler_bos\n",
    "    )\n",
    "\n",
    "\n",
    "TEST_INPUT = [1,2,3,4]"
   ]
  },
  {
   "cell_type": "markdown",
   "metadata": {},
   "source": [
    "# Program Generation"
   ]
  },
  {
   "cell_type": "code",
   "execution_count": 2,
   "metadata": {},
   "outputs": [],
   "source": [
    "# Remaining problems\n",
    "# - sometimes categorical Aggregate is hard to sample (reaches max retries)\n",
    "# - sometimes a sampled program doesn't depend on rasp.tokens\n",
    "# - sometimes programs are trivial (e.g. output is all Nones)\n",
    "# - I suspect that sometimes the output is constant. TODO: check multiple inputs\n",
    "\n",
    "\n",
    "# TODOS\n",
    "# - remove SOps that are all (or mostly) None\n",
    "# - maybe remove / downweight constant SOps?"
   ]
  },
  {
   "cell_type": "code",
   "execution_count": 36,
   "metadata": {},
   "outputs": [
    {
     "name": "stderr",
     "output_type": "stream",
     "text": [
      "WARNING:absl:Creating a SequenceMap with both inputs being the same SOp is discouraged. You should use a Map instead.\n",
      "WARNING:absl:Creating a SequenceMap with both inputs being the same SOp is discouraged. You should use a Map instead.\n"
     ]
    },
    {
     "ename": "ValueError",
     "evalue": "Compiled program aggregate_51 does not match RASP output.\nCompiled output: [1, 1, 2, 3]\nRASP output: [None, 1, 2, 3]\nTest input: [1, 2, 3, 4]\nSOp: <tracr.rasp.rasp.Aggregate object at 0x7f734cc2bb20>",
     "output_type": "error",
     "traceback": [
      "\u001b[0;31m---------------------------------------------------------------------------\u001b[0m",
      "\u001b[0;31mValueError\u001b[0m                                Traceback (most recent call last)",
      "Cell \u001b[0;32mIn[36], line 2\u001b[0m\n\u001b[1;32m      1\u001b[0m sampler \u001b[38;5;241m=\u001b[39m sampling\u001b[38;5;241m.\u001b[39mProgramSampler(validate_compilation\u001b[38;5;241m=\u001b[39m\u001b[38;5;28;01mTrue\u001b[39;00m)\n\u001b[0;32m----> 2\u001b[0m \u001b[43msampler\u001b[49m\u001b[38;5;241;43m.\u001b[39;49m\u001b[43msample\u001b[49m\u001b[43m(\u001b[49m\u001b[43m)\u001b[49m\n\u001b[1;32m      3\u001b[0m \u001b[38;5;28mprint\u001b[39m(sampler\u001b[38;5;241m.\u001b[39moutput([\u001b[38;5;241m1\u001b[39m,\u001b[38;5;241m2\u001b[39m,\u001b[38;5;241m3\u001b[39m,\u001b[38;5;241m4\u001b[39m]))\n",
      "File \u001b[0;32m~/projects/metamodels/rasp-generator/rasp_generator/sampling.py:234\u001b[0m, in \u001b[0;36mProgramSampler.sample\u001b[0;34m(self, n_sops)\u001b[0m\n\u001b[1;32m    232\u001b[0m     \u001b[38;5;28mself\u001b[39m\u001b[38;5;241m.\u001b[39madd_sop()\n\u001b[1;32m    233\u001b[0m \u001b[38;5;28mself\u001b[39m\u001b[38;5;241m.\u001b[39moutput \u001b[38;5;241m=\u001b[39m \u001b[38;5;28mself\u001b[39m\u001b[38;5;241m.\u001b[39msops[\u001b[38;5;241m-\u001b[39m\u001b[38;5;241m1\u001b[39m]\n\u001b[0;32m--> 234\u001b[0m \u001b[38;5;28;43mself\u001b[39;49m\u001b[38;5;241;43m.\u001b[39;49m\u001b[43mvalidate\u001b[49m\u001b[43m(\u001b[49m\u001b[43m)\u001b[49m\n",
      "File \u001b[0;32m~/projects/metamodels/rasp-generator/rasp_generator/sampling.py:244\u001b[0m, in \u001b[0;36mProgramSampler.validate\u001b[0;34m(self)\u001b[0m\n\u001b[1;32m    242\u001b[0m     \u001b[38;5;28;01mraise\u001b[39;00m \u001b[38;5;167;01mValueError\u001b[39;00m(\u001b[38;5;124mf\u001b[39m\u001b[38;5;124m\"\u001b[39m\u001b[38;5;124mInvalid program: \u001b[39m\u001b[38;5;132;01m{\u001b[39;00merrs\u001b[38;5;132;01m}\u001b[39;00m\u001b[38;5;124m\"\u001b[39m)\n\u001b[1;32m    243\u001b[0m \u001b[38;5;28;01mif\u001b[39;00m \u001b[38;5;28mself\u001b[39m\u001b[38;5;241m.\u001b[39mvalidate_compilation:\n\u001b[0;32m--> 244\u001b[0m     \u001b[43mvalidate_compilation\u001b[49m\u001b[43m(\u001b[49m\u001b[43msop\u001b[49m\u001b[43m,\u001b[49m\u001b[43m \u001b[49m\u001b[43m[\u001b[49m\u001b[43mTEST_INPUT\u001b[49m\u001b[43m]\u001b[49m\u001b[43m)\u001b[49m\n\u001b[1;32m    245\u001b[0m \u001b[38;5;28;01mreturn\u001b[39;00m\n",
      "File \u001b[0;32m~/projects/metamodels/rasp-generator/rasp_generator/sampling.py:203\u001b[0m, in \u001b[0;36mvalidate_compilation\u001b[0;34m(expr, test_inputs)\u001b[0m\n\u001b[1;32m    200\u001b[0m out \u001b[38;5;241m=\u001b[39m model\u001b[38;5;241m.\u001b[39mapply([\u001b[38;5;124m\"\u001b[39m\u001b[38;5;124mBOS\u001b[39m\u001b[38;5;124m\"\u001b[39m] \u001b[38;5;241m+\u001b[39m test_input)\u001b[38;5;241m.\u001b[39mdecoded[\u001b[38;5;241m1\u001b[39m:]\n\u001b[1;32m    202\u001b[0m \u001b[38;5;28;01mif\u001b[39;00m \u001b[38;5;129;01mnot\u001b[39;00m np\u001b[38;5;241m.\u001b[39mallclose(out, rasp_out_sanitized):\n\u001b[0;32m--> 203\u001b[0m     \u001b[38;5;28;01mraise\u001b[39;00m \u001b[38;5;167;01mValueError\u001b[39;00m(\u001b[38;5;124mf\u001b[39m\u001b[38;5;124m\"\u001b[39m\u001b[38;5;124mCompiled program \u001b[39m\u001b[38;5;132;01m{\u001b[39;00mexpr\u001b[38;5;241m.\u001b[39mlabel\u001b[38;5;132;01m}\u001b[39;00m\u001b[38;5;124m does not match RASP output.\u001b[39m\u001b[38;5;130;01m\\n\u001b[39;00m\u001b[38;5;124m\"\u001b[39m\n\u001b[1;32m    204\u001b[0m                      \u001b[38;5;124mf\u001b[39m\u001b[38;5;124m\"\u001b[39m\u001b[38;5;124mCompiled output: \u001b[39m\u001b[38;5;132;01m{\u001b[39;00mout\u001b[38;5;132;01m}\u001b[39;00m\u001b[38;5;130;01m\\n\u001b[39;00m\u001b[38;5;124m\"\u001b[39m\n\u001b[1;32m    205\u001b[0m                      \u001b[38;5;124mf\u001b[39m\u001b[38;5;124m\"\u001b[39m\u001b[38;5;124mRASP output: \u001b[39m\u001b[38;5;132;01m{\u001b[39;00mrasp_out\u001b[38;5;132;01m}\u001b[39;00m\u001b[38;5;130;01m\\n\u001b[39;00m\u001b[38;5;124m\"\u001b[39m\n\u001b[1;32m    206\u001b[0m                      \u001b[38;5;124mf\u001b[39m\u001b[38;5;124m\"\u001b[39m\u001b[38;5;124mTest input: \u001b[39m\u001b[38;5;132;01m{\u001b[39;00mtest_input\u001b[38;5;132;01m}\u001b[39;00m\u001b[38;5;130;01m\\n\u001b[39;00m\u001b[38;5;124m\"\u001b[39m\n\u001b[1;32m    207\u001b[0m                      \u001b[38;5;124mf\u001b[39m\u001b[38;5;124m\"\u001b[39m\u001b[38;5;124mSOp: \u001b[39m\u001b[38;5;132;01m{\u001b[39;00mexpr\u001b[38;5;132;01m}\u001b[39;00m\u001b[38;5;124m\"\u001b[39m)\n",
      "\u001b[0;31mValueError\u001b[0m: Compiled program aggregate_51 does not match RASP output.\nCompiled output: [1, 1, 2, 3]\nRASP output: [None, 1, 2, 3]\nTest input: [1, 2, 3, 4]\nSOp: <tracr.rasp.rasp.Aggregate object at 0x7f734cc2bb20>"
     ]
    }
   ],
   "source": [
    "sampler = sampling.ProgramSampler(validate_compilation=True)\n",
    "sampler.sample()\n",
    "print(sampler.output([1,2,3,4]))"
   ]
  },
  {
   "cell_type": "code",
   "execution_count": 37,
   "metadata": {},
   "outputs": [
    {
     "name": "stdout",
     "output_type": "stream",
     "text": [
      "select_52 = Select(tokens, indices, predicate=Comparison.EQ)\n",
      "aggregate_51 = Aggregate(select_52, tokens)    # type: categorical\n"
     ]
    }
   ],
   "source": [
    "utils.print_program(sampler.sops[2])"
   ]
  },
  {
   "cell_type": "code",
   "execution_count": 14,
   "metadata": {},
   "outputs": [
    {
     "name": "stdout",
     "output_type": "stream",
     "text": [
      "select_15 = Select(indices, indices, predicate=Comparison.EQ)\n",
      "select_23 = Select(indices, indices, predicate=Comparison.EQ)\n",
      "select_24 = Select(indices, tokens, predicate=Comparison.NEQ)\n",
      "aggregate_14 = Aggregate(select_15, indices)    # type: categorical\n",
      "selector_width_22 = SelectorWidth(select_24)    # type: categorical\n",
      "aggregate_21 = Aggregate(select_23, selector_width_22)    # type: categorical\n",
      "select_20 = Select(aggregate_21, selector_width_22, predicate=Comparison.GT)\n",
      "selector_width_19 = SelectorWidth(select_20)    # type: categorical\n",
      "select_18 = Select(aggregate_14, selector_width_19, predicate=Comparison.LT)\n",
      "aggregate_17 = Aggregate(select_18, selector_width_19)    # type: categorical\n",
      "sequence_map_16 = SequenceMap(lambda x, y: x*y, aggregate_17, indices)    # type: categorical\n",
      "\n",
      "\n",
      "select_15 = Select(indices, indices, predicate=Comparison.EQ)\n",
      "select_23 = Select(indices, indices, predicate=Comparison.EQ)\n",
      "select_24 = Select(indices, tokens, predicate=Comparison.NEQ)\n",
      "aggregate_14 = Aggregate(select_15, indices)    # output: [0, 1, 2, 3]\n",
      "selector_width_22 = SelectorWidth(select_24)    # output: [3, 3, 3, 4]\n",
      "aggregate_21 = Aggregate(select_23, selector_width_22)    # output: [3, 3, 3, 4]\n",
      "select_20 = Select(aggregate_21, selector_width_22, predicate=Comparison.GT)\n",
      "selector_width_19 = SelectorWidth(select_20)    # output: [1, 1, 1, 0]\n",
      "select_18 = Select(aggregate_14, selector_width_19, predicate=Comparison.LT)\n",
      "aggregate_17 = Aggregate(select_18, selector_width_19)    # output: [1, 1, 1, None]\n",
      "sequence_map_16 = SequenceMap(lambda x, y: x*y, aggregate_17, indices)    # output: [0, 1, 2, None]\n"
     ]
    }
   ],
   "source": [
    "# print program with and without test input\n",
    "k = 1\n",
    "utils.print_program(sampler.sops[-k])\n",
    "print()\n",
    "print()\n",
    "utils.print_program(sampler.sops[-k], TEST_INPUT)"
   ]
  }
 ],
 "metadata": {
  "kernelspec": {
   "display_name": "meta-models",
   "language": "python",
   "name": "python3"
  },
  "language_info": {
   "codemirror_mode": {
    "name": "ipython",
    "version": 3
   },
   "file_extension": ".py",
   "mimetype": "text/x-python",
   "name": "python",
   "nbconvert_exporter": "python",
   "pygments_lexer": "ipython3",
   "version": "3.10.12"
  }
 },
 "nbformat": 4,
 "nbformat_minor": 2
}
