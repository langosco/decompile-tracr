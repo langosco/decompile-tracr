{
 "cells": [
  {
   "cell_type": "code",
   "execution_count": 6,
   "metadata": {},
   "outputs": [],
   "source": [
    "from collections import defaultdict\n",
    "import os\n",
    "import inspect\n",
    "os.environ[\"XLA_PYTHON_CLIENT_PREALLOCATE\"] = \"false\"\n",
    "from tracr.rasp import rasp\n",
    "from tracr.compiler import compiling, rasp_to_graph\n",
    "import numpy as np\n",
    "from tracr.compiler.validating import validate\n",
    "from rasp_generator import map_primitives, sampling, utils\n",
    "import networkx as nx\n",
    "from pympler import asizeof\n",
    "from tracr.rasp.rasp import Map, SequenceMap, LinearSequenceMap, Select, Aggregate, Comparison, SelectorWidth, indices, tokens \n",
    "\n",
    "rng = np.random.default_rng()\n",
    "\n",
    "def compile_rasp_to_model(sop: rasp.SOp, vocab={0,1,2,3,4}, max_seq_len=5, compiler_bos=\"BOS\"):\n",
    "    return compiling.compile_rasp_to_model(\n",
    "        sop,\n",
    "        vocab=vocab,\n",
    "        max_seq_len=max_seq_len,\n",
    "        compiler_bos=compiler_bos\n",
    "    )\n",
    "\n",
    "\n",
    "TEST_INPUTS = [\n",
    "    [1,2,3,4],\n",
    "    [0,1,2,3,4],\n",
    "    [1,1,1,1],\n",
    "    [0,0,0,0],\n",
    "    [1,0,1,0],\n",
    "    [2,4,2,1],\n",
    "    [4,4,4,3],\n",
    "]"
   ]
  },
  {
   "cell_type": "code",
   "execution_count": 35,
   "metadata": {},
   "outputs": [
    {
     "name": "stdout",
     "output_type": "stream",
     "text": [
      "Retries encountered:\n",
      "\n",
      "SamplingError(\"Could not sample categorical Aggregate with valid output domain (Maximum retries reached). This because the sampler couldn't find a selector with width 1, and other sampled selectors don't result in an output domain that is a subset of the input domain.\") (tried to sample categorical_aggregate)\n",
      "EmptyScopeError('Filter failed. No SOps of type float in scope.') (tried to sample linear_sequence_map)\n",
      "EmptyScopeError('Filter failed. No SOps of type float in scope.') (tried to sample linear_sequence_map)\n",
      "SamplingError(\"Could not sample categorical Aggregate with valid output domain (Maximum retries reached). This because the sampler couldn't find a selector with width 1, and other sampled selectors don't result in an output domain that is a subset of the input domain.\") (tried to sample categorical_aggregate)\n",
      "\n",
      "Program outputs:\n",
      "[0, False, 0.0, 0.0]\n",
      "[False, 0.0, 0.0, 0.0, 0.0]\n",
      "[0, 0.0, 0.0, 0.0]\n",
      "[0.0, 0.0, 0.0, 0.0]\n",
      "[0.0, 0.0, 0.0, 0.0]\n",
      "[0, False, 0.0, 0.0]\n",
      "[0, 0, 0, False]\n"
     ]
    }
   ],
   "source": [
    "sampler = sampling.ProgramSampler(validate_compilation=False, disable_categorical_aggregate=False)\n",
    "errs = sampler.sample(n_sops=30)\n",
    "print(\"Retries encountered:\")\n",
    "print()\n",
    "for err in errs:\n",
    "    print(err)\n",
    "print()\n",
    "print(\"Program outputs:\")\n",
    "for x in TEST_INPUTS:\n",
    "    print(sampler.program(x))"
   ]
  },
  {
   "cell_type": "code",
   "execution_count": 36,
   "metadata": {},
   "outputs": [],
   "source": [
    "sampler = sampling.ProgramSampler(validate_compilation=False, disable_categorical_aggregate=False)\n",
    "errs = sampler.sample(n_sops=30)"
   ]
  },
  {
   "cell_type": "code",
   "execution_count": 37,
   "metadata": {},
   "outputs": [],
   "source": [
    "model = compile_rasp_to_model(sampler.program)"
   ]
  },
  {
   "cell_type": "code",
   "execution_count": 20,
   "metadata": {},
   "outputs": [
    {
     "name": "stdout",
     "output_type": "stream",
     "text": [
      "map_21 = Map(lambda x: x + 3, tokens)    # type: categorical\n",
      "sequence_map_22 = SequenceMap(lambda x, y: x*y, tokens, indices)    # type: categorical\n",
      "select_20 = Select(map_21, sequence_map_22, predicate=Comparison.LEQ)\n",
      "selector_width_19 = SelectorWidth(select_20)    # type: categorical\n",
      "select_18 = Select(selector_width_19, tokens, predicate=Comparison.LT)\n",
      "selector_width_17 = SelectorWidth(select_18)    # type: categorical\n",
      "map_15 = Map(lambda x: x + 4, selector_width_17)    # type: categorical\n",
      "select_16 = Select(selector_width_17, tokens, predicate=Comparison.GEQ)\n",
      "selector_width_14 = SelectorWidth(select_16)    # type: categorical\n",
      "sequence_map_13 = SequenceMap(lambda x, y: x*y, selector_width_14, map_15)    # type: categorical\n",
      "select_12 = Select(tokens, sequence_map_13, predicate=Comparison.EQ)\n",
      "selector_width_11 = SelectorWidth(select_12)    # type: categorical\n",
      "\n",
      "\n",
      "map_21 = Map(lambda x: x + 3, tokens)    # output: [4, 5, 6, 7]\n",
      "sequence_map_22 = SequenceMap(lambda x, y: x*y, tokens, indices)    # output: [0, 2, 6, 12]\n",
      "select_20 = Select(map_21, sequence_map_22, predicate=Comparison.LEQ)\n",
      "selector_width_19 = SelectorWidth(select_20)    # output: [0, 0, 3, 4]\n",
      "select_18 = Select(selector_width_19, tokens, predicate=Comparison.LT)\n",
      "selector_width_17 = SelectorWidth(select_18)    # output: [2, 2, 2, 3]\n",
      "map_15 = Map(lambda x: x + 4, selector_width_17)    # output: [6, 6, 6, 7]\n",
      "select_16 = Select(selector_width_17, tokens, predicate=Comparison.GEQ)\n",
      "selector_width_14 = SelectorWidth(select_16)    # output: [4, 4, 1, 0]\n",
      "sequence_map_13 = SequenceMap(lambda x, y: x*y, selector_width_14, map_15)    # output: [24, 24, 6, 0]\n",
      "select_12 = Select(tokens, sequence_map_13, predicate=Comparison.EQ)\n",
      "selector_width_11 = SelectorWidth(select_12)    # output: [0, 0, 0, 0]\n"
     ]
    }
   ],
   "source": [
    "# print program with and without test input\n",
    "k = 1\n",
    "utils.print_program(sampler.sops[-k])\n",
    "print()\n",
    "print()\n",
    "utils.print_program(sampler.sops[-k], TEST_INPUTS[0])"
   ]
  }
 ],
 "metadata": {
  "kernelspec": {
   "display_name": "meta-models",
   "language": "python",
   "name": "python3"
  },
  "language_info": {
   "codemirror_mode": {
    "name": "ipython",
    "version": 3
   },
   "file_extension": ".py",
   "mimetype": "text/x-python",
   "name": "python",
   "nbconvert_exporter": "python",
   "pygments_lexer": "ipython3",
   "version": "3.10.12"
  }
 },
 "nbformat": 4,
 "nbformat_minor": 2
}
