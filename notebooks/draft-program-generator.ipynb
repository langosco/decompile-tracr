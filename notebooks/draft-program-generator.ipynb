{
 "cells": [
  {
   "cell_type": "code",
   "execution_count": 6,
   "metadata": {},
   "outputs": [],
   "source": [
    "import os\n",
    "os.environ[\"XLA_PYTHON_CLIENT_PREALLOCATE\"] = \"false\"\n",
    "from tracr.rasp import rasp\n",
    "from tracr.compiler import compiling\n",
    "import numpy as np\n",
    "from tracr.compiler.validating import validate\n",
    "from typing import Union, TypeVar\n",
    "\n",
    "\n",
    "# useful primitives\n",
    "\n",
    "# Morally, RASP has 4 types of SOps:\n",
    "# int (categorical)\n",
    "# str (categorical)\n",
    "# float (numerical)\n",
    "# bool (numerical)\n",
    "\n",
    "def make_length():\n",
    "    all_true_selector = rasp.Select(rasp.tokens, rasp.tokens, rasp.Comparison.TRUE)\n",
    "    return rasp.SelectorWidth(all_true_selector)\n",
    "\n",
    "\n",
    "MAP_FNS = [\n",
    "    lambda x: x,\n",
    "    lambda x: x+1,\n",
    "    lambda x: x-1,\n",
    "    lambda x: x*2,\n",
    "    lambda x: x/2,\n",
    "    lambda x: x**2,\n",
    "    lambda x: x**0.5,\n",
    "]\n",
    "\n",
    "\n",
    "BOOL_MAP_FNS = [\n",
    "    lambda x: x,\n",
    "    lambda x: not x,\n",
    "]\n",
    "\n",
    "\n",
    "NONLINEAR_SEQMAP_FNS = [\n",
    "    lambda x, y: x,\n",
    "    lambda x, y: y,\n",
    "    lambda x, y: x+y,\n",
    "    lambda x, y: x-y,\n",
    "    lambda x, y: x*y,\n",
    "    lambda x, y: x/y,\n",
    "    lambda x, y: x**y,\n",
    "    lambda x, y: x**1/y,\n",
    "]\n",
    "\n",
    "PREDICATES = [\n",
    "    rasp.Comparison.EQ, \n",
    "    rasp.Comparison.FALSE,\n",
    "    rasp.Comparison.TRUE,\n",
    "    rasp.Comparison.GEQ,\n",
    "    rasp.Comparison.GT, \n",
    "    rasp.Comparison.LEQ,\n",
    "    rasp.Comparison.LT, \n",
    "    rasp.Comparison.NEQ,\n",
    "]\n"
   ]
  },
  {
   "cell_type": "code",
   "execution_count": null,
   "metadata": {},
   "outputs": [],
   "source": [
    "# Moral types in RASP\n",
    "# int (categorical)\n",
    "# str (categorical)\n",
    "# bool (categorical)\n",
    "# float (numerical)\n",
    "# bool (numerical)"
   ]
  },
  {
   "cell_type": "markdown",
   "metadata": {},
   "source": [
    "## Proposal for program generation"
   ]
  },
  {
   "cell_type": "code",
   "execution_count": null,
   "metadata": {},
   "outputs": [],
   "source": [
    "# RASP instructions:\n",
    "# - Map\n",
    "# - SequenceMap\n",
    "# - LinearSequenceMap (compiled exactly into MLP weights)\n",
    "# - Select\n",
    "# - Aggregate\n",
    "# - SelectorWidth\n",
    "\n",
    "# One way to do things is to sample realistic transformers:\n",
    "# ie sample MLP, attn, MLP, attn, etc\n",
    "# - MLP can be one of Map, SequenceMap, LinearSequenceMap\n",
    "# - attn can be one of (Select, Aggregate) or (Select, SelectorWidth)\n",
    "\n",
    "# The other way to do it is to just sample any reasonable RASP program.\n",
    "# That way we generalize better to example programs that don't follor the \n",
    "# transformer pattern.\n",
    "# But what does 'reasonable RASP program' mean?\n",
    "\n",
    "# - it follows the Tracr constraints so it compiles correctly\n",
    "# - it has a reasonable number of instructions\n",
    "# - it doesn't do anything trivial (eg return a constant)\n",
    "# - it uses comparisons when appropriate (eg don't < compare two strings)"
   ]
  },
  {
   "cell_type": "code",
   "execution_count": 32,
   "metadata": {},
   "outputs": [],
   "source": []
  },
  {
   "cell_type": "code",
   "execution_count": 49,
   "metadata": {},
   "outputs": [],
   "source": [
    "# 1) sample MLP layer\n",
    "# 2) sample attn layer\n",
    "\n",
    "\n",
    "\n",
    "\n",
    "# within a program, keep track of scope and distinguish between\n",
    "# categorical and numerical variables.\n",
    "# maybe: also distinguish 'boolean' variables (numerical and only 0,1)"
   ]
  },
  {
   "cell_type": "code",
   "execution_count": 27,
   "metadata": {},
   "outputs": [],
   "source": [
    "tok = rasp.annotate(rasp.tokens, type=\"bool\")"
   ]
  },
  {
   "cell_type": "code",
   "execution_count": 31,
   "metadata": {},
   "outputs": [
    {
     "data": {
      "text/plain": [
       "'bool'"
      ]
     },
     "execution_count": 31,
     "metadata": {},
     "output_type": "execute_result"
    }
   ],
   "source": [
    "tok.annotations[\"type\"]"
   ]
  },
  {
   "cell_type": "code",
   "execution_count": 45,
   "metadata": {},
   "outputs": [
    {
     "ename": "TypeError",
     "evalue": "unsupported operand type(s) for /: 'str' and 'str'",
     "output_type": "error",
     "traceback": [
      "\u001b[0;31m---------------------------------------------------------------------------\u001b[0m",
      "\u001b[0;31mTypeError\u001b[0m                                 Traceback (most recent call last)",
      "Cell \u001b[0;32mIn[45], line 2\u001b[0m\n\u001b[1;32m      1\u001b[0m out \u001b[38;5;241m=\u001b[39m rasp\u001b[38;5;241m.\u001b[39mMap(\u001b[38;5;28;01mlambda\u001b[39;00m x: x\u001b[38;5;241m/\u001b[39m\u001b[38;5;124m\"\u001b[39m\u001b[38;5;124mb\u001b[39m\u001b[38;5;124m\"\u001b[39m, rasp\u001b[38;5;241m.\u001b[39mtokens)\n\u001b[0;32m----> 2\u001b[0m \u001b[43mout\u001b[49m\u001b[43m(\u001b[49m\u001b[38;5;124;43m\"\u001b[39;49m\u001b[38;5;124;43mabc\u001b[39;49m\u001b[38;5;124;43m\"\u001b[39;49m\u001b[43m)\u001b[49m\n\u001b[1;32m      4\u001b[0m compiled \u001b[38;5;241m=\u001b[39m compiling\u001b[38;5;241m.\u001b[39mcompile_rasp_to_model(out, vocab\u001b[38;5;241m=\u001b[39m{\u001b[38;5;124m\"\u001b[39m\u001b[38;5;124ma\u001b[39m\u001b[38;5;124m\"\u001b[39m, \u001b[38;5;124m\"\u001b[39m\u001b[38;5;124mb\u001b[39m\u001b[38;5;124m\"\u001b[39m, \u001b[38;5;124m\"\u001b[39m\u001b[38;5;124mc\u001b[39m\u001b[38;5;124m\"\u001b[39m}, max_seq_len\u001b[38;5;241m=\u001b[39m\u001b[38;5;241m5\u001b[39m, compiler_bos\u001b[38;5;241m=\u001b[39m\u001b[38;5;124m\"\u001b[39m\u001b[38;5;124mBOS\u001b[39m\u001b[38;5;124m\"\u001b[39m)\n\u001b[1;32m      5\u001b[0m compiled\u001b[38;5;241m.\u001b[39mapply([\u001b[38;5;124m\"\u001b[39m\u001b[38;5;124mBOS\u001b[39m\u001b[38;5;124m\"\u001b[39m, \u001b[38;5;124m\"\u001b[39m\u001b[38;5;124ma\u001b[39m\u001b[38;5;124m\"\u001b[39m, \u001b[38;5;124m\"\u001b[39m\u001b[38;5;124mb\u001b[39m\u001b[38;5;124m\"\u001b[39m, \u001b[38;5;124m\"\u001b[39m\u001b[38;5;124mc\u001b[39m\u001b[38;5;124m\"\u001b[39m])\u001b[38;5;241m.\u001b[39mdecoded\n",
      "File \u001b[0;32m~/projects/metamodels/tracr/tracr/rasp/rasp.py:172\u001b[0m, in \u001b[0;36mSOp.__call__\u001b[0;34m(self, xs)\u001b[0m\n\u001b[1;32m    171\u001b[0m \u001b[38;5;28;01mdef\u001b[39;00m \u001b[38;5;21m__call__\u001b[39m(\u001b[38;5;28mself\u001b[39m, xs: Sequence[Value]) \u001b[38;5;241m-\u001b[39m\u001b[38;5;241m>\u001b[39m Sequence[Value]:\n\u001b[0;32m--> 172\u001b[0m   \u001b[38;5;28;01mreturn\u001b[39;00m \u001b[43mevaluate\u001b[49m\u001b[43m(\u001b[49m\u001b[38;5;28;43mself\u001b[39;49m\u001b[43m,\u001b[49m\u001b[43m \u001b[49m\u001b[43mxs\u001b[49m\u001b[43m)\u001b[49m\n",
      "File \u001b[0;32m~/projects/metamodels/tracr/tracr/rasp/rasp.py:808\u001b[0m, in \u001b[0;36mDefaultRASPEvaluator.evaluate\u001b[0;34m(self, expr, xs)\u001b[0m\n\u001b[1;32m    805\u001b[0m \u001b[38;5;28;01mdef\u001b[39;00m \u001b[38;5;21mevaluate\u001b[39m(\u001b[38;5;28mself\u001b[39m, expr: RASPExpr,\n\u001b[1;32m    806\u001b[0m              xs: Sequence[Value]) \u001b[38;5;241m-\u001b[39m\u001b[38;5;241m>\u001b[39m Union[Sequence[Value], SelectorValue]:\n\u001b[1;32m    807\u001b[0m \u001b[38;5;250m  \u001b[39m\u001b[38;5;124;03m\"\"\"Evaluates the RASP expression on input `xs`.\"\"\"\u001b[39;00m\n\u001b[0;32m--> 808\u001b[0m   \u001b[38;5;28;01mreturn\u001b[39;00m \u001b[38;5;28;43mself\u001b[39;49m\u001b[38;5;241;43m.\u001b[39;49m\u001b[43m_eval_fn_by_expr_type\u001b[49m\u001b[43m[\u001b[49m\u001b[38;5;28;43mtype\u001b[39;49m\u001b[43m(\u001b[49m\u001b[43mexpr\u001b[49m\u001b[43m)\u001b[49m\u001b[43m]\u001b[49m\u001b[43m(\u001b[49m\u001b[43mexpr\u001b[49m\u001b[43m,\u001b[49m\u001b[43m \u001b[49m\u001b[43mxs\u001b[49m\u001b[43m)\u001b[49m\n",
      "File \u001b[0;32m~/projects/metamodels/tracr/tracr/rasp/rasp.py:858\u001b[0m, in \u001b[0;36mDefaultRASPEvaluator.eval_map\u001b[0;34m(self, sop, xs)\u001b[0m\n\u001b[1;32m    857\u001b[0m \u001b[38;5;28;01mdef\u001b[39;00m \u001b[38;5;21meval_map\u001b[39m(\u001b[38;5;28mself\u001b[39m, sop: Map, xs: Sequence[Value]) \u001b[38;5;241m-\u001b[39m\u001b[38;5;241m>\u001b[39m Sequence[Value]:\n\u001b[0;32m--> 858\u001b[0m   \u001b[38;5;28;01mreturn\u001b[39;00m [\n\u001b[1;32m    859\u001b[0m       sop\u001b[38;5;241m.\u001b[39mf(x) \u001b[38;5;28;01mif\u001b[39;00m x \u001b[38;5;129;01mis\u001b[39;00m \u001b[38;5;129;01mnot\u001b[39;00m \u001b[38;5;28;01mNone\u001b[39;00m \u001b[38;5;28;01melse\u001b[39;00m \u001b[38;5;28;01mNone\u001b[39;00m\n\u001b[1;32m    860\u001b[0m       \u001b[38;5;28;01mfor\u001b[39;00m x \u001b[38;5;129;01min\u001b[39;00m \u001b[38;5;28mself\u001b[39m\u001b[38;5;241m.\u001b[39mevaluate(sop\u001b[38;5;241m.\u001b[39minner, xs)\n\u001b[1;32m    861\u001b[0m   ]\n",
      "File \u001b[0;32m~/projects/metamodels/tracr/tracr/rasp/rasp.py:859\u001b[0m, in \u001b[0;36m<listcomp>\u001b[0;34m(.0)\u001b[0m\n\u001b[1;32m    857\u001b[0m \u001b[38;5;28;01mdef\u001b[39;00m \u001b[38;5;21meval_map\u001b[39m(\u001b[38;5;28mself\u001b[39m, sop: Map, xs: Sequence[Value]) \u001b[38;5;241m-\u001b[39m\u001b[38;5;241m>\u001b[39m Sequence[Value]:\n\u001b[1;32m    858\u001b[0m   \u001b[38;5;28;01mreturn\u001b[39;00m [\n\u001b[0;32m--> 859\u001b[0m       \u001b[43msop\u001b[49m\u001b[38;5;241;43m.\u001b[39;49m\u001b[43mf\u001b[49m\u001b[43m(\u001b[49m\u001b[43mx\u001b[49m\u001b[43m)\u001b[49m \u001b[38;5;28;01mif\u001b[39;00m x \u001b[38;5;129;01mis\u001b[39;00m \u001b[38;5;129;01mnot\u001b[39;00m \u001b[38;5;28;01mNone\u001b[39;00m \u001b[38;5;28;01melse\u001b[39;00m \u001b[38;5;28;01mNone\u001b[39;00m\n\u001b[1;32m    860\u001b[0m       \u001b[38;5;28;01mfor\u001b[39;00m x \u001b[38;5;129;01min\u001b[39;00m \u001b[38;5;28mself\u001b[39m\u001b[38;5;241m.\u001b[39mevaluate(sop\u001b[38;5;241m.\u001b[39minner, xs)\n\u001b[1;32m    861\u001b[0m   ]\n",
      "Cell \u001b[0;32mIn[45], line 1\u001b[0m, in \u001b[0;36m<lambda>\u001b[0;34m(x)\u001b[0m\n\u001b[0;32m----> 1\u001b[0m out \u001b[38;5;241m=\u001b[39m rasp\u001b[38;5;241m.\u001b[39mMap(\u001b[38;5;28;01mlambda\u001b[39;00m x: \u001b[43mx\u001b[49m\u001b[38;5;241;43m/\u001b[39;49m\u001b[38;5;124;43m\"\u001b[39;49m\u001b[38;5;124;43mb\u001b[39;49m\u001b[38;5;124;43m\"\u001b[39;49m, rasp\u001b[38;5;241m.\u001b[39mtokens)\n\u001b[1;32m      2\u001b[0m out(\u001b[38;5;124m\"\u001b[39m\u001b[38;5;124mabc\u001b[39m\u001b[38;5;124m\"\u001b[39m)\n\u001b[1;32m      4\u001b[0m compiled \u001b[38;5;241m=\u001b[39m compiling\u001b[38;5;241m.\u001b[39mcompile_rasp_to_model(out, vocab\u001b[38;5;241m=\u001b[39m{\u001b[38;5;124m\"\u001b[39m\u001b[38;5;124ma\u001b[39m\u001b[38;5;124m\"\u001b[39m, \u001b[38;5;124m\"\u001b[39m\u001b[38;5;124mb\u001b[39m\u001b[38;5;124m\"\u001b[39m, \u001b[38;5;124m\"\u001b[39m\u001b[38;5;124mc\u001b[39m\u001b[38;5;124m\"\u001b[39m}, max_seq_len\u001b[38;5;241m=\u001b[39m\u001b[38;5;241m5\u001b[39m, compiler_bos\u001b[38;5;241m=\u001b[39m\u001b[38;5;124m\"\u001b[39m\u001b[38;5;124mBOS\u001b[39m\u001b[38;5;124m\"\u001b[39m)\n",
      "\u001b[0;31mTypeError\u001b[0m: unsupported operand type(s) for /: 'str' and 'str'"
     ]
    }
   ],
   "source": [
    "out = rasp.Map(lambda x: x/\"b\", rasp.tokens)\n",
    "out(\"abc\")\n",
    "\n",
    "compiled = compiling.compile_rasp_to_model(out, vocab={\"a\", \"b\", \"c\"}, max_seq_len=5, compiler_bos=\"BOS\")\n",
    "compiled.apply([\"BOS\", \"a\", \"b\", \"c\"]).decoded"
   ]
  },
  {
   "cell_type": "code",
   "execution_count": null,
   "metadata": {},
   "outputs": [],
   "source": [
    "# 1, 2, 3 -> 2, 3, 4\n",
    "# a, aa, aaa -> aa, aaa, aaaa"
   ]
  },
  {
   "cell_type": "code",
   "execution_count": 29,
   "metadata": {},
   "outputs": [],
   "source": [
    "def boolean(v: rasp.SOp):\n",
    "    return rasp.annotate(v, type=\"bool\")\n",
    "\n",
    "\n",
    "def categorical_scope(variable_scope: list):\n",
    "    \"\"\"Return the subset of variables that are categorical.\"\"\"\n",
    "    return [v for v in variable_scope if rasp.is_categorical(v)]\n",
    "\n",
    "\n",
    "def numerical_scope(variable_scope: list):\n",
    "    \"\"\"Return the subset of variables that are numerical.\"\"\"\n",
    "    return [v for v in variable_scope if rasp.is_numerical(v)]\n",
    "\n",
    "\n",
    "def sample_map(variable_scope: list):\n",
    "    \"\"\"Sample a map. A map applies a function elementwise to a SOp.\n",
    "    The input SOps can be categorical or numerical.\"\"\"\n",
    "    fn = np.random.choice(MAP_FNS)\n",
    "    arg = np.random.choice(variable_scope)\n",
    "    return np.random.choice([\n",
    "        rasp.Map(fn, arg),\n",
    "        rasp.numerical(rasp.Map(fn, arg)),\n",
    "    ])\n",
    "\n",
    "\n",
    "def sample_sequence_map(variable_scope: list):\n",
    "    \"\"\"Sample a sequence map. A SM applies a function elementwise to\n",
    "    two categorical SOps.\"\"\"\n",
    "    fn = np.random.choice(NONLINEAR_SEQMAP_FNS)\n",
    "    args = np.random.choice(categorical_scope(variable_scope), size=2, replace=False)\n",
    "    return rasp.SequenceMap(fn, *args)\n",
    "\n",
    "\n",
    "def sample_linear_sequence_map(variable_scope: list):\n",
    "    \"\"\"Sample a linear sequence map. A LNS linearly combines two\n",
    "    numerical SOps.\"\"\"\n",
    "    args = np.random.choice(numerical_scope(variable_scope), size=2, replace=False)\n",
    "    weights = np.random.normal(size=2)\n",
    "    return rasp.numerical(rasp.LinearSequenceMap(*args, *weights))\n",
    "\n",
    "def sample_select(variable_scope: list):\n",
    "    \"\"\"Add an attention layer to the program.\"\"\"\n",
    "    args = np.random.choice(categorical_scope(variable_scope))\n",
    "    comparison = np.random.choice(PREDICATES)\n",
    "    return rasp.Select(*args, comparison)\n",
    "\n",
    "\n",
    "def sample_aggregate(variable_scope: list, selector):\n",
    "    sop_arg = np.random.choice(variable_scope)\n",
    "    aggr = rasp.Aggregate(selector, sop_arg)\n",
    "    # how to choose sop_arg?\n",
    "    # 1) If selector has width >1, then sop_arg must be 'boolean',\n",
    "    # that is numerical and only takes values 0 or 1.\n",
    "    # 2) If selector has width 1, then sop_arg can be anything.\n",
    "\n",
    "\n",
    "\n",
    "def is_boolean(sop):\n",
    "    \"\"\"Return True if sop is a boolean variable.\"\"\"\n",
    "    raise NotImplementedError()\n",
    "\n",
    "\n",
    "\n",
    "\n",
    "class GeneratedProgram:\n",
    "    def __init__(self):\n",
    "        self.tokens = rasp.tokens\n",
    "        self.indices = rasp.indices\n",
    "        self.variable_scope = []\n",
    "\n",
    "    def sample_mlp(self):\n",
    "        \"\"\"Add an MLP layer to the program.\"\"\"\n",
    "        mlp_out = np.random.choice([\n",
    "            sample_map(self.variable_scope),\n",
    "            sample_sequence_map(self.variable_scope),\n",
    "            sample_linear_sequence_map(self.variable_scope),\n",
    "        ])\n",
    "        self.variable_scope.append(mlp_out)\n",
    "\n",
    "    def sample_attention(self):\n",
    "        \"\"\"Add an attention layer to the program.\"\"\"\n",
    "        selector = sample_select(self.variable_scope)\n",
    "        aggregate = np.random.choice([\n",
    "            sample_aggregate(self.variable_scope, selector),\n",
    "            rasp.SelectorWidth(selector),\n",
    "        ])\n",
    "\n",
    "\n",
    "    \n",
    "    def sample(self, n_layers=3):\n",
    "        \"\"\"Sample a program.\"\"\"\n",
    "        for l in range(n_layers):\n",
    "            self.sample_mlp()\n",
    "            self.sample_attention()\n",
    "\n",
    "\n"
   ]
  },
  {
   "cell_type": "code",
   "execution_count": 17,
   "metadata": {},
   "outputs": [
    {
     "data": {
      "text/plain": [
       "tracr.rasp.rasp.Map"
      ]
     },
     "execution_count": 17,
     "metadata": {},
     "output_type": "execute_result"
    }
   ],
   "source": [
    "sample_mlp()"
   ]
  }
 ],
 "metadata": {
  "kernelspec": {
   "display_name": "meta-models",
   "language": "python",
   "name": "python3"
  },
  "language_info": {
   "codemirror_mode": {
    "name": "ipython",
    "version": 3
   },
   "file_extension": ".py",
   "mimetype": "text/x-python",
   "name": "python",
   "nbconvert_exporter": "python",
   "pygments_lexer": "ipython3",
   "version": "3.10.12"
  }
 },
 "nbformat": 4,
 "nbformat_minor": 2
}
