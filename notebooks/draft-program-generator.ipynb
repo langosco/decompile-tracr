{
 "cells": [
  {
   "cell_type": "code",
   "execution_count": 8,
   "metadata": {},
   "outputs": [],
   "source": [
    "import os\n",
    "import inspect\n",
    "os.environ[\"XLA_PYTHON_CLIENT_PREALLOCATE\"] = \"false\"\n",
    "from tracr.rasp import rasp\n",
    "from tracr.compiler import compiling, rasp_to_graph\n",
    "import numpy as np\n",
    "from tracr.compiler.validating import validate\n",
    "from typing import Union, TypeVar\n",
    "from rasp_generator import map_primitives, sampling, utils\n",
    "import networkx as nx\n",
    "\n",
    "from tracr.rasp.rasp import Map, SequenceMap, LinearSequenceMap, Select, Aggregate, Comparison, SelectorWidth, indices, tokens \n",
    "\n",
    "\n",
    "def compile_rasp_to_model(sop: rasp.SOp, vocab={1,2,3,4}, max_seq_len=5, compiler_bos=\"BOS\"):\n",
    "    return compiling.compile_rasp_to_model(\n",
    "        sop,\n",
    "        vocab=vocab,\n",
    "        max_seq_len=max_seq_len,\n",
    "        compiler_bos=compiler_bos\n",
    "    )\n",
    "\n",
    "\n",
    "TEST_INPUT = [1,2,3,4]"
   ]
  },
  {
   "cell_type": "markdown",
   "metadata": {},
   "source": [
    "# Program Generation"
   ]
  },
  {
   "cell_type": "code",
   "execution_count": 9,
   "metadata": {},
   "outputs": [],
   "source": [
    "# Remaining problems\n",
    "# - sometimes categorical Aggregate is hard to sample (reaches max retries)\n",
    "# - sometimes a sampled program doesn't depend on rasp.tokens\n",
    "# - sometimes programs are trivial (e.g. output is all Nones)\n",
    "# - I suspect that sometimes the output is constant. TODO: check multiple inputs\n",
    "\n",
    "\n",
    "# TODOS\n",
    "# - remove SOps that are all (or mostly) None\n",
    "# - maybe remove / downweight constant SOps?"
   ]
  },
  {
   "cell_type": "code",
   "execution_count": 10,
   "metadata": {},
   "outputs": [
    {
     "name": "stdout",
     "output_type": "stream",
     "text": [
      "[0, 0, 4, 4]\n"
     ]
    }
   ],
   "source": [
    "sampler = sampling.ProgramSampler(validate_compilation=True)\n",
    "sampler.sample()\n",
    "print(sampler.output([1,2,3,4]))"
   ]
  },
  {
   "cell_type": "code",
   "execution_count": 11,
   "metadata": {},
   "outputs": [
    {
     "name": "stdout",
     "output_type": "stream",
     "text": [
      "select_6 = Select(tokens, tokens, predicate=Comparison.LEQ)\n",
      "selector_width_5 = SelectorWidth(select_6)    # type: categorical\n"
     ]
    }
   ],
   "source": [
    "utils.print_program(sampler.sops[2])"
   ]
  },
  {
   "cell_type": "code",
   "execution_count": 12,
   "metadata": {},
   "outputs": [
    {
     "name": "stdout",
     "output_type": "stream",
     "text": [
      "select_10 = Select(tokens, tokens, predicate=Comparison.LEQ)\n",
      "select_6 = Select(tokens, tokens, predicate=Comparison.LEQ)\n",
      "selector_width_5 = SelectorWidth(select_6)    # type: categorical\n",
      "select_12 = Select(tokens, selector_width_5, predicate=Comparison.EQ)\n",
      "selector_width_11 = SelectorWidth(select_12)    # type: categorical\n",
      "aggregate_9 = Aggregate(select_10, selector_width_11)    # type: categorical\n",
      "select_8 = Select(aggregate_9, indices, predicate=Comparison.LT)\n",
      "selector_width_7 = SelectorWidth(select_8)    # type: categorical\n",
      "\n",
      "\n",
      "select_10 = Select(tokens, tokens, predicate=Comparison.LEQ)\n",
      "select_6 = Select(tokens, tokens, predicate=Comparison.LEQ)\n",
      "selector_width_5 = SelectorWidth(select_6)    # output: [1, 2, 3, 4]\n",
      "select_12 = Select(tokens, selector_width_5, predicate=Comparison.EQ)\n",
      "selector_width_11 = SelectorWidth(select_12)    # output: [1, 1, 1, 1]\n",
      "aggregate_9 = Aggregate(select_10, selector_width_11)    # output: [1, 1, 1, 1]\n",
      "select_8 = Select(aggregate_9, indices, predicate=Comparison.LT)\n",
      "selector_width_7 = SelectorWidth(select_8)    # output: [0, 0, 4, 4]\n"
     ]
    }
   ],
   "source": [
    "# print program with and without test input\n",
    "k = 1\n",
    "utils.print_program(sampler.sops[-k])\n",
    "print()\n",
    "print()\n",
    "utils.print_program(sampler.sops[-k], TEST_INPUT)"
   ]
  }
 ],
 "metadata": {
  "kernelspec": {
   "display_name": "meta-models",
   "language": "python",
   "name": "python3"
  },
  "language_info": {
   "codemirror_mode": {
    "name": "ipython",
    "version": 3
   },
   "file_extension": ".py",
   "mimetype": "text/x-python",
   "name": "python",
   "nbconvert_exporter": "python",
   "pygments_lexer": "ipython3",
   "version": "3.10.12"
  }
 },
 "nbformat": 4,
 "nbformat_minor": 2
}
