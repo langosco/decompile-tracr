{
 "cells": [
  {
   "cell_type": "code",
   "execution_count": 5,
   "metadata": {},
   "outputs": [],
   "source": [
    "from collections import defaultdict\n",
    "import os\n",
    "import inspect\n",
    "os.environ[\"XLA_PYTHON_CLIENT_PREALLOCATE\"] = \"false\"\n",
    "from tracr.rasp import rasp\n",
    "from tracr.compiler import compiling, rasp_to_graph\n",
    "import numpy as np\n",
    "from tracr.compiler.validating import validate\n",
    "from rasp_generator import map_primitives, sampling, utils\n",
    "import networkx as nx\n",
    "\n",
    "from tracr.rasp.rasp import Map, SequenceMap, LinearSequenceMap, Select, Aggregate, Comparison, SelectorWidth, indices, tokens \n",
    "\n",
    "\n",
    "def compile_rasp_to_model(sop: rasp.SOp, vocab={0,1,2,3,4}, max_seq_len=5, compiler_bos=\"BOS\"):\n",
    "    return compiling.compile_rasp_to_model(\n",
    "        sop,\n",
    "        vocab=vocab,\n",
    "        max_seq_len=max_seq_len,\n",
    "        compiler_bos=compiler_bos\n",
    "    )\n",
    "\n",
    "\n",
    "TEST_INPUTS = [\n",
    "    [1,2,3,4],\n",
    "    [0,1,2,3,4],\n",
    "    [4,3,2,1,0],\n",
    "    [0,3,2,4],\n",
    "    [1,1,1,1],\n",
    "    [0,0,0,0],\n",
    "    [4,4,4,4],\n",
    "    [0,0,4,0]\n",
    "]\n",
    "\n",
    "TEST_INPUTS = [\n",
    "    [1,2,3,4],\n",
    "    [0,1,2,3,4],\n",
    "    [1,1,1,1],\n",
    "    [0,0,0,0],\n",
    "    [1,0,1,0],\n",
    "    [2,4,2,1],\n",
    "    [4,4,4,3],\n",
    "]"
   ]
  },
  {
   "cell_type": "code",
   "execution_count": 2,
   "metadata": {},
   "outputs": [
    {
     "name": "stdout",
     "output_type": "stream",
     "text": [
      "Retries encountered:\n",
      "\n",
      "EmptyScopeError('Filter failed. No SOps of type float in scope.') (tried to sample linear_sequence_map)\n",
      "SamplingError(\"Could not sample categorical Aggregate with valid output domain (Maximum retries reached). This because the sampler couldn't find a selector with width 1, and other sampled selectors don't result in an output domain that is a subset of the input domain.\") (tried to sample categorical_aggregate)\n",
      "EmptyScopeError('Filter failed. No SOps of type bool in scope.') (tried to sample numerical_aggregate)\n",
      "EmptyScopeError('Filter failed. No SOps of type float in scope.') (tried to sample linear_sequence_map)\n",
      "SamplingError(\"Could not sample categorical Aggregate with valid output domain (Maximum retries reached). This because the sampler couldn't find a selector with width 1, and other sampled selectors don't result in an output domain that is a subset of the input domain.\") (tried to sample categorical_aggregate)\n",
      "SamplingError(\"Could not sample categorical Aggregate with valid output domain (Maximum retries reached). This because the sampler couldn't find a selector with width 1, and other sampled selectors don't result in an output domain that is a subset of the input domain.\") (tried to sample categorical_aggregate)\n",
      "\n",
      "Program outputs:\n",
      "[0.0, 0.0, 0.0, 0.0]\n",
      "[0.08338044541271444, 0.08338044541271444, 0.08338044541271444, 0.08338044541271444, 0.08338044541271444]\n",
      "[0.0, 0.0, 0.0, 0.0]\n",
      "[0.0, 0.0, 0.0, 0.0]\n",
      "[0.0, 0.0, 0.0, 0.0]\n",
      "[0.0, 0.0, 0.0, 0.0]\n",
      "[0.0, 0.0, 0.0, 0.0]\n"
     ]
    }
   ],
   "source": [
    "sampler = sampling.ProgramSampler(validate_compilation=False, disable_categorical_aggregate=False)\n",
    "errs = sampler.sample(n_sops=30)\n",
    "print(\"Retries encountered:\")\n",
    "print()\n",
    "for err in errs:\n",
    "    print(err)\n",
    "print()\n",
    "print(\"Program outputs:\")\n",
    "for x in TEST_INPUTS:\n",
    "    print(sampler.program(x))"
   ]
  },
  {
   "cell_type": "code",
   "execution_count": 3,
   "metadata": {},
   "outputs": [
    {
     "name": "stdout",
     "output_type": "stream",
     "text": [
      "select_10 = Select(tokens, tokens, predicate=Comparison.LEQ)\n",
      "map_15 = Map(lambda x: x + 1, tokens)    # type: categorical\n",
      "select_16 = Select(tokens, tokens, predicate=Comparison.LT)\n",
      "select_17 = Select(tokens, tokens, predicate=Comparison.EQ)\n",
      "map_9 = Map(lambda x: x != 0, map_15)    # type: bool\n",
      "selector_width_11 = SelectorWidth(select_16)    # type: categorical\n",
      "aggregate_5 = Aggregate(select_10, map_9)    # type: float\n",
      "sequence_map_13 = SequenceMap(lambda x, y: x*y, selector_width_11, tokens)    # type: categorical\n",
      "select_19 = Select(indices, selector_width_11, predicate=Comparison.EQ)\n",
      "map_18 = Map(lambda x: int(x), aggregate_5)    # type: categorical\n",
      "map_7 = Map(lambda x: x == 1, sequence_map_13)    # type: bool\n",
      "aggregate_14 = Aggregate(select_19, selector_width_11)    # type: categorical\n",
      "aggregate_12 = Aggregate(select_17, map_18)    # type: categorical\n",
      "select_8 = Select(aggregate_14, tokens, predicate=Comparison.GT)\n",
      "select_6 = Select(selector_width_11, aggregate_12, predicate=Comparison.LEQ)\n",
      "aggregate_4 = Aggregate(select_8, map_9)    # type: float\n",
      "aggregate_3 = Aggregate(select_6, map_7)    # type: float\n",
      "linear_sequence_map_2 = LinearSequenceMap(aggregate_4, aggregate_5, 1.6310798344824913, 2.0)    # type: float\n",
      "linear_sequence_map_1 = LinearSequenceMap(linear_sequence_map_2, aggregate_3, 0.0, 0.1667608908254289)    # type: float\n",
      "\n",
      "\n",
      "select_10 = Select(tokens, tokens, predicate=Comparison.LEQ)\n",
      "map_15 = Map(lambda x: x + 1, tokens)    # output: [2, 3, 4, 5]\n",
      "select_16 = Select(tokens, tokens, predicate=Comparison.LT)\n",
      "select_17 = Select(tokens, tokens, predicate=Comparison.EQ)\n",
      "map_9 = Map(lambda x: x != 0, map_15)    # output: [True, True, True, True]\n",
      "selector_width_11 = SelectorWidth(select_16)    # output: [0, 1, 2, 3]\n",
      "aggregate_5 = Aggregate(select_10, map_9)    # output: [True, 1.0, 1.0, 1.0]\n",
      "sequence_map_13 = SequenceMap(lambda x, y: x*y, selector_width_11, tokens)    # output: [0, 2, 6, 12]\n",
      "select_19 = Select(indices, selector_width_11, predicate=Comparison.EQ)\n",
      "map_18 = Map(lambda x: int(x), aggregate_5)    # output: [1, 1, 1, 1]\n",
      "map_7 = Map(lambda x: x == 1, sequence_map_13)    # output: [False, False, False, False]\n",
      "aggregate_14 = Aggregate(select_19, selector_width_11)    # output: [0, 1, 2, 3]\n",
      "aggregate_12 = Aggregate(select_17, map_18)    # output: [1, 1, 1, 1]\n",
      "select_8 = Select(aggregate_14, tokens, predicate=Comparison.GT)\n",
      "select_6 = Select(selector_width_11, aggregate_12, predicate=Comparison.LEQ)\n",
      "aggregate_4 = Aggregate(select_8, map_9)    # output: [1.0, True, 0, 0]\n",
      "aggregate_3 = Aggregate(select_6, map_7)    # output: [0.0, 0.0, 0.0, 0.0]\n",
      "linear_sequence_map_2 = LinearSequenceMap(aggregate_4, aggregate_5, 1.6310798344824913, 2.0)    # output: [3.6310798344824913, 3.6310798344824913, 2.0, 2.0]\n",
      "linear_sequence_map_1 = LinearSequenceMap(linear_sequence_map_2, aggregate_3, 0.0, 0.1667608908254289)    # output: [0.0, 0.0, 0.0, 0.0]\n"
     ]
    }
   ],
   "source": [
    "# print program with and without test input\n",
    "k = 1\n",
    "utils.print_program(sampler.sops[-k])\n",
    "print()\n",
    "print()\n",
    "utils.print_program(sampler.sops[-k], TEST_INPUTS[0])"
   ]
  },
  {
   "cell_type": "markdown",
   "metadata": {},
   "source": [
    "## Validate compilation"
   ]
  },
  {
   "cell_type": "code",
   "execution_count": 4,
   "metadata": {},
   "outputs": [
    {
     "name": "stdout",
     "output_type": "stream",
     "text": [
      "Done sampling.\n",
      "Done compiling.\n"
     ]
    },
    {
     "ename": "ValueError",
     "evalue": "('Inputs {0} not found in encoding ', dict_keys([1, 2, 3, 4, 'BOS', 'compiler_pad']))",
     "output_type": "error",
     "traceback": [
      "\u001b[0;31m---------------------------------------------------------------------------\u001b[0m",
      "\u001b[0;31mValueError\u001b[0m                                Traceback (most recent call last)",
      "Cell \u001b[0;32mIn[4], line 28\u001b[0m\n\u001b[1;32m     26\u001b[0m rasp_out \u001b[38;5;241m=\u001b[39m r[\u001b[38;5;124m'\u001b[39m\u001b[38;5;124mprogram\u001b[39m\u001b[38;5;124m'\u001b[39m](x)\n\u001b[1;32m     27\u001b[0m rasp_out_sanitized \u001b[38;5;241m=\u001b[39m [\u001b[38;5;241m0\u001b[39m \u001b[38;5;28;01mif\u001b[39;00m x \u001b[38;5;129;01mis\u001b[39;00m \u001b[38;5;28;01mNone\u001b[39;00m \u001b[38;5;28;01melse\u001b[39;00m x \u001b[38;5;28;01mfor\u001b[39;00m x \u001b[38;5;129;01min\u001b[39;00m rasp_out]\n\u001b[0;32m---> 28\u001b[0m model_out \u001b[38;5;241m=\u001b[39m \u001b[43mr\u001b[49m\u001b[43m[\u001b[49m\u001b[38;5;124;43m'\u001b[39;49m\u001b[38;5;124;43mmodel\u001b[39;49m\u001b[38;5;124;43m'\u001b[39;49m\u001b[43m]\u001b[49m\u001b[38;5;241;43m.\u001b[39;49m\u001b[43mapply\u001b[49m\u001b[43m(\u001b[49m\u001b[43m[\u001b[49m\u001b[38;5;124;43m\"\u001b[39;49m\u001b[38;5;124;43mBOS\u001b[39;49m\u001b[38;5;124;43m\"\u001b[39;49m\u001b[43m]\u001b[49m\u001b[43m \u001b[49m\u001b[38;5;241;43m+\u001b[39;49m\u001b[43m \u001b[49m\u001b[43mx\u001b[49m\u001b[43m)\u001b[49m\u001b[38;5;241m.\u001b[39mdecoded[\u001b[38;5;241m1\u001b[39m:]\n\u001b[1;32m     29\u001b[0m \u001b[38;5;28;01mif\u001b[39;00m \u001b[38;5;129;01mnot\u001b[39;00m np\u001b[38;5;241m.\u001b[39mallclose(model_out, rasp_out_sanitized, rtol\u001b[38;5;241m=\u001b[39m\u001b[38;5;241m1e-3\u001b[39m, atol\u001b[38;5;241m=\u001b[39m\u001b[38;5;241m1e-3\u001b[39m):\n\u001b[1;32m     30\u001b[0m     err \u001b[38;5;241m=\u001b[39m \u001b[38;5;167;01mValueError\u001b[39;00m(\u001b[38;5;124mf\u001b[39m\u001b[38;5;124m\"\u001b[39m\u001b[38;5;124mCompiled program \u001b[39m\u001b[38;5;132;01m{\u001b[39;00mr[\u001b[38;5;124m'\u001b[39m\u001b[38;5;124mprogram\u001b[39m\u001b[38;5;124m'\u001b[39m]\u001b[38;5;241m.\u001b[39mlabel\u001b[38;5;132;01m}\u001b[39;00m\u001b[38;5;124m does not match RASP output.\u001b[39m\u001b[38;5;130;01m\\n\u001b[39;00m\u001b[38;5;124m\"\u001b[39m\n\u001b[1;32m     31\u001b[0m                         \u001b[38;5;124mf\u001b[39m\u001b[38;5;124m\"\u001b[39m\u001b[38;5;124mCompiled output: \u001b[39m\u001b[38;5;132;01m{\u001b[39;00mmodel_out\u001b[38;5;132;01m}\u001b[39;00m\u001b[38;5;130;01m\\n\u001b[39;00m\u001b[38;5;124m\"\u001b[39m\n\u001b[1;32m     32\u001b[0m                         \u001b[38;5;124mf\u001b[39m\u001b[38;5;124m\"\u001b[39m\u001b[38;5;124mRASP output: \u001b[39m\u001b[38;5;132;01m{\u001b[39;00mrasp_out\u001b[38;5;132;01m}\u001b[39;00m\u001b[38;5;130;01m\\n\u001b[39;00m\u001b[38;5;124m\"\u001b[39m\n\u001b[1;32m     33\u001b[0m                         \u001b[38;5;124mf\u001b[39m\u001b[38;5;124m\"\u001b[39m\u001b[38;5;124mTest input: \u001b[39m\u001b[38;5;132;01m{\u001b[39;00mx\u001b[38;5;132;01m}\u001b[39;00m\u001b[38;5;130;01m\\n\u001b[39;00m\u001b[38;5;124m\"\u001b[39m)\n",
      "File \u001b[0;32m~/projects/meta-models/tracr/tracr/compiler/assemble.py:69\u001b[0m, in \u001b[0;36mAssembledTransformerModel.apply\u001b[0;34m(self, tokens)\u001b[0m\n\u001b[1;32m     67\u001b[0m \u001b[38;5;250m\u001b[39m\u001b[38;5;124;03m\"\"\"Returns output from running the model on a set of input tokens.\"\"\"\u001b[39;00m\n\u001b[1;32m     68\u001b[0m \u001b[38;5;28;01mif\u001b[39;00m \u001b[38;5;28mself\u001b[39m\u001b[38;5;241m.\u001b[39minput_encoder:\n\u001b[0;32m---> 69\u001b[0m   tokens \u001b[38;5;241m=\u001b[39m \u001b[38;5;28;43mself\u001b[39;49m\u001b[38;5;241;43m.\u001b[39;49m\u001b[43minput_encoder\u001b[49m\u001b[38;5;241;43m.\u001b[39;49m\u001b[43mencode\u001b[49m\u001b[43m(\u001b[49m\u001b[43mtokens\u001b[49m\u001b[43m)\u001b[49m\n\u001b[1;32m     70\u001b[0m tokens \u001b[38;5;241m=\u001b[39m jnp\u001b[38;5;241m.\u001b[39marray([tokens])\n\u001b[1;32m     71\u001b[0m output \u001b[38;5;241m=\u001b[39m \u001b[38;5;28mself\u001b[39m\u001b[38;5;241m.\u001b[39mforward(\u001b[38;5;28mself\u001b[39m\u001b[38;5;241m.\u001b[39mparams, tokens)\n",
      "File \u001b[0;32m~/projects/meta-models/tracr/tracr/transformer/encoder.py:101\u001b[0m, in \u001b[0;36mCategoricalEncoder.encode\u001b[0;34m(self, inputs)\u001b[0m\n\u001b[1;32m     98\u001b[0m   \u001b[38;5;28;01mraise\u001b[39;00m \u001b[38;5;167;01mValueError\u001b[39;00m(\u001b[38;5;124m\"\u001b[39m\u001b[38;5;124mFirst input token must be BOS token. \u001b[39m\u001b[38;5;124m\"\u001b[39m\n\u001b[1;32m     99\u001b[0m                    \u001b[38;5;124mf\u001b[39m\u001b[38;5;124m\"\u001b[39m\u001b[38;5;124mShould be \u001b[39m\u001b[38;5;124m'\u001b[39m\u001b[38;5;132;01m{\u001b[39;00m\u001b[38;5;28mself\u001b[39m\u001b[38;5;241m.\u001b[39mbos_token\u001b[38;5;132;01m}\u001b[39;00m\u001b[38;5;124m'\u001b[39m\u001b[38;5;124m, but was \u001b[39m\u001b[38;5;124m'\u001b[39m\u001b[38;5;132;01m{\u001b[39;00minputs[\u001b[38;5;241m0\u001b[39m]\u001b[38;5;132;01m}\u001b[39;00m\u001b[38;5;124m'\u001b[39m\u001b[38;5;124m.\u001b[39m\u001b[38;5;124m\"\u001b[39m)\n\u001b[1;32m    100\u001b[0m \u001b[38;5;28;01mif\u001b[39;00m missing \u001b[38;5;241m:=\u001b[39m \u001b[38;5;28mset\u001b[39m(inputs) \u001b[38;5;241m-\u001b[39m \u001b[38;5;28mset\u001b[39m(\u001b[38;5;28mself\u001b[39m\u001b[38;5;241m.\u001b[39mencoding_map\u001b[38;5;241m.\u001b[39mkeys()):\n\u001b[0;32m--> 101\u001b[0m   \u001b[38;5;28;01mraise\u001b[39;00m \u001b[38;5;167;01mValueError\u001b[39;00m(\u001b[38;5;124mf\u001b[39m\u001b[38;5;124m\"\u001b[39m\u001b[38;5;124mInputs \u001b[39m\u001b[38;5;132;01m{\u001b[39;00mmissing\u001b[38;5;132;01m}\u001b[39;00m\u001b[38;5;124m not found in encoding \u001b[39m\u001b[38;5;124m\"\u001b[39m,\n\u001b[1;32m    102\u001b[0m                    \u001b[38;5;28mself\u001b[39m\u001b[38;5;241m.\u001b[39mencoding_map\u001b[38;5;241m.\u001b[39mkeys())\n\u001b[1;32m    103\u001b[0m \u001b[38;5;28;01mif\u001b[39;00m \u001b[38;5;28mself\u001b[39m\u001b[38;5;241m.\u001b[39m_max_seq_len \u001b[38;5;129;01mis\u001b[39;00m \u001b[38;5;129;01mnot\u001b[39;00m \u001b[38;5;28;01mNone\u001b[39;00m \u001b[38;5;129;01mand\u001b[39;00m \u001b[38;5;28mlen\u001b[39m(inputs) \u001b[38;5;241m>\u001b[39m \u001b[38;5;28mself\u001b[39m\u001b[38;5;241m.\u001b[39m_max_seq_len:\n\u001b[1;32m    104\u001b[0m   \u001b[38;5;28;01mraise\u001b[39;00m \u001b[38;5;167;01mValueError\u001b[39;00m(\u001b[38;5;124mf\u001b[39m\u001b[38;5;124m\"\u001b[39m\u001b[38;5;124minputs=\u001b[39m\u001b[38;5;132;01m{\u001b[39;00minputs\u001b[38;5;132;01m}\u001b[39;00m\u001b[38;5;124m are longer than the maximum \u001b[39m\u001b[38;5;124m\"\u001b[39m\n\u001b[1;32m    105\u001b[0m                    \u001b[38;5;124mf\u001b[39m\u001b[38;5;124m\"\u001b[39m\u001b[38;5;124msequence length \u001b[39m\u001b[38;5;132;01m{\u001b[39;00m\u001b[38;5;28mself\u001b[39m\u001b[38;5;241m.\u001b[39m_max_seq_len\u001b[38;5;132;01m}\u001b[39;00m\u001b[38;5;124m\"\u001b[39m)\n",
      "\u001b[0;31mValueError\u001b[0m: ('Inputs {0} not found in encoding ', dict_keys([1, 2, 3, 4, 'BOS', 'compiler_pad']))"
     ]
    }
   ],
   "source": [
    "errs = defaultdict(list)\n",
    "results = []\n",
    "for _ in range(40):\n",
    "    try:\n",
    "        sampler = sampling.ProgramSampler()\n",
    "        retries = sampler.sample(n_sops=30)\n",
    "        errs['retries'] + retries\n",
    "        results.append(dict(program=sampler.program))\n",
    "    except Exception as err:\n",
    "        errs['sampling'].append(err)\n",
    "    \n",
    "print(\"Done sampling.\")\n",
    "\n",
    "for r in results:\n",
    "    try:\n",
    "        model = compile_rasp_to_model(r['program'])\n",
    "        r['model'] = model\n",
    "    except Exception as err:\n",
    "        errs['compilation'].append(err)\n",
    "        r['compilation_error'] = err\n",
    "    \n",
    "print(\"Done compiling.\")\n",
    "\n",
    "for r in results:\n",
    "    for x in TEST_INPUTS:\n",
    "        rasp_out = r['program'](x)\n",
    "        rasp_out_sanitized = [0 if x is None else x for x in rasp_out]\n",
    "        model_out = r['model'].apply([\"BOS\"] + x).decoded[1:]\n",
    "        if not np.allclose(model_out, rasp_out_sanitized, rtol=1e-3, atol=1e-3):\n",
    "            err = ValueError(f\"Compiled program {r['program'].label} does not match RASP output.\\n\"\n",
    "                                f\"Compiled output: {model_out}\\n\"\n",
    "                                f\"RASP output: {rasp_out}\\n\"\n",
    "                                f\"Test input: {x}\\n\")\n",
    "            errs['validation'].append(err)\n",
    "            r['validation_error'] = err\n",
    "            break\n"
   ]
  },
  {
   "cell_type": "code",
   "execution_count": null,
   "metadata": {},
   "outputs": [
    {
     "data": {
      "text/plain": [
       "[ValueError('Failed to find a node with label tokens. This is probably because your RASP program does not include rasp.tokens. A program must include rasp.tokens to be compiled.'),\n",
       " ValueError('Failed to find a node with label tokens. This is probably because your RASP program does not include rasp.tokens. A program must include rasp.tokens to be compiled.')]"
      ]
     },
     "execution_count": 6,
     "metadata": {},
     "output_type": "execute_result"
    }
   ],
   "source": [
    "errs['compilation']"
   ]
  },
  {
   "cell_type": "code",
   "execution_count": null,
   "metadata": {},
   "outputs": [
    {
     "data": {
      "text/plain": [
       "[ValueError('Failed to find a node with label tokens. This is probably because your RASP program does not include rasp.tokens. A program must include rasp.tokens to be compiled.'),\n",
       " ValueError('Compiled program selector_width_61 does not match RASP output.\\nCompiled output: [1, 0, 0, 0, 0]\\nRASP output: [2, 0, 0, 0, 0]\\nTest input: [0, 1, 2, 3, 4]\\nSOp: <tracr.rasp.rasp.SelectorWidth object at 0x7f4aa4c9cf40>'),\n",
       " ValueError('Failed to find a node with label tokens. This is probably because your RASP program does not include rasp.tokens. A program must include rasp.tokens to be compiled.'),\n",
       " ValueError('Compiled program selector_width_338 does not match RASP output.\\nCompiled output: [4, 5, 5, 5]\\nRASP output: [0, 0, 4, 4]\\nTest input: [1, 2, 3, 4]\\nSOp: <tracr.rasp.rasp.SelectorWidth object at 0x7f4aa4cea560>')]"
      ]
     },
     "execution_count": 7,
     "metadata": {},
     "output_type": "execute_result"
    }
   ],
   "source": [
    "errs['validation']"
   ]
  }
 ],
 "metadata": {
  "kernelspec": {
   "display_name": "meta-models",
   "language": "python",
   "name": "python3"
  },
  "language_info": {
   "codemirror_mode": {
    "name": "ipython",
    "version": 3
   },
   "file_extension": ".py",
   "mimetype": "text/x-python",
   "name": "python",
   "nbconvert_exporter": "python",
   "pygments_lexer": "ipython3",
   "version": "3.10.12"
  }
 },
 "nbformat": 4,
 "nbformat_minor": 2
}
