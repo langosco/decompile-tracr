{
 "cells": [
  {
   "cell_type": "code",
   "execution_count": 122,
   "metadata": {},
   "outputs": [],
   "source": [
    "import os\n",
    "os.environ[\"XLA_PYTHON_CLIENT_PREALLOCATE\"] = \"false\"\n",
    "from tracr.rasp import rasp\n",
    "from tracr.compiler import compiling, rasp_to_graph\n",
    "import numpy as np\n",
    "from tracr.compiler.validating import validate\n",
    "from typing import Union, TypeVar\n",
    "from lauro_inverse_tracr import map_primitives"
   ]
  },
  {
   "cell_type": "markdown",
   "metadata": {},
   "source": [
    "## Proposal for program generation"
   ]
  },
  {
   "cell_type": "code",
   "execution_count": 2,
   "metadata": {},
   "outputs": [],
   "source": [
    "# RASP instructions:\n",
    "# - Map\n",
    "# - SequenceMap\n",
    "# - LinearSequenceMap (compiled exactly into MLP weights)\n",
    "# - Select\n",
    "# - Aggregate\n",
    "# - SelectorWidth\n",
    "\n",
    "# One way to do things is to sample realistic transformers:\n",
    "# ie sample MLP, attn, MLP, attn, etc\n",
    "# - MLP can be one of Map, SequenceMap, LinearSequenceMap\n",
    "# - attn can be one of (Select, Aggregate) or (Select, SelectorWidth)\n",
    "\n",
    "# The other way to do it is to just sample any reasonable RASP program.\n",
    "# That way we generalize better to example programs that don't follor the \n",
    "# transformer pattern.\n",
    "# But what does 'reasonable RASP program' mean?\n",
    "\n",
    "# - it follows the Tracr constraints so it compiles correctly\n",
    "# - it has a reasonable number of instructions\n",
    "# - it doesn't do anything trivial (eg return a constant)\n",
    "# - it uses comparisons when appropriate (eg don't < compare two strings)"
   ]
  },
  {
   "cell_type": "code",
   "execution_count": 3,
   "metadata": {},
   "outputs": [],
   "source": [
    "# 1) sample MLP layer\n",
    "# 2) sample attn layer\n",
    "\n",
    "\n",
    "# within a program, keep track of scope and distinguish between\n",
    "# categorical and numerical variables.\n",
    "# maybe: also distinguish 'boolean' variables (numerical and only 0,1)"
   ]
  },
  {
   "cell_type": "code",
   "execution_count": 4,
   "metadata": {},
   "outputs": [],
   "source": [
    "class EmptyScopeError(Exception):\n",
    "    pass\n",
    "\n",
    "\n",
    "def annotate_type(sop: rasp.SOp, type: str):\n",
    "    \"\"\"Annotate a SOp with a type.\"\"\"\n",
    "    # important for compiler:\n",
    "    if type in [\"bool\", \"float\"]:\n",
    "        sop = rasp.numerical(sop)\n",
    "    elif type in [\"categorical\"]:\n",
    "        sop = rasp.categorical(sop)\n",
    "    else:\n",
    "        raise ValueError(f\"Unknown type {type}.\")\n",
    "    \n",
    "    # ignored by compiler but used by program sampler:\n",
    "    sop = rasp.annotate(sop, type=type)\n",
    "    return sop\n",
    "\n",
    "\n",
    "def filter_scope(variable_scope: list, type: str):\n",
    "    \"\"\"Return the subset of variables that are of a given type.\"\"\"\n",
    "    filtered = [v for v in variable_scope if v.annotations[\"type\"] == type]\n",
    "    if len(filtered) == 0:\n",
    "        raise EmptyScopeError(f\"No variables of type {type} in scope.\")\n",
    "    return filtered\n",
    "\n",
    "\n",
    "def sample_map(variable_scope: list):\n",
    "    \"\"\"Sample a map. A map applies a function elementwise to a SOp.\n",
    "    The input SOps can be categorical, float, or bool.\"\"\"\n",
    "    arg = np.random.choice(variable_scope)\n",
    "    fn, output_type = map_primitives.get_map_fn(arg)\n",
    "    output_sop = rasp.Map(fn, arg)\n",
    "    output_sop = annotate_type(output_sop, type=output_type)\n",
    "    return output_sop\n",
    "\n",
    "\n",
    "def sample_sequence_map(variable_scope: list):\n",
    "    \"\"\"Sample a sequence map. A SM applies a function elementwise to\n",
    "    two categorical SOps.\"\"\"\n",
    "    raise NotImplementedError()\n",
    "#    args = np.random.choice(categorical_scope(variable_scope), size=2, replace=False)\n",
    "#    return rasp.SequenceMap(fn, *args)\n",
    "\n",
    "\n",
    "def sample_linear_sequence_map(variable_scope: list):\n",
    "    \"\"\"Sample a linear sequence map. A LNS linearly combines two\n",
    "    numerical SOps.\"\"\"\n",
    "    raise NotImplementedError()\n",
    "#    args = np.random.choice(numerical_scope(variable_scope), size=2, replace=False)\n",
    "#    weights = np.random.normal(size=2)\n",
    "#    return rasp.numerical(rasp.LinearSequenceMap(*args, *weights))\n",
    "\n",
    "\n",
    "def sample_selector(variable_scope: list):\n",
    "    \"\"\"Sample a rasp.Select. A select takes two categorical SOps and\n",
    "    returns a selector (matrix) of booleans.\"\"\"\n",
    "    args = np.random.choice(filter_scope(variable_scope, type=\"categorical\"), size=2, replace=True)\n",
    "    comparison = np.random.choice(map_primitives.COMPARISONS)\n",
    "    return rasp.Select(*args, comparison)\n",
    "\n",
    "\n",
    "def sample_aggregate(variable_scope: list, selector):\n",
    "    \"\"\"\n",
    "    Tracr puts constraints on select-aggregate operations:\n",
    "    1) If selector has width >1, then sop_arg must be 'boolean',\n",
    "    that is numerical and only takes values 0 or 1.\n",
    "    2) If selector has width 1, then sop_arg can be anything.\n",
    "    \"\"\"\n",
    "    # for now just use boolean SOPs.\n",
    "    sop_arg = np.random.choice(filter_scope(variable_scope, type=\"bool\"))\n",
    "    aggr = rasp.Aggregate(selector, sop_arg, default=0)\n",
    "    aggr = annotate_type(aggr, type=\"float\")  # has to be numerical (tracr constraint)\n",
    "    return aggr\n",
    "\n",
    "\n",
    "def get_selector_width(selector):\n",
    "    sop = rasp.SelectorWidth(selector)\n",
    "    return annotate_type(sop, type=\"categorical\")\n",
    "\n",
    "\n",
    "def validate_custom_types(expr: rasp.SOp, test_input: list = [1,2,3,4,5]):\n",
    "    out = expr(test_input)\n",
    "    if expr.annotations[\"type\"] == \"bool\":\n",
    "        # bools are numerical and only take values 0 or 1\n",
    "        if not np.all(np.isin(out, [0,1])):\n",
    "            raise ValueError(f\"Bool SOps may only take values 0 or 1. Instead, received {out}\")\n",
    "        elif not rasp.numerical(expr):\n",
    "            raise ValueError(f\"Bool SOps must be numerical. Instead, {expr} is categorical.\")\n",
    "    elif expr.annotations[\"type\"] == \"float\":\n",
    "        # floats are numerical and can take any value\n",
    "        if not rasp.numerical(expr):\n",
    "            raise ValueError(f\"Float SOps must be numerical. Instead, {expr} is categorical.\")\n",
    "    elif expr.annotations[\"type\"] == \"categorical\":\n",
    "        if not rasp.categorical(expr):\n",
    "            raise ValueError(f\"{expr} is annotated as type=categorical, but is actually numerical.\")"
   ]
  },
  {
   "cell_type": "code",
   "execution_count": 112,
   "metadata": {},
   "outputs": [],
   "source": [
    "class ProgramSampler:\n",
    "    def __init__(self):\n",
    "        self.sops = [rasp.tokens, rasp.indices]\n",
    "        self.sops = [annotate_type(sop, type=\"categorical\") for sop in self.sops]\n",
    "\n",
    "    def sample(self, n_layers=3):\n",
    "        \"\"\"Sample a program.\"\"\"\n",
    "        for _ in range(n_layers):\n",
    "            self.sample_mlp()\n",
    "            self.sample_attention()\n",
    "        self.output = self.sops[-1]\n",
    "        self.validate()\n",
    "\n",
    "    def sample_mlp(self):\n",
    "        \"\"\"Add an MLP layer to the program.\"\"\"\n",
    "        output_sop = np.random.choice([\n",
    "            sample_map(self.sops),\n",
    "#            sample_sequence_map(self.sops),\n",
    "#            sample_linear_sequence_map(self.sop),\n",
    "        ])\n",
    "        self.sops.append(output_sop)\n",
    "        return\n",
    "\n",
    "    def sample_attention(self):\n",
    "        \"\"\"Add an attention layer to the program.\"\"\"\n",
    "        selector = sample_selector(self.sops)\n",
    "        try:\n",
    "            output_sop = np.random.choice([\n",
    "                sample_aggregate(self.sops, selector),\n",
    "#                get_selector_width(selector),\n",
    "            ])\n",
    "        except EmptyScopeError:\n",
    "            print(\"No boolean variables in scope, so using SelectorWidth.\")\n",
    "            output_sop = get_selector_width(selector)\n",
    "        self.sops.append(output_sop)\n",
    "        return\n",
    "    \n",
    "    def validate(self):\n",
    "        \"\"\"Validate the program.\"\"\"\n",
    "        for sop in self.sops:\n",
    "            validate_custom_types(sop)\n",
    "            errs = validate(sop, [1,2,3,4,5])\n",
    "            if errs:\n",
    "                raise ValueError(f\"Invalid program: {errs}\")\n",
    "            return"
   ]
  },
  {
   "cell_type": "code",
   "execution_count": 118,
   "metadata": {},
   "outputs": [
    {
     "name": "stdout",
     "output_type": "stream",
     "text": [
      "[1.5, 2.0, 2.5, 3.0]\n"
     ]
    }
   ],
   "source": [
    "sampler = ProgramSampler()\n",
    "sampler.sample()\n",
    "print(sampler.output([1,2,3,4]))"
   ]
  },
  {
   "cell_type": "code",
   "execution_count": 124,
   "metadata": {},
   "outputs": [],
   "source": [
    "graph = rasp_to_graph.extract_rasp_graph(sampler.output)\n",
    "sorted_nodes = nx.topological_sort(graph.graph)"
   ]
  },
  {
   "cell_type": "code",
   "execution_count": null,
   "metadata": {},
   "outputs": [
    {
     "name": "stdout",
     "output_type": "stream",
     "text": [
      "['tokens', 'indices', 'select_2', 'map_3', 'aggregate_1']\n"
     ]
    }
   ],
   "source": []
  },
  {
   "cell_type": "code",
   "execution_count": 131,
   "metadata": {},
   "outputs": [
    {
     "data": {
      "image/png": "[encoded data removed]",
      "text/plain": [
       "<Figure size 640x480 with 1 Axes>"
      ]
     },
     "metadata": {},
     "output_type": "display_data"
    }
   ],
   "source": [
    "import networkx as nx\n",
    "nx.draw_networkx(graph.graph, with_labels=True, node_color='lightblue', edge_color='gray', arrows=True)"
   ]
  },
  {
   "cell_type": "code",
   "execution_count": 184,
   "metadata": {},
   "outputs": [
    {
     "data": {
      "text/plain": [
       "{'ID': 'aggregate_1', 'EXPR': <tracr.rasp.rasp.Aggregate at 0x7f554cfd1240>}"
      ]
     },
     "execution_count": 184,
     "metadata": {},
     "output_type": "execute_result"
    }
   ],
   "source": [
    "graph.graph.nodes['aggregate_1']"
   ]
  },
  {
   "cell_type": "code",
   "execution_count": null,
   "metadata": {},
   "outputs": [],
   "source": []
  }
 ],
 "metadata": {
  "kernelspec": {
   "display_name": "meta-models",
   "language": "python",
   "name": "python3"
  },
  "language_info": {
   "codemirror_mode": {
    "name": "ipython",
    "version": 3
   },
   "file_extension": ".py",
   "mimetype": "text/x-python",
   "name": "python",
   "nbconvert_exporter": "python",
   "pygments_lexer": "ipython3",
   "version": "3.10.12"
  }
 },
 "nbformat": 4,
 "nbformat_minor": 2
}
