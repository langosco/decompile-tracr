{
 "cells": [
  {
   "cell_type": "code",
   "execution_count": 36,
   "metadata": {},
   "outputs": [],
   "source": [
    "import os\n",
    "import inspect\n",
    "os.environ[\"XLA_PYTHON_CLIENT_PREALLOCATE\"] = \"false\"\n",
    "from tracr.rasp import rasp\n",
    "from tracr.compiler import compiling, rasp_to_graph\n",
    "import numpy as np\n",
    "from tracr.compiler.validating import validate\n",
    "from typing import Union, TypeVar\n",
    "from rasp_generator import map_primitives, sampling, utils\n",
    "import networkx as nx\n",
    "\n",
    "from tracr.rasp.rasp import Map, SequenceMap, LinearSequenceMap, Select, Aggregate, Comparison, SelectorWidth, indices, tokens \n",
    "\n",
    "\n",
    "def compile_rasp_to_model(sop: rasp.SOp, vocab={1,2,3,4}, max_seq_len=5, compiler_bos=\"BOS\"):\n",
    "    return compiling.compile_rasp_to_model(\n",
    "        sop,\n",
    "        vocab=vocab,\n",
    "        max_seq_len=max_seq_len,\n",
    "        compiler_bos=compiler_bos\n",
    "    )\n",
    "\n",
    "\n",
    "TEST_INPUT = [1,2,3,4]"
   ]
  },
  {
   "cell_type": "markdown",
   "metadata": {},
   "source": [
    "# Program Generation"
   ]
  },
  {
   "cell_type": "code",
   "execution_count": null,
   "metadata": {},
   "outputs": [],
   "source": [
    "# Remaining problems\n",
    "# - sometimes categorical Aggregate is hard to sample (reaches max retries)\n",
    "# - sometimes a sampled program doesn't depend on rasp.tokens"
   ]
  },
  {
   "cell_type": "code",
   "execution_count": 28,
   "metadata": {},
   "outputs": [
    {
     "name": "stdout",
     "output_type": "stream",
     "text": [
      "cat\n",
      "cat\n"
     ]
    },
    {
     "ename": "ValueError",
     "evalue": "Unsupported type for aggregation: [0.0, 1.0, 3.0, 6.0]",
     "output_type": "error",
     "traceback": [
      "\u001b[0;31m---------------------------------------------------------------------------\u001b[0m",
      "\u001b[0;31mEmptyScopeError\u001b[0m                           Traceback (most recent call last)",
      "File \u001b[0;32m~/projects/metamodels/lauro-inverse-tracr/lauro_inverse_tracr/sampling.py:220\u001b[0m, in \u001b[0;36mProgramSampler.add_sop\u001b[0;34m(self, max_retries)\u001b[0m\n\u001b[1;32m    219\u001b[0m \u001b[38;5;28;01mtry\u001b[39;00m:\n\u001b[0;32m--> 220\u001b[0m     sop \u001b[38;5;241m=\u001b[39m \u001b[43msample_sop\u001b[49m\u001b[43m(\u001b[49m\u001b[38;5;28;43mself\u001b[39;49m\u001b[38;5;241;43m.\u001b[39;49m\u001b[43mrng\u001b[49m\u001b[43m,\u001b[49m\u001b[43m \u001b[49m\u001b[38;5;28;43mself\u001b[39;49m\u001b[38;5;241;43m.\u001b[39;49m\u001b[43msops\u001b[49m\u001b[43m)\u001b[49m\n\u001b[1;32m    221\u001b[0m     \u001b[38;5;28mself\u001b[39m\u001b[38;5;241m.\u001b[39msops\u001b[38;5;241m.\u001b[39mappend(sop)\n",
      "File \u001b[0;32m~/projects/metamodels/lauro-inverse-tracr/lauro_inverse_tracr/sampling.py:175\u001b[0m, in \u001b[0;36msample_sop\u001b[0;34m(rng, variable_scope)\u001b[0m\n\u001b[1;32m    174\u001b[0m sop_type \u001b[38;5;241m=\u001b[39m rng\u001b[38;5;241m.\u001b[39mchoice(\u001b[38;5;28mlist\u001b[39m(SAMPLE_FUNCTIONS\u001b[38;5;241m.\u001b[39mkeys()))\n\u001b[0;32m--> 175\u001b[0m \u001b[38;5;28;01mreturn\u001b[39;00m \u001b[43mSAMPLE_FUNCTIONS\u001b[49m\u001b[43m[\u001b[49m\u001b[43msop_type\u001b[49m\u001b[43m]\u001b[49m\u001b[43m(\u001b[49m\u001b[43mrng\u001b[49m\u001b[43m,\u001b[49m\u001b[43m \u001b[49m\u001b[43mvariable_scope\u001b[49m\u001b[43m)\u001b[49m\n",
      "File \u001b[0;32m~/projects/metamodels/lauro-inverse-tracr/lauro_inverse_tracr/sampling.py:124\u001b[0m, in \u001b[0;36msample_numerical_aggregate\u001b[0;34m(rng, variable_scope)\u001b[0m\n\u001b[1;32m    123\u001b[0m \u001b[38;5;66;03m# TODO: swap to sample_from_scope?\u001b[39;00m\n\u001b[0;32m--> 124\u001b[0m sop_in \u001b[38;5;241m=\u001b[39m rng\u001b[38;5;241m.\u001b[39mchoice(\u001b[43mfilter_scope\u001b[49m\u001b[43m(\u001b[49m\u001b[43mvariable_scope\u001b[49m\u001b[43m,\u001b[49m\u001b[43m \u001b[49m\u001b[38;5;28;43mtype\u001b[39;49m\u001b[38;5;241;43m=\u001b[39;49m\u001b[38;5;124;43m\"\u001b[39;49m\u001b[38;5;124;43mbool\u001b[39;49m\u001b[38;5;124;43m\"\u001b[39;49m\u001b[43m,\u001b[49m\n\u001b[1;32m    125\u001b[0m \u001b[43m                                       \u001b[49m\u001b[43mconstraints\u001b[49m\u001b[38;5;241;43m=\u001b[39;49m\u001b[43m[\u001b[49m\u001b[38;5;28;43;01mlambda\u001b[39;49;00m\u001b[43m \u001b[49m\u001b[43msop\u001b[49m\u001b[43m:\u001b[49m\u001b[43m \u001b[49m\u001b[38;5;28;43;01mNone\u001b[39;49;00m\u001b[43m \u001b[49m\u001b[38;5;129;43;01mnot\u001b[39;49;00m\u001b[43m \u001b[49m\u001b[38;5;129;43;01min\u001b[39;49;00m\u001b[43m \u001b[49m\u001b[43msop\u001b[49m\u001b[43m(\u001b[49m\u001b[43mTEST_INPUT\u001b[49m\u001b[43m)\u001b[49m\u001b[43m]\u001b[49m\u001b[43m)\u001b[49m)\n\u001b[1;32m    126\u001b[0m sop_out \u001b[38;5;241m=\u001b[39m rasp\u001b[38;5;241m.\u001b[39mAggregate(selector, sop_in, default\u001b[38;5;241m=\u001b[39m\u001b[38;5;241m0\u001b[39m)\n",
      "File \u001b[0;32m~/projects/metamodels/lauro-inverse-tracr/lauro_inverse_tracr/sampling.py:66\u001b[0m, in \u001b[0;36mfilter_scope\u001b[0;34m(variable_scope, type, constraints)\u001b[0m\n\u001b[1;32m     65\u001b[0m     \u001b[38;5;28;01mif\u001b[39;00m \u001b[38;5;28mlen\u001b[39m(filtered) \u001b[38;5;241m==\u001b[39m \u001b[38;5;241m0\u001b[39m:\n\u001b[0;32m---> 66\u001b[0m         \u001b[38;5;28;01mraise\u001b[39;00m EmptyScopeError(\u001b[38;5;124mf\u001b[39m\u001b[38;5;124m\"\u001b[39m\u001b[38;5;124mNo SOps of type \u001b[39m\u001b[38;5;132;01m{\u001b[39;00m\u001b[38;5;28mtype\u001b[39m\u001b[38;5;132;01m}\u001b[39;00m\u001b[38;5;124m in scope.\u001b[39m\u001b[38;5;124m\"\u001b[39m)\n\u001b[1;32m     68\u001b[0m \u001b[38;5;28;01mreturn\u001b[39;00m filtered\n",
      "\u001b[0;31mEmptyScopeError\u001b[0m: No SOps of type bool in scope.",
      "\nDuring handling of the above exception, another exception occurred:\n",
      "\u001b[0;31mEmptyScopeError\u001b[0m                           Traceback (most recent call last)",
      "File \u001b[0;32m~/projects/metamodels/lauro-inverse-tracr/lauro_inverse_tracr/sampling.py:220\u001b[0m, in \u001b[0;36mProgramSampler.add_sop\u001b[0;34m(self, max_retries)\u001b[0m\n\u001b[1;32m    219\u001b[0m \u001b[38;5;28;01mtry\u001b[39;00m:\n\u001b[0;32m--> 220\u001b[0m     sop \u001b[38;5;241m=\u001b[39m \u001b[43msample_sop\u001b[49m\u001b[43m(\u001b[49m\u001b[38;5;28;43mself\u001b[39;49m\u001b[38;5;241;43m.\u001b[39;49m\u001b[43mrng\u001b[49m\u001b[43m,\u001b[49m\u001b[43m \u001b[49m\u001b[38;5;28;43mself\u001b[39;49m\u001b[38;5;241;43m.\u001b[39;49m\u001b[43msops\u001b[49m\u001b[43m)\u001b[49m\n\u001b[1;32m    221\u001b[0m     \u001b[38;5;28mself\u001b[39m\u001b[38;5;241m.\u001b[39msops\u001b[38;5;241m.\u001b[39mappend(sop)\n",
      "File \u001b[0;32m~/projects/metamodels/lauro-inverse-tracr/lauro_inverse_tracr/sampling.py:175\u001b[0m, in \u001b[0;36msample_sop\u001b[0;34m(rng, variable_scope)\u001b[0m\n\u001b[1;32m    174\u001b[0m sop_type \u001b[38;5;241m=\u001b[39m rng\u001b[38;5;241m.\u001b[39mchoice(\u001b[38;5;28mlist\u001b[39m(SAMPLE_FUNCTIONS\u001b[38;5;241m.\u001b[39mkeys()))\n\u001b[0;32m--> 175\u001b[0m \u001b[38;5;28;01mreturn\u001b[39;00m \u001b[43mSAMPLE_FUNCTIONS\u001b[49m\u001b[43m[\u001b[49m\u001b[43msop_type\u001b[49m\u001b[43m]\u001b[49m\u001b[43m(\u001b[49m\u001b[43mrng\u001b[49m\u001b[43m,\u001b[49m\u001b[43m \u001b[49m\u001b[43mvariable_scope\u001b[49m\u001b[43m)\u001b[49m\n",
      "File \u001b[0;32m~/projects/metamodels/lauro-inverse-tracr/lauro_inverse_tracr/sampling.py:95\u001b[0m, in \u001b[0;36msample_linear_sequence_map\u001b[0;34m(rng, variable_scope)\u001b[0m\n\u001b[1;32m     94\u001b[0m \u001b[38;5;28;01mif\u001b[39;00m \u001b[38;5;28mlen\u001b[39m(floats) \u001b[38;5;241m<\u001b[39m \u001b[38;5;241m2\u001b[39m:\n\u001b[0;32m---> 95\u001b[0m     \u001b[38;5;28;01mraise\u001b[39;00m EmptyScopeError(\u001b[38;5;124m\"\u001b[39m\u001b[38;5;124mFound only one SOp of type float in scope. Need >= 2 for LinearSequenceMap\u001b[39m\u001b[38;5;124m\"\u001b[39m)\n\u001b[1;32m     97\u001b[0m args \u001b[38;5;241m=\u001b[39m rng\u001b[38;5;241m.\u001b[39mchoice(floats, size\u001b[38;5;241m=\u001b[39m\u001b[38;5;241m2\u001b[39m, replace\u001b[38;5;241m=\u001b[39m\u001b[38;5;28;01mFalse\u001b[39;00m)\n",
      "\u001b[0;31mEmptyScopeError\u001b[0m: Found only one SOp of type float in scope. Need >= 2 for LinearSequenceMap",
      "\nDuring handling of the above exception, another exception occurred:\n",
      "\u001b[0;31mValueError\u001b[0m                                Traceback (most recent call last)",
      "Cell \u001b[0;32mIn[28], line 2\u001b[0m\n\u001b[1;32m      1\u001b[0m sampler \u001b[38;5;241m=\u001b[39m sampling\u001b[38;5;241m.\u001b[39mProgramSampler(validate_compilation\u001b[38;5;241m=\u001b[39m\u001b[38;5;28;01mTrue\u001b[39;00m)\n\u001b[0;32m----> 2\u001b[0m \u001b[43msampler\u001b[49m\u001b[38;5;241;43m.\u001b[39;49m\u001b[43msample\u001b[49m\u001b[43m(\u001b[49m\u001b[43m)\u001b[49m\n\u001b[1;32m      3\u001b[0m \u001b[38;5;28mprint\u001b[39m(sampler\u001b[38;5;241m.\u001b[39moutput([\u001b[38;5;241m1\u001b[39m,\u001b[38;5;241m2\u001b[39m,\u001b[38;5;241m3\u001b[39m,\u001b[38;5;241m4\u001b[39m]))\n",
      "File \u001b[0;32m~/projects/metamodels/lauro-inverse-tracr/lauro_inverse_tracr/sampling.py:232\u001b[0m, in \u001b[0;36mProgramSampler.sample\u001b[0;34m(self, n_sops)\u001b[0m\n\u001b[1;32m    230\u001b[0m \u001b[38;5;250m\u001b[39m\u001b[38;5;124;03m\"\"\"Sample a program.\"\"\"\u001b[39;00m\n\u001b[1;32m    231\u001b[0m \u001b[38;5;28;01mfor\u001b[39;00m _ \u001b[38;5;129;01min\u001b[39;00m \u001b[38;5;28mrange\u001b[39m(n_sops):\n\u001b[0;32m--> 232\u001b[0m     \u001b[38;5;28;43mself\u001b[39;49m\u001b[38;5;241;43m.\u001b[39;49m\u001b[43madd_sop\u001b[49m\u001b[43m(\u001b[49m\u001b[43m)\u001b[49m\n\u001b[1;32m    233\u001b[0m \u001b[38;5;28mself\u001b[39m\u001b[38;5;241m.\u001b[39moutput \u001b[38;5;241m=\u001b[39m \u001b[38;5;28mself\u001b[39m\u001b[38;5;241m.\u001b[39msops[\u001b[38;5;241m-\u001b[39m\u001b[38;5;241m1\u001b[39m]\n\u001b[1;32m    234\u001b[0m \u001b[38;5;28mself\u001b[39m\u001b[38;5;241m.\u001b[39mvalidate()\n",
      "File \u001b[0;32m~/projects/metamodels/lauro-inverse-tracr/lauro_inverse_tracr/sampling.py:227\u001b[0m, in \u001b[0;36mProgramSampler.add_sop\u001b[0;34m(self, max_retries)\u001b[0m\n\u001b[1;32m    224\u001b[0m     \u001b[38;5;28;01mraise\u001b[39;00m EmptyScopeError(\u001b[38;5;124m\"\u001b[39m\u001b[38;5;124mMaximum retries reached. Failed to sample SOp. Received error: \u001b[39m\u001b[38;5;124m\"\u001b[39m\n\u001b[1;32m    225\u001b[0m                           \u001b[38;5;124mf\u001b[39m\u001b[38;5;124m\"\u001b[39m\u001b[38;5;132;01m{\u001b[39;00merr\u001b[38;5;132;01m}\u001b[39;00m\u001b[38;5;124m\"\u001b[39m)\n\u001b[1;32m    226\u001b[0m \u001b[38;5;28;01melse\u001b[39;00m:\n\u001b[0;32m--> 227\u001b[0m     \u001b[38;5;28;43mself\u001b[39;49m\u001b[38;5;241;43m.\u001b[39;49m\u001b[43madd_sop\u001b[49m\u001b[43m(\u001b[49m\u001b[43mmax_retries\u001b[49m\u001b[38;5;241;43m=\u001b[39;49m\u001b[43mmax_retries\u001b[49m\u001b[38;5;241;43m-\u001b[39;49m\u001b[38;5;241;43m1\u001b[39;49m\u001b[43m)\u001b[49m\n",
      "File \u001b[0;32m~/projects/metamodels/lauro-inverse-tracr/lauro_inverse_tracr/sampling.py:227\u001b[0m, in \u001b[0;36mProgramSampler.add_sop\u001b[0;34m(self, max_retries)\u001b[0m\n\u001b[1;32m    224\u001b[0m     \u001b[38;5;28;01mraise\u001b[39;00m EmptyScopeError(\u001b[38;5;124m\"\u001b[39m\u001b[38;5;124mMaximum retries reached. Failed to sample SOp. Received error: \u001b[39m\u001b[38;5;124m\"\u001b[39m\n\u001b[1;32m    225\u001b[0m                           \u001b[38;5;124mf\u001b[39m\u001b[38;5;124m\"\u001b[39m\u001b[38;5;132;01m{\u001b[39;00merr\u001b[38;5;132;01m}\u001b[39;00m\u001b[38;5;124m\"\u001b[39m)\n\u001b[1;32m    226\u001b[0m \u001b[38;5;28;01melse\u001b[39;00m:\n\u001b[0;32m--> 227\u001b[0m     \u001b[38;5;28;43mself\u001b[39;49m\u001b[38;5;241;43m.\u001b[39;49m\u001b[43madd_sop\u001b[49m\u001b[43m(\u001b[49m\u001b[43mmax_retries\u001b[49m\u001b[38;5;241;43m=\u001b[39;49m\u001b[43mmax_retries\u001b[49m\u001b[38;5;241;43m-\u001b[39;49m\u001b[38;5;241;43m1\u001b[39;49m\u001b[43m)\u001b[49m\n",
      "File \u001b[0;32m~/projects/metamodels/lauro-inverse-tracr/lauro_inverse_tracr/sampling.py:220\u001b[0m, in \u001b[0;36mProgramSampler.add_sop\u001b[0;34m(self, max_retries)\u001b[0m\n\u001b[1;32m    218\u001b[0m \u001b[38;5;250m\u001b[39m\u001b[38;5;124;03m\"\"\"Sample a SOp.\"\"\"\u001b[39;00m\n\u001b[1;32m    219\u001b[0m \u001b[38;5;28;01mtry\u001b[39;00m:\n\u001b[0;32m--> 220\u001b[0m     sop \u001b[38;5;241m=\u001b[39m \u001b[43msample_sop\u001b[49m\u001b[43m(\u001b[49m\u001b[38;5;28;43mself\u001b[39;49m\u001b[38;5;241;43m.\u001b[39;49m\u001b[43mrng\u001b[49m\u001b[43m,\u001b[49m\u001b[43m \u001b[49m\u001b[38;5;28;43mself\u001b[39;49m\u001b[38;5;241;43m.\u001b[39;49m\u001b[43msops\u001b[49m\u001b[43m)\u001b[49m\n\u001b[1;32m    221\u001b[0m     \u001b[38;5;28mself\u001b[39m\u001b[38;5;241m.\u001b[39msops\u001b[38;5;241m.\u001b[39mappend(sop)\n\u001b[1;32m    222\u001b[0m \u001b[38;5;28;01mexcept\u001b[39;00m EmptyScopeError \u001b[38;5;28;01mas\u001b[39;00m err:\n",
      "File \u001b[0;32m~/projects/metamodels/lauro-inverse-tracr/lauro_inverse_tracr/sampling.py:175\u001b[0m, in \u001b[0;36msample_sop\u001b[0;34m(rng, variable_scope)\u001b[0m\n\u001b[1;32m    173\u001b[0m \u001b[38;5;250m\u001b[39m\u001b[38;5;124;03m\"\"\"Sample a SOp.\"\"\"\u001b[39;00m\n\u001b[1;32m    174\u001b[0m sop_type \u001b[38;5;241m=\u001b[39m rng\u001b[38;5;241m.\u001b[39mchoice(\u001b[38;5;28mlist\u001b[39m(SAMPLE_FUNCTIONS\u001b[38;5;241m.\u001b[39mkeys()))\n\u001b[0;32m--> 175\u001b[0m \u001b[38;5;28;01mreturn\u001b[39;00m \u001b[43mSAMPLE_FUNCTIONS\u001b[49m\u001b[43m[\u001b[49m\u001b[43msop_type\u001b[49m\u001b[43m]\u001b[49m\u001b[43m(\u001b[49m\u001b[43mrng\u001b[49m\u001b[43m,\u001b[49m\u001b[43m \u001b[49m\u001b[43mvariable_scope\u001b[49m\u001b[43m)\u001b[49m\n",
      "File \u001b[0;32m~/projects/metamodels/lauro-inverse-tracr/lauro_inverse_tracr/sampling.py:147\u001b[0m, in \u001b[0;36msample_categorical_aggregate\u001b[0;34m(rng, variable_scope, max_retries)\u001b[0m\n\u001b[1;32m    145\u001b[0m \u001b[38;5;28;01mif\u001b[39;00m width \u001b[38;5;241m>\u001b[39m \u001b[38;5;241m1\u001b[39m \u001b[38;5;129;01mand\u001b[39;00m \u001b[38;5;28mset\u001b[39m(sop_in(TEST_INPUT)) \u001b[38;5;241m!=\u001b[39m \u001b[38;5;28mset\u001b[39m(sop_out(TEST_INPUT)):\n\u001b[1;32m    146\u001b[0m     \u001b[38;5;28;01mif\u001b[39;00m max_retries \u001b[38;5;241m>\u001b[39m \u001b[38;5;241m0\u001b[39m:\n\u001b[0;32m--> 147\u001b[0m         sop_out \u001b[38;5;241m=\u001b[39m \u001b[43msample_categorical_aggregate\u001b[49m\u001b[43m(\u001b[49m\u001b[43mrng\u001b[49m\u001b[43m,\u001b[49m\u001b[43m \u001b[49m\u001b[43mvariable_scope\u001b[49m\u001b[43m,\u001b[49m\u001b[43m \u001b[49m\u001b[43mmax_retries\u001b[49m\u001b[38;5;241;43m=\u001b[39;49m\u001b[43mmax_retries\u001b[49m\u001b[38;5;241;43m-\u001b[39;49m\u001b[38;5;241;43m1\u001b[39;49m\u001b[43m)\u001b[49m\n\u001b[1;32m    148\u001b[0m     \u001b[38;5;28;01melse\u001b[39;00m:\n\u001b[1;32m    149\u001b[0m         \u001b[38;5;28;01mraise\u001b[39;00m SamplingError(\u001b[38;5;124m\"\u001b[39m\u001b[38;5;124mMaximum retries reached. Could not sample categorical aggregate with valid output domain.\u001b[39m\u001b[38;5;124m\"\u001b[39m\n\u001b[1;32m    150\u001b[0m                             \u001b[38;5;124m\"\u001b[39m\u001b[38;5;124mThis because the sampler couldn\u001b[39m\u001b[38;5;124m'\u001b[39m\u001b[38;5;124mt find a selector with width 1, and other sampled selectors \u001b[39m\u001b[38;5;124m\"\u001b[39m\n\u001b[1;32m    151\u001b[0m                             \u001b[38;5;124m\"\u001b[39m\u001b[38;5;124mdon\u001b[39m\u001b[38;5;124m'\u001b[39m\u001b[38;5;124mt result in an output domain that is a subset of the input domain.\u001b[39m\u001b[38;5;124m\"\u001b[39m)\n",
      "File \u001b[0;32m~/projects/metamodels/lauro-inverse-tracr/lauro_inverse_tracr/sampling.py:147\u001b[0m, in \u001b[0;36msample_categorical_aggregate\u001b[0;34m(rng, variable_scope, max_retries)\u001b[0m\n\u001b[1;32m    145\u001b[0m \u001b[38;5;28;01mif\u001b[39;00m width \u001b[38;5;241m>\u001b[39m \u001b[38;5;241m1\u001b[39m \u001b[38;5;129;01mand\u001b[39;00m \u001b[38;5;28mset\u001b[39m(sop_in(TEST_INPUT)) \u001b[38;5;241m!=\u001b[39m \u001b[38;5;28mset\u001b[39m(sop_out(TEST_INPUT)):\n\u001b[1;32m    146\u001b[0m     \u001b[38;5;28;01mif\u001b[39;00m max_retries \u001b[38;5;241m>\u001b[39m \u001b[38;5;241m0\u001b[39m:\n\u001b[0;32m--> 147\u001b[0m         sop_out \u001b[38;5;241m=\u001b[39m \u001b[43msample_categorical_aggregate\u001b[49m\u001b[43m(\u001b[49m\u001b[43mrng\u001b[49m\u001b[43m,\u001b[49m\u001b[43m \u001b[49m\u001b[43mvariable_scope\u001b[49m\u001b[43m,\u001b[49m\u001b[43m \u001b[49m\u001b[43mmax_retries\u001b[49m\u001b[38;5;241;43m=\u001b[39;49m\u001b[43mmax_retries\u001b[49m\u001b[38;5;241;43m-\u001b[39;49m\u001b[38;5;241;43m1\u001b[39;49m\u001b[43m)\u001b[49m\n\u001b[1;32m    148\u001b[0m     \u001b[38;5;28;01melse\u001b[39;00m:\n\u001b[1;32m    149\u001b[0m         \u001b[38;5;28;01mraise\u001b[39;00m SamplingError(\u001b[38;5;124m\"\u001b[39m\u001b[38;5;124mMaximum retries reached. Could not sample categorical aggregate with valid output domain.\u001b[39m\u001b[38;5;124m\"\u001b[39m\n\u001b[1;32m    150\u001b[0m                             \u001b[38;5;124m\"\u001b[39m\u001b[38;5;124mThis because the sampler couldn\u001b[39m\u001b[38;5;124m'\u001b[39m\u001b[38;5;124mt find a selector with width 1, and other sampled selectors \u001b[39m\u001b[38;5;124m\"\u001b[39m\n\u001b[1;32m    151\u001b[0m                             \u001b[38;5;124m\"\u001b[39m\u001b[38;5;124mdon\u001b[39m\u001b[38;5;124m'\u001b[39m\u001b[38;5;124mt result in an output domain that is a subset of the input domain.\u001b[39m\u001b[38;5;124m\"\u001b[39m)\n",
      "File \u001b[0;32m~/projects/metamodels/lauro-inverse-tracr/lauro_inverse_tracr/sampling.py:145\u001b[0m, in \u001b[0;36msample_categorical_aggregate\u001b[0;34m(rng, variable_scope, max_retries)\u001b[0m\n\u001b[1;32m    143\u001b[0m \u001b[38;5;66;03m# validate:\u001b[39;00m\n\u001b[1;32m    144\u001b[0m width \u001b[38;5;241m=\u001b[39m \u001b[38;5;28mmax\u001b[39m(rasp\u001b[38;5;241m.\u001b[39mSelectorWidth(selector)(TEST_INPUT))\n\u001b[0;32m--> 145\u001b[0m \u001b[38;5;28;01mif\u001b[39;00m width \u001b[38;5;241m>\u001b[39m \u001b[38;5;241m1\u001b[39m \u001b[38;5;129;01mand\u001b[39;00m \u001b[38;5;28mset\u001b[39m(sop_in(TEST_INPUT)) \u001b[38;5;241m!=\u001b[39m \u001b[38;5;28mset\u001b[39m(\u001b[43msop_out\u001b[49m\u001b[43m(\u001b[49m\u001b[43mTEST_INPUT\u001b[49m\u001b[43m)\u001b[49m):\n\u001b[1;32m    146\u001b[0m     \u001b[38;5;28;01mif\u001b[39;00m max_retries \u001b[38;5;241m>\u001b[39m \u001b[38;5;241m0\u001b[39m:\n\u001b[1;32m    147\u001b[0m         sop_out \u001b[38;5;241m=\u001b[39m sample_categorical_aggregate(rng, variable_scope, max_retries\u001b[38;5;241m=\u001b[39mmax_retries\u001b[38;5;241m-\u001b[39m\u001b[38;5;241m1\u001b[39m)\n",
      "File \u001b[0;32m~/projects/metamodels/tracr/tracr/rasp/rasp.py:172\u001b[0m, in \u001b[0;36mSOp.__call__\u001b[0;34m(self, xs)\u001b[0m\n\u001b[1;32m    171\u001b[0m \u001b[38;5;28;01mdef\u001b[39;00m \u001b[38;5;21m__call__\u001b[39m(\u001b[38;5;28mself\u001b[39m, xs: Sequence[Value]) \u001b[38;5;241m-\u001b[39m\u001b[38;5;241m>\u001b[39m Sequence[Value]:\n\u001b[0;32m--> 172\u001b[0m   \u001b[38;5;28;01mreturn\u001b[39;00m \u001b[43mevaluate\u001b[49m\u001b[43m(\u001b[49m\u001b[38;5;28;43mself\u001b[39;49m\u001b[43m,\u001b[49m\u001b[43m \u001b[49m\u001b[43mxs\u001b[49m\u001b[43m)\u001b[49m\n",
      "File \u001b[0;32m~/projects/metamodels/tracr/tracr/rasp/rasp.py:808\u001b[0m, in \u001b[0;36mDefaultRASPEvaluator.evaluate\u001b[0;34m(self, expr, xs)\u001b[0m\n\u001b[1;32m    805\u001b[0m \u001b[38;5;28;01mdef\u001b[39;00m \u001b[38;5;21mevaluate\u001b[39m(\u001b[38;5;28mself\u001b[39m, expr: RASPExpr,\n\u001b[1;32m    806\u001b[0m              xs: Sequence[Value]) \u001b[38;5;241m-\u001b[39m\u001b[38;5;241m>\u001b[39m Union[Sequence[Value], SelectorValue]:\n\u001b[1;32m    807\u001b[0m \u001b[38;5;250m  \u001b[39m\u001b[38;5;124;03m\"\"\"Evaluates the RASP expression on input `xs`.\"\"\"\u001b[39;00m\n\u001b[0;32m--> 808\u001b[0m   \u001b[38;5;28;01mreturn\u001b[39;00m \u001b[38;5;28;43mself\u001b[39;49m\u001b[38;5;241;43m.\u001b[39;49m\u001b[43m_eval_fn_by_expr_type\u001b[49m\u001b[43m[\u001b[49m\u001b[38;5;28;43mtype\u001b[39;49m\u001b[43m(\u001b[49m\u001b[43mexpr\u001b[49m\u001b[43m)\u001b[49m\u001b[43m]\u001b[49m\u001b[43m(\u001b[49m\u001b[43mexpr\u001b[49m\u001b[43m,\u001b[49m\u001b[43m \u001b[49m\u001b[43mxs\u001b[49m\u001b[43m)\u001b[49m\n",
      "File \u001b[0;32m~/projects/metamodels/tracr/tracr/rasp/rasp.py:884\u001b[0m, in \u001b[0;36mDefaultRASPEvaluator.eval_aggregate\u001b[0;34m(self, sop, xs)\u001b[0m\n\u001b[1;32m    881\u001b[0m values \u001b[38;5;241m=\u001b[39m \u001b[38;5;28mself\u001b[39m\u001b[38;5;241m.\u001b[39mevaluate(sop\u001b[38;5;241m.\u001b[39msop, xs)\n\u001b[1;32m    882\u001b[0m default \u001b[38;5;241m=\u001b[39m sop\u001b[38;5;241m.\u001b[39mdefault\n\u001b[0;32m--> 884\u001b[0m \u001b[38;5;28;01mreturn\u001b[39;00m [\n\u001b[1;32m    885\u001b[0m     _mean(_get_selected(row, values), default) \u001b[38;5;28;01mfor\u001b[39;00m row \u001b[38;5;129;01min\u001b[39;00m selector_value\n\u001b[1;32m    886\u001b[0m ]\n",
      "File \u001b[0;32m~/projects/metamodels/tracr/tracr/rasp/rasp.py:885\u001b[0m, in \u001b[0;36m<listcomp>\u001b[0;34m(.0)\u001b[0m\n\u001b[1;32m    881\u001b[0m values \u001b[38;5;241m=\u001b[39m \u001b[38;5;28mself\u001b[39m\u001b[38;5;241m.\u001b[39mevaluate(sop\u001b[38;5;241m.\u001b[39msop, xs)\n\u001b[1;32m    882\u001b[0m default \u001b[38;5;241m=\u001b[39m sop\u001b[38;5;241m.\u001b[39mdefault\n\u001b[1;32m    884\u001b[0m \u001b[38;5;28;01mreturn\u001b[39;00m [\n\u001b[0;32m--> 885\u001b[0m     \u001b[43m_mean\u001b[49m\u001b[43m(\u001b[49m\u001b[43m_get_selected\u001b[49m\u001b[43m(\u001b[49m\u001b[43mrow\u001b[49m\u001b[43m,\u001b[49m\u001b[43m \u001b[49m\u001b[43mvalues\u001b[49m\u001b[43m)\u001b[49m\u001b[43m,\u001b[49m\u001b[43m \u001b[49m\u001b[43mdefault\u001b[49m\u001b[43m)\u001b[49m \u001b[38;5;28;01mfor\u001b[39;00m row \u001b[38;5;129;01min\u001b[39;00m selector_value\n\u001b[1;32m    886\u001b[0m ]\n",
      "File \u001b[0;32m~/projects/metamodels/tracr/tracr/rasp/rasp.py:953\u001b[0m, in \u001b[0;36m_mean\u001b[0;34m(xs, default)\u001b[0m\n\u001b[1;32m    951\u001b[0m   \u001b[38;5;28;01mreturn\u001b[39;00m exemplar\n\u001b[1;32m    952\u001b[0m \u001b[38;5;28;01melse\u001b[39;00m:\n\u001b[0;32m--> 953\u001b[0m   \u001b[38;5;28;01mraise\u001b[39;00m \u001b[38;5;167;01mValueError\u001b[39;00m(\u001b[38;5;124mf\u001b[39m\u001b[38;5;124m\"\u001b[39m\u001b[38;5;124mUnsupported type for aggregation: \u001b[39m\u001b[38;5;132;01m{\u001b[39;00mxs\u001b[38;5;132;01m}\u001b[39;00m\u001b[38;5;124m\"\u001b[39m)\n",
      "\u001b[0;31mValueError\u001b[0m: Unsupported type for aggregation: [0.0, 1.0, 3.0, 6.0]"
     ]
    }
   ],
   "source": [
    "sampler = sampling.ProgramSampler(validate_compilation=True)\n",
    "sampler.sample()\n",
    "print(sampler.output([1,2,3,4]))"
   ]
  },
  {
   "cell_type": "code",
   "execution_count": 32,
   "metadata": {},
   "outputs": [
    {
     "data": {
      "text/plain": [
       "[tokens,\n",
       " indices,\n",
       " <tracr.rasp.rasp.SequenceMap at 0x7fdf68a730a0>,\n",
       " <tracr.rasp.rasp.Map at 0x7fdf68a71840>,\n",
       " <tracr.rasp.rasp.Map at 0x7fdf68a73160>,\n",
       " <tracr.rasp.rasp.SequenceMap at 0x7fdf68a73640>,\n",
       " <tracr.rasp.rasp.Map at 0x7fdf68a70c10>,\n",
       " <tracr.rasp.rasp.Aggregate at 0x7fdf68a73790>]"
      ]
     },
     "execution_count": 32,
     "metadata": {},
     "output_type": "execute_result"
    }
   ],
   "source": [
    "sampler.sops"
   ]
  },
  {
   "cell_type": "code",
   "execution_count": 37,
   "metadata": {},
   "outputs": [
    {
     "data": {
      "text/plain": [
       "'      self.f = lambda t: f(inner_f(t))\\n'"
      ]
     },
     "execution_count": 37,
     "metadata": {},
     "output_type": "execute_result"
    }
   ],
   "source": [
    "inspect.getsource(sampler.sops[-2].f)"
   ]
  },
  {
   "cell_type": "code",
   "execution_count": 38,
   "metadata": {},
   "outputs": [
    {
     "name": "stdout",
     "output_type": "stream",
     "text": [
      "sequence_map_52 = SequenceMap(lambda x, y: x*y, tokens, indices)    # type: categorical\n",
      "map_53 = Map(<function Map.__init__.<locals>.<lambda> at 0x7fdf688885e0>, sequence_map_52)    # type: categorical\n",
      "\n",
      "\n",
      "sequence_map_52 = SequenceMap(lambda x, y: x*y, tokens, indices)    # output: [0, 2, 6, 12]\n",
      "map_53 = Map(<function Map.__init__.<locals>.<lambda> at 0x7fdf688885e0>, sequence_map_52)    # output: [0.0, 1.0, 3.0, 6.0]\n"
     ]
    }
   ],
   "source": [
    "# print program with and without test input\n",
    "k = 2\n",
    "utils.print_program(sampler.sops[-k])\n",
    "print()\n",
    "print()\n",
    "utils.print_program(sampler.sops[-k], TEST_INPUT)"
   ]
  },
  {
   "cell_type": "code",
   "execution_count": 30,
   "metadata": {},
   "outputs": [
    {
     "name": "stdout",
     "output_type": "stream",
     "text": [
      "sequence_map_52 = SequenceMap(lambda x, y: x*y, tokens, indices)    # type: categorical\n",
      "\n",
      "\n",
      "sequence_map_52 = SequenceMap(lambda x, y: x*y, tokens, indices)    # output: [0, 2, 6, 12]\n"
     ]
    }
   ],
   "source": [
    "# print program with and without test input\n",
    "utils.print_program(sampler.sops[2])\n",
    "print()\n",
    "print()\n",
    "utils.print_program(sampler.sops[2], TEST_INPUT)"
   ]
  },
  {
   "cell_type": "code",
   "execution_count": null,
   "metadata": {},
   "outputs": [
    {
     "name": "stdout",
     "output_type": "stream",
     "text": [
      "[None, None, None, None]\n",
      "['BOS', 1, 1, 1, 1]\n"
     ]
    }
   ],
   "source": [
    "def get_program():\n",
    "    select_22 = Select(indices, tokens, predicate=Comparison.FALSE)\n",
    "    aggregate_21 = Aggregate(select_22, tokens)    # type: categorical\n",
    "    return aggregate_21\n",
    "\n",
    "\n",
    "program = get_program()\n",
    "model = compile_rasp_to_model(program)\n",
    "\n",
    "\n",
    "print(program(TEST_INPUT))\n",
    "print(model.apply([\"BOS\", *TEST_INPUT]).decoded)"
   ]
  }
 ],
 "metadata": {
  "kernelspec": {
   "display_name": "meta-models",
   "language": "python",
   "name": "python3"
  },
  "language_info": {
   "codemirror_mode": {
    "name": "ipython",
    "version": 3
   },
   "file_extension": ".py",
   "mimetype": "text/x-python",
   "name": "python",
   "nbconvert_exporter": "python",
   "pygments_lexer": "ipython3",
   "version": "3.10.12"
  }
 },
 "nbformat": 4,
 "nbformat_minor": 2
}
