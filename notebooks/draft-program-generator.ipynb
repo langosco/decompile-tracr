{
 "cells": [
  {
   "cell_type": "code",
   "execution_count": 1,
   "metadata": {},
   "outputs": [],
   "source": [
    "from collections import defaultdict\n",
    "import os\n",
    "import inspect\n",
    "os.environ[\"XLA_PYTHON_CLIENT_PREALLOCATE\"] = \"false\"\n",
    "from tracr.rasp import rasp\n",
    "from tracr.compiler import compiling, rasp_to_graph\n",
    "import numpy as np\n",
    "from tracr.compiler.validating import validate\n",
    "from rasp_generator import map_primitives, sampling, utils\n",
    "import networkx as nx\n",
    "\n",
    "from tracr.rasp.rasp import Map, SequenceMap, LinearSequenceMap, Select, Aggregate, Comparison, SelectorWidth, indices, tokens \n",
    "\n",
    "\n",
    "def compile_rasp_to_model(sop: rasp.SOp, vocab={0,1,2,3,4}, max_seq_len=5, compiler_bos=\"BOS\"):\n",
    "    return compiling.compile_rasp_to_model(\n",
    "        sop,\n",
    "        vocab=vocab,\n",
    "        max_seq_len=max_seq_len,\n",
    "        compiler_bos=compiler_bos\n",
    "    )\n",
    "\n",
    "\n",
    "TEST_INPUTS = [\n",
    "    [1,2,3,4],\n",
    "    [0,1,2,3,4],\n",
    "    [4,3,2,1,0],\n",
    "    [0,3,2,4],\n",
    "    [1,1,1,1],\n",
    "    [0,0,0,0],\n",
    "    [4,4,4,4],\n",
    "    [0,0,4,0]\n",
    "]\n",
    "\n",
    "\n",
    "TEST_INPUTS = [\n",
    "    [1,2,3,4],\n",
    "    [0,1,2,3,4],\n",
    "    [1,1,1,1],\n",
    "    [0,0,0,0],\n",
    "    [1,0,1,0],\n",
    "    [2,4,2,1],\n",
    "    [4,4,4,3],\n",
    "]"
   ]
  },
  {
   "cell_type": "code",
   "execution_count": 2,
   "metadata": {},
   "outputs": [
    {
     "name": "stdout",
     "output_type": "stream",
     "text": [
      "Retries encountered:\n",
      "\n",
      "EmptyScopeError('Filter failed. No SOps of type bool in scope.') (tried to sample numerical_aggregate)\n",
      "SamplingError(\"Could not sample categorical Aggregate with valid output domain (Maximum retries reached). This because the sampler couldn't find a selector with width 1, and other sampled selectors don't result in an output domain that is a subset of the input domain.\") (tried to sample categorical_aggregate)\n",
      "EmptyScopeError('Filter failed. No SOps of type float in scope.') (tried to sample linear_sequence_map)\n",
      "EmptyScopeError('Filter failed. No SOps of type float in scope.') (tried to sample linear_sequence_map)\n",
      "EmptyScopeError('Filter failed. No SOps of type float in scope.') (tried to sample linear_sequence_map)\n",
      "EmptyScopeError('Filter failed. No SOps of type float in scope.') (tried to sample linear_sequence_map)\n",
      "SamplingError(\"Could not sample categorical Aggregate with valid output domain (Maximum retries reached). This because the sampler couldn't find a selector with width 1, and other sampled selectors don't result in an output domain that is a subset of the input domain.\") (tried to sample categorical_aggregate)\n",
      "SamplingError(\"Could not sample categorical Aggregate with valid output domain (Maximum retries reached). This because the sampler couldn't find a selector with width 1, and other sampled selectors don't result in an output domain that is a subset of the input domain.\") (tried to sample categorical_aggregate)\n",
      "\n",
      "Program outputs:\n",
      "[3.611434152462655, 3.611434152462655, 3.611434152462655, 3.611434152462655]\n",
      "[0.0, 3.611434152462655, 2.8891473219701242, 2.8891473219701242, 3.611434152462655]\n",
      "[3.611434152462655, 3.611434152462655, 3.611434152462655, 3.611434152462655]\n",
      "[0.0, 0.0, 0.0, 0.0]\n",
      "[3.611434152462655, 0.0, 3.611434152462655, 0.0]\n",
      "[3.611434152462655, 3.611434152462655, 3.611434152462655, 3.611434152462655]\n",
      "[3.611434152462655, 3.611434152462655, 3.611434152462655, 3.611434152462655]\n"
     ]
    }
   ],
   "source": [
    "sampler = sampling.ProgramSampler(validate_compilation=False, disable_categorical_aggregate=False)\n",
    "errs = sampler.sample(n_sops=30)\n",
    "print(\"Retries encountered:\")\n",
    "print()\n",
    "for err in errs:\n",
    "    print(err)\n",
    "print()\n",
    "print(\"Program outputs:\")\n",
    "for x in TEST_INPUTS:\n",
    "    print(sampler.program(x))"
   ]
  },
  {
   "cell_type": "code",
   "execution_count": 3,
   "metadata": {},
   "outputs": [
    {
     "name": "stdout",
     "output_type": "stream",
     "text": [
      "map_6 = Map(lambda x: x != 4, tokens)    # type: bool\n",
      "map_8 = Map(lambda x: x < 1, tokens)    # type: bool\n",
      "select_11 = Select(tokens, tokens, predicate=Comparison.EQ)\n",
      "select_17 = Select(tokens, tokens, predicate=Comparison.GEQ)\n",
      "select_15 = Select(tokens, indices, predicate=Comparison.GEQ)\n",
      "selector_width_16 = SelectorWidth(select_17)    # type: categorical\n",
      "selector_width_13 = SelectorWidth(select_15)    # type: categorical\n",
      "sequence_map_14 = SequenceMap(lambda x, y: x*y, tokens, selector_width_16)    # type: categorical\n",
      "select_12 = Select(selector_width_13, sequence_map_14, predicate=Comparison.LT)\n",
      "selector_width_10 = SelectorWidth(select_12)    # type: categorical\n",
      "select_7 = Select(selector_width_10, selector_width_10, predicate=Comparison.LEQ)\n",
      "aggregate_9 = Aggregate(select_11, selector_width_10)    # type: categorical\n",
      "aggregate_4 = Aggregate(select_7, map_8)    # type: float\n",
      "select_5 = Select(tokens, aggregate_9, predicate=Comparison.LT)\n",
      "aggregate_3 = Aggregate(select_5, map_6)    # type: float\n",
      "linear_sequence_map_2 = LinearSequenceMap(aggregate_3, aggregate_4, 1.199436806765223, 0.0)    # type: float\n",
      "linear_sequence_map_1 = LinearSequenceMap(linear_sequence_map_2, aggregate_3, 2.0, 1.212560538932209)    # type: float\n",
      "\n",
      "\n",
      "map_6 = Map(lambda x: x != 4, tokens)    # output: [True, True, True, False]\n",
      "map_8 = Map(lambda x: x < 1, tokens)    # output: [False, False, False, False]\n",
      "select_11 = Select(tokens, tokens, predicate=Comparison.EQ)\n",
      "select_17 = Select(tokens, tokens, predicate=Comparison.GEQ)\n",
      "select_15 = Select(tokens, indices, predicate=Comparison.GEQ)\n",
      "selector_width_16 = SelectorWidth(select_17)    # output: [4, 3, 2, 1]\n",
      "selector_width_13 = SelectorWidth(select_15)    # output: [4, 4, 3, 2]\n",
      "sequence_map_14 = SequenceMap(lambda x, y: x*y, tokens, selector_width_16)    # output: [4, 6, 6, 4]\n",
      "select_12 = Select(selector_width_13, sequence_map_14, predicate=Comparison.LT)\n",
      "selector_width_10 = SelectorWidth(select_12)    # output: [2, 4, 4, 2]\n",
      "select_7 = Select(selector_width_10, selector_width_10, predicate=Comparison.LEQ)\n",
      "aggregate_9 = Aggregate(select_11, selector_width_10)    # output: [2, 4, 4, 2]\n",
      "aggregate_4 = Aggregate(select_7, map_8)    # output: [0.0, 0.0, 0.0, 0.0]\n",
      "select_5 = Select(tokens, aggregate_9, predicate=Comparison.LT)\n",
      "aggregate_3 = Aggregate(select_5, map_6)    # output: [True, 1.0, 1.0, True]\n",
      "linear_sequence_map_2 = LinearSequenceMap(aggregate_3, aggregate_4, 1.199436806765223, 0.0)    # output: [1.199436806765223, 1.199436806765223, 1.199436806765223, 1.199436806765223]\n",
      "linear_sequence_map_1 = LinearSequenceMap(linear_sequence_map_2, aggregate_3, 2.0, 1.212560538932209)    # output: [3.611434152462655, 3.611434152462655, 3.611434152462655, 3.611434152462655]\n"
     ]
    }
   ],
   "source": [
    "# print program with and without test input\n",
    "k = 1\n",
    "utils.print_program(sampler.sops[-k])\n",
    "print()\n",
    "print()\n",
    "utils.print_program(sampler.sops[-k], TEST_INPUTS[0])"
   ]
  },
  {
   "cell_type": "markdown",
   "metadata": {},
   "source": [
    "## Validate compilation"
   ]
  },
  {
   "cell_type": "code",
   "execution_count": 10,
   "metadata": {},
   "outputs": [
    {
     "data": {
      "text/plain": [
       "{'test': 5}"
      ]
     },
     "execution_count": 10,
     "metadata": {},
     "output_type": "execute_result"
    }
   ],
   "source": [
    "d = {}\n",
    "a = 5\n",
    "d['test'] = a\n",
    "\n",
    "a = 17\n",
    "d"
   ]
  },
  {
   "cell_type": "code",
   "execution_count": 11,
   "metadata": {},
   "outputs": [
    {
     "name": "stdout",
     "output_type": "stream",
     "text": [
      "Done sampling.\n",
      "Done compiling.\n"
     ]
    }
   ],
   "source": [
    "errs = defaultdict(list)\n",
    "results = []\n",
    "for _ in range(4):\n",
    "    try:\n",
    "        sampler = sampling.ProgramSampler()\n",
    "        retries = sampler.sample(n_sops=30)\n",
    "        errs['retries'] + retries\n",
    "        results.append(dict(program=sampler.program))\n",
    "    except Exception as err:\n",
    "        errs['sampling'].append(err)\n",
    "    \n",
    "print(\"Done sampling.\")\n",
    "\n",
    "for r in results:\n",
    "    try:\n",
    "        r['model'] = compile_rasp_to_model(r['program'])\n",
    "        r['label'] = r['program'].label\n",
    "    except Exception as err:\n",
    "        errs['compilation'].append(err)\n",
    "        r['compilation_error'] = err\n",
    "    \n",
    "print(\"Done compiling.\")\n",
    "\n",
    "for r in results:\n",
    "    for x in TEST_INPUTS:\n",
    "        rasp_out = r['program'](x)\n",
    "        rasp_out_sanitized = [0 if x is None else x for x in rasp_out]\n",
    "        model_out = r['model'].apply([\"BOS\"] + x).decoded[1:]\n",
    "        if not np.allclose(model_out, rasp_out_sanitized, rtol=1e-3, atol=1e-3):\n",
    "            err = ValueError(f\"Compiled program {r['program'].label} does not match RASP output.\\n\"\n",
    "                                f\"Compiled output: {model_out}\\n\"\n",
    "                                f\"RASP output: {rasp_out}\\n\"\n",
    "                                f\"Test input: {x}\\n\")\n",
    "            errs['validation'].append(err)\n",
    "            r['validation_error'] = err\n",
    "            break\n"
   ]
  },
  {
   "cell_type": "code",
   "execution_count": 13,
   "metadata": {},
   "outputs": [
    {
     "name": "stdout",
     "output_type": "stream",
     "text": [
      "['BOS', 1.1180505680385977e-05, 0.9999963045120239, 0.9999963045120239, 0.7500052452087402]\n",
      "['BOS', 4, 2, 4, 4]\n",
      "['BOS', 0, 4, 8, 243]\n",
      "['BOS', 0, 4, 6, 15]\n"
     ]
    }
   ],
   "source": [
    "for r in results:\n",
    "    print(r['model'].apply([\"BOS\", 4,2,1,3]).decoded)"
   ]
  },
  {
   "cell_type": "code",
   "execution_count": 6,
   "metadata": {},
   "outputs": [
    {
     "data": {
      "text/plain": [
       "[]"
      ]
     },
     "execution_count": 6,
     "metadata": {},
     "output_type": "execute_result"
    }
   ],
   "source": [
    "errs['compilation']"
   ]
  },
  {
   "cell_type": "code",
   "execution_count": 7,
   "metadata": {},
   "outputs": [
    {
     "data": {
      "text/plain": [
       "[]"
      ]
     },
     "execution_count": 7,
     "metadata": {},
     "output_type": "execute_result"
    }
   ],
   "source": [
    "errs['validation']"
   ]
  }
 ],
 "metadata": {
  "kernelspec": {
   "display_name": "meta-models",
   "language": "python",
   "name": "python3"
  },
  "language_info": {
   "codemirror_mode": {
    "name": "ipython",
    "version": 3
   },
   "file_extension": ".py",
   "mimetype": "text/x-python",
   "name": "python",
   "nbconvert_exporter": "python",
   "pygments_lexer": "ipython3",
   "version": "3.10.12"
  }
 },
 "nbformat": 4,
 "nbformat_minor": 2
}
