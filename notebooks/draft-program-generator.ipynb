{
 "cells": [
  {
   "cell_type": "code",
   "execution_count": 1,
   "metadata": {},
   "outputs": [],
   "source": [
    "import os\n",
    "os.environ[\"XLA_PYTHON_CLIENT_PREALLOCATE\"] = \"false\"\n",
    "from tracr.rasp import rasp\n",
    "from tracr.compiler import compiling, rasp_to_graph\n",
    "import numpy as np\n",
    "from tracr.compiler.validating import validate\n",
    "from typing import Union, TypeVar\n",
    "from lauro_inverse_tracr import map_primitives, sampling, utils\n",
    "import networkx as nx\n",
    "\n",
    "from tracr.rasp.rasp import Map, SequenceMap, LinearSequenceMap, Select, Aggregate, Comparison, SelectorWidth, indices, tokens \n",
    "\n",
    "\n",
    "def compile_rasp_to_model(sop: rasp.SOp, vocab={1,2,3,4}, max_seq_len=5, compiler_bos=\"BOS\"):\n",
    "    return compiling.compile_rasp_to_model(\n",
    "        sop,\n",
    "        vocab=vocab,\n",
    "        max_seq_len=max_seq_len,\n",
    "        compiler_bos=compiler_bos\n",
    "    )\n",
    "\n",
    "\n",
    "TEST_INPUT = [1,2,3,4]"
   ]
  },
  {
   "cell_type": "markdown",
   "metadata": {},
   "source": [
    "# Proposal for program generation"
   ]
  },
  {
   "cell_type": "code",
   "execution_count": 2,
   "metadata": {},
   "outputs": [
    {
     "ename": "ValueError",
     "evalue": "Failed to find a node with label tokens. This is probably because your RASP program does not include rasp.tokens. A program must include rasp.tokens to be compiled.",
     "output_type": "error",
     "traceback": [
      "\u001b[0;31m---------------------------------------------------------------------------\u001b[0m",
      "\u001b[0;31mValueError\u001b[0m                                Traceback (most recent call last)",
      "Cell \u001b[0;32mIn[2], line 2\u001b[0m\n\u001b[1;32m      1\u001b[0m sampler \u001b[38;5;241m=\u001b[39m sampling\u001b[38;5;241m.\u001b[39mProgramSampler(validate_compilation\u001b[38;5;241m=\u001b[39m\u001b[38;5;28;01mTrue\u001b[39;00m)\n\u001b[0;32m----> 2\u001b[0m \u001b[43msampler\u001b[49m\u001b[38;5;241;43m.\u001b[39;49m\u001b[43msample\u001b[49m\u001b[43m(\u001b[49m\u001b[43m)\u001b[49m\n\u001b[1;32m      3\u001b[0m \u001b[38;5;28mprint\u001b[39m(sampler\u001b[38;5;241m.\u001b[39moutput([\u001b[38;5;241m1\u001b[39m,\u001b[38;5;241m2\u001b[39m,\u001b[38;5;241m3\u001b[39m,\u001b[38;5;241m4\u001b[39m]))\n",
      "File \u001b[0;32m~/projects/metamodels/lauro-inverse-tracr/lauro_inverse_tracr/sampling.py:224\u001b[0m, in \u001b[0;36mProgramSampler.sample\u001b[0;34m(self, n_sops)\u001b[0m\n\u001b[1;32m    222\u001b[0m     \u001b[38;5;28mself\u001b[39m\u001b[38;5;241m.\u001b[39madd_sop()\n\u001b[1;32m    223\u001b[0m \u001b[38;5;28mself\u001b[39m\u001b[38;5;241m.\u001b[39moutput \u001b[38;5;241m=\u001b[39m \u001b[38;5;28mself\u001b[39m\u001b[38;5;241m.\u001b[39msops[\u001b[38;5;241m-\u001b[39m\u001b[38;5;241m1\u001b[39m]\n\u001b[0;32m--> 224\u001b[0m \u001b[38;5;28;43mself\u001b[39;49m\u001b[38;5;241;43m.\u001b[39;49m\u001b[43mvalidate\u001b[49m\u001b[43m(\u001b[49m\u001b[43m)\u001b[49m\n",
      "File \u001b[0;32m~/projects/metamodels/lauro-inverse-tracr/lauro_inverse_tracr/sampling.py:234\u001b[0m, in \u001b[0;36mProgramSampler.validate\u001b[0;34m(self)\u001b[0m\n\u001b[1;32m    232\u001b[0m     \u001b[38;5;28;01mraise\u001b[39;00m \u001b[38;5;167;01mValueError\u001b[39;00m(\u001b[38;5;124mf\u001b[39m\u001b[38;5;124m\"\u001b[39m\u001b[38;5;124mInvalid program: \u001b[39m\u001b[38;5;132;01m{\u001b[39;00merrs\u001b[38;5;132;01m}\u001b[39;00m\u001b[38;5;124m\"\u001b[39m)\n\u001b[1;32m    233\u001b[0m \u001b[38;5;28;01mif\u001b[39;00m \u001b[38;5;28mself\u001b[39m\u001b[38;5;241m.\u001b[39mvalidate_compilation:\n\u001b[0;32m--> 234\u001b[0m     \u001b[43mvalidate_compilation\u001b[49m\u001b[43m(\u001b[49m\u001b[43msop\u001b[49m\u001b[43m,\u001b[49m\u001b[43m \u001b[49m\u001b[43m[\u001b[49m\u001b[43mTEST_INPUT\u001b[49m\u001b[43m]\u001b[49m\u001b[43m)\u001b[49m\n\u001b[1;32m    235\u001b[0m \u001b[38;5;28;01mreturn\u001b[39;00m\n",
      "File \u001b[0;32m~/projects/metamodels/lauro-inverse-tracr/lauro_inverse_tracr/sampling.py:188\u001b[0m, in \u001b[0;36mvalidate_compilation\u001b[0;34m(expr, test_inputs)\u001b[0m\n\u001b[1;32m    187\u001b[0m \u001b[38;5;28;01mdef\u001b[39;00m \u001b[38;5;21mvalidate_compilation\u001b[39m(expr: rasp\u001b[38;5;241m.\u001b[39mSOp, test_inputs: \u001b[38;5;28mlist\u001b[39m):\n\u001b[0;32m--> 188\u001b[0m     model \u001b[38;5;241m=\u001b[39m \u001b[43mcompiling\u001b[49m\u001b[38;5;241;43m.\u001b[39;49m\u001b[43mcompile_rasp_to_model\u001b[49m\u001b[43m(\u001b[49m\u001b[43mexpr\u001b[49m\u001b[43m,\u001b[49m\u001b[43m \u001b[49m\u001b[43mvocab\u001b[49m\u001b[38;5;241;43m=\u001b[39;49m\u001b[43m{\u001b[49m\u001b[38;5;241;43m1\u001b[39;49m\u001b[43m,\u001b[49m\u001b[38;5;241;43m2\u001b[39;49m\u001b[43m,\u001b[49m\u001b[38;5;241;43m3\u001b[39;49m\u001b[43m,\u001b[49m\u001b[38;5;241;43m4\u001b[39;49m\u001b[43m}\u001b[49m\u001b[43m,\u001b[49m\u001b[43m \u001b[49m\u001b[43mmax_seq_len\u001b[49m\u001b[38;5;241;43m=\u001b[39;49m\u001b[38;5;241;43m5\u001b[39;49m\u001b[43m,\u001b[49m\u001b[43m \u001b[49m\u001b[43mcompiler_bos\u001b[49m\u001b[38;5;241;43m=\u001b[39;49m\u001b[38;5;124;43m\"\u001b[39;49m\u001b[38;5;124;43mBOS\u001b[39;49m\u001b[38;5;124;43m\"\u001b[39;49m\u001b[43m)\u001b[49m\n\u001b[1;32m    189\u001b[0m     \u001b[38;5;28;01mfor\u001b[39;00m test_input \u001b[38;5;129;01min\u001b[39;00m test_inputs:\n\u001b[1;32m    190\u001b[0m         rasp_out \u001b[38;5;241m=\u001b[39m np\u001b[38;5;241m.\u001b[39marray(expr(test_input), dtype\u001b[38;5;241m=\u001b[39m\u001b[38;5;28mfloat\u001b[39m)\n",
      "File \u001b[0;32m~/projects/metamodels/tracr/tracr/compiler/compiling.py:115\u001b[0m, in \u001b[0;36mcompile_rasp_to_model\u001b[0;34m(program, vocab, max_seq_len, causal, compiler_bos, compiler_pad, mlp_exactness)\u001b[0m\n\u001b[1;32m    107\u001b[0m expr_to_craft_graph\u001b[38;5;241m.\u001b[39madd_craft_components_to_rasp_graph(\n\u001b[1;32m    108\u001b[0m     graph,\n\u001b[1;32m    109\u001b[0m     bos_dir\u001b[38;5;241m=\u001b[39mbases\u001b[38;5;241m.\u001b[39mBasisDirection(rasp\u001b[38;5;241m.\u001b[39mtokens\u001b[38;5;241m.\u001b[39mlabel, compiler_bos),\n\u001b[1;32m    110\u001b[0m     mlp_exactness\u001b[38;5;241m=\u001b[39mmlp_exactness,\n\u001b[1;32m    111\u001b[0m )\n\u001b[1;32m    113\u001b[0m craft_model \u001b[38;5;241m=\u001b[39m craft_graph_to_model\u001b[38;5;241m.\u001b[39mcraft_graph_to_model(graph, sources)\n\u001b[0;32m--> 115\u001b[0m \u001b[38;5;28;01mreturn\u001b[39;00m \u001b[43mcraft_model_to_transformer\u001b[49m\u001b[38;5;241;43m.\u001b[39;49m\u001b[43mcraft_model_to_transformer\u001b[49m\u001b[43m(\u001b[49m\n\u001b[1;32m    116\u001b[0m \u001b[43m    \u001b[49m\u001b[43mcraft_model\u001b[49m\u001b[38;5;241;43m=\u001b[39;49m\u001b[43mcraft_model\u001b[49m\u001b[43m,\u001b[49m\n\u001b[1;32m    117\u001b[0m \u001b[43m    \u001b[49m\u001b[43mgraph\u001b[49m\u001b[38;5;241;43m=\u001b[39;49m\u001b[43mgraph\u001b[49m\u001b[43m,\u001b[49m\n\u001b[1;32m    118\u001b[0m \u001b[43m    \u001b[49m\u001b[43msink\u001b[49m\u001b[38;5;241;43m=\u001b[39;49m\u001b[43msink\u001b[49m\u001b[43m,\u001b[49m\n\u001b[1;32m    119\u001b[0m \u001b[43m    \u001b[49m\u001b[43mmax_seq_len\u001b[49m\u001b[38;5;241;43m=\u001b[39;49m\u001b[43mmax_seq_len\u001b[49m\u001b[43m,\u001b[49m\n\u001b[1;32m    120\u001b[0m \u001b[43m    \u001b[49m\u001b[43mcausal\u001b[49m\u001b[38;5;241;43m=\u001b[39;49m\u001b[43mcausal\u001b[49m\u001b[43m,\u001b[49m\n\u001b[1;32m    121\u001b[0m \u001b[43m    \u001b[49m\u001b[43mcompiler_bos\u001b[49m\u001b[38;5;241;43m=\u001b[39;49m\u001b[43mcompiler_bos\u001b[49m\u001b[43m,\u001b[49m\n\u001b[1;32m    122\u001b[0m \u001b[43m    \u001b[49m\u001b[43mcompiler_pad\u001b[49m\u001b[38;5;241;43m=\u001b[39;49m\u001b[43mcompiler_pad\u001b[49m\u001b[43m,\u001b[49m\n\u001b[1;32m    123\u001b[0m \u001b[43m\u001b[49m\u001b[43m)\u001b[49m\n",
      "File \u001b[0;32m~/projects/metamodels/tracr/tracr/compiler/craft_model_to_transformer.py:37\u001b[0m, in \u001b[0;36mcraft_model_to_transformer\u001b[0;34m(craft_model, graph, sink, max_seq_len, compiler_bos, compiler_pad, causal)\u001b[0m\n\u001b[1;32m     35\u001b[0m \u001b[38;5;250m\u001b[39m\u001b[38;5;124;03m\"\"\"Turn a craft model into a transformer model.\"\"\"\u001b[39;00m\n\u001b[1;32m     36\u001b[0m \u001b[38;5;28;01mif\u001b[39;00m rasp\u001b[38;5;241m.\u001b[39mtokens\u001b[38;5;241m.\u001b[39mlabel \u001b[38;5;129;01mnot\u001b[39;00m \u001b[38;5;129;01min\u001b[39;00m graph\u001b[38;5;241m.\u001b[39mnodes:\n\u001b[0;32m---> 37\u001b[0m   \u001b[38;5;28;01mraise\u001b[39;00m \u001b[38;5;167;01mValueError\u001b[39;00m(\u001b[38;5;124mf\u001b[39m\u001b[38;5;124m'\u001b[39m\u001b[38;5;124mFailed to find a node with label \u001b[39m\u001b[38;5;132;01m{\u001b[39;00mrasp\u001b[38;5;241m.\u001b[39mtokens\u001b[38;5;241m.\u001b[39mlabel\u001b[38;5;132;01m}\u001b[39;00m\u001b[38;5;124m. \u001b[39m\u001b[38;5;124m'\u001b[39m\n\u001b[1;32m     38\u001b[0m                    \u001b[38;5;124m'\u001b[39m\u001b[38;5;124mThis is probably because your RASP program does not include \u001b[39m\u001b[38;5;124m'\u001b[39m\n\u001b[1;32m     39\u001b[0m                    \u001b[38;5;124m'\u001b[39m\u001b[38;5;124mrasp.tokens. A program must include rasp.tokens to be \u001b[39m\u001b[38;5;124m'\u001b[39m\n\u001b[1;32m     40\u001b[0m                    \u001b[38;5;124m'\u001b[39m\u001b[38;5;124mcompiled.\u001b[39m\u001b[38;5;124m'\u001b[39m)\n\u001b[1;32m     42\u001b[0m \u001b[38;5;66;03m# Add the compiler BOS token.\u001b[39;00m\n\u001b[1;32m     43\u001b[0m tokens_value_set \u001b[38;5;241m=\u001b[39m (\n\u001b[1;32m     44\u001b[0m     graph\u001b[38;5;241m.\u001b[39mnodes[rasp\u001b[38;5;241m.\u001b[39mtokens\u001b[38;5;241m.\u001b[39mlabel][nodes\u001b[38;5;241m.\u001b[39mVALUE_SET]\u001b[38;5;241m.\u001b[39munion(\n\u001b[1;32m     45\u001b[0m         {compiler_bos, compiler_pad}))\n",
      "\u001b[0;31mValueError\u001b[0m: Failed to find a node with label tokens. This is probably because your RASP program does not include rasp.tokens. A program must include rasp.tokens to be compiled."
     ]
    }
   ],
   "source": [
    "sampler = sampling.ProgramSampler(validate_compilation=True)\n",
    "sampler.sample()\n",
    "print(sampler.output([1,2,3,4]))"
   ]
  },
  {
   "cell_type": "code",
   "execution_count": 5,
   "metadata": {},
   "outputs": [
    {
     "ename": "ValueError",
     "evalue": "Failed to find a node with label tokens. This is probably because your RASP program does not include rasp.tokens. A program must include rasp.tokens to be compiled.",
     "output_type": "error",
     "traceback": [
      "\u001b[0;31m---------------------------------------------------------------------------\u001b[0m",
      "\u001b[0;31mValueError\u001b[0m                                Traceback (most recent call last)",
      "Cell \u001b[0;32mIn[5], line 2\u001b[0m\n\u001b[1;32m      1\u001b[0m \u001b[38;5;28;01mfor\u001b[39;00m sop \u001b[38;5;129;01min\u001b[39;00m sampler\u001b[38;5;241m.\u001b[39msops[\u001b[38;5;241m2\u001b[39m:]:\n\u001b[0;32m----> 2\u001b[0m     \u001b[43mcompile_rasp_to_model\u001b[49m\u001b[43m(\u001b[49m\u001b[43msop\u001b[49m\u001b[43m)\u001b[49m\n",
      "Cell \u001b[0;32mIn[1], line 15\u001b[0m, in \u001b[0;36mcompile_rasp_to_model\u001b[0;34m(sop, vocab, max_seq_len, compiler_bos)\u001b[0m\n\u001b[1;32m     14\u001b[0m \u001b[38;5;28;01mdef\u001b[39;00m \u001b[38;5;21mcompile_rasp_to_model\u001b[39m(sop: rasp\u001b[38;5;241m.\u001b[39mSOp, vocab\u001b[38;5;241m=\u001b[39m{\u001b[38;5;241m1\u001b[39m,\u001b[38;5;241m2\u001b[39m,\u001b[38;5;241m3\u001b[39m,\u001b[38;5;241m4\u001b[39m}, max_seq_len\u001b[38;5;241m=\u001b[39m\u001b[38;5;241m5\u001b[39m, compiler_bos\u001b[38;5;241m=\u001b[39m\u001b[38;5;124m\"\u001b[39m\u001b[38;5;124mBOS\u001b[39m\u001b[38;5;124m\"\u001b[39m):\n\u001b[0;32m---> 15\u001b[0m     \u001b[38;5;28;01mreturn\u001b[39;00m \u001b[43mcompiling\u001b[49m\u001b[38;5;241;43m.\u001b[39;49m\u001b[43mcompile_rasp_to_model\u001b[49m\u001b[43m(\u001b[49m\n\u001b[1;32m     16\u001b[0m \u001b[43m        \u001b[49m\u001b[43msop\u001b[49m\u001b[43m,\u001b[49m\n\u001b[1;32m     17\u001b[0m \u001b[43m        \u001b[49m\u001b[43mvocab\u001b[49m\u001b[38;5;241;43m=\u001b[39;49m\u001b[43mvocab\u001b[49m\u001b[43m,\u001b[49m\n\u001b[1;32m     18\u001b[0m \u001b[43m        \u001b[49m\u001b[43mmax_seq_len\u001b[49m\u001b[38;5;241;43m=\u001b[39;49m\u001b[43mmax_seq_len\u001b[49m\u001b[43m,\u001b[49m\n\u001b[1;32m     19\u001b[0m \u001b[43m        \u001b[49m\u001b[43mcompiler_bos\u001b[49m\u001b[38;5;241;43m=\u001b[39;49m\u001b[43mcompiler_bos\u001b[49m\n\u001b[1;32m     20\u001b[0m \u001b[43m    \u001b[49m\u001b[43m)\u001b[49m\n",
      "File \u001b[0;32m~/projects/metamodels/tracr/tracr/compiler/compiling.py:115\u001b[0m, in \u001b[0;36mcompile_rasp_to_model\u001b[0;34m(program, vocab, max_seq_len, causal, compiler_bos, compiler_pad, mlp_exactness)\u001b[0m\n\u001b[1;32m    107\u001b[0m expr_to_craft_graph\u001b[38;5;241m.\u001b[39madd_craft_components_to_rasp_graph(\n\u001b[1;32m    108\u001b[0m     graph,\n\u001b[1;32m    109\u001b[0m     bos_dir\u001b[38;5;241m=\u001b[39mbases\u001b[38;5;241m.\u001b[39mBasisDirection(rasp\u001b[38;5;241m.\u001b[39mtokens\u001b[38;5;241m.\u001b[39mlabel, compiler_bos),\n\u001b[1;32m    110\u001b[0m     mlp_exactness\u001b[38;5;241m=\u001b[39mmlp_exactness,\n\u001b[1;32m    111\u001b[0m )\n\u001b[1;32m    113\u001b[0m craft_model \u001b[38;5;241m=\u001b[39m craft_graph_to_model\u001b[38;5;241m.\u001b[39mcraft_graph_to_model(graph, sources)\n\u001b[0;32m--> 115\u001b[0m \u001b[38;5;28;01mreturn\u001b[39;00m \u001b[43mcraft_model_to_transformer\u001b[49m\u001b[38;5;241;43m.\u001b[39;49m\u001b[43mcraft_model_to_transformer\u001b[49m\u001b[43m(\u001b[49m\n\u001b[1;32m    116\u001b[0m \u001b[43m    \u001b[49m\u001b[43mcraft_model\u001b[49m\u001b[38;5;241;43m=\u001b[39;49m\u001b[43mcraft_model\u001b[49m\u001b[43m,\u001b[49m\n\u001b[1;32m    117\u001b[0m \u001b[43m    \u001b[49m\u001b[43mgraph\u001b[49m\u001b[38;5;241;43m=\u001b[39;49m\u001b[43mgraph\u001b[49m\u001b[43m,\u001b[49m\n\u001b[1;32m    118\u001b[0m \u001b[43m    \u001b[49m\u001b[43msink\u001b[49m\u001b[38;5;241;43m=\u001b[39;49m\u001b[43msink\u001b[49m\u001b[43m,\u001b[49m\n\u001b[1;32m    119\u001b[0m \u001b[43m    \u001b[49m\u001b[43mmax_seq_len\u001b[49m\u001b[38;5;241;43m=\u001b[39;49m\u001b[43mmax_seq_len\u001b[49m\u001b[43m,\u001b[49m\n\u001b[1;32m    120\u001b[0m \u001b[43m    \u001b[49m\u001b[43mcausal\u001b[49m\u001b[38;5;241;43m=\u001b[39;49m\u001b[43mcausal\u001b[49m\u001b[43m,\u001b[49m\n\u001b[1;32m    121\u001b[0m \u001b[43m    \u001b[49m\u001b[43mcompiler_bos\u001b[49m\u001b[38;5;241;43m=\u001b[39;49m\u001b[43mcompiler_bos\u001b[49m\u001b[43m,\u001b[49m\n\u001b[1;32m    122\u001b[0m \u001b[43m    \u001b[49m\u001b[43mcompiler_pad\u001b[49m\u001b[38;5;241;43m=\u001b[39;49m\u001b[43mcompiler_pad\u001b[49m\u001b[43m,\u001b[49m\n\u001b[1;32m    123\u001b[0m \u001b[43m\u001b[49m\u001b[43m)\u001b[49m\n",
      "File \u001b[0;32m~/projects/metamodels/tracr/tracr/compiler/craft_model_to_transformer.py:37\u001b[0m, in \u001b[0;36mcraft_model_to_transformer\u001b[0;34m(craft_model, graph, sink, max_seq_len, compiler_bos, compiler_pad, causal)\u001b[0m\n\u001b[1;32m     35\u001b[0m \u001b[38;5;250m\u001b[39m\u001b[38;5;124;03m\"\"\"Turn a craft model into a transformer model.\"\"\"\u001b[39;00m\n\u001b[1;32m     36\u001b[0m \u001b[38;5;28;01mif\u001b[39;00m rasp\u001b[38;5;241m.\u001b[39mtokens\u001b[38;5;241m.\u001b[39mlabel \u001b[38;5;129;01mnot\u001b[39;00m \u001b[38;5;129;01min\u001b[39;00m graph\u001b[38;5;241m.\u001b[39mnodes:\n\u001b[0;32m---> 37\u001b[0m   \u001b[38;5;28;01mraise\u001b[39;00m \u001b[38;5;167;01mValueError\u001b[39;00m(\u001b[38;5;124mf\u001b[39m\u001b[38;5;124m'\u001b[39m\u001b[38;5;124mFailed to find a node with label \u001b[39m\u001b[38;5;132;01m{\u001b[39;00mrasp\u001b[38;5;241m.\u001b[39mtokens\u001b[38;5;241m.\u001b[39mlabel\u001b[38;5;132;01m}\u001b[39;00m\u001b[38;5;124m. \u001b[39m\u001b[38;5;124m'\u001b[39m\n\u001b[1;32m     38\u001b[0m                    \u001b[38;5;124m'\u001b[39m\u001b[38;5;124mThis is probably because your RASP program does not include \u001b[39m\u001b[38;5;124m'\u001b[39m\n\u001b[1;32m     39\u001b[0m                    \u001b[38;5;124m'\u001b[39m\u001b[38;5;124mrasp.tokens. A program must include rasp.tokens to be \u001b[39m\u001b[38;5;124m'\u001b[39m\n\u001b[1;32m     40\u001b[0m                    \u001b[38;5;124m'\u001b[39m\u001b[38;5;124mcompiled.\u001b[39m\u001b[38;5;124m'\u001b[39m)\n\u001b[1;32m     42\u001b[0m \u001b[38;5;66;03m# Add the compiler BOS token.\u001b[39;00m\n\u001b[1;32m     43\u001b[0m tokens_value_set \u001b[38;5;241m=\u001b[39m (\n\u001b[1;32m     44\u001b[0m     graph\u001b[38;5;241m.\u001b[39mnodes[rasp\u001b[38;5;241m.\u001b[39mtokens\u001b[38;5;241m.\u001b[39mlabel][nodes\u001b[38;5;241m.\u001b[39mVALUE_SET]\u001b[38;5;241m.\u001b[39munion(\n\u001b[1;32m     45\u001b[0m         {compiler_bos, compiler_pad}))\n",
      "\u001b[0;31mValueError\u001b[0m: Failed to find a node with label tokens. This is probably because your RASP program does not include rasp.tokens. A program must include rasp.tokens to be compiled."
     ]
    }
   ],
   "source": [
    "for sop in sampler.sops[2:]:\n",
    "    compile_rasp_to_model(sop)"
   ]
  },
  {
   "cell_type": "code",
   "execution_count": 8,
   "metadata": {},
   "outputs": [
    {
     "name": "stdout",
     "output_type": "stream",
     "text": [
      "select_2 = Select(indices, indices, predicate=Comparison.FALSE)\n",
      "aggregate_1 = Aggregate(select_2, indices)    # type: categorical\n"
     ]
    }
   ],
   "source": [
    "utils.print_program(sop)"
   ]
  },
  {
   "cell_type": "code",
   "execution_count": 3,
   "metadata": {},
   "outputs": [
    {
     "name": "stdout",
     "output_type": "stream",
     "text": [
      "sequence_map_7 = SequenceMap(lambda x, y: x*y, tokens, indices)    # type: categorical\n",
      "select_9 = Select(sequence_map_7, tokens, predicate=Comparison.LEQ)\n",
      "selector_width_6 = SelectorWidth(select_9)    # type: categorical\n",
      "select_4 = Select(selector_width_6, sequence_map_7, predicate=Comparison.NEQ)\n",
      "select_8 = Select(indices, selector_width_6, predicate=Comparison.EQ)\n",
      "aggregate_5 = Aggregate(select_8, selector_width_6)    # type: categorical\n",
      "aggregate_3 = Aggregate(select_4, aggregate_5)    # type: categorical\n",
      "\n",
      "\n",
      "sequence_map_7 = SequenceMap(lambda x, y: x*y, tokens, indices)    # output: [0, 2, 6, 12]\n",
      "select_9 = Select(sequence_map_7, tokens, predicate=Comparison.LEQ)\n",
      "selector_width_6 = SelectorWidth(select_9)    # output: [1, 2, 2, 2]\n",
      "select_4 = Select(selector_width_6, sequence_map_7, predicate=Comparison.NEQ)\n",
      "select_8 = Select(indices, selector_width_6, predicate=Comparison.EQ)\n",
      "aggregate_5 = Aggregate(select_8, selector_width_6)    # output: [2, 2, 2, 2]\n",
      "aggregate_3 = Aggregate(select_4, aggregate_5)    # output: [2, 2, 2, 2]\n"
     ]
    }
   ],
   "source": [
    "# print program with and without test input\n",
    "utils.print_program(sampler.sops[-1])\n",
    "print()\n",
    "print()\n",
    "utils.print_program(sampler.sops[-1], TEST_INPUT)"
   ]
  }
 ],
 "metadata": {
  "kernelspec": {
   "display_name": "meta-models",
   "language": "python",
   "name": "python3"
  },
  "language_info": {
   "codemirror_mode": {
    "name": "ipython",
    "version": 3
   },
   "file_extension": ".py",
   "mimetype": "text/x-python",
   "name": "python",
   "nbconvert_exporter": "python",
   "pygments_lexer": "ipython3",
   "version": "3.10.12"
  }
 },
 "nbformat": 4,
 "nbformat_minor": 2
}
