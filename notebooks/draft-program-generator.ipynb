{
 "cells": [
  {
   "cell_type": "code",
   "execution_count": 1,
   "metadata": {},
   "outputs": [],
   "source": [
    "import os\n",
    "import inspect\n",
    "os.environ[\"XLA_PYTHON_CLIENT_PREALLOCATE\"] = \"false\"\n",
    "from tracr.rasp import rasp\n",
    "from tracr.compiler import compiling, rasp_to_graph\n",
    "import numpy as np\n",
    "from tracr.compiler.validating import validate\n",
    "from typing import Union, TypeVar\n",
    "from rasp_generator import map_primitives, sampling, utils\n",
    "import networkx as nx\n",
    "\n",
    "from tracr.rasp.rasp import Map, SequenceMap, LinearSequenceMap, Select, Aggregate, Comparison, SelectorWidth, indices, tokens \n",
    "\n",
    "\n",
    "def compile_rasp_to_model(sop: rasp.SOp, vocab={1,2,3,4}, max_seq_len=5, compiler_bos=\"BOS\"):\n",
    "    return compiling.compile_rasp_to_model(\n",
    "        sop,\n",
    "        vocab=vocab,\n",
    "        max_seq_len=max_seq_len,\n",
    "        compiler_bos=compiler_bos\n",
    "    )\n",
    "\n",
    "\n",
    "TEST_INPUT = [1,2,3,4]"
   ]
  },
  {
   "cell_type": "markdown",
   "metadata": {},
   "source": [
    "# Program Generation"
   ]
  },
  {
   "cell_type": "code",
   "execution_count": 10,
   "metadata": {},
   "outputs": [
    {
     "ename": "ValueError",
     "evalue": "could not broadcast input array from shape (38,9) into shape (38,7)",
     "output_type": "error",
     "traceback": [
      "\u001b[0;31m---------------------------------------------------------------------------\u001b[0m",
      "\u001b[0;31mValueError\u001b[0m                                Traceback (most recent call last)",
      "Cell \u001b[0;32mIn[10], line 2\u001b[0m\n\u001b[1;32m      1\u001b[0m sampler \u001b[38;5;241m=\u001b[39m sampling\u001b[38;5;241m.\u001b[39mProgramSampler(validate_compilation\u001b[38;5;241m=\u001b[39m\u001b[38;5;28;01mTrue\u001b[39;00m)\n\u001b[0;32m----> 2\u001b[0m errs \u001b[38;5;241m=\u001b[39m \u001b[43msampler\u001b[49m\u001b[38;5;241;43m.\u001b[39;49m\u001b[43msample\u001b[49m\u001b[43m(\u001b[49m\u001b[43m)\u001b[49m\n\u001b[1;32m      3\u001b[0m \u001b[38;5;28mprint\u001b[39m(sampler\u001b[38;5;241m.\u001b[39mprogram([\u001b[38;5;241m1\u001b[39m,\u001b[38;5;241m2\u001b[39m,\u001b[38;5;241m3\u001b[39m,\u001b[38;5;241m4\u001b[39m]))\n\u001b[1;32m      4\u001b[0m \u001b[38;5;28mprint\u001b[39m()\n",
      "File \u001b[0;32m~/projects/metamodels/rasp-generator/rasp_generator/sampling.py:232\u001b[0m, in \u001b[0;36mProgramSampler.sample\u001b[0;34m(self, n_sops)\u001b[0m\n\u001b[1;32m    229\u001b[0m         errs\u001b[38;5;241m.\u001b[39mappend(err)\n\u001b[1;32m    231\u001b[0m \u001b[38;5;28mself\u001b[39m\u001b[38;5;241m.\u001b[39mprogram \u001b[38;5;241m=\u001b[39m \u001b[38;5;28mself\u001b[39m\u001b[38;5;241m.\u001b[39msops[\u001b[38;5;241m-\u001b[39m\u001b[38;5;241m1\u001b[39m]\n\u001b[0;32m--> 232\u001b[0m \u001b[38;5;28;43mself\u001b[39;49m\u001b[38;5;241;43m.\u001b[39;49m\u001b[43mvalidate\u001b[49m\u001b[43m(\u001b[49m\u001b[43m)\u001b[49m\n\u001b[1;32m    233\u001b[0m \u001b[38;5;28;01mreturn\u001b[39;00m errs\n",
      "File \u001b[0;32m~/projects/metamodels/rasp-generator/rasp_generator/sampling.py:244\u001b[0m, in \u001b[0;36mProgramSampler.validate\u001b[0;34m(self)\u001b[0m\n\u001b[1;32m    242\u001b[0m     \u001b[38;5;28;01mraise\u001b[39;00m \u001b[38;5;167;01mValueError\u001b[39;00m(\u001b[38;5;124mf\u001b[39m\u001b[38;5;124m\"\u001b[39m\u001b[38;5;124mInvalid program: \u001b[39m\u001b[38;5;132;01m{\u001b[39;00merrs\u001b[38;5;132;01m}\u001b[39;00m\u001b[38;5;124m\"\u001b[39m)\n\u001b[1;32m    243\u001b[0m \u001b[38;5;28;01melif\u001b[39;00m \u001b[38;5;28mself\u001b[39m\u001b[38;5;241m.\u001b[39mvalidate_compilation:\n\u001b[0;32m--> 244\u001b[0m     \u001b[43mvalidate_compilation\u001b[49m\u001b[43m(\u001b[49m\u001b[43msop\u001b[49m\u001b[43m,\u001b[49m\u001b[43m \u001b[49m\u001b[43m[\u001b[49m\u001b[43mTEST_INPUT\u001b[49m\u001b[43m]\u001b[49m\u001b[43m)\u001b[49m\n\u001b[1;32m    245\u001b[0m \u001b[38;5;28;01mreturn\u001b[39;00m\n",
      "File \u001b[0;32m~/projects/metamodels/rasp-generator/rasp_generator/sampling.py:200\u001b[0m, in \u001b[0;36mvalidate_compilation\u001b[0;34m(expr, test_inputs)\u001b[0m\n\u001b[1;32m    199\u001b[0m \u001b[38;5;28;01mdef\u001b[39;00m \u001b[38;5;21mvalidate_compilation\u001b[39m(expr: rasp\u001b[38;5;241m.\u001b[39mSOp, test_inputs: \u001b[38;5;28mlist\u001b[39m):\n\u001b[0;32m--> 200\u001b[0m     model \u001b[38;5;241m=\u001b[39m \u001b[43mcompiling\u001b[49m\u001b[38;5;241;43m.\u001b[39;49m\u001b[43mcompile_rasp_to_model\u001b[49m\u001b[43m(\u001b[49m\u001b[43mexpr\u001b[49m\u001b[43m,\u001b[49m\u001b[43m \u001b[49m\u001b[43mvocab\u001b[49m\u001b[38;5;241;43m=\u001b[39;49m\u001b[43m{\u001b[49m\u001b[38;5;241;43m1\u001b[39;49m\u001b[43m,\u001b[49m\u001b[38;5;241;43m2\u001b[39;49m\u001b[43m,\u001b[49m\u001b[38;5;241;43m3\u001b[39;49m\u001b[43m,\u001b[49m\u001b[38;5;241;43m4\u001b[39;49m\u001b[43m}\u001b[49m\u001b[43m,\u001b[49m\u001b[43m \u001b[49m\u001b[43mmax_seq_len\u001b[49m\u001b[38;5;241;43m=\u001b[39;49m\u001b[38;5;241;43m5\u001b[39;49m\u001b[43m,\u001b[49m\u001b[43m \u001b[49m\u001b[43mcompiler_bos\u001b[49m\u001b[38;5;241;43m=\u001b[39;49m\u001b[38;5;124;43m\"\u001b[39;49m\u001b[38;5;124;43mBOS\u001b[39;49m\u001b[38;5;124;43m\"\u001b[39;49m\u001b[43m)\u001b[49m\n\u001b[1;32m    201\u001b[0m     \u001b[38;5;28;01mfor\u001b[39;00m test_input \u001b[38;5;129;01min\u001b[39;00m test_inputs:\n\u001b[1;32m    202\u001b[0m         rasp_out \u001b[38;5;241m=\u001b[39m expr(test_input)\n",
      "File \u001b[0;32m~/projects/metamodels/tracr/tracr/compiler/compiling.py:115\u001b[0m, in \u001b[0;36mcompile_rasp_to_model\u001b[0;34m(program, vocab, max_seq_len, causal, compiler_bos, compiler_pad, mlp_exactness)\u001b[0m\n\u001b[1;32m    107\u001b[0m expr_to_craft_graph\u001b[38;5;241m.\u001b[39madd_craft_components_to_rasp_graph(\n\u001b[1;32m    108\u001b[0m     graph,\n\u001b[1;32m    109\u001b[0m     bos_dir\u001b[38;5;241m=\u001b[39mbases\u001b[38;5;241m.\u001b[39mBasisDirection(rasp\u001b[38;5;241m.\u001b[39mtokens\u001b[38;5;241m.\u001b[39mlabel, compiler_bos),\n\u001b[1;32m    110\u001b[0m     mlp_exactness\u001b[38;5;241m=\u001b[39mmlp_exactness,\n\u001b[1;32m    111\u001b[0m )\n\u001b[1;32m    113\u001b[0m craft_model \u001b[38;5;241m=\u001b[39m craft_graph_to_model\u001b[38;5;241m.\u001b[39mcraft_graph_to_model(graph, sources)\n\u001b[0;32m--> 115\u001b[0m \u001b[38;5;28;01mreturn\u001b[39;00m \u001b[43mcraft_model_to_transformer\u001b[49m\u001b[38;5;241;43m.\u001b[39;49m\u001b[43mcraft_model_to_transformer\u001b[49m\u001b[43m(\u001b[49m\n\u001b[1;32m    116\u001b[0m \u001b[43m    \u001b[49m\u001b[43mcraft_model\u001b[49m\u001b[38;5;241;43m=\u001b[39;49m\u001b[43mcraft_model\u001b[49m\u001b[43m,\u001b[49m\n\u001b[1;32m    117\u001b[0m \u001b[43m    \u001b[49m\u001b[43mgraph\u001b[49m\u001b[38;5;241;43m=\u001b[39;49m\u001b[43mgraph\u001b[49m\u001b[43m,\u001b[49m\n\u001b[1;32m    118\u001b[0m \u001b[43m    \u001b[49m\u001b[43msink\u001b[49m\u001b[38;5;241;43m=\u001b[39;49m\u001b[43msink\u001b[49m\u001b[43m,\u001b[49m\n\u001b[1;32m    119\u001b[0m \u001b[43m    \u001b[49m\u001b[43mmax_seq_len\u001b[49m\u001b[38;5;241;43m=\u001b[39;49m\u001b[43mmax_seq_len\u001b[49m\u001b[43m,\u001b[49m\n\u001b[1;32m    120\u001b[0m \u001b[43m    \u001b[49m\u001b[43mcausal\u001b[49m\u001b[38;5;241;43m=\u001b[39;49m\u001b[43mcausal\u001b[49m\u001b[43m,\u001b[49m\n\u001b[1;32m    121\u001b[0m \u001b[43m    \u001b[49m\u001b[43mcompiler_bos\u001b[49m\u001b[38;5;241;43m=\u001b[39;49m\u001b[43mcompiler_bos\u001b[49m\u001b[43m,\u001b[49m\n\u001b[1;32m    122\u001b[0m \u001b[43m    \u001b[49m\u001b[43mcompiler_pad\u001b[49m\u001b[38;5;241;43m=\u001b[39;49m\u001b[43mcompiler_pad\u001b[49m\u001b[43m,\u001b[49m\n\u001b[1;32m    123\u001b[0m \u001b[43m\u001b[49m\u001b[43m)\u001b[49m\n",
      "File \u001b[0;32m~/projects/metamodels/tracr/tracr/compiler/craft_model_to_transformer.py:55\u001b[0m, in \u001b[0;36mcraft_model_to_transformer\u001b[0;34m(craft_model, graph, sink, max_seq_len, compiler_bos, compiler_pad, causal)\u001b[0m\n\u001b[1;32m     52\u001b[0m categorical_output \u001b[38;5;241m=\u001b[39m rasp\u001b[38;5;241m.\u001b[39mis_categorical(sink[nodes\u001b[38;5;241m.\u001b[39mEXPR])\n\u001b[1;32m     53\u001b[0m output_space \u001b[38;5;241m=\u001b[39m bases\u001b[38;5;241m.\u001b[39mVectorSpaceWithBasis(sink[nodes\u001b[38;5;241m.\u001b[39mOUTPUT_BASIS])\n\u001b[0;32m---> 55\u001b[0m assembled_model \u001b[38;5;241m=\u001b[39m \u001b[43massemble\u001b[49m\u001b[38;5;241;43m.\u001b[39;49m\u001b[43massemble_craft_model\u001b[49m\u001b[43m(\u001b[49m\n\u001b[1;32m     56\u001b[0m \u001b[43m    \u001b[49m\u001b[43mcraft_model\u001b[49m\u001b[38;5;241;43m=\u001b[39;49m\u001b[43mcraft_model\u001b[49m\u001b[43m,\u001b[49m\n\u001b[1;32m     57\u001b[0m \u001b[43m    \u001b[49m\u001b[43mtokens_space\u001b[49m\u001b[38;5;241;43m=\u001b[39;49m\u001b[43mtokens_space\u001b[49m\u001b[43m,\u001b[49m\n\u001b[1;32m     58\u001b[0m \u001b[43m    \u001b[49m\u001b[43mindices_space\u001b[49m\u001b[38;5;241;43m=\u001b[39;49m\u001b[43mindices_space\u001b[49m\u001b[43m,\u001b[49m\n\u001b[1;32m     59\u001b[0m \u001b[43m    \u001b[49m\u001b[43moutput_space\u001b[49m\u001b[38;5;241;43m=\u001b[39;49m\u001b[43moutput_space\u001b[49m\u001b[43m,\u001b[49m\n\u001b[1;32m     60\u001b[0m \u001b[43m    \u001b[49m\u001b[43mcategorical_output\u001b[49m\u001b[38;5;241;43m=\u001b[39;49m\u001b[43mcategorical_output\u001b[49m\u001b[43m,\u001b[49m\n\u001b[1;32m     61\u001b[0m \u001b[43m    \u001b[49m\u001b[43mcausal\u001b[49m\u001b[38;5;241;43m=\u001b[39;49m\u001b[43mcausal\u001b[49m\u001b[43m,\u001b[49m\n\u001b[1;32m     62\u001b[0m \u001b[43m\u001b[49m\u001b[43m)\u001b[49m\n\u001b[1;32m     64\u001b[0m assembled_model\u001b[38;5;241m.\u001b[39minput_encoder \u001b[38;5;241m=\u001b[39m encoder\u001b[38;5;241m.\u001b[39mCategoricalEncoder(\n\u001b[1;32m     65\u001b[0m     basis\u001b[38;5;241m=\u001b[39mtokens_space\u001b[38;5;241m.\u001b[39mbasis,\n\u001b[1;32m     66\u001b[0m     enforce_bos\u001b[38;5;241m=\u001b[39mcompiler_bos \u001b[38;5;129;01mis\u001b[39;00m \u001b[38;5;129;01mnot\u001b[39;00m \u001b[38;5;28;01mNone\u001b[39;00m,\n\u001b[0;32m   (...)\u001b[0m\n\u001b[1;32m     69\u001b[0m     max_seq_len\u001b[38;5;241m=\u001b[39mmax_seq_len \u001b[38;5;241m+\u001b[39m \u001b[38;5;241m1\u001b[39m \u001b[38;5;28;01mif\u001b[39;00m compiler_bos \u001b[38;5;129;01mis\u001b[39;00m \u001b[38;5;129;01mnot\u001b[39;00m \u001b[38;5;28;01mNone\u001b[39;00m \u001b[38;5;28;01melse\u001b[39;00m max_seq_len,\n\u001b[1;32m     70\u001b[0m )\n\u001b[1;32m     72\u001b[0m \u001b[38;5;28;01mif\u001b[39;00m categorical_output:\n",
      "File \u001b[0;32m~/projects/metamodels/tracr/tracr/compiler/assemble.py:303\u001b[0m, in \u001b[0;36massemble_craft_model\u001b[0;34m(craft_model, tokens_space, indices_space, output_space, categorical_output, causal)\u001b[0m\n\u001b[1;32m    301\u001b[0m value_mat \u001b[38;5;241m=\u001b[39m np\u001b[38;5;241m.\u001b[39mzeros((residual_space\u001b[38;5;241m.\u001b[39mnum_dims, model_config\u001b[38;5;241m.\u001b[39mkey_size))\n\u001b[1;32m    302\u001b[0m residual_to_ov_input \u001b[38;5;241m=\u001b[39m project(head\u001b[38;5;241m.\u001b[39mw_ov\u001b[38;5;241m.\u001b[39minput_space)\n\u001b[0;32m--> 303\u001b[0m \u001b[43mvalue_mat\u001b[49m\u001b[43m[\u001b[49m\u001b[43m:\u001b[49m\u001b[43m,\u001b[49m\u001b[43m \u001b[49m\u001b[43m:\u001b[49m\u001b[43mvalue_size\u001b[49m\u001b[43m]\u001b[49m \u001b[38;5;241m=\u001b[39m residual_to_ov_input \u001b[38;5;241m@\u001b[39m head\u001b[38;5;241m.\u001b[39mw_ov\u001b[38;5;241m.\u001b[39mmatrix\n\u001b[1;32m    304\u001b[0m value\u001b[38;5;241m.\u001b[39mappend(value_mat)\n\u001b[1;32m    306\u001b[0m linear_mat \u001b[38;5;241m=\u001b[39m np\u001b[38;5;241m.\u001b[39mzeros((model_config\u001b[38;5;241m.\u001b[39mkey_size, residual_space\u001b[38;5;241m.\u001b[39mnum_dims))\n",
      "\u001b[0;31mValueError\u001b[0m: could not broadcast input array from shape (38,9) into shape (38,7)"
     ]
    }
   ],
   "source": [
    "sampler = sampling.ProgramSampler(validate_compilation=True)\n",
    "errs = sampler.sample()\n",
    "print(sampler.program([1,2,3,4]))\n",
    "print()\n",
    "print(\"Retries encountered:\")\n",
    "for err in errs:\n",
    "    print(err)"
   ]
  },
  {
   "cell_type": "code",
   "execution_count": 11,
   "metadata": {},
   "outputs": [
    {
     "name": "stdout",
     "output_type": "stream",
     "text": [
      "select_45 = Select(tokens, tokens, predicate=Comparison.EQ)\n",
      "select_44 = Select(indices, indices, predicate=Comparison.EQ)\n",
      "aggregate_43 = Aggregate(select_45, tokens)    # type: categorical\n",
      "aggregate_42 = Aggregate(select_44, tokens)    # type: categorical\n",
      "select_40 = Select(aggregate_42, aggregate_43, predicate=Comparison.EQ)\n",
      "sequence_map_41 = SequenceMap(lambda x, y: x*y, aggregate_42, tokens)    # type: categorical\n",
      "aggregate_39 = Aggregate(select_40, sequence_map_41)    # type: categorical\n",
      "\n",
      "\n",
      "select_45 = Select(tokens, tokens, predicate=Comparison.EQ)\n",
      "select_44 = Select(indices, indices, predicate=Comparison.EQ)\n",
      "aggregate_43 = Aggregate(select_45, tokens)    # output: [1, 2, 3, 4]\n",
      "aggregate_42 = Aggregate(select_44, tokens)    # output: [1, 2, 3, 4]\n",
      "select_40 = Select(aggregate_42, aggregate_43, predicate=Comparison.EQ)\n",
      "sequence_map_41 = SequenceMap(lambda x, y: x*y, aggregate_42, tokens)    # output: [1, 4, 9, 16]\n",
      "aggregate_39 = Aggregate(select_40, sequence_map_41)    # output: [1, 4, 9, 16]\n"
     ]
    }
   ],
   "source": [
    "# print program with and without test input\n",
    "k = 1\n",
    "utils.print_program(sampler.sops[-k])\n",
    "print()\n",
    "print()\n",
    "utils.print_program(sampler.sops[-k], TEST_INPUT)"
   ]
  },
  {
   "cell_type": "code",
   "execution_count": 18,
   "metadata": {},
   "outputs": [
    {
     "name": "stderr",
     "output_type": "stream",
     "text": [
      "WARNING:absl:Creating a SequenceMap with both inputs being the same SOp is discouraged. You should use a Map instead.\n"
     ]
    },
    {
     "ename": "ValueError",
     "evalue": "could not broadcast input array from shape (30,9) into shape (30,6)",
     "output_type": "error",
     "traceback": [
      "\u001b[0;31m---------------------------------------------------------------------------\u001b[0m",
      "\u001b[0;31mValueError\u001b[0m                                Traceback (most recent call last)",
      "Cell \u001b[0;32mIn[18], line 7\u001b[0m\n\u001b[1;32m      4\u001b[0m aggregate_39 \u001b[38;5;241m=\u001b[39m Aggregate(sel, m)    \u001b[38;5;66;03m# type: categorical\u001b[39;00m\n\u001b[1;32m      6\u001b[0m program \u001b[38;5;241m=\u001b[39m aggregate_39\n\u001b[0;32m----> 7\u001b[0m model \u001b[38;5;241m=\u001b[39m \u001b[43mcompiling\u001b[49m\u001b[38;5;241;43m.\u001b[39;49m\u001b[43mcompile_rasp_to_model\u001b[49m\u001b[43m(\u001b[49m\u001b[43mprogram\u001b[49m\u001b[43m,\u001b[49m\u001b[43m \u001b[49m\u001b[43mvocab\u001b[49m\u001b[38;5;241;43m=\u001b[39;49m\u001b[43m{\u001b[49m\u001b[38;5;241;43m1\u001b[39;49m\u001b[43m,\u001b[49m\u001b[38;5;241;43m2\u001b[39;49m\u001b[43m,\u001b[49m\u001b[38;5;241;43m3\u001b[39;49m\u001b[43m,\u001b[49m\u001b[38;5;241;43m4\u001b[39;49m\u001b[43m}\u001b[49m\u001b[43m,\u001b[49m\u001b[43m \u001b[49m\u001b[43mmax_seq_len\u001b[49m\u001b[38;5;241;43m=\u001b[39;49m\u001b[38;5;241;43m5\u001b[39;49m\u001b[43m,\u001b[49m\u001b[43m \u001b[49m\u001b[43mcompiler_bos\u001b[49m\u001b[38;5;241;43m=\u001b[39;49m\u001b[38;5;124;43m\"\u001b[39;49m\u001b[38;5;124;43mBOS\u001b[39;49m\u001b[38;5;124;43m\"\u001b[39;49m\u001b[43m)\u001b[49m\n",
      "File \u001b[0;32m~/projects/metamodels/tracr/tracr/compiler/compiling.py:115\u001b[0m, in \u001b[0;36mcompile_rasp_to_model\u001b[0;34m(program, vocab, max_seq_len, causal, compiler_bos, compiler_pad, mlp_exactness)\u001b[0m\n\u001b[1;32m    107\u001b[0m expr_to_craft_graph\u001b[38;5;241m.\u001b[39madd_craft_components_to_rasp_graph(\n\u001b[1;32m    108\u001b[0m     graph,\n\u001b[1;32m    109\u001b[0m     bos_dir\u001b[38;5;241m=\u001b[39mbases\u001b[38;5;241m.\u001b[39mBasisDirection(rasp\u001b[38;5;241m.\u001b[39mtokens\u001b[38;5;241m.\u001b[39mlabel, compiler_bos),\n\u001b[1;32m    110\u001b[0m     mlp_exactness\u001b[38;5;241m=\u001b[39mmlp_exactness,\n\u001b[1;32m    111\u001b[0m )\n\u001b[1;32m    113\u001b[0m craft_model \u001b[38;5;241m=\u001b[39m craft_graph_to_model\u001b[38;5;241m.\u001b[39mcraft_graph_to_model(graph, sources)\n\u001b[0;32m--> 115\u001b[0m \u001b[38;5;28;01mreturn\u001b[39;00m \u001b[43mcraft_model_to_transformer\u001b[49m\u001b[38;5;241;43m.\u001b[39;49m\u001b[43mcraft_model_to_transformer\u001b[49m\u001b[43m(\u001b[49m\n\u001b[1;32m    116\u001b[0m \u001b[43m    \u001b[49m\u001b[43mcraft_model\u001b[49m\u001b[38;5;241;43m=\u001b[39;49m\u001b[43mcraft_model\u001b[49m\u001b[43m,\u001b[49m\n\u001b[1;32m    117\u001b[0m \u001b[43m    \u001b[49m\u001b[43mgraph\u001b[49m\u001b[38;5;241;43m=\u001b[39;49m\u001b[43mgraph\u001b[49m\u001b[43m,\u001b[49m\n\u001b[1;32m    118\u001b[0m \u001b[43m    \u001b[49m\u001b[43msink\u001b[49m\u001b[38;5;241;43m=\u001b[39;49m\u001b[43msink\u001b[49m\u001b[43m,\u001b[49m\n\u001b[1;32m    119\u001b[0m \u001b[43m    \u001b[49m\u001b[43mmax_seq_len\u001b[49m\u001b[38;5;241;43m=\u001b[39;49m\u001b[43mmax_seq_len\u001b[49m\u001b[43m,\u001b[49m\n\u001b[1;32m    120\u001b[0m \u001b[43m    \u001b[49m\u001b[43mcausal\u001b[49m\u001b[38;5;241;43m=\u001b[39;49m\u001b[43mcausal\u001b[49m\u001b[43m,\u001b[49m\n\u001b[1;32m    121\u001b[0m \u001b[43m    \u001b[49m\u001b[43mcompiler_bos\u001b[49m\u001b[38;5;241;43m=\u001b[39;49m\u001b[43mcompiler_bos\u001b[49m\u001b[43m,\u001b[49m\n\u001b[1;32m    122\u001b[0m \u001b[43m    \u001b[49m\u001b[43mcompiler_pad\u001b[49m\u001b[38;5;241;43m=\u001b[39;49m\u001b[43mcompiler_pad\u001b[49m\u001b[43m,\u001b[49m\n\u001b[1;32m    123\u001b[0m \u001b[43m\u001b[49m\u001b[43m)\u001b[49m\n",
      "File \u001b[0;32m~/projects/metamodels/tracr/tracr/compiler/craft_model_to_transformer.py:55\u001b[0m, in \u001b[0;36mcraft_model_to_transformer\u001b[0;34m(craft_model, graph, sink, max_seq_len, compiler_bos, compiler_pad, causal)\u001b[0m\n\u001b[1;32m     52\u001b[0m categorical_output \u001b[38;5;241m=\u001b[39m rasp\u001b[38;5;241m.\u001b[39mis_categorical(sink[nodes\u001b[38;5;241m.\u001b[39mEXPR])\n\u001b[1;32m     53\u001b[0m output_space \u001b[38;5;241m=\u001b[39m bases\u001b[38;5;241m.\u001b[39mVectorSpaceWithBasis(sink[nodes\u001b[38;5;241m.\u001b[39mOUTPUT_BASIS])\n\u001b[0;32m---> 55\u001b[0m assembled_model \u001b[38;5;241m=\u001b[39m \u001b[43massemble\u001b[49m\u001b[38;5;241;43m.\u001b[39;49m\u001b[43massemble_craft_model\u001b[49m\u001b[43m(\u001b[49m\n\u001b[1;32m     56\u001b[0m \u001b[43m    \u001b[49m\u001b[43mcraft_model\u001b[49m\u001b[38;5;241;43m=\u001b[39;49m\u001b[43mcraft_model\u001b[49m\u001b[43m,\u001b[49m\n\u001b[1;32m     57\u001b[0m \u001b[43m    \u001b[49m\u001b[43mtokens_space\u001b[49m\u001b[38;5;241;43m=\u001b[39;49m\u001b[43mtokens_space\u001b[49m\u001b[43m,\u001b[49m\n\u001b[1;32m     58\u001b[0m \u001b[43m    \u001b[49m\u001b[43mindices_space\u001b[49m\u001b[38;5;241;43m=\u001b[39;49m\u001b[43mindices_space\u001b[49m\u001b[43m,\u001b[49m\n\u001b[1;32m     59\u001b[0m \u001b[43m    \u001b[49m\u001b[43moutput_space\u001b[49m\u001b[38;5;241;43m=\u001b[39;49m\u001b[43moutput_space\u001b[49m\u001b[43m,\u001b[49m\n\u001b[1;32m     60\u001b[0m \u001b[43m    \u001b[49m\u001b[43mcategorical_output\u001b[49m\u001b[38;5;241;43m=\u001b[39;49m\u001b[43mcategorical_output\u001b[49m\u001b[43m,\u001b[49m\n\u001b[1;32m     61\u001b[0m \u001b[43m    \u001b[49m\u001b[43mcausal\u001b[49m\u001b[38;5;241;43m=\u001b[39;49m\u001b[43mcausal\u001b[49m\u001b[43m,\u001b[49m\n\u001b[1;32m     62\u001b[0m \u001b[43m\u001b[49m\u001b[43m)\u001b[49m\n\u001b[1;32m     64\u001b[0m assembled_model\u001b[38;5;241m.\u001b[39minput_encoder \u001b[38;5;241m=\u001b[39m encoder\u001b[38;5;241m.\u001b[39mCategoricalEncoder(\n\u001b[1;32m     65\u001b[0m     basis\u001b[38;5;241m=\u001b[39mtokens_space\u001b[38;5;241m.\u001b[39mbasis,\n\u001b[1;32m     66\u001b[0m     enforce_bos\u001b[38;5;241m=\u001b[39mcompiler_bos \u001b[38;5;129;01mis\u001b[39;00m \u001b[38;5;129;01mnot\u001b[39;00m \u001b[38;5;28;01mNone\u001b[39;00m,\n\u001b[0;32m   (...)\u001b[0m\n\u001b[1;32m     69\u001b[0m     max_seq_len\u001b[38;5;241m=\u001b[39mmax_seq_len \u001b[38;5;241m+\u001b[39m \u001b[38;5;241m1\u001b[39m \u001b[38;5;28;01mif\u001b[39;00m compiler_bos \u001b[38;5;129;01mis\u001b[39;00m \u001b[38;5;129;01mnot\u001b[39;00m \u001b[38;5;28;01mNone\u001b[39;00m \u001b[38;5;28;01melse\u001b[39;00m max_seq_len,\n\u001b[1;32m     70\u001b[0m )\n\u001b[1;32m     72\u001b[0m \u001b[38;5;28;01mif\u001b[39;00m categorical_output:\n",
      "File \u001b[0;32m~/projects/metamodels/tracr/tracr/compiler/assemble.py:303\u001b[0m, in \u001b[0;36massemble_craft_model\u001b[0;34m(craft_model, tokens_space, indices_space, output_space, categorical_output, causal)\u001b[0m\n\u001b[1;32m    301\u001b[0m value_mat \u001b[38;5;241m=\u001b[39m np\u001b[38;5;241m.\u001b[39mzeros((residual_space\u001b[38;5;241m.\u001b[39mnum_dims, model_config\u001b[38;5;241m.\u001b[39mkey_size))\n\u001b[1;32m    302\u001b[0m residual_to_ov_input \u001b[38;5;241m=\u001b[39m project(head\u001b[38;5;241m.\u001b[39mw_ov\u001b[38;5;241m.\u001b[39minput_space)\n\u001b[0;32m--> 303\u001b[0m \u001b[43mvalue_mat\u001b[49m\u001b[43m[\u001b[49m\u001b[43m:\u001b[49m\u001b[43m,\u001b[49m\u001b[43m \u001b[49m\u001b[43m:\u001b[49m\u001b[43mvalue_size\u001b[49m\u001b[43m]\u001b[49m \u001b[38;5;241m=\u001b[39m residual_to_ov_input \u001b[38;5;241m@\u001b[39m head\u001b[38;5;241m.\u001b[39mw_ov\u001b[38;5;241m.\u001b[39mmatrix\n\u001b[1;32m    304\u001b[0m value\u001b[38;5;241m.\u001b[39mappend(value_mat)\n\u001b[1;32m    306\u001b[0m linear_mat \u001b[38;5;241m=\u001b[39m np\u001b[38;5;241m.\u001b[39mzeros((model_config\u001b[38;5;241m.\u001b[39mkey_size, residual_space\u001b[38;5;241m.\u001b[39mnum_dims))\n",
      "\u001b[0;31mValueError\u001b[0m: could not broadcast input array from shape (30,9) into shape (30,6)"
     ]
    }
   ],
   "source": [
    "m = SequenceMap(lambda x, y: x*y, tokens, tokens)    # type: categorical\n",
    "#m = Map(lambda x: x**2, tokens)\n",
    "sel = Select(tokens, tokens, predicate=Comparison.EQ)\n",
    "aggregate_39 = Aggregate(sel, m)    # type: categorical\n",
    "\n",
    "program = aggregate_39\n",
    "model = compiling.compile_rasp_to_model(program, vocab={1,2,3,4}, max_seq_len=5, compiler_bos=\"BOS\")"
   ]
  }
 ],
 "metadata": {
  "kernelspec": {
   "display_name": "meta-models",
   "language": "python",
   "name": "python3"
  },
  "language_info": {
   "codemirror_mode": {
    "name": "ipython",
    "version": 3
   },
   "file_extension": ".py",
   "mimetype": "text/x-python",
   "name": "python",
   "nbconvert_exporter": "python",
   "pygments_lexer": "ipython3",
   "version": "3.10.12"
  }
 },
 "nbformat": 4,
 "nbformat_minor": 2
}
