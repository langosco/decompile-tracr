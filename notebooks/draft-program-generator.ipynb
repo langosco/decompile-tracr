{
 "cells": [
  {
   "cell_type": "code",
   "execution_count": 4,
   "metadata": {},
   "outputs": [],
   "source": [
    "import os\n",
    "import inspect\n",
    "os.environ[\"XLA_PYTHON_CLIENT_PREALLOCATE\"] = \"false\"\n",
    "from tracr.rasp import rasp\n",
    "from tracr.compiler import compiling, rasp_to_graph\n",
    "import numpy as np\n",
    "from tracr.compiler.validating import validate\n",
    "from typing import Union, TypeVar\n",
    "from rasp_generator import map_primitives, sampling, utils\n",
    "import networkx as nx\n",
    "\n",
    "from tracr.rasp.rasp import Map, SequenceMap, LinearSequenceMap, Select, Aggregate, Comparison, SelectorWidth, indices, tokens \n",
    "\n",
    "\n",
    "def compile_rasp_to_model(sop: rasp.SOp, vocab={1,2,3,4}, max_seq_len=5, compiler_bos=\"BOS\"):\n",
    "    return compiling.compile_rasp_to_model(\n",
    "        sop,\n",
    "        vocab=vocab,\n",
    "        max_seq_len=max_seq_len,\n",
    "        compiler_bos=compiler_bos\n",
    "    )\n",
    "\n",
    "\n",
    "TEST_INPUT = [1,2,3,4]"
   ]
  },
  {
   "cell_type": "markdown",
   "metadata": {},
   "source": [
    "# Program Generation"
   ]
  },
  {
   "cell_type": "code",
   "execution_count": 14,
   "metadata": {},
   "outputs": [
    {
     "name": "stdout",
     "output_type": "stream",
     "text": [
      "[0, 1, 2, 3]\n",
      "\n",
      "Retries encountered:\n",
      "No SOps of type bool in scope.\n",
      "No SOps of type None in scope.\n",
      "No SOps of type None in scope.\n",
      "No SOps of type None in scope.\n",
      "No SOps of type None in scope.\n",
      "No SOps of type None in scope.\n",
      "No SOps of type bool in scope.\n"
     ]
    }
   ],
   "source": [
    "sampler = sampling.ProgramSampler(validate_compilation=True)\n",
    "errs = sampler.sample()\n",
    "print(sampler.program([1,2,3,4]))\n",
    "print()\n",
    "print(\"Retries encountered:\")\n",
    "for err in errs:\n",
    "    print(err)"
   ]
  },
  {
   "cell_type": "code",
   "execution_count": 11,
   "metadata": {},
   "outputs": [
    {
     "name": "stdout",
     "output_type": "stream",
     "text": [
      "select_26 = Select(tokens, tokens, predicate=Comparison.NEQ)\n",
      "select_28 = Select(tokens, tokens, predicate=Comparison.EQ)\n",
      "select_25 = Select(tokens, indices, predicate=Comparison.TRUE)\n",
      "selector_width_27 = SelectorWidth(select_28)    # type: categorical\n",
      "selector_width_23 = SelectorWidth(select_25)    # type: categorical\n",
      "aggregate_24 = Aggregate(select_26, selector_width_27)    # type: categorical\n",
      "select_22 = Select(selector_width_23, aggregate_24, predicate=Comparison.LT)\n",
      "selector_width_21 = SelectorWidth(select_22)    # type: categorical\n",
      "\n",
      "\n",
      "select_26 = Select(tokens, tokens, predicate=Comparison.NEQ)\n",
      "select_28 = Select(tokens, tokens, predicate=Comparison.EQ)\n",
      "select_25 = Select(tokens, indices, predicate=Comparison.TRUE)\n",
      "selector_width_27 = SelectorWidth(select_28)    # output: [1, 1, 1, 1]\n",
      "selector_width_23 = SelectorWidth(select_25)    # output: [4, 4, 4, 4]\n",
      "aggregate_24 = Aggregate(select_26, selector_width_27)    # output: [1.0, 1.0, 1.0, 1.0]\n",
      "select_22 = Select(selector_width_23, aggregate_24, predicate=Comparison.LT)\n",
      "selector_width_21 = SelectorWidth(select_22)    # output: [0, 0, 0, 0]\n"
     ]
    }
   ],
   "source": [
    "# print program with and without test input\n",
    "k = 1\n",
    "utils.print_program(sampler.sops[-k])\n",
    "print()\n",
    "print()\n",
    "utils.print_program(sampler.sops[-k], TEST_INPUT)"
   ]
  }
 ],
 "metadata": {
  "kernelspec": {
   "display_name": "meta-models",
   "language": "python",
   "name": "python3"
  },
  "language_info": {
   "codemirror_mode": {
    "name": "ipython",
    "version": 3
   },
   "file_extension": ".py",
   "mimetype": "text/x-python",
   "name": "python",
   "nbconvert_exporter": "python",
   "pygments_lexer": "ipython3",
   "version": "3.10.12"
  }
 },
 "nbformat": 4,
 "nbformat_minor": 2
}
