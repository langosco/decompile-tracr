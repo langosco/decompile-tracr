{
 "cells": [
  {
   "cell_type": "code",
   "execution_count": 1,
   "metadata": {},
   "outputs": [],
   "source": [
    "import os\n",
    "import inspect\n",
    "os.environ[\"XLA_PYTHON_CLIENT_PREALLOCATE\"] = \"false\"\n",
    "from tracr.rasp import rasp\n",
    "from tracr.compiler import compiling, rasp_to_graph\n",
    "import numpy as np\n",
    "from tracr.compiler.validating import validate\n",
    "from typing import Union, TypeVar\n",
    "from rasp_generator import map_primitives, sampling, utils\n",
    "import networkx as nx\n",
    "\n",
    "from tracr.rasp.rasp import Map, SequenceMap, LinearSequenceMap, Select, Aggregate, Comparison, SelectorWidth, indices, tokens \n",
    "\n",
    "\n",
    "def compile_rasp_to_model(sop: rasp.SOp, vocab={1,2,3,4}, max_seq_len=5, compiler_bos=\"BOS\"):\n",
    "    return compiling.compile_rasp_to_model(\n",
    "        sop,\n",
    "        vocab=vocab,\n",
    "        max_seq_len=max_seq_len,\n",
    "        compiler_bos=compiler_bos\n",
    "    )\n",
    "\n",
    "\n",
    "TEST_INPUT = [1,2,3,4]"
   ]
  },
  {
   "cell_type": "markdown",
   "metadata": {},
   "source": [
    "# Program Generation"
   ]
  },
  {
   "cell_type": "code",
   "execution_count": 2,
   "metadata": {},
   "outputs": [],
   "source": [
    "# Remaining problems\n",
    "# - sometimes categorical Aggregate is hard to sample (reaches max retries)\n",
    "# - sometimes a sampled program doesn't depend on rasp.tokens\n",
    "# - sometimes programs are trivial (e.g. output is all Nones)\n",
    "# - I suspect that sometimes the output is constant. TODO: check multiple inputs\n",
    "\n",
    "\n",
    "# TODOS\n",
    "# - remove SOps that are all (or mostly) None\n",
    "# - maybe remove / downweight constant SOps?"
   ]
  },
  {
   "cell_type": "code",
   "execution_count": 14,
   "metadata": {},
   "outputs": [
    {
     "name": "stdout",
     "output_type": "stream",
     "text": [
      "[False, True, False, False]\n",
      "Errors encountered:\n",
      "[EmptyScopeError('No SOps of type float in scope.'), EmptyScopeError('No SOps of type float in scope.')]\n"
     ]
    }
   ],
   "source": [
    "sampler = sampling.ProgramSampler(validate_compilation=True)\n",
    "errs = sampler.sample()\n",
    "print(sampler.program([1,2,3,4]))\n",
    "print(\"Errors encountered:\")\n",
    "print(errs)"
   ]
  },
  {
   "cell_type": "code",
   "execution_count": 4,
   "metadata": {},
   "outputs": [
    {
     "name": "stdout",
     "output_type": "stream",
     "text": [
      "sequence_map_1 = SequenceMap(lambda x, y: x*y, indices, tokens)    # type: categorical\n"
     ]
    }
   ],
   "source": [
    "utils.print_program(sampler.sops[2])"
   ]
  },
  {
   "cell_type": "code",
   "execution_count": 5,
   "metadata": {},
   "outputs": [
    {
     "name": "stdout",
     "output_type": "stream",
     "text": [
      "sequence_map_1 = SequenceMap(lambda x, y: x*y, indices, tokens)    # type: categorical\n",
      "select_5 = Select(sequence_map_1, indices, predicate=Comparison.EQ)\n",
      "aggregate_4 = Aggregate(select_5, sequence_map_1)    # type: categorical\n",
      "sequence_map_3 = SequenceMap(lambda x, y: x*y, aggregate_4, sequence_map_1)    # type: categorical\n",
      "sequence_map_2 = SequenceMap(lambda x, y: x*y, tokens, sequence_map_3)    # type: categorical\n",
      "\n",
      "\n",
      "sequence_map_1 = SequenceMap(lambda x, y: x*y, indices, tokens)    # output: [0, 2, 6, 12]\n",
      "select_5 = Select(sequence_map_1, indices, predicate=Comparison.EQ)\n",
      "aggregate_4 = Aggregate(select_5, sequence_map_1)    # output: [0, None, 2, None]\n",
      "sequence_map_3 = SequenceMap(lambda x, y: x*y, aggregate_4, sequence_map_1)    # output: [0, None, 12, None]\n",
      "sequence_map_2 = SequenceMap(lambda x, y: x*y, tokens, sequence_map_3)    # output: [0, None, 36, None]\n"
     ]
    }
   ],
   "source": [
    "# print program with and without test input\n",
    "k = 1\n",
    "utils.print_program(sampler.sops[-k])\n",
    "print()\n",
    "print()\n",
    "utils.print_program(sampler.sops[-k], TEST_INPUT)"
   ]
  }
 ],
 "metadata": {
  "kernelspec": {
   "display_name": "meta-models",
   "language": "python",
   "name": "python3"
  },
  "language_info": {
   "codemirror_mode": {
    "name": "ipython",
    "version": 3
   },
   "file_extension": ".py",
   "mimetype": "text/x-python",
   "name": "python",
   "nbconvert_exporter": "python",
   "pygments_lexer": "ipython3",
   "version": "3.10.12"
  }
 },
 "nbformat": 4,
 "nbformat_minor": 2
}
