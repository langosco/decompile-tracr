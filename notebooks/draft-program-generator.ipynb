{
 "cells": [
  {
   "cell_type": "code",
   "execution_count": 2,
   "metadata": {},
   "outputs": [],
   "source": [
    "import os\n",
    "import inspect\n",
    "os.environ[\"XLA_PYTHON_CLIENT_PREALLOCATE\"] = \"false\"\n",
    "from tracr.rasp import rasp\n",
    "from tracr.compiler import compiling, rasp_to_graph\n",
    "import numpy as np\n",
    "from tracr.compiler.validating import validate\n",
    "from typing import Union, TypeVar\n",
    "from rasp_generator import map_primitives, sampling, utils\n",
    "import networkx as nx\n",
    "\n",
    "from tracr.rasp.rasp import Map, SequenceMap, LinearSequenceMap, Select, Aggregate, Comparison, SelectorWidth, indices, tokens \n",
    "\n",
    "\n",
    "def compile_rasp_to_model(sop: rasp.SOp, vocab={1,2,3,4}, max_seq_len=5, compiler_bos=\"BOS\"):\n",
    "    return compiling.compile_rasp_to_model(\n",
    "        sop,\n",
    "        vocab=vocab,\n",
    "        max_seq_len=max_seq_len,\n",
    "        compiler_bos=compiler_bos\n",
    "    )\n",
    "\n",
    "\n",
    "TEST_INPUT = [1,2,3,4]"
   ]
  },
  {
   "cell_type": "markdown",
   "metadata": {},
   "source": [
    "# Program Generation"
   ]
  },
  {
   "cell_type": "code",
   "execution_count": 3,
   "metadata": {},
   "outputs": [
    {
     "name": "stderr",
     "output_type": "stream",
     "text": [
      "An NVIDIA GPU may be present on this machine, but a CUDA-enabled jaxlib is not installed. Falling back to cpu.\n"
     ]
    },
    {
     "name": "stdout",
     "output_type": "stream",
     "text": [
      "[False, False, True, False]\n",
      "\n",
      "Retries encountered:\n",
      "Maximum retries reached. Could not sample categorical aggregate with valid output domain.This because the sampler couldn't find a selector with width 1, and other sampled selectors don't result in an output domain that is a subset of the input domain.\n",
      "No SOps of type float in scope.\n",
      "No SOps of type float in scope.\n"
     ]
    }
   ],
   "source": [
    "sampler = sampling.ProgramSampler(validate_compilation=True)\n",
    "errs = sampler.sample()\n",
    "print(sampler.program([1,2,3,4]))\n",
    "print()\n",
    "print(\"Retries encountered:\")\n",
    "for err in errs:\n",
    "    print(err)"
   ]
  },
  {
   "cell_type": "code",
   "execution_count": 14,
   "metadata": {},
   "outputs": [
    {
     "name": "stdout",
     "output_type": "stream",
     "text": [
      "select_46 = Select(tokens, tokens, predicate=Comparison.EQ)\n",
      "select_44 = Select(tokens, indices, predicate=Comparison.EQ)\n",
      "aggregate_45 = Aggregate(select_46, tokens)    # type: categorical\n",
      "aggregate_43 = Aggregate(select_44, aggregate_45)    # type: categorical\n",
      "sequence_map_42 = SequenceMap(lambda x, y: x*y, tokens, aggregate_43)    # type: categorical\n",
      "\n",
      "\n",
      "select_46 = Select(tokens, tokens, predicate=Comparison.EQ)\n",
      "select_44 = Select(tokens, indices, predicate=Comparison.EQ)\n",
      "aggregate_45 = Aggregate(select_46, tokens)    # output: [1, 2, 3, 4]\n",
      "aggregate_43 = Aggregate(select_44, aggregate_45)    # output: [None, 1, 2, 3]\n",
      "sequence_map_42 = SequenceMap(lambda x, y: x*y, tokens, aggregate_43)    # output: [None, 2, 6, 12]\n"
     ]
    }
   ],
   "source": [
    "# print program with and without test input\n",
    "k = 1\n",
    "utils.print_program(sampler.sops[-k])\n",
    "print()\n",
    "print()\n",
    "utils.print_program(sampler.sops[-k], TEST_INPUT)"
   ]
  }
 ],
 "metadata": {
  "kernelspec": {
   "display_name": "meta-models",
   "language": "python",
   "name": "python3"
  },
  "language_info": {
   "codemirror_mode": {
    "name": "ipython",
    "version": 3
   },
   "file_extension": ".py",
   "mimetype": "text/x-python",
   "name": "python",
   "nbconvert_exporter": "python",
   "pygments_lexer": "ipython3",
   "version": "3.10.12"
  }
 },
 "nbformat": 4,
 "nbformat_minor": 2
}
