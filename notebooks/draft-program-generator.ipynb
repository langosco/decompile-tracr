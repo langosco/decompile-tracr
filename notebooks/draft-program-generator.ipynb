{
 "cells": [
  {
   "cell_type": "code",
   "execution_count": 1,
   "metadata": {},
   "outputs": [],
   "source": [
    "from collections import defaultdict\n",
    "import os\n",
    "import inspect\n",
    "os.environ[\"XLA_PYTHON_CLIENT_PREALLOCATE\"] = \"false\"\n",
    "from tracr.rasp import rasp\n",
    "from tracr.compiler import compiling, rasp_to_graph\n",
    "import numpy as np\n",
    "from tracr.compiler.validating import validate\n",
    "from rasp_generator import map_primitives, sampling, utils\n",
    "import networkx as nx\n",
    "\n",
    "from tracr.rasp.rasp import Map, SequenceMap, LinearSequenceMap, Select, Aggregate, Comparison, SelectorWidth, indices, tokens \n",
    "\n",
    "\n",
    "def compile_rasp_to_model(sop: rasp.SOp, vocab={1,2,3,4}, max_seq_len=5, compiler_bos=\"BOS\"):\n",
    "    return compiling.compile_rasp_to_model(\n",
    "        sop,\n",
    "        vocab=vocab,\n",
    "        max_seq_len=max_seq_len,\n",
    "        compiler_bos=compiler_bos\n",
    "    )\n",
    "\n",
    "\n",
    "TEST_INPUTS = [\n",
    "    [1,2,3,4],\n",
    "    [0,1,2,3,4],\n",
    "    [4,3,2,1,0],\n",
    "    [0,3,2,4],\n",
    "    [1,1,1,1],\n",
    "    [0,0,0,0],\n",
    "    [4,4,4,4],\n",
    "    [0,0,4,0]\n",
    "]\n",
    "\n",
    "TEST_INPUTS = [\n",
    "    [1,2,3,4],\n",
    "    [0,1,2,3,4],\n",
    "    [1,1,1,1],\n",
    "    [0,0,0,0],\n",
    "    [1,0,1,0],\n",
    "    [2,4,2,1],\n",
    "    [4,4,4,3],\n",
    "]"
   ]
  },
  {
   "cell_type": "code",
   "execution_count": 2,
   "metadata": {},
   "outputs": [
    {
     "name": "stdout",
     "output_type": "stream",
     "text": [
      "Retries encountered:\n",
      "\n",
      "EmptyScopeError('Filter failed. No SOps of type bool in scope.') (tried to sample numerical_aggregate)\n",
      "EmptyScopeError('Filter failed. No SOps of type bool in scope.') (tried to sample numerical_aggregate)\n",
      "EmptyScopeError('Filter failed. No SOps of type bool in scope.') (tried to sample numerical_aggregate)\n",
      "SamplingError(\"Could not sample categorical Aggregate with valid output domain (Maximum retries reached). This because the sampler couldn't find a selector with width 1, and other sampled selectors don't result in an output domain that is a subset of the input domain.\") (tried to sample categorical_aggregate)\n",
      "SamplingError(\"Could not sample categorical Aggregate with valid output domain (Maximum retries reached). This because the sampler couldn't find a selector with width 1, and other sampled selectors don't result in an output domain that is a subset of the input domain.\") (tried to sample categorical_aggregate)\n",
      "EmptyScopeError('Filter failed. No SOps of type float in scope.') (tried to sample linear_sequence_map)\n",
      "EmptyScopeError('Filter failed. No SOps of type float in scope.') (tried to sample linear_sequence_map)\n",
      "EmptyScopeError('Filter failed. No SOps of type float in scope.') (tried to sample linear_sequence_map)\n",
      "EmptyScopeError('Filter failed. No SOps of type bool in scope.') (tried to sample numerical_aggregate)\n",
      "EmptyScopeError('Filter failed. No SOps of type float in scope.') (tried to sample linear_sequence_map)\n",
      "EmptyScopeError('Filter failed. No SOps of type float in scope.') (tried to sample linear_sequence_map)\n",
      "SamplingError(\"Could not sample categorical Aggregate with valid output domain (Maximum retries reached). This because the sampler couldn't find a selector with width 1, and other sampled selectors don't result in an output domain that is a subset of the input domain.\") (tried to sample categorical_aggregate)\n",
      "\n",
      "Program outputs:\n",
      "[True, False, False, False]\n",
      "[True, False, False, False, False]\n",
      "[True, False, False, False]\n",
      "[True, True, True, True]\n",
      "[True, True, False, True]\n",
      "[True, False, False, False]\n",
      "[True, False, False, False]\n"
     ]
    }
   ],
   "source": [
    "sampler = sampling.ProgramSampler(validate_compilation=False, disable_categorical_aggregate=False)\n",
    "errs = sampler.sample(n_sops=30)\n",
    "print(\"Retries encountered:\")\n",
    "print()\n",
    "for err in errs:\n",
    "    print(err)\n",
    "print()\n",
    "print(\"Program outputs:\")\n",
    "for x in TEST_INPUTS:\n",
    "    print(sampler.program(x))"
   ]
  },
  {
   "cell_type": "code",
   "execution_count": 3,
   "metadata": {},
   "outputs": [
    {
     "name": "stdout",
     "output_type": "stream",
     "text": [
      "sequence_map_2 = SequenceMap(lambda x, y: x*y, tokens, indices)    # type: categorical\n",
      "map_1 = Map(lambda x: x < 1, sequence_map_2)    # type: bool\n",
      "\n",
      "\n",
      "sequence_map_2 = SequenceMap(lambda x, y: x*y, tokens, indices)    # output: [0, 2, 6, 12]\n",
      "map_1 = Map(lambda x: x < 1, sequence_map_2)    # output: [True, False, False, False]\n"
     ]
    }
   ],
   "source": [
    "# print program with and without test input\n",
    "k = 1\n",
    "utils.print_program(sampler.sops[-k])\n",
    "print()\n",
    "print()\n",
    "utils.print_program(sampler.sops[-k], TEST_INPUTS[0])"
   ]
  },
  {
   "cell_type": "markdown",
   "metadata": {},
   "source": [
    "### Stats"
   ]
  },
  {
   "cell_type": "code",
   "execution_count": 4,
   "metadata": {},
   "outputs": [],
   "source": [
    "def program_statistics(program: rasp.SOp):\n",
    "    graph = rasp_to_graph.extract_rasp_graph(program).graph\n",
    "    sorted_labels = list(nx.topological_sort(graph))\n",
    "    length = len(sorted_labels)\n",
    "\n",
    "    program_stats = defaultdict(int)\n",
    "    for label in sorted_labels:\n",
    "        expr = graph.nodes[label][\"EXPR\"]\n",
    "        sop_class = type(expr).__name__\n",
    "        if sop_class == \"Select\":\n",
    "            continue\n",
    "\n",
    "        sop_type = expr.annotations[\"type\"]  # TODO\n",
    "        if sop_class in {\"Map\", \"Aggregate\"}:\n",
    "            sop_class = f\"{sop_class}_{sop_type}\"\n",
    "\n",
    "        program_stats[sop_class] += 1\n",
    "    return program_stats, length"
   ]
  },
  {
   "cell_type": "code",
   "execution_count": 5,
   "metadata": {},
   "outputs": [],
   "source": [
    "total_stats = defaultdict(int)\n",
    "count = 0\n",
    "lengths = []\n",
    "for _ in range(1000):\n",
    "    try:\n",
    "        sampler = sampling.ProgramSampler(validate_compilation=False, disable_categorical_aggregate=False)\n",
    "        errs = sampler.sample(n_sops=30)\n",
    "    except:\n",
    "        continue\n",
    "\n",
    "    program_stats, program_length = program_statistics(sampler.program)\n",
    "    lengths.append(program_length)\n",
    "    for k, v in program_stats.items():\n",
    "        total_stats[k] += v\n",
    "    count += 1"
   ]
  },
  {
   "cell_type": "code",
   "execution_count": null,
   "metadata": {},
   "outputs": [
    {
     "data": {
      "text/plain": [
       "defaultdict(int,\n",
       "            {'TokensType': 966,\n",
       "             'Map_bool': 426,\n",
       "             'IndicesType': 732,\n",
       "             'SequenceMap': 1471,\n",
       "             'SelectorWidth': 1492,\n",
       "             'Map_categorical': 520,\n",
       "             'Aggregate_float': 387,\n",
       "             'Aggregate_categorical': 679,\n",
       "             'LinearSequenceMap': 294,\n",
       "             'Map_float': 293})"
      ]
     },
     "execution_count": 11,
     "metadata": {},
     "output_type": "execute_result"
    }
   ],
   "source": [
    "total_stats"
   ]
  },
  {
   "cell_type": "code",
   "execution_count": null,
   "metadata": {},
   "outputs": [],
   "source": [
    "import matplotlib.pyplot as plt"
   ]
  },
  {
   "cell_type": "code",
   "execution_count": null,
   "metadata": {},
   "outputs": [
    {
     "data": {
      "text/plain": [
       "<BarContainer object of 10 artists>"
      ]
     },
     "execution_count": 14,
     "metadata": {},
     "output_type": "execute_result"
    },
    {
     "data": {
      "image/png": "[encoded data removed]",
      "text/plain": [
       "<Figure size 2200x600 with 1 Axes>"
      ]
     },
     "metadata": {},
     "output_type": "display_data"
    }
   ],
   "source": [
    "plt.figure(figsize=(22,6))\n",
    "plt.bar(total_stats.keys(), total_stats.values())"
   ]
  },
  {
   "cell_type": "code",
   "execution_count": null,
   "metadata": {},
   "outputs": [],
   "source": [
    "plt.hist(lengths, bins=20)\n",
    "plt.xlabel(\"Program length\")"
   ]
  }
 ],
 "metadata": {
  "kernelspec": {
   "display_name": "meta-models",
   "language": "python",
   "name": "python3"
  },
  "language_info": {
   "codemirror_mode": {
    "name": "ipython",
    "version": 3
   },
   "file_extension": ".py",
   "mimetype": "text/x-python",
   "name": "python",
   "nbconvert_exporter": "python",
   "pygments_lexer": "ipython3",
   "version": "3.10.12"
  }
 },
 "nbformat": 4,
 "nbformat_minor": 2
}
