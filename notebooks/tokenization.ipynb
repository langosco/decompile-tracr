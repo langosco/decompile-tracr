{
 "cells": [
  {
   "cell_type": "code",
   "execution_count": 1,
   "metadata": {},
   "outputs": [],
   "source": [
    "import os\n",
    "os.environ[\"XLA_PYTHON_CLIENT_PREALLOCATE\"] = \"false\"\n",
    "import jax\n",
    "import jax.flatten_util\n",
    "from tracr.rasp import rasp\n",
    "from tracr.compiler import basis_inference\n",
    "from tracr.compiler import craft_graph_to_model\n",
    "from tracr.compiler import expr_to_craft_graph\n",
    "from tracr.compiler import rasp_to_graph\n",
    "from tracr.craft import bases\n",
    "from tracr.rasp import rasp\n",
    "import networkx as nx\n",
    "\n",
    "from rasp_generator import utils, sampling, map_primitives\n",
    "from rasp_tokenizer import tokenizer\n",
    "\n",
    "from rasp_generator.utils import FunctionWithRepr"
   ]
  },
  {
   "cell_type": "code",
   "execution_count": 2,
   "metadata": {},
   "outputs": [],
   "source": [
    "sampler = sampling.ProgramSampler()\n",
    "sampler.sample()\n",
    "model, tokens, params = tokenizer.compile_and_tokenize(sampler.program)"
   ]
  },
  {
   "cell_type": "code",
   "execution_count": 6,
   "metadata": {},
   "outputs": [
    {
     "data": {
      "text/plain": [
       "{'layer_0/mlp': (3446,),\n",
       " 'layer_1/attn': (3688,),\n",
       " 'layer_2/mlp': (3446,),\n",
       " 'layer_3/attn': (3688,)}"
      ]
     },
     "execution_count": 6,
     "metadata": {},
     "output_type": "execute_result"
    }
   ],
   "source": [
    "jax.tree_map(lambda x: x.shape, params)"
   ]
  },
  {
   "cell_type": "code",
   "execution_count": 5,
   "metadata": {},
   "outputs": [],
   "source": [
    "# sop_1 = rasp.Map(lambda x: x + 1, rasp.indices)\n",
    "# sel_2 = rasp.Select(sop_1, rasp.tokens, rasp.Comparison.EQ)\n",
    "# sop_3 = rasp.Aggregate(sel_2, sop_1)\n",
    "# sop_4 = rasp.SequenceMap(lambda x, y: x + y, sop_1, sop_3)\n",
    "# sop_5 = rasp.SelectorWidth(sel_2)\n",
    "# sop_6 = rasp.SequenceMap(lambda x, y: x + y, sop_3, sop_5)\n",
    "\n",
    "sop_1 = rasp.Map(FunctionWithRepr(\"lambda x: x + 1\"), rasp.tokens)\n",
    "sel_2 = rasp.Select(sop_1, rasp.tokens, rasp.Comparison.EQ)\n",
    "sop_3 = rasp.Aggregate(sel_2, sop_1)\n",
    "#sop_4 = rasp.SequenceMap(\n",
    "#    FunctionWithRepr(\"lambda x, y: x * y\"), sop_1, sop_3)\n",
    "\n",
    "program = sop_3"
   ]
  }
 ],
 "metadata": {
  "kernelspec": {
   "display_name": "metamodels",
   "language": "python",
   "name": "python3"
  },
  "language_info": {
   "codemirror_mode": {
    "name": "ipython",
    "version": 3
   },
   "file_extension": ".py",
   "mimetype": "text/x-python",
   "name": "python",
   "nbconvert_exporter": "python",
   "pygments_lexer": "ipython3",
   "version": "3.10.12"
  }
 },
 "nbformat": 4,
 "nbformat_minor": 2
}
