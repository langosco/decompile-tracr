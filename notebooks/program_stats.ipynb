{
 "cells": [
  {
   "cell_type": "code",
   "execution_count": 14,
   "metadata": {},
   "outputs": [],
   "source": [
    "from collections import defaultdict\n",
    "import os\n",
    "import inspect\n",
    "os.environ[\"XLA_PYTHON_CLIENT_PREALLOCATE\"] = \"false\"\n",
    "from tracr.rasp import rasp\n",
    "from tracr.compiler import compiling, rasp_to_graph\n",
    "import numpy as np\n",
    "from tracr.compiler.validating import validate\n",
    "from rasp_generator import map_primitives, sampling, utils\n",
    "import networkx as nx\n",
    "\n",
    "from tracr.rasp.rasp import Map, SequenceMap, LinearSequenceMap, Select, Aggregate, Comparison, SelectorWidth, indices, tokens \n",
    "\n",
    "rng = np.random.default_rng()\n",
    "\n",
    "def compile_rasp_to_model(sop: rasp.SOp, vocab={1,2,3,4}, max_seq_len=5, compiler_bos=\"BOS\"):\n",
    "    return compiling.compile_rasp_to_model(\n",
    "        sop,\n",
    "        vocab=vocab,\n",
    "        max_seq_len=max_seq_len,\n",
    "        compiler_bos=compiler_bos\n",
    "    )\n",
    "\n",
    "\n",
    "TEST_INPUTS = [\n",
    "    [1,2,3,4],\n",
    "    [0,1,2,3,4],\n",
    "    [1,1,1,1],\n",
    "    [0,0,0,0],\n",
    "    [1,0,1,0],\n",
    "    [2,4,2,1],\n",
    "    [4,4,4,3],\n",
    "]"
   ]
  },
  {
   "cell_type": "code",
   "execution_count": 2,
   "metadata": {},
   "outputs": [
    {
     "name": "stdout",
     "output_type": "stream",
     "text": [
      "Retries encountered:\n",
      "\n",
      "EmptyScopeError('Filter failed. No SOps of type bool in scope.') (tried to sample numerical_aggregate)\n",
      "SamplingError(\"Could not sample categorical Aggregate with valid output domain (Maximum retries reached). This because the sampler couldn't find a selector with width 1, and other sampled selectors don't result in an output domain that is a subset of the input domain.\") (tried to sample categorical_aggregate)\n",
      "EmptyScopeError('Filter failed. Not enough SOps in scope; found 1, need 2') (tried to sample linear_sequence_map)\n",
      "SamplingError(\"Could not sample categorical Aggregate with valid output domain (Maximum retries reached). This because the sampler couldn't find a selector with width 1, and other sampled selectors don't result in an output domain that is a subset of the input domain.\") (tried to sample categorical_aggregate)\n",
      "\n",
      "Program outputs:\n",
      "[4, 4, 4, 4]\n",
      "[5, 5, 5, 5, 5]\n",
      "[0, 0, 0, 0]\n",
      "[0, 0, 0, 0]\n",
      "[4, 4, 4, 4]\n",
      "[2, 2, 2, 4]\n",
      "[0, 0, 0, 0]\n"
     ]
    }
   ],
   "source": [
    "sampler = sampling.ProgramSampler(validate_compilation=False, disable_categorical_aggregate=False)\n",
    "errs = sampler.sample(n_sops=30)\n",
    "print(\"Retries encountered:\")\n",
    "print()\n",
    "for err in errs:\n",
    "    print(err)\n",
    "print()\n",
    "print(\"Program outputs:\")\n",
    "for x in TEST_INPUTS:\n",
    "    print(sampler.program(x))"
   ]
  },
  {
   "cell_type": "code",
   "execution_count": 3,
   "metadata": {},
   "outputs": [
    {
     "name": "stdout",
     "output_type": "stream",
     "text": [
      "select_9 = Select(tokens, tokens, predicate=Comparison.EQ)\n",
      "select_13 = Select(tokens, tokens, predicate=Comparison.LT)\n",
      "select_17 = Select(tokens, tokens, predicate=Comparison.GEQ)\n",
      "selector_width_10 = SelectorWidth(select_13)    # type: categorical\n",
      "selector_width_16 = SelectorWidth(select_17)    # type: categorical\n",
      "aggregate_6 = Aggregate(select_9, selector_width_10)    # type: categorical\n",
      "select_14 = Select(selector_width_10, selector_width_16, predicate=Comparison.LT)\n",
      "select_15 = Select(indices, selector_width_16, predicate=Comparison.NEQ)\n",
      "selector_width_11 = SelectorWidth(select_14)    # type: categorical\n",
      "selector_width_12 = SelectorWidth(select_15)    # type: categorical\n",
      "select_8 = Select(tokens, selector_width_11, predicate=Comparison.GT)\n",
      "select_7 = Select(selector_width_11, selector_width_12, predicate=Comparison.LT)\n",
      "selector_width_5 = SelectorWidth(select_8)    # type: categorical\n",
      "selector_width_4 = SelectorWidth(select_7)    # type: categorical\n",
      "sequence_map_3 = SequenceMap(lambda x, y: x*y, selector_width_5, aggregate_6)    # type: categorical\n",
      "select_2 = Select(sequence_map_3, selector_width_4, predicate=Comparison.NEQ)\n",
      "selector_width_1 = SelectorWidth(select_2)    # type: categorical\n",
      "\n",
      "\n",
      "select_9 = Select(tokens, tokens, predicate=Comparison.EQ)\n",
      "select_13 = Select(tokens, tokens, predicate=Comparison.LT)\n",
      "select_17 = Select(tokens, tokens, predicate=Comparison.GEQ)\n",
      "selector_width_10 = SelectorWidth(select_13)    # output: [0, 1, 2, 3]\n",
      "selector_width_16 = SelectorWidth(select_17)    # output: [4, 3, 2, 1]\n",
      "aggregate_6 = Aggregate(select_9, selector_width_10)    # output: [0, 1, 2, 3]\n",
      "select_14 = Select(selector_width_10, selector_width_16, predicate=Comparison.LT)\n",
      "select_15 = Select(indices, selector_width_16, predicate=Comparison.NEQ)\n",
      "selector_width_11 = SelectorWidth(select_14)    # output: [4, 3, 2, 1]\n",
      "selector_width_12 = SelectorWidth(select_15)    # output: [4, 3, 3, 3]\n",
      "select_8 = Select(tokens, selector_width_11, predicate=Comparison.GT)\n",
      "select_7 = Select(selector_width_11, selector_width_12, predicate=Comparison.LT)\n",
      "selector_width_5 = SelectorWidth(select_8)    # output: [0, 1, 2, 3]\n",
      "selector_width_4 = SelectorWidth(select_7)    # output: [3, 2, 2, 2]\n",
      "sequence_map_3 = SequenceMap(lambda x, y: x*y, selector_width_5, aggregate_6)    # output: [0, 1, 4, 9]\n",
      "select_2 = Select(sequence_map_3, selector_width_4, predicate=Comparison.NEQ)\n",
      "selector_width_1 = SelectorWidth(select_2)    # output: [4, 4, 4, 4]\n"
     ]
    }
   ],
   "source": [
    "# print program with and without test input\n",
    "k = 1\n",
    "utils.print_program(sampler.sops[-k])\n",
    "print()\n",
    "print()\n",
    "utils.print_program(sampler.sops[-k], TEST_INPUTS[0])"
   ]
  },
  {
   "cell_type": "markdown",
   "metadata": {},
   "source": [
    "### Stats"
   ]
  },
  {
   "cell_type": "code",
   "execution_count": 4,
   "metadata": {},
   "outputs": [],
   "source": [
    "def sample_test_input(rng, vocab={0,1,2,3,4}, max_seq_len=5):\n",
    "    seq_len = rng.choice(range(1, max_seq_len+1))\n",
    "    return rng.choice(list(vocab), size=seq_len).tolist()\n",
    "\n",
    "\n",
    "def is_constant(program: rasp.SOp, test_inputs):\n",
    "    reference = program(test_inputs[0])\n",
    "    for x in test_inputs:\n",
    "        if program(x) != reference:\n",
    "            return False\n",
    "    return True\n",
    "\n",
    "const_test_inputs = [sample_test_input(rng) for _ in range(5)]"
   ]
  },
  {
   "cell_type": "code",
   "execution_count": 5,
   "metadata": {},
   "outputs": [
    {
     "data": {
      "text/plain": [
       "[[2, 0, 0], [4, 1, 1], [0, 4, 0, 2], [0, 1, 3, 4, 2], [1]]"
      ]
     },
     "execution_count": 5,
     "metadata": {},
     "output_type": "execute_result"
    }
   ],
   "source": [
    "const_test_inputs"
   ]
  },
  {
   "cell_type": "code",
   "execution_count": 6,
   "metadata": {},
   "outputs": [],
   "source": [
    "def program_statistics(program: rasp.SOp):\n",
    "    graph = rasp_to_graph.extract_rasp_graph(program).graph\n",
    "    sorted_labels = list(nx.topological_sort(graph))\n",
    "    length = len(sorted_labels)\n",
    "\n",
    "    program_stats = defaultdict(int)\n",
    "    for label in sorted_labels:\n",
    "        expr = graph.nodes[label][\"EXPR\"]\n",
    "        sop_class = type(expr).__name__\n",
    "        if sop_class == \"Select\":\n",
    "            continue\n",
    "\n",
    "        sop_type = expr.annotations[\"type\"]  # TODO\n",
    "        if sop_class in {\"Map\", \"Aggregate\"}:\n",
    "            sop_class = f\"{sop_class}_{sop_type}\"\n",
    "\n",
    "        program_stats[sop_class] += 1\n",
    "\n",
    "    \n",
    "    return program_stats, length, is_constant(program, const_test_inputs)"
   ]
  },
  {
   "cell_type": "code",
   "execution_count": 7,
   "metadata": {},
   "outputs": [],
   "source": [
    "total_stats = defaultdict(int)\n",
    "count = 0\n",
    "lengths = []\n",
    "iscons = []\n",
    "for _ in range(1000):\n",
    "    sampler = sampling.ProgramSampler(validate_compilation=False, disable_categorical_aggregate=False)\n",
    "    errs = sampler.sample(n_sops=30)\n",
    "    program_stats, program_length, iscon = program_statistics(sampler.program)\n",
    "    lengths.append(program_length)\n",
    "    iscons.append(iscon)\n",
    "    for k, v in program_stats.items():\n",
    "        total_stats[k] += v\n",
    "    count += 1"
   ]
  },
  {
   "cell_type": "code",
   "execution_count": 8,
   "metadata": {},
   "outputs": [
    {
     "data": {
      "text/plain": [
       "0.0"
      ]
     },
     "execution_count": 8,
     "metadata": {},
     "output_type": "execute_result"
    }
   ],
   "source": [
    "np.mean(iscons)"
   ]
  },
  {
   "cell_type": "code",
   "execution_count": 9,
   "metadata": {},
   "outputs": [
    {
     "data": {
      "text/plain": [
       "defaultdict(int,\n",
       "            {'IndicesType': 721,\n",
       "             'TokensType': 985,\n",
       "             'Map_categorical': 503,\n",
       "             'SequenceMap': 1465,\n",
       "             'SelectorWidth': 1440,\n",
       "             'Aggregate_categorical': 564,\n",
       "             'Map_bool': 416,\n",
       "             'Aggregate_float': 383,\n",
       "             'Map_float': 328,\n",
       "             'LinearSequenceMap': 301})"
      ]
     },
     "execution_count": 9,
     "metadata": {},
     "output_type": "execute_result"
    }
   ],
   "source": [
    "total_stats"
   ]
  },
  {
   "cell_type": "code",
   "execution_count": 10,
   "metadata": {},
   "outputs": [],
   "source": [
    "import matplotlib.pyplot as plt"
   ]
  },
  {
   "cell_type": "code",
   "execution_count": 11,
   "metadata": {},
   "outputs": [
    {
     "data": {
      "text/plain": [
       "<BarContainer object of 10 artists>"
      ]
     },
     "execution_count": 11,
     "metadata": {},
     "output_type": "execute_result"
    },
    {
     "data": {
      "image/png": "[encoded data removed]",
      "text/plain": [
       "<Figure size 2200x600 with 1 Axes>"
      ]
     },
     "metadata": {},
     "output_type": "display_data"
    }
   ],
   "source": [
    "plt.figure(figsize=(22,6))\n",
    "plt.bar(total_stats.keys(), total_stats.values())"
   ]
  },
  {
   "cell_type": "code",
   "execution_count": 12,
   "metadata": {},
   "outputs": [
    {
     "data": {
      "text/plain": [
       "(9.493, 4.602168076026777)"
      ]
     },
     "execution_count": 12,
     "metadata": {},
     "output_type": "execute_result"
    }
   ],
   "source": [
    "np.mean(lengths), np.std(lengths)"
   ]
  },
  {
   "cell_type": "code",
   "execution_count": 13,
   "metadata": {},
   "outputs": [
    {
     "data": {
      "text/plain": [
       "<matplotlib.lines.Line2D at 0x7f72019f3f70>"
      ]
     },
     "execution_count": 13,
     "metadata": {},
     "output_type": "execute_result"
    },
    {
     "data": {
      "image/png": "[encoded data removed]",
      "text/plain": [
       "<Figure size 640x480 with 1 Axes>"
      ]
     },
     "metadata": {},
     "output_type": "display_data"
    }
   ],
   "source": [
    "plt.hist(lengths, bins=20)\n",
    "plt.xlabel(\"Program length\")\n",
    "plt.axhline(np.mean(lengths), color=\"red\", label=\"Mean\")"
   ]
  }
 ],
 "metadata": {
  "kernelspec": {
   "display_name": "meta-models",
   "language": "python",
   "name": "python3"
  },
  "language_info": {
   "codemirror_mode": {
    "name": "ipython",
    "version": 3
   },
   "file_extension": ".py",
   "mimetype": "text/x-python",
   "name": "python",
   "nbconvert_exporter": "python",
   "pygments_lexer": "ipython3",
   "version": "3.10.12"
  }
 },
 "nbformat": 4,
 "nbformat_minor": 2
}
