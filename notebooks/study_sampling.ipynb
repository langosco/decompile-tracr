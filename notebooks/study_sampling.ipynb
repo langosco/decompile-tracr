{
 "cells": [
  {
   "cell_type": "code",
   "execution_count": 1,
   "metadata": {},
   "outputs": [],
   "source": [
    "import os\n",
    "os.environ[\"XLA_PYTHON_CLIENT_PREALLOCATE\"] = \"false\"\n",
    "import sys\n",
    "from collections import defaultdict \n",
    "import jax\n",
    "import flax\n",
    "import chex\n",
    "from jaxtyping import ArrayLike\n",
    "from typing import Union, TypeVar\n",
    "import numpy as np\n",
    "import matplotlib.pyplot as plt\n",
    "import traceback\n",
    "import jax.numpy as jnp\n",
    "from collections import Counter\n",
    "\n",
    "from tracr.compiler.validating import validate\n",
    "from tracr.rasp.rasp import Map, SequenceMap, LinearSequenceMap, Select, Aggregate, Comparison, SelectorWidth, indices, tokens \n",
    "from tracr.rasp import rasp\n",
    "from tracr.compiler import compiling\n",
    "from tracr.compiler.assemble import AssembledTransformerModel\n",
    "from tracr.compiler.craft_model_to_transformer import NoTokensError\n",
    "from tracr.compiler.basis_inference import InvalidValueSetError\n",
    "from tracr.compiler import rasp_to_graph\n",
    "\n",
    "\n",
    "from decompile_tracr.dataset import lib\n",
    "from decompile_tracr.dataset import data_utils\n",
    "from decompile_tracr.dataset import config\n",
    "from decompile_tracr.tokenizing import tokenizer\n",
    "from decompile_tracr.tokenizing import vocab\n",
    "from decompile_tracr.sampling import sampling\n",
    "from decompile_tracr.sampling import rasp_utils\n",
    "from decompile_tracr.sampling.validate import is_valid\n",
    "\n",
    "\n",
    "rng = np.random.default_rng(0)"
   ]
  },
  {
   "cell_type": "code",
   "execution_count": 2,
   "metadata": {},
   "outputs": [
    {
     "name": "stdout",
     "output_type": "stream",
     "text": [
      "sampled selector width\n",
      "sampled selector width\n",
      "sampled selector width\n",
      "sampled selector width\n",
      "sampled selector width\n",
      "sampled selector width\n",
      "sampled selector width\n",
      "sampled selector width\n",
      "sampled selector width\n",
      "sampled selector width\n",
      "sampled selector width\n",
      "sampled selector width\n",
      "sampled selector width\n",
      "sampled selector width\n",
      "sampled selector width\n",
      "sampled selector width\n",
      "sampled selector width\n",
      "sampled selector width\n",
      "sampled selector width\n",
      "sampled selector width\n",
      "sampled selector width\n",
      "sampled selector width\n",
      "sampled selector width\n",
      "sampled selector width\n",
      "sampled selector width\n",
      "sampled selector width\n",
      "sampled selector width\n",
      "sampled selector width\n",
      "sampled selector width\n",
      "sampled selector width\n",
      "sampled selector width\n",
      "sampled selector width\n",
      "sampled selector width\n",
      "sampled selector width\n",
      "sampled selector width\n",
      "sampled selector width\n",
      "sampled selector width\n",
      "sampled selector width\n",
      "sampled selector width\n",
      "sampled selector width\n",
      "sampled selector width\n",
      "sampled selector width\n",
      "sampled selector width\n",
      "sampled selector width\n",
      "sampled selector width\n",
      "sampled selector width\n"
     ]
    }
   ],
   "source": [
    "rng = np.random.default_rng(None)\n",
    "\n",
    "TEST_INPUTS = [rasp_utils.sample_test_input(rng, max_seq_len=5, min_seq_len=5,\n",
    "                                            vocab=set(range(10))) \n",
    "               for _ in range(50)]\n",
    "LENGTH = 5\n",
    "PROGRAMS = [sampling.sample(rng, program_length=LENGTH) for _ in range(300)]\n",
    "OUTPUTS = [[p(x) for x in TEST_INPUTS] for p in PROGRAMS]\n",
    "OUTPUTS = np.array(OUTPUTS, dtype=float)\n",
    "OUTPUTS = np.nan_to_num(OUTPUTS, nan=0.0)\n",
    "\n",
    "\n",
    "def test_sample():\n",
    "    for p in PROGRAMS:\n",
    "        assert rasp_utils.count_sops(p) == LENGTH\n",
    "\n",
    "\n",
    "def test_validity_without_compiling():\n",
    "    \"\"\"Test that sampled programs are valid.\"\"\"\n",
    "    valid = [\n",
    "        all(is_valid(p, x) for x in TEST_INPUTS) for p in PROGRAMS\n",
    "    ]\n",
    "    n_programs_valid = sum(valid)\n",
    "    assert n_programs_valid / len(PROGRAMS) > 0.95, (\n",
    "        f\"Only {n_programs_valid} / {len(PROGRAMS) * 100}\\% of programs are valid.\")\n",
    "\n",
    "\n",
    "def test_constant_wrt_input():\n",
    "    \"\"\"Test that sampled programs are not constant wrt input.\"\"\"\n",
    "    are_constant = [_constant_wrt_input(o) for o in OUTPUTS]\n",
    "    frac_constant = sum(are_constant) / len(OUTPUTS)\n",
    "    assert frac_constant < 0.05, (\n",
    "        f\"{frac_constant*100}% of programs produce the same output for > 80% of test inputs.\"\n",
    "    )\n",
    "\n",
    "\n",
    "def test_low_var():\n",
    "    \"\"\"Test that sampled programs have a reasonable amount of variance wrt input\"\"\"\n",
    "    stds = np.std(OUTPUTS, axis=1).sum(axis=-1)  # std across test inputs; sum across output sequence\n",
    "    are_low_var = stds < 0.01\n",
    "    frac_low_var = sum(are_low_var) / len(stds)\n",
    "    print(f\"{frac_low_var*100}% of programs have low variance in output.\")\n",
    "\n",
    "\n",
    "def test_outputs_within_range(magnitude=1e4):\n",
    "    \"\"\"Test that program outputs are within a reasonable range.\"\"\"\n",
    "    print(\"outputs:\", OUTPUTS)\n",
    "    print(\"any none?\", np.any(np.isnan(np.array(OUTPUTS, dtype=float))))\n",
    "    assert np.all(np.abs(OUTPUTS) < magnitude), (\n",
    "        f\"Outputs are not within range (-{magnitude}, {magnitude}).\"\n",
    "        f\"Found min: {np.min(OUTPUTS)}, max: {np.max(OUTPUTS)}.\"\n",
    "    )\n",
    "\n",
    "\n",
    "def _constant_wrt_input(outputs: list[tuple]) -> bool:\n",
    "    \"\"\"Check if program is constant wrt input. \n",
    "    Returns True if >80% of inputs produce exactly the same output.\n",
    "    \"\"\"\n",
    "    counts = Counter(outputs)\n",
    "    return counts.most_common(1)[0][1] / len(outputs) > 0.8\n",
    "\n",
    "\n",
    "def _low_var(outputs: list[list], threshold=0.01) -> bool:\n",
    "    \"\"\"Check if program has low variance wrt input. \n",
    "    Returns True if stddev of outputs is below the threshold.\n",
    "    \"\"\"\n",
    "    return np.std(outputs, axis=1) < threshold"
   ]
  },
  {
   "cell_type": "code",
   "execution_count": 3,
   "metadata": {},
   "outputs": [
    {
     "name": "stdout",
     "output_type": "stream",
     "text": [
      "6.333333333333334% of programs have low variance in output.\n"
     ]
    }
   ],
   "source": [
    "test_low_var()"
   ]
  },
  {
   "cell_type": "code",
   "execution_count": null,
   "metadata": {},
   "outputs": [],
   "source": [
    "systems = [\n",
    "    \"GPT\", \n",
    "    \"GPT-3 175B (davinci)\",\n",
    "    \"GPT-2 (1.5B)\",\n",
    "    \"GPT-2 (345M)\",\n",
    "    \"GPT-4\",\n",
    "    \"GPT-4V\",\n",
    "    \"ChatGPT (gpt-3.5-turbo)\",\n",
    "    \"GPT-4 Turbo\",\n",
    "]"
   ]
  },
  {
   "cell_type": "code",
   "execution_count": 4,
   "metadata": {},
   "outputs": [],
   "source": [
    "outputs_buffer = OUTPUTS.copy()\n",
    "\n",
    "data = []\n",
    "for i, p in enumerate(PROGRAMS):\n",
    "    data.append({\n",
    "        \"program\": p,\n",
    "        \"outputs\": OUTPUTS[i],\n",
    "        \"std\": np.std(OUTPUTS[i], axis=0).sum(),\n",
    "    })"
   ]
  },
  {
   "cell_type": "code",
   "execution_count": 5,
   "metadata": {},
   "outputs": [],
   "source": [
    "by_std = sorted(data, key=lambda x: np.std(x['outputs']))\n",
    "len(by_std)\n",
    "by_std = iter(by_std)"
   ]
  },
  {
   "cell_type": "code",
   "execution_count": 6,
   "metadata": {},
   "outputs": [
    {
     "name": "stdout",
     "output_type": "stream",
     "text": [
      "std: 0.0\n",
      "\n",
      "input:  [9, 2, 3, 6, 0]\n",
      "map_548 = rasp.numerical(Map(lambda x: x != 2, indices))    # output: [True, True, False, True, True]\n",
      "sequence_map_546 = rasp.categorical(SequenceMap(lambda x, y: x + y % 10, tokens, indices))    # output: [9, 3, 5, 9, 4]\n",
      "select_553 = Select(sequence_map_546, sequence_map_546, predicate=Comparison.TRUE)\n",
      "aggregate_552 = rasp.numerical(Aggregate(select_553, map_548))    # output: [0.8, 0.8, 0.8, 0.8, 0.8]\n",
      "\n",
      "sample outputs: [[0.8 0.8 0.8 0.8 0.8]\n",
      " [0.8 0.8 0.8 0.8 0.8]\n",
      " [0.8 0.8 0.8 0.8 0.8]\n",
      " [0.8 0.8 0.8 0.8 0.8]\n",
      " [0.8 0.8 0.8 0.8 0.8]\n",
      " [0.8 0.8 0.8 0.8 0.8]\n",
      " [0.8 0.8 0.8 0.8 0.8]\n",
      " [0.8 0.8 0.8 0.8 0.8]\n",
      " [0.8 0.8 0.8 0.8 0.8]\n",
      " [0.8 0.8 0.8 0.8 0.8]]\n"
     ]
    }
   ],
   "source": [
    "p = next(by_std)\n",
    "print(\"std:\", np.std(p['outputs']))\n",
    "print()\n",
    "print('input: ', TEST_INPUTS[0])\n",
    "rasp_utils.print_program(p['program'], test_input=TEST_INPUTS[0], full=True)\n",
    "print()\n",
    "print('sample outputs:', p['outputs'][:10])"
   ]
  },
  {
   "cell_type": "code",
   "execution_count": 7,
   "metadata": {},
   "outputs": [
    {
     "name": "stdout",
     "output_type": "stream",
     "text": [
      "map_548 = rasp.numerical(Map(lambda x: x != 2, indices))    # output: [True, True, False, True, True]\n",
      "sequence_map_546 = rasp.categorical(SequenceMap(lambda x, y: x + y % 10, tokens, indices))    # output: [1, 3, 5, 7, 9]\n",
      "select_553 = Select(sequence_map_546, sequence_map_546, predicate=Comparison.TRUE)\n",
      "aggregate_552 = rasp.numerical(Aggregate(select_553, map_548))    # output: [0.8, 0.8, 0.8, 0.8, 0.8]\n"
     ]
    }
   ],
   "source": [
    "rasp_utils.print_program(p['program'], test_input=[1,2,3,4,5], full=True)"
   ]
  },
  {
   "cell_type": "code",
   "execution_count": 20,
   "metadata": {},
   "outputs": [
    {
     "data": {
      "image/png": "[encoded data removed]",
      "text/plain": [
       "<Figure size 640x480 with 1 Axes>"
      ]
     },
     "metadata": {},
     "output_type": "display_data"
    }
   ],
   "source": [
    "plt.hist([d['std'] for d in data], bins=50, range=(0, 5));"
   ]
  },
  {
   "cell_type": "code",
   "execution_count": 22,
   "metadata": {},
   "outputs": [
    {
     "data": {
      "image/png": "[encoded data removed]",
      "text/plain": [
       "<Figure size 640x480 with 1 Axes>"
      ]
     },
     "metadata": {},
     "output_type": "display_data"
    }
   ],
   "source": [
    "plt.hist([d['std'] for d in data], bins=50, range=(0, 50));"
   ]
  }
 ],
 "metadata": {
  "kernelspec": {
   "display_name": "meta-models",
   "language": "python",
   "name": "python3"
  },
  "language_info": {
   "codemirror_mode": {
    "name": "ipython",
    "version": 3
   },
   "file_extension": ".py",
   "mimetype": "text/x-python",
   "name": "python",
   "nbconvert_exporter": "python",
   "pygments_lexer": "ipython3",
   "version": "3.10.12"
  }
 },
 "nbformat": 4,
 "nbformat_minor": 2
}
